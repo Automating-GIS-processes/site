{
 "cells": [
  {
   "cell_type": "markdown",
   "id": "20759fb4",
   "metadata": {
    "editable": true,
    "slideshow": {
     "slide_type": ""
    },
    "tags": []
   },
   "source": [
    "\n",
    "# Working with Map Projections\n",
    "\n",
    "<div style=\"background-color: #fff3cd; padding: 20px; border-left: 5px solid #ffc107; margin-bottom: 20px;\">\n",
    "\n",
    "**Interactive Content Ahead!** 🚨\n",
    "\n",
    "This page features interactive content that do not work within the course's static website. To fully engage with these materials, consider accessing them through environments like CSC/JupyterLab. If you're viewing this page on the course's website and wish to load the interactive elements, please use Binder. Look for the Binder icon—a small rocket logo—at the top of the page to get started.\n",
    "\n",
    "</div>\n",
    "\n",
    "\n",
    "Here, we will explore the concept of map projections through interactive examples of how they affect our maps. Projections are methods for representing the curved surface of the Earth on a flat map. Different projections are used depending on the purpose of the map, as each projection has its own set of advantages and disadvantages, including distortions of area, shape, distance, and direction.\n",
    "\n",
    "Understanding map projections is crucial for cartographers, geographers, and anyone who works with geographic information systems (GIS). By the end of this activity, you will have a better understanding of how different projections can significantly alter the appearance of geographical features on a map.\n"
   ]
  },
  {
   "cell_type": "code",
   "execution_count": null,
   "id": "63bd5d63-cd0e-4c71-8079-a1dcf2963c74",
   "metadata": {
    "editable": true,
    "slideshow": {
     "slide_type": ""
    },
    "tags": []
   },
   "outputs": [],
   "source": [
    "# Import the needed libraries\n",
    "import cartopy.crs as ccrs\n",
    "import matplotlib.pyplot as plt\n",
    "import ipywidgets as widgets\n",
    "from IPython.display import display, clear_output\n",
    "import cartopy\n",
    "import cartopy.feature as cfeature\n",
    "import geopandas as gpd"
   ]
  },
  {
   "cell_type": "markdown",
   "id": "753dca6a-703d-430b-9248-fe2266faaf4b",
   "metadata": {},
   "source": [
    "<div style=\"border: 2px solid #f0ad4e; border-radius: 5px; padding: 10px; background-color: #fcf8e3;\">\n",
    "    <strong>Heads Up! 🚨</strong><br>\n",
    "    As we dive into this activity, we're going to check out how different projections can twist and turn our maps. Keep in mind, the projections we're working with include a mix of the good, the bad, and the downright wonky. This is all in the name of learning, of course! When it's time to get serious and pick a projection for your own mapping ventures, make sure you do a little homework. Choose the best fit that complements the specific needs of your area and nails the goals of your map.\n",
    "</div>\n"
   ]
  },
  {
   "cell_type": "markdown",
   "id": "6d6e02c6",
   "metadata": {},
   "source": [
    "\n",
    "### The Importance of Choosing the Right Projection\n",
    "\n",
    "Choosing the appropriate map projection is a fundamental aspect of cartography and geographic visualization. Each projection serves a specific purpose:\n",
    "\n",
    "- **Conformal projections** preserve angles locally, making them ideal for navigation and weather maps.\n",
    "- **Equal-area projections** preserve area, making them suitable for demographic and environmental studies.\n",
    "- **Equidistant projections** preserve distances from one or two points to all other points, useful for certain types of analysis or planning.\n",
    "- **Compromise projections** attempt to balance distortion in shape, area, distance, and direction, making them good for general world maps.\n",
    "\n",
    "No single projection is best for all purposes, and the choice depends on the map's intended use and the geographic area it represents. [Here](https://gisgeography.com/map-distortion-tissots-indicatrix/)'s a good article with nice illustrations for different porjection systems.\n",
    "\n",
    "Below, we will create a global map and see how the choice of a projection affects various aspects of our map. **Tissot's indicatrix** is used to demostrate the distortion caused by each projection."
   ]
  },
  {
   "cell_type": "code",
   "execution_count": 4,
   "id": "e10e2eee-a287-4e22-bd3f-e83fa35ca1ff",
   "metadata": {},
   "outputs": [
    {
     "data": {
      "application/vnd.jupyter.widget-view+json": {
       "model_id": "b86cbcac47c743ef80b0261e63351862",
       "version_major": 2,
       "version_minor": 0
      },
      "text/plain": [
       "Dropdown(description='Projection:', options=('PlateCarree', 'Mercator', 'Orthographic', 'Mollweide', 'Robinson…"
      ]
     },
     "metadata": {},
     "output_type": "display_data"
    },
    {
     "data": {
      "application/vnd.jupyter.widget-view+json": {
       "model_id": "7afc2811c06a43509adde01fd19688ee",
       "version_major": 2,
       "version_minor": 0
      },
      "text/plain": [
       "Output()"
      ]
     },
     "metadata": {},
     "output_type": "display_data"
    }
   ],
   "source": [
    "import cartopy.crs as ccrs\n",
    "import matplotlib.pyplot as plt\n",
    "import ipywidgets as widgets\n",
    "from IPython.display import display, clear_output\n",
    "import cartopy.feature as cfeature\n",
    "\n",
    "# Function to plot a global map with the selected projection\n",
    "def plot_global_map(projection):\n",
    "    with map_output:\n",
    "        clear_output(wait=True)  # Clear the previous plot\n",
    "        plt.figure(figsize=(12, 6))\n",
    "\n",
    "        if projection in ['PlateCarree', 'Mercator', 'Orthographic', 'Mollweide', 'Robinson', \n",
    "                          'AzimuthalEquidistant', 'LambertCylindrical', 'EckertIV', 'Gnomonic', 'InterruptedGoodeHomolosine']:\n",
    "            proj = getattr(ccrs, projection)()\n",
    "        elif projection == 'Equidistant Cylindrical (Plate Carrée, Equator Centered)':\n",
    "            proj = ccrs.PlateCarree()\n",
    "        else:\n",
    "            proj = ccrs.PlateCarree()  # Default to PlateCarree if something goes wrong\n",
    "\n",
    "        ax = plt.axes(projection=proj)\n",
    "        ax.stock_img()  # Add a background image\n",
    "        ax.coastlines()  # Draw coastlines\n",
    "        ax.set_global()  # Set the display to a global scale\n",
    "        \n",
    "        # reproject and draw the indicatrix\n",
    "        ind_grid_proj = ind_grid.to_crs(proj)\n",
    "        ind_grid_proj.plot(ax=ax, linewidth=0.75, color=\"#f0f5f5\", alpha=0.5)\n",
    "        ind_caps_proj = ind_caps.to_crs(proj)\n",
    "        ind_caps_proj.plot(ax=ax)\n",
    "        \n",
    "        title = f\"Global Map - {projection} Projection\"\n",
    "        plt.title(title)\n",
    "        plt.show()\n",
    "\n",
    "# Dropdown widget for selecting the projection\n",
    "projection_selector_global = widgets.Dropdown(\n",
    "    options=[\n",
    "        'PlateCarree', 'Mercator', 'Orthographic', 'Mollweide', 'Robinson', \n",
    "        'Equidistant Cylindrical (Plate Carrée, Equator Centered)', 'AzimuthalEquidistant', \n",
    "        'LambertCylindrical', 'EckertIV', 'Gnomonic', 'InterruptedGoodeHomolosine'\n",
    "    ],\n",
    "    value='PlateCarree',\n",
    "    description='Projection:',\n",
    ")\n",
    "\n",
    "# Function to handle projection changes\n",
    "def on_global_projection_change(change):\n",
    "    plot_global_map(change['new'])\n",
    "\n",
    "# load in Tissot's indicatrix caps and graticules as layers\n",
    "ind_caps = gpd.read_file(\"data/projection_tissots_indicatrix.gpkg\", layer='caps')\n",
    "ind_grid = gpd.read_file(\"data/projection_tissots_indicatrix.gpkg\", layer='graticule')\n",
    "    \n",
    "# Observe changes in the dropdown selection\n",
    "projection_selector_global.observe(on_global_projection_change, names='value')\n",
    "\n",
    "# Output widget to display the plots\n",
    "map_output = widgets.Output()\n",
    "\n",
    "# Display the widgets and the initial plot\n",
    "display(projection_selector_global, map_output)\n",
    "plot_global_map(projection_selector_global.value)\n"
   ]
  },
  {
   "cell_type": "markdown",
   "id": "cf7e2b1d",
   "metadata": {},
   "source": [
    "Now let's Zoom onto Finland and see how choice of various projections can affect our map of Finland:"
   ]
  },
  {
   "cell_type": "code",
   "execution_count": 5,
   "id": "414cbc3d-c225-461b-a9a3-0f61b562ffca",
   "metadata": {},
   "outputs": [
    {
     "data": {
      "application/vnd.jupyter.widget-view+json": {
       "model_id": "d2143917fedf4682be9c00368aafb75e",
       "version_major": 2,
       "version_minor": 0
      },
      "text/plain": [
       "Dropdown(description='Projection:', options=('PlateCarree', 'Mercator', 'Orthographic', 'Mollweide', 'Robinson…"
      ]
     },
     "metadata": {},
     "output_type": "display_data"
    },
    {
     "data": {
      "application/vnd.jupyter.widget-view+json": {
       "model_id": "b0aa381ebbd34ce18dd316b6bc5b017b",
       "version_major": 2,
       "version_minor": 0
      },
      "text/plain": [
       "Output()"
      ]
     },
     "metadata": {},
     "output_type": "display_data"
    }
   ],
   "source": [
    "def plot_finland_map(projection, zone=None):\n",
    "    with map_output:\n",
    "        clear_output(wait=True)  # Clear the previous plot\n",
    "        plt.figure(figsize=(10, 5))\n",
    "\n",
    "        # Handling EPSG 3067 projection\n",
    "        if projection == 'EPSG:3067':\n",
    "            proj = ccrs.epsg('3067')\n",
    "        elif projection == 'UTM':\n",
    "            proj = ccrs.UTM(zone=zone, southern_hemisphere=False)\n",
    "        elif projection == 'Equidistant Cylindrical (Plate Carrée, Equator Centered)':\n",
    "            # Specifically using Equidistant Cylindrical projection centered on the equator\n",
    "            proj = ccrs.PlateCarree(central_longitude=0)\n",
    "        else:\n",
    "            proj = getattr(ccrs, projection)()\n",
    "        \n",
    "        ax = plt.axes(projection=proj)\n",
    "        ax.set_extent([20, 32, 59, 71], crs=ccrs.PlateCarree())\n",
    "        ax.add_feature(cartopy.feature.BORDERS, linestyle=':')\n",
    "        ax.add_feature(cartopy.feature.LAND, edgecolor='black')\n",
    "        ax.add_feature(cartopy.feature.COASTLINE)\n",
    "        ax.add_feature(cartopy.feature.LAKES, alpha=0.5)\n",
    "        ax.add_feature(cartopy.feature.RIVERS)\n",
    "        ax.gridlines(draw_labels=True, dms=True, x_inline=False, y_inline=False)\n",
    "        \n",
    "        title = \"Map of Finland\"\n",
    "        if projection.startswith('EPSG'):\n",
    "            title += f\" - {projection} Projection\"\n",
    "        elif zone:\n",
    "            title += f\" - UTM Zone {zone} Projection\"\n",
    "        else:\n",
    "            title += f\" - {projection} Projection\"\n",
    "        plt.title(title)\n",
    "        plt.show()\n",
    "\n",
    "# Dropdown widget for selecting the projection\n",
    "projection_selector_finland = widgets.Dropdown(\n",
    "    options=[\n",
    "        'PlateCarree', 'Mercator', 'Orthographic', 'Mollweide', 'Robinson', 'UTM', \n",
    "        'EPSG:3067', 'Equidistant Cylindrical (Plate Carrée, Equator Centered)'\n",
    "    ],\n",
    "    value='PlateCarree',\n",
    "    description='Projection:',\n",
    ")\n",
    "\n",
    "def on_projection_change_finland(change):\n",
    "    if change['new'] == 'UTM':\n",
    "        plot_finland_map('UTM', zone=35)\n",
    "    elif change['new'] == 'EPSG:3067':\n",
    "        plot_finland_map('EPSG:3067')\n",
    "    elif change['new'] == 'Equidistant Cylindrical (Plate Carrée, Equator Centered)':\n",
    "        plot_finland_map('Equidistant Cylindrical (Plate Carrée, Equator Centered)')\n",
    "    else:\n",
    "        plot_finland_map(change['new'])\n",
    "\n",
    "projection_selector_finland.observe(on_projection_change_finland, names='value')\n",
    "\n",
    "\n",
    "projection_selector_finland.observe(on_projection_change_finland, names='value')\n",
    "map_output = widgets.Output()\n",
    "\n",
    "display(projection_selector_finland, map_output)\n",
    "plot_finland_map(projection_selector_finland.value)\n"
   ]
  },
  {
   "cell_type": "markdown",
   "id": "2e6ef2a6",
   "metadata": {},
   "source": [
    "\n",
    "### Discussion on Projection Choices\n",
    "\n",
    "After exploring various map projections, consider the following questions:\n",
    "\n",
    "- How do the shapes and sizes of continents change with different projections?\n",
    "- Why might a cartographer choose one projection over another for a particular mapping project?\n",
    "- What are the implications of projection choice for viewers' understanding of geographical relationships?\n"
   ]
  }
 ],
 "metadata": {
  "kernelspec": {
   "display_name": "Python 3 (ipykernel)",
   "language": "python",
   "name": "python3"
  },
  "language_info": {
   "codemirror_mode": {
    "name": "ipython",
    "version": 3
   },
   "file_extension": ".py",
   "mimetype": "text/x-python",
   "name": "python",
   "nbconvert_exporter": "python",
   "pygments_lexer": "ipython3",
   "version": "3.11.7"
  }
 },
 "nbformat": 4,
 "nbformat_minor": 5
}
