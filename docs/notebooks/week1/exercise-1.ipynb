{
 "cells": [
  {
   "cell_type": "markdown",
   "id": "240c9af4-fffb-4762-af6c-17bc2a4390c3",
   "metadata": {},
   "source": [
    "# Exercise 1: Building Your Own Thematic Map\n",
    "\n",
    "## Overview\n",
    "In this exercise, you have the freedom to select your dataset. The main goal is to create a correct and aesthetically pleasing thematic map. Utilize your previous knowledge of cartography, as well as the concepts discussed during the lecture and the discussion session to enhance your map. As the focus is on the map's quality, any suitbale geospatial dataset will suffice. You can find a lot of data sources from the internet. [Paituli](https://paituli.csc.fi/) and [Helsinki InfoShare](https://hri.fi) are great places to start from (examples: accessibility data, population grid, traffic data, etc.).\n",
    "\n",
    "## Key Points to Consider\n",
    "When creating your choropleth map, consider the following aspects:\n",
    "\n",
    "- **Layout**: Organize the spatial elements cohesively and ensure that the layout supports the map's purpose and readability.\n",
    "- **Color Choice**: Select colors that effectively convey information and are accessible.\n",
    "- **Projection**: Choose a suitable projection.\n",
    "- **Map Elements**: Include essential elements.\n",
    "- **Aesthetics**: Use what you learned during this week and do your best to make a nice looking map.\n",
    "\n",
    "\n",
    "## Submission Requirements\n",
    "Along with your map, submit a brief reflection (approximately half a page) discussing what you learned from this week’s lecture and discussion. Highlight how these insights were incorporated into your map design. Provide a rationale for crucial decisions made during the map-making process, such as choice of projection, color schemes, and inclusion of specific map elements. Conclude by describing what your map reveals and how your cartographic choices influence this interpretation. \n",
    "\n",
    "*Rememebr to mention the data source and the method you have used for map making (Python (including used libraries), QGIS)*. \n",
    "\n",
    "**Grading reference: (Total Points: 10)**\n",
    "\n",
    "| Criteria                     | Points | Description                                                                                       |\n",
    "|------------------------------|--------|---------------------------------------------------------------------------------------------------|\n",
    "| **Map Quality**              | 5      | Overall aesthetics, accuracy, and effectiveness of the choropleth map.                            |\n",
    "| **Weekly Learning**          | 3      | Understanding and application of the concepts discussed during the week’s lectures.               |\n",
    "| **Cartographic Reflection**  | 2      | Quality of the written reflection on cartographic choices, including justification of decisions.  |\n",
    "\n",
    "\n",
    "\n",
    "### Submission\n",
    "Submit your exercise as a single pdf file to Moodle. There is **no need** to submit the Python code. \n",
    "\n",
    "**Deadline**: Tuesday 14.5.2024"
   ]
  },
  {
   "cell_type": "code",
   "execution_count": null,
   "id": "0a4fcd12-e8cf-4194-b4c3-dd5c73a7ac24",
   "metadata": {},
   "outputs": [],
   "source": []
  }
 ],
 "metadata": {
  "kernelspec": {
   "display_name": "Python 3 (ipykernel)",
   "language": "python",
   "name": "python3"
  },
  "language_info": {
   "codemirror_mode": {
    "name": "ipython",
    "version": 3
   },
   "file_extension": ".py",
   "mimetype": "text/x-python",
   "name": "python",
   "nbconvert_exporter": "python",
   "pygments_lexer": "ipython3",
   "version": "3.11.7"
  }
 },
 "nbformat": 4,
 "nbformat_minor": 5
}
