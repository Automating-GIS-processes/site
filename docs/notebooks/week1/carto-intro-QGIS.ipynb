{
 "cells": [
  {
   "cell_type": "markdown",
   "id": "44e5199b-25ee-4d46-9ad7-cfba4e0acda9",
   "metadata": {
    "tags": []
   },
   "source": [
    "# QGIS approach: A simple thematic map"
   ]
  },
  {
   "cell_type": "markdown",
   "id": "d6aced15",
   "metadata": {},
   "source": [
    "## Introduction\n",
    "This tutorial focuses on creating static maps using network data from Open Street Map (OSM). In this first tutorial, the emphasis is on woking with colors, layout, and map elements. The goal is to get familiarized with data acquisition for QGIS and practice color choice and layouting in maps.\n",
    "\n",
    "**QGIS downloads:**\n",
    "\n",
    "- [example_street_network_style](QGIS-files/example_street_network_style.qml)\n",
    "- [practical1_processing_steps](QGIS-files/practical1_processing_steps.model3)"
   ]
  },
  {
   "cell_type": "markdown",
   "id": "dcba9f98-78aa-4275-af78-9af319aabbef",
   "metadata": {},
   "source": [
    "## How to follow this tutorial\n",
    "These instructions will guide you through a practical in QGIS. The instructions will alternate between text blocks like this and "
   ]
  },
  {
   "cell_type": "markdown",
   "id": "1f9c0533-d3df-4ee5-88f9-b75ae9d019c9",
   "metadata": {},
   "source": [
    "<div style=\"background-color: #ccfbff; padding: 10px; border-left: 5px solid #41e4f0; margin-bottom: 10px;\">\n",
    "    \n",
    "Instruction blocks like these\n",
    "    \n",
    "</div>"
   ]
  },
  {
   "cell_type": "markdown",
   "id": "391ff13f-64e2-42e5-b41b-0bd06f90e12a",
   "metadata": {},
   "source": [
    "Text blocks offer guidance and background information whereas instruction blocks prompt you to do something in QGIS, such as:"
   ]
  },
  {
   "cell_type": "markdown",
   "id": "4e6117f9-d14c-4771-be47-bd0e6eeaf00a",
   "metadata": {},
   "source": [
    "<div style=\"background-color: #ccfbff; padding: 10px; border-left: 5px solid #41e4f0; margin-bottom: 10px;\">\n",
    "    \n",
    "- Open QGIS.\n",
    "    \n",
    "</div>"
   ]
  },
  {
   "cell_type": "markdown",
   "id": "73ffb5e0-2299-4926-a7f8-2499ca583eca",
   "metadata": {},
   "source": [
    "As this is an advanced course, the instructions will expect that the basic functionalities of QGIS and GIS concepts (layers, attribute tables, processing tools, styling etc.) are familiar to the reader. Thus, we will try to keep point-by-point instructions to a minimum."
   ]
  },
  {
   "cell_type": "markdown",
   "id": "47bfb5fb-5b8e-4bb3-bbbb-432d73844690",
   "metadata": {},
   "source": [
    "Blocks of texts or code excerpts to copy and paste into QGIS will occassionally be given. The excerpts \n",
    "\n",
    "`will be provided within a code quote like this.`"
   ]
  },
  {
   "cell_type": "markdown",
   "id": "dbcd528c-83ef-4304-9531-5b661c44bda1",
   "metadata": {},
   "source": [
    "```\n",
    "Or in a code block like this\n",
    "```"
   ]
  },
  {
   "cell_type": "markdown",
   "id": "e5fd6914-4710-4fcb-8f99-d3976096af3c",
   "metadata": {},
   "source": [
    "QGIS is very good for many purposes, but there are things it is simply not built for, such as creating time-series plots. **Occasionally, these tutorials will include blocks of Python code – to run them, open up the Binder workplace of this course** (check if this makes sense)"
   ]
  },
  {
   "cell_type": "markdown",
   "id": "3662d8e1-b481-4201-af98-e7b756e27843",
   "metadata": {},
   "source": [
    "Finally, there will be example visualizations throughout the instructions. We encourage you to experiment and create maps that you like – however, if you want to recreate the examples for reference, the layer style files to do so will be shared as .qml files in the folder *QGIS-files* in each week's practical directory. Alongside the examples maps is a block that tells which style file(s) are used. For example:"
   ]
  },
  {
   "cell_type": "markdown",
   "id": "4f9f1056-a207-4e19-a4e9-48ee3c9fcef2",
   "metadata": {},
   "source": [
    "<div style=\"background-color: #9cfcc7; padding: 10px; border-left: 5px solid #06f973; margin-bottom: 10px;\">\n",
    "\n",
    "This example uses the layer style: **example_style.qml**\n",
    "    \n",
    "</div>"
   ]
  },
  {
   "cell_type": "markdown",
   "id": "828cbeb1",
   "metadata": {},
   "source": [
    "## Prerequisites\n",
    "In this practical, we will need to download street network data from OSM. The simplest way to do that within QGIS is to use the **QuickOSM** plugin. QuickOSM ([see documentation](https://docs.3liz.org/QuickOSM/)) provides a user interface to get data from OSM using the [Overpass API](https://wiki.openstreetmap.org/wiki/Overpass_API)."
   ]
  },
  {
   "cell_type": "markdown",
   "id": "e47914d7-ac47-49dc-8988-be356f9a11e2",
   "metadata": {},
   "source": [
    "<div style=\"background-color: #ccfbff; padding: 10px; border-left: 5px solid #41e4f0; margin-bottom: 10px;\">\n",
    "    \n",
    "1. Navigate to *Plugins -> Manage and install plugins*...\n",
    "\n",
    "2. Type *quickosm* into the search bar and install the plugin. \n",
    "\n",
    "3. The plugin is now installed under *Vector* drop-down menu.\n",
    "</div>"
   ]
  },
  {
   "cell_type": "markdown",
   "id": "f633eced",
   "metadata": {},
   "source": [
    "## Retrieving and modifying street network data\n",
    "Here we define our area of interest and get the corresponding street network from OpenStreetMap. We will retrieve streets for Kamppi, Helsinki. OSM data is richly tagged with [keys and values](https://wiki.openstreetmap.org/wiki/Tags) – for this acquisition, we will use the [highway](https://wiki.openstreetmap.org/wiki/Key:highway) tag."
   ]
  },
  {
   "cell_type": "markdown",
   "id": "c5863b69-e2ae-4259-b6bd-8350494d62c1",
   "metadata": {},
   "source": [
    "<div style=\"background-color: #ccfbff; padding: 10px; border-left: 5px solid #41e4f0; margin-bottom: 10px;\">\n",
    "\n",
    "1. Open QuickOSM.\n",
    "\n",
    "2. Look at the Key/Value table the *Quick query* tab. Paste `highway` under *Key* and leave *Value* empty.\n",
    "    \n",
    "3. Paste `Kamppi, Helsinki, Finland` as the area of interest in the field below the Key / Value table.\n",
    "    \n",
    "4. Open the *Advanced* drop-down menu and de-select *Points* and *Multipolygons*. This prevents us from downloading unnecessary layers.\n",
    "\n",
    "5. Run the query.\n",
    "</div>"
   ]
  },
  {
   "cell_type": "markdown",
   "id": "7be02563-ac5e-4cd6-9f67-bce01e0f5233",
   "metadata": {},
   "source": [
    "A line layer titled *highway_Kamppi, Helsinki, Finland* has been added to the project. \n",
    "\n",
    "If your project has QGIS' default coordinate reference system in use (EPSG 84 | EPSG:4326), you will see a lot of distortion on the network. We'll return to the topic of projections next week, but for now, change the the project CRS and reproject the data:"
   ]
  },
  {
   "cell_type": "markdown",
   "id": "3172e87c-fd5b-4b25-bf92-6d522f8afde4",
   "metadata": {},
   "source": [
    "<div style=\"background-color: #ccfbff; padding: 10px; border-left: 5px solid #41e4f0; margin-bottom: 10px;\">\n",
    "\n",
    "1. Open project CRS settings from the bottom right corner.\n",
    "2. Search for `EPSG:3067` and set the project's coordinate reference system to ETRS89/TM35FIN (EPSG:3067). This is a good default projection to use over Finland.\n",
    "    - NB! This setting only affects [how the layers are drawn](https://docs.qgis.org/3.34/en/docs/gentle_gis_introduction/coordinate_reference_systems.html#on-the-fly-projection) on the map screen – the underlying data retains its CRS.\n",
    "3. **Additionally**, reproject the data itself to `EPSG:3067` using the processing tool *Reproject layer*.\n",
    "</div>"
   ]
  },
  {
   "cell_type": "markdown",
   "id": "50a99aa8-dda2-44d0-bc2c-d3ef09cad677",
   "metadata": {},
   "source": [
    "Check out the attribute table! The data came with lots of unneccesary columns. Let's trim the data we don't need."
   ]
  },
  {
   "cell_type": "markdown",
   "id": "e88659a0-1708-46b8-afa7-fb9e30434df4",
   "metadata": {},
   "source": [
    "<div style=\"background-color: #ccfbff; padding: 10px; border-left: 5px solid #41e4f0; margin-bottom: 10px;\">\n",
    "\n",
    "1. Open the processing tool *Retain fields*.\n",
    "2. Select 'highway', 'surface', 'name' and 'maxspeed' on the layer *reprojected*.\n",
    "3. Run the tool.\n",
    "</div>"
   ]
  },
  {
   "cell_type": "markdown",
   "id": "a180c1ad-3e1c-4c8f-bdea-94186b052cde",
   "metadata": {},
   "source": [
    "Finally, let's enrich the road data with road length information:"
   ]
  },
  {
   "cell_type": "markdown",
   "id": "a0115ead-b1fb-479f-b7f8-453514701657",
   "metadata": {},
   "source": [
    "<div style=\"background-color: #ccfbff; padding: 10px; border-left: 5px solid #41e4f0; margin-bottom: 10px;\">\n",
    "\n",
    "1. Run field calculator on the output of the previous step (*Retained fields*) from the attribute table or processing toolbox.\n",
    "2. Use the expression `length(@geometry)`. This adds the length of each feature in map units – meters, in this case.\n",
    "</div>"
   ]
  },
  {
   "cell_type": "markdown",
   "id": "f09503ee-2a8f-461b-8515-47a5869d4b80",
   "metadata": {},
   "source": [
    "### Making maps\n",
    "\n",
    "Let's make some maps now!"
   ]
  },
  {
   "cell_type": "markdown",
   "id": "17c47d71-7f88-4e75-b261-bc0646a93572",
   "metadata": {},
   "source": [
    "#### Styling\n",
    "Instead of using the standard style definition options (*graduated* for continous data and *categorized* for categorical data), let's explore rule- and data-driven styling. \n",
    "\n",
    "By using *data-driven overrides*, we can use expressions to modify layer style (color, width, transparency, symbology etc.) based on the values available or derived from the attribute data. Most layer features can be defined this way: look for a small symbol besides the definitions."
   ]
  },
  {
   "cell_type": "markdown",
   "id": "5c4692e8-6a7e-4c19-a99f-10b4a4b5a949",
   "metadata": {},
   "source": [
    "<img src=\"Figures/week1_data-driven-example.jpg\" />"
   ]
  },
  {
   "cell_type": "markdown",
   "id": "06994b8d-d4d5-43d2-a568-e703f7027960",
   "metadata": {},
   "source": [
    "<div style=\"background-color: #ccfbff; padding: 10px; border-left: 5px solid #41e4f0; margin-bottom: 10px;\">\n",
    "    \n",
    "Apply a data-driven override to linewidth of the road network layer by clicking the symbol next to *Width* > Edit. \n",
    "    \n",
    "Paste this expression to the field that opens:\n",
    "    \n",
    "```\n",
    "CASE WHEN \n",
    "\"highway\" in ('footway', 'residential', 'tertiary') \n",
    "THEN 0.3 \n",
    "WHEN \"highway\" in ('primary', 'secondary') \n",
    "THEN 0.5\n",
    "ELSE 0.15\n",
    "END\n",
    "```\n",
    "\n",
    "</div>"
   ]
  },
  {
   "cell_type": "markdown",
   "id": "4b7cb2f6-dc77-4b4d-8f87-8058da324a32",
   "metadata": {},
   "source": [
    "The expression above is a conditional: all values in column *highway* that match the conditional get the corresponding outcome. For example, the outcome for *primary* roads is linewidth of 0.5 (in millimeters)."
   ]
  },
  {
   "cell_type": "markdown",
   "id": "be3a5841-7336-4a15-a2d9-f8f7d9c84a6c",
   "metadata": {},
   "source": [
    "Conditionals and data-driven overrides are particularly useful when we apply the expressions to the data; no need to create new columns, we can do classification on the fly!\n",
    "\n",
    "Let's color the street network based on streetname endings: 'katu' = street, 'kuja' = alley, and a generic class for the rest. Since these are categories with no clear hierarchy, a quolitative color scheme fits our data the best.\n",
    "\n",
    "Again, we'll use expression, but this time rely on rule-based styling."
   ]
  },
  {
   "cell_type": "markdown",
   "id": "5247de19-3449-4073-89fc-b89d86312ebd",
   "metadata": {},
   "source": [
    "<div style=\"background-color: #ccfbff; padding: 10px; border-left: 5px solid #41e4f0; margin-bottom: 10px;\">\n",
    "    \n",
    "1. Select *Rule-based* as the styling type for the line layer.\n",
    "2. Add two more line features. Copy the style of the first feature and paste it onto the other two (*Copy symbol* > *Paste symbol*).\n",
    "3. Edit the first feature. Name it *Streets*. In filter, paste `right(\"name\", 4)='katu'`. Use whatever color you wish: the example color is a bright red `#d40a47`.\n",
    "    \n",
    "    a. The filter matches the last four characters from the streetname column with katu (*street*). If there's a match, the rule is applied.\n",
    "    \n",
    "    b. Paste the color hex code to: *Color* > *Choose color...* > *HTML notation* field.\n",
    "4. Repeat for class #2.\n",
    "    \n",
    "    a. Name: Alleys\n",
    "    \n",
    "    b. Filter: `right(\"name\", 4)='kuja'`\n",
    "    \n",
    "    c. Example color: `#e78119`\n",
    "    \n",
    "5. And the final class\n",
    "    \n",
    "    a. Name: Other roads\n",
    "    \n",
    "    b. No filter: Select *Else: Catch-all for other features*\n",
    "    \n",
    "    c. Example color: `#30bab0`\n",
    "\n",
    "Now, your style panel should look something like the picture below\n",
    "</div>"
   ]
  },
  {
   "cell_type": "markdown",
   "id": "667dd7e5-a5cb-44c1-9152-4094b81e3953",
   "metadata": {},
   "source": [
    "<img src=\"Figures/week1_rule-based-example.png\" />"
   ]
  },
  {
   "cell_type": "markdown",
   "id": "69c2c9c1-ae57-4ecf-bd87-015bfe13c510",
   "metadata": {},
   "source": [
    "### Layout\n",
    "Next, it's time to layout the map and export it. There are a thousand ways to create a good, eye-catching maps! Below is one attempt, but you are given free-hands to experiment. \n",
    "\n",
    "If you need a refresher on QGIS' Map composer, [check out the official training manual](https://docs.qgis.org/3.34/en/docs/training_manual/map_composer/map_composer.html)."
   ]
  },
  {
   "cell_type": "markdown",
   "id": "25890fc0-2f07-49af-9e41-95ee10a890bc",
   "metadata": {},
   "source": [
    "<div style=\"background-color: #9cfcc7; padding: 10px; border-left: 5px solid #06f973; margin-bottom: 10px;\">\n",
    "\n",
    "The line layer in this example uses the style: **QGIS-files/example_street_network_style.qml**\n",
    "    \n",
    "</div>"
   ]
  },
  {
   "cell_type": "markdown",
   "id": "17fc3bc1-dd07-47f3-abd1-bde1c553918b",
   "metadata": {},
   "source": [
    "<img src=\"Figures/week1_road_map_example.png\" />"
   ]
  },
  {
   "cell_type": "markdown",
   "id": "802cc50a-d694-4ba5-896b-26343eff292f",
   "metadata": {},
   "source": [
    "This is far from a perfect map, but it has some basic cartographic elements and features that are good to keep in mind when making your map. However, it is highly encouraged to experiment with feature and background colors, map elements and their placement."
   ]
  },
  {
   "cell_type": "markdown",
   "id": "b38dfc50-e57f-4de2-b4c0-71a96db4f398",
   "metadata": {},
   "source": [
    "<img src=\"Figures/week1_road_map_example_annotated.png\"  />"
   ]
  },
  {
   "cell_type": "markdown",
   "id": "6e253cf9-e478-4ee7-99da-ef0dcb0b6fe4",
   "metadata": {},
   "source": [
    "## Replicating the processing flow of this notebook"
   ]
  },
  {
   "cell_type": "markdown",
   "id": "a3833e34-6200-4b6c-b150-fbce41e10dfd",
   "metadata": {},
   "source": [
    "To get a street network file styled and ready for mapping, you may use this model file to replicate this process:\n",
    "\n"
   ]
  },
  {
   "cell_type": "markdown",
   "id": "4121e3d4-e8c1-4cc0-9659-393429210478",
   "metadata": {},
   "source": [
    "<div style=\"background-color: #ccfbff; padding: 10px; border-left: 5px solid #41e4f0; margin-bottom: 10px;\">\n",
    "    \n",
    "1. Download the style file and processing model in *QGIS-files* folder\n",
    "2. In the top right corner of the Processing toolbox, select *Open existing model* and navigate to *practical1_processing_steps.model3*\n",
    "3. Open the model and select *example_street_network_style.qml* as the *Street network style file* parameter. Run the model.\n",
    "4. A new layer called *Styled network* has been added to the project.\n",
    "\n",
    "</div>"
   ]
  },
  {
   "cell_type": "markdown",
   "id": "48f2b0e3-e0f7-4111-84ea-784e3501bfd2",
   "metadata": {},
   "source": [
    "<img src=\"Figures/week1_model_sc.png\"  />"
   ]
  }
 ],
 "metadata": {
  "kernelspec": {
   "display_name": "Python 3 (ipykernel)",
   "language": "python",
   "name": "python3"
  },
  "language_info": {
   "codemirror_mode": {
    "name": "ipython",
    "version": 3
   },
   "file_extension": ".py",
   "mimetype": "text/x-python",
   "name": "python",
   "nbconvert_exporter": "python",
   "pygments_lexer": "ipython3",
   "version": "3.11.7"
  }
 },
 "nbformat": 4,
 "nbformat_minor": 5
}
