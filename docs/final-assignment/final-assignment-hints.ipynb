{
 "cells": [
  {
   "cell_type": "markdown",
   "id": "0e49a0d5-3490-4e28-a204-8713faff145c",
   "metadata": {},
   "source": [
    "# Final Assignment hints\n",
    "\n",
    "## Best practices\n",
    "\n",
    "There are several guidelines how to do programming \"in a proper way\". These best practices when doing programming are well described in [this article](http://journals.plos.org/plosbiology/article?id=10.1371/journal.pbio.1001745)\n",
    "Wilson et al. (2014) that include aspects such as:\n",
    "\n",
    "> 1. *\"Write programs for people, not computers.\"*\n",
    "> 2. *\"Let the computer do the work.\"*\n",
    "> 3. *\"Make incremental changes.\"*\n",
    "> 4. *\"Don't repeat yourself (or others).\"*\n",
    "> 5. *\"Plan for mistakes.\"*\n",
    "> 6. *\"Optimize software only after it works correctly.\"*\n",
    "> 7. *\"Document design and purpose, not mechanics.\"*\n",
    "> 8. *\"Collaborate.\"*\n",
    "\n",
    "These kind of guidelines are extremely useful. I recommend that you take at least a short look at the article before starting your final project because it helps you to\n",
    "finnish your project efficiently and in such a manner that works and makes your life (and others) easier!\n",
    "\n",
    "For this final project, the most important aspects from the list above are numbers 1-4 and number 7 (although they are all important).\n",
    "Thus, at least take a look at those aspects from the article before\n",
    "starting your work.\n",
    "\n",
    "### Documenting your work\n",
    "\n",
    "Good documentation is one the most important aspect when doing any programming. It allows us (and also yourself) to understand what you have done, or tried to do with the code.\n",
    "Thus, we cannot emphasize it more to document your codes, and the work in general, properly. Hence, use comments in the code and also using Markdown cells where you explain the purpose of different parts of the code.\n",
    "\n",
    "### Commit your work frequently!\n",
    "\n",
    "In the previous exercises that we have done during the course, it has not maybe been that important that you commit (upload) your work frequently to GitHub because the size and complexity of the codes have been relatively low. However, now as you are doing a larger programming project, I really recommend that you **commit and upload your changes to GitHub frequently!** Whenever you get some functionality working in your code, it is a good time to commit your changes. In that way, your work is saved and if something goes wrong and your code does not work anymore as planned, you can **go back in history** and start from a state that was still working.\n"
   ]
  },
  {
   "cell_type": "code",
   "execution_count": null,
   "id": "dc72a2f9-0974-4508-bd22-f283e565b6a0",
   "metadata": {},
   "outputs": [],
   "source": []
  }
 ],
 "metadata": {
  "kernelspec": {
   "display_name": "Python 3 (ipykernel)",
   "language": "python",
   "name": "python3"
  },
  "language_info": {
   "codemirror_mode": {
    "name": "ipython",
    "version": 3
   },
   "file_extension": ".py",
   "mimetype": "text/x-python",
   "name": "python",
   "nbconvert_exporter": "python",
   "pygments_lexer": "ipython3",
   "version": "3.11.7"
  }
 },
 "nbformat": 4,
 "nbformat_minor": 5
}
