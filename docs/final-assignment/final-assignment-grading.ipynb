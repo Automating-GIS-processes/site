{
 "cells": [
  {
   "cell_type": "markdown",
   "id": "a2509353-a95d-485a-b8da-6672e5afdcf1",
   "metadata": {},
   "source": [
    "# Grading criteria for the final assignment\n",
    "\n",
    "**The grading is based on a typical 0-5 scale.**\n",
    "\n",
    "The following aspects are considered in the assessment\n",
    "\n",
    "**Data preparation, analysis & visualization (3/5 of final grade)**:\n",
    "\n",
    "- Reading and manipulating data\n",
    "- (Spatial) data analysis steps\n",
    "- Quality of visualizations (maps, graphs)\n",
    "- Is the code written in a modular way (avoid repetition eg. using functions and for-loops)\n",
    "- Does everything work as it should\n",
    "- Overall difficulty of the analysis task is taken into account in the assessment\n",
    "\n",
    "**Overall documentation of the work (1/5 of final grade)**\n",
    "\n",
    "- Is there a general description in about the research problem / purpose of the tool?\n",
    "- Is the usage of the tool/ available functions described and demonstrated clearly?\n",
    "- Are all input data and output results (maps, graphs) presented and explained clearly?\n",
    "- Is the code easy to read and well-formatted (following the PEP8 guidelines)\n",
    "\n",
    "**Other merits in the work (~1/5 of final grade)**:\n",
    "\n",
    "- Good style of coding (writing efficient and well-documentent code)\n",
    "- Something in the work is exceptionally well done\n",
    "- Some problem in the code is solved in a \"smart\" way\n",
    "- The work is exceptionally well documented\n",
    "- The visualizations are exceptionally good\n",
    "- Additional features are added (eg. steps 5-6 in accesViz, or some other features that were not required)\n",
    "\n",
    "**The workflow should be repeatable and well documented.** In other words, anyone who gets a copy of your repository should be able to run your code, and read your code.\n"
   ]
  },
  {
   "cell_type": "code",
   "execution_count": null,
   "id": "d4b32329-4768-462c-9fea-223ac04786ab",
   "metadata": {},
   "outputs": [],
   "source": []
  }
 ],
 "metadata": {
  "kernelspec": {
   "display_name": "Python 3 (ipykernel)",
   "language": "python",
   "name": "python3"
  },
  "language_info": {
   "codemirror_mode": {
    "name": "ipython",
    "version": 3
   },
   "file_extension": ".py",
   "mimetype": "text/x-python",
   "name": "python",
   "nbconvert_exporter": "python",
   "pygments_lexer": "ipython3",
   "version": "3.11.7"
  }
 },
 "nbformat": 4,
 "nbformat_minor": 5
}
