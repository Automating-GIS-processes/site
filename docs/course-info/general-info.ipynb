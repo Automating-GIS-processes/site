{
 "cells": [
  {
   "cell_type": "markdown",
   "id": "5c63af16-35dc-4095-9cd7-19edc54bb532",
   "metadata": {},
   "source": [
    "# General information\n",
    "\n",
    "<div style=\"background-color: #f0f4f8; border-left: 5px solid #0078D4; padding: 20px; margin: 20px 0;\">\n",
    "    <strong>Contact teaching at the University of Helsinki</strong>\n",
    "    <p>Please note that access to Discord and to the CSC Notebooks is limited to students at Finnish universities. Other course materials on this website, are available to anyone interested.</p>\n",
    "</div>\n",
    "\n",
    "\n",
    "## Course meetings in intensive teaching period (May 2024)\n",
    "\n",
    "- **Lectures** on Mondays 10.15–11.45 (Physicum, E207)\n",
    "- **Discussions** on Mondays 1:15 PM–2:45 PM (Exactum, D122)\n",
    "- **Tutorials** on Tuesdays (Physicum, sali A113+A114 (GIS)):\n",
    "    - Python group: 12:15 PM–1:15 PM\n",
    "    - QGIS group: 1:45 PM–2:45 PM\n",
    "- **Help sessions** on Thursdays (Physicum, sali A113+A114 (GIS)):\n",
    "    - 9:15 AM–11:45 AM (Python group)\n",
    "    - 12:15 PM–2:45 PM (QGIS group)\n",
    "\n",
    "\n",
    "## Instructors\n",
    "\n",
    "- Lecturer: \n",
    "    - Kamyar Hasanzadeh\n",
    "    - Tuuli Toivonen\n",
    "\n",
    "- Tutorials:\n",
    "    - Kamyar Hasanzadeh\n",
    "    - Tatu Leppämäki\n",
    "- Exercises:\n",
    "    - Pasi Okkonen\n",
    "\n",
    "Email: firstname.lastname@helsinki.fi\n",
    "\n",
    "\n",
    "## Course web pages:\n",
    "- Homepage: [cartogis.readthedocs.io](https://cartogis.readthedocs.io/en/latest/)\n",
    "- CSC notebook: notebooks.rahtiapp.fi/\n",
    "    - Join code for CSC notebook: `car-qxd1a6rx`\n",
    "- GitHub:\n",
    "    - site: https://github.com/Carto-gis/site\n",
    "    - tutorials: https://github.com/Carto-gis/tutorials \n",
    "- Discord: [CartoGIS-2024](https://discord.com/channels/1222095551500390474/1222095552125075589)\n",
    "\n",
    "Other useful web pages:\n",
    "- [AutoGIS course](https://autogis-site.readthedocs.io/en/latest/)\n",
    "- [Geo-python course](https://geo-python-site.readthedocs.io/en/latest/)"
   ]
  },
  {
   "cell_type": "code",
   "execution_count": null,
   "id": "34d0554f-e3f7-4fc4-8434-f484b51d6848",
   "metadata": {},
   "outputs": [],
   "source": []
  }
 ],
 "metadata": {
  "kernelspec": {
   "display_name": "Python 3 (ipykernel)",
   "language": "python",
   "name": "python3"
  },
  "language_info": {
   "codemirror_mode": {
    "name": "ipython",
    "version": 3
   },
   "file_extension": ".py",
   "mimetype": "text/x-python",
   "name": "python",
   "nbconvert_exporter": "python",
   "pygments_lexer": "ipython3",
   "version": "3.11.7"
  }
 },
 "nbformat": 4,
 "nbformat_minor": 5
}
