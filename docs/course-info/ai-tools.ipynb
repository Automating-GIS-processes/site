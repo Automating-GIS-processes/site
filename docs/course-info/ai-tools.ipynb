{
 "cells": [
  {
   "cell_type": "markdown",
   "id": "3be20bfe-51d6-4301-9e02-a6ba3196707e",
   "metadata": {},
   "source": [
    "# Use of AI tools"
   ]
  },
  {
   "cell_type": "markdown",
   "id": "62a708ff-72a8-4df4-8021-ba21c51c6ae2",
   "metadata": {},
   "source": [
    "Artificial intelligence (AI)-based tools using large language models (AI-LLMs), such as ChatGPT, Google Bard, or DeepL, are changing the ways in which people produce content including software. Although these tools have great potential to expidite many tasks, and particularly writing code, it is important to note that one must understand the process/code that is produced in order to ensure it functions properly. As the goal of our course is to lean how to make good maps, we (the teachers) must be careful to ensure the use of AI tools does not compromise the learning goals of the course. Thus, we provide some guidelines for the use of AI tools below."
   ]
  },
  {
   "cell_type": "markdown",
   "id": "684c05d7-8753-4f8d-b0b0-b481af99cb7c",
   "metadata": {},
   "source": [
    "## Guidelines for AI-LLM use in the course"
   ]
  },
  {
   "cell_type": "markdown",
   "id": "041e9438-c5b7-4aa4-b123-74655269a6cf",
   "metadata": {},
   "source": [
    "<div style=\"background-color: #f0f4f8; border-left: 5px solid #0078D4; padding: 20px; margin: 20px 0;\">\n",
    "    <strong>Note:</strong>\n",
    "    <p>Please note these guidelines apply only to students enrolled in the Automating GIS processes II course for credit.</p>\n",
    "</div>"
   ]
  },
  {
   "cell_type": "markdown",
   "id": "1d11f607-c963-4847-b9ad-faea248bdbf9",
   "metadata": {},
   "source": [
    "You **can** use AI-LLMS in these situations:\n",
    "\n",
    "- To get help or advice on how to do something or write code.\n",
    "- To help write, fix, or make your code better.\n",
    "- When working with data, like organizing or changing it.\n",
    "\n",
    "If you use an AI helper, you must **tell clearly how and why you used it** in your exercise work or final project.\n",
    "\n",
    "You **cannot** use AI helpers for:\n",
    "\n",
    "- Writing any text or making visualizations (maps, charts, etc.) for this course.\n",
    "\n",
    "**Not following these rules could mean you lose all or part of your grade** for that assignment.\n",
    "\n",
    "\n",
    "To learn more about use of AI-LLMS in your studies, please refer to the University of Helsinki [guidelines](https://teaching.helsinki.fi/system/files/inline-files/AI_in_teaching_guidelines_University%20of%20Helsinki_0.pdf) for the use of AI in teaching. More information is available in the [instructions for students](https://studies.helsinki.fi/instructions/article/using-ai-support-learning).\n",
    "\n",
    "> **Please note:** We are adjusting to a changing environment as far as the AI-LLMs go, so we will do our best to encourage use where it makes sense. At the same time, we do not want to negatively impact your learning of core programming concepts."
   ]
  },
  {
   "cell_type": "markdown",
   "id": "01db3852-6cb3-4a0b-b3b1-edfcacd36cff",
   "metadata": {},
   "source": [
    "### An introduction to AI-LLMs \n",
    "In the course GeoPython, we provided a brief introduction to how to use ChatGPT in our work. In this demonstration we highlighted some of the advantages and disadvantages to the code ChatGPT produces, as well as how to review the code to ensure it works properly. You can access this on the [Geopython course page](https://geo-python-site.readthedocs.io/en/latest/notebooks/L4/use-of-ai.html).\n",
    "\n",
    "\n",
    "\n",
    "\n"
   ]
  }
 ],
 "metadata": {
  "kernelspec": {
   "display_name": "Python 3 (ipykernel)",
   "language": "python",
   "name": "python3"
  },
  "language_info": {
   "codemirror_mode": {
    "name": "ipython",
    "version": 3
   },
   "file_extension": ".py",
   "mimetype": "text/x-python",
   "name": "python",
   "nbconvert_exporter": "python",
   "pygments_lexer": "ipython3",
   "version": "3.11.7"
  }
 },
 "nbformat": 4,
 "nbformat_minor": 5
}
