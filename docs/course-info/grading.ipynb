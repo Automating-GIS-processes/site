{
 "cells": [
  {
   "cell_type": "markdown",
   "id": "f24879ba-7645-4594-8027-7fc5e3127fb2",
   "metadata": {},
   "source": [
    "# Grading\n",
    "\n",
    "Course grades will be given using the standard six-level grading scale from 0 to 5.\n",
    "Course grade for *Automating GIS processes* will be based on 1) final broader\n",
    "programming assignment and 2) weekly exercises.\n",
    "\n",
    "The final grade is based 60% on the final assignment and 40% on weekly exercise\n",
    "submissions.\n",
    "\n",
    "\n",
    ":::{note}\n",
    "\n",
    "Please submit your exercise reports on time. Generally, weekly exercises are due in one week’s time (before the lecture the following week). Please let the instructors know before the deadline if you anticipate you will not be able to submit on time.\n",
    "\n",
    ":::\n",
    "\n",
    "\n",
    "## Preliminary grading thresholds:\n",
    "\n",
    "- 90% of possible points, or more → 5\n",
    "- 80% of possible points, or more → 4\n",
    "- 70% of possible points, or more → 3\n",
    "- 60% of possible points, or more → 2\n",
    "- 50% of possible points, or more → 1\n"
   ]
  }
 ],
 "metadata": {
  "kernelspec": {
   "display_name": "Python 3 (ipykernel)",
   "language": "python",
   "name": "python3"
  },
  "language_info": {
   "codemirror_mode": {
    "name": "ipython",
    "version": 3
   },
   "file_extension": ".py",
   "mimetype": "text/x-python",
   "name": "python",
   "nbconvert_exporter": "python",
   "pygments_lexer": "ipython3",
   "version": "3.11.7"
  }
 },
 "nbformat": 4,
 "nbformat_minor": 5
}
