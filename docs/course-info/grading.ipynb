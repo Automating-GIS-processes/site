{
 "cells": [
  {
   "cell_type": "markdown",
   "id": "14fe4f4b-d05b-4d72-8271-9e76d415fd4a",
   "metadata": {},
   "source": [
    "# Grading\n",
    "\n",
    "Course grades will be given using the standard six-level grading scale from 0 to 5.\n",
    "Course grade for *Cartographic Visualization in GIS* will be based on 1) final portfolio and 2) weekly exercises. \n",
    "\n",
    "The final grade is based 60% on the final assignment and 40% on weekly exercise submissions. Active partcipation in the class and discussions can help your overall grade up to 20% (applied on the grade on the 0-100 scale).\n",
    "\n",
    "\n",
    "<div style=\"background-color: #f0f4f8; border-left: 5px solid #0078D4; padding: 20px; margin: 20px 0;\">\n",
    "    <strong>Note:</strong>\n",
    "    <p>Please submit your exercise reports on time. Generally, weekly exercises are due in one week’s time (before the lecture the following week). Please let the instructors know before the deadline if you anticipate you will not be able to submit on time.</p>\n",
    "</div>\n",
    "\n",
    "## Preliminary grading thresholds:\n",
    "\n",
    "- 90% of possible points, or more → 5\n",
    "- 80% of possible points, or more → 4\n",
    "- 70% of possible points, or more → 3\n",
    "- 60% of possible points, or more → 2\n",
    "- 50% of possible points, or more → 1\n"
   ]
  },
  {
   "cell_type": "code",
   "execution_count": null,
   "id": "afced544-eb67-43bc-8374-f5782e5deed9",
   "metadata": {},
   "outputs": [],
   "source": []
  }
 ],
 "metadata": {
  "kernelspec": {
   "display_name": "Python 3 (ipykernel)",
   "language": "python",
   "name": "python3"
  },
  "language_info": {
   "codemirror_mode": {
    "name": "ipython",
    "version": 3
   },
   "file_extension": ".py",
   "mimetype": "text/x-python",
   "name": "python",
   "nbconvert_exporter": "python",
   "pygments_lexer": "ipython3",
   "version": "3.9.19"
  }
 },
 "nbformat": 4,
 "nbformat_minor": 5
}
