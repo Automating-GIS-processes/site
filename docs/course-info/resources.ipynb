{
 "cells": [
  {
   "cell_type": "markdown",
   "id": "d9010f67-6b85-4cf0-96fb-2360ce96bf1d",
   "metadata": {},
   "source": [
    "# Resources\n",
    "Certainly, it's impossible for this course to cover every topic, and it would be overly ambitious to think otherwise. The material we explore owes a lot to the wealth of fantastic books, tutorials, and Python programming examples available across the vast expanse of the Internet. Below, you'll find a curated list of resources for additional learning and inspiration."
   ]
  },
  {
   "cell_type": "markdown",
   "id": "7cb467a8-929e-43b3-b077-4f3c5c0de29d",
   "metadata": {},
   "source": [
    "## Books\n",
    "There are no required textbooks for this course. That said, these are textbooks we would recommend if you want to deepen your knowledge further:\n",
    "\n",
    "Books related to **cartography**:\n",
    "\n",
    "- Cartography: Visualization of Geospatial Data, By Menno-Jan Kraak, Ferjan Ormeling, Fourth Edition, 2021\n",
    "- GIS Cartography A Guide to Effective Map Design, By Gretchen N. Peterson, Third Edition, 2021\n",
    "\n",
    "\n",
    "A good book about **colors**:\n",
    "\n",
    "- The Designer's Dictionary of Color, By Sean Adams, 2017\n",
    "\n",
    "Books related to **data analysis in Python**:\n",
    "\n",
    "- Zelle (2017) [Python Programming: An Introduction to Computer Science](https://mcsp.wartburg.edu/zelle/python/ppics3/index.html). *Available at the Kumpula Campus library.*\n",
    "- McKinney (2017) [Python for Data Analysis: Data wrangling with Pandas, NumPy and iPython](https://www.amazon.com/Python-Data-Analysis-Wrangling-IPython/dp/1491957662/). [*Available as an e-book*](https://ebookcentral.proquest.com/lib/helsinki-ebooks/detail.action?docID=5061179).\n",
    "\n",
    "\n",
    "Books related to ***spatial* data analysis** in Python:\n",
    "\n",
    "- Lawhead (2015) [Learning Geospatial Analysis with Python: An effective guide to geographic information systems and remote sensing analysis using Python 3](https://www.packtpub.com/application-development/learning-geospatial-analysis-python-second-edition), Second edition. Packt Publishing.\n",
    "- Westra (2016) [Python Geospatial Development](https://www.packtpub.com/application-development/python-geospatial-development-third-edition).\n",
    "- Zandbergen (2013) [Python Scripting for ArcGIS](https://www.esri.com/en-us/esri-press/browse/python-scripting-for-arcgis-pro). [*Available at Helsinki University library*](https://helka.helsinki.fi/primaws/rest/pub/resourceRecommender?lang=fi&query=zandbergen+python+scripting+for+arcgis&view=358UOH_INST:VU1)\n",
    "- Diener (2015) [Python Geospatial Analysis Cookbook](https://www.packtpub.com/big-data-and-business-intelligence/python-geospatial-analysis-cookbook). \n",
    "\n",
    "\n",
    "\n",
    "\n",
    "## Python tutorials\n",
    "\n",
    "-  [Codecademy's Learn to program in Python](https://www.codecademy.com/learn/python)\n",
    "-  [Software Carpentry's programming in Python](https://swcarpentry.github.io/python-novice-inflammation/)\n",
    "\n",
    "## Other useful courses\n",
    "\n",
    "- [AutoGIS course](https://autogis-site.readthedocs.io/en/latest/)\n",
    "- [Geo-python course](https://geo-python-site.readthedocs.io/en/latest/)\n",
    "## Git and *GitHub* tutorials\n",
    "\n",
    "- [Online ‘Try-Git’ tutorial (learn Git in your browser)](https://try.github.io)\n",
    "- [Git simple guide (‘no deep shit’) tutorial](http://rogerdudler.github.io/git-guide/)\n",
    "- [Software Carpentry’s Git novice tutorial](https://swcarpentry.github.io/git-novice)\n",
    "- [Git official documentation](https://git-scm.com/)\n",
    "- [Screencast series in Youtube for learning GitHub](https://www.youtube.com/playlist?list=PL4Q4HssKcxYsTuqUUvEHJ8XxOVOHTSmle)\n",
    "- [Tutorial on few extra features of GitHub (most probably) not covered in this course (e.g. branch, pull-request, merge)](https://guides.github.com/activities/hello-world/)\n",
    "- [A TechCrunch article about ‘What is GitHub Anyway?’](https://techcrunch.com/2012/07/14/what-exactly-is-github-anyway/)\n",
    "- [A list of resources for learning Git and GitHub](https://help.github.com/articles/good-resources-for-learning-git-and-github/)"
   ]
  },
  {
   "cell_type": "code",
   "execution_count": null,
   "id": "039ae86e-4163-4b24-a05f-62e87c1fd689",
   "metadata": {},
   "outputs": [],
   "source": []
  }
 ],
 "metadata": {
  "kernelspec": {
   "display_name": "Python 3 (ipykernel)",
   "language": "python",
   "name": "python3"
  },
  "language_info": {
   "codemirror_mode": {
    "name": "ipython",
    "version": 3
   },
   "file_extension": ".py",
   "mimetype": "text/x-python",
   "name": "python",
   "nbconvert_exporter": "python",
   "pygments_lexer": "ipython3",
   "version": "3.11.7"
  }
 },
 "nbformat": 4,
 "nbformat_minor": 5
}
