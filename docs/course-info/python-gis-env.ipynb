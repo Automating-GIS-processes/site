{
 "cells": [
  {
   "cell_type": "markdown",
   "id": "4298e055-7424-44d0-8ee5-e641176588d7",
   "metadata": {},
   "source": [
    "# Installing Python and Python packages\n",
    "You can refer to the guide provided on the [AutoGIS course pages](https://autogis-site.readthedocs.io/en/latest/course-info/create-python-gis-environment.html) to learn how to set up a Python environment for GIS. "
   ]
  },
  {
   "cell_type": "code",
   "execution_count": 1,
   "id": "b2451fed-abaa-422f-ac95-73f3eac0fff7",
   "metadata": {},
   "outputs": [
    {
     "data": {
      "text/html": [
       "\n",
       "        <iframe\n",
       "            width=\"1000\"\n",
       "            height=\"1000\"\n",
       "            src=\"https://autogis-site.readthedocs.io/en/latest/course-info/create-python-gis-environment.html\"\n",
       "            frameborder=\"0\"\n",
       "            allowfullscreen\n",
       "            \n",
       "        ></iframe>\n",
       "        "
      ],
      "text/plain": [
       "<IPython.lib.display.IFrame at 0x217f529e310>"
      ]
     },
     "metadata": {},
     "output_type": "display_data"
    }
   ],
   "source": [
    "from IPython.display import IFrame\n",
    "documentation = IFrame(src='https://autogis-site.readthedocs.io/en/latest/course-info/create-python-gis-environment.html', width=1000, height=1000)\n",
    "display(documentation)"
   ]
  },
  {
   "cell_type": "code",
   "execution_count": null,
   "id": "c8e42f1d-fd79-42f7-8d4f-b726a7e52b2d",
   "metadata": {},
   "outputs": [],
   "source": []
  }
 ],
 "metadata": {
  "kernelspec": {
   "display_name": "Python 3 (ipykernel)",
   "language": "python",
   "name": "python3"
  },
  "language_info": {
   "codemirror_mode": {
    "name": "ipython",
    "version": 3
   },
   "file_extension": ".py",
   "mimetype": "text/x-python",
   "name": "python",
   "nbconvert_exporter": "python",
   "pygments_lexer": "ipython3",
   "version": "3.11.7"
  }
 },
 "nbformat": 4,
 "nbformat_minor": 5
}
