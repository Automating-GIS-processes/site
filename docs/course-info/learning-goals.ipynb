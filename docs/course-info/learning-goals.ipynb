{
 "cells": [
  {
   "cell_type": "markdown",
   "id": "ce51a28a-f60d-4f3c-9880-c39bf2fa9949",
   "metadata": {},
   "source": [
    "# Learning goals\n",
    "\n",
    "Below you find the *intended learning outcomes* after each study week. Please\n",
    "use this table to monitor your learning progress: you can always go back to\n",
    "revisit a previous week’s material.\n",
    "\n",
    "\n",
    "**After lesson 1, you should be able to:**\n",
    "\n",
    "- search for information about GIS packages available in/for Python,\n",
    "- understand how geometric objects are represented in\n",
    "  [Shapely](https://shapely.readthedocs.io/),\n",
    "- create geometric object based on coordinate values, and\n",
    "- (optionally) install Python packages on your own computer.\n",
    "\n",
    "**After lesson 2, you should be able to:**\n",
    "- read and write spatial data from and to common file formats,\n",
    "- conduct simple analysis on spatial and non-spatial data sets, and\n",
    "- manage coordinate reference systems and re-project data.\n",
    "\n",
    "**After lesson 3, you should be able to:**\n",
    "- carry out *geocoding*, i.e., convert addresses into coordinates,\n",
    "  and vice versa,\n",
    "- conduct *Point-in-Polygon* queries,\n",
    "- read data from a KML file,\n",
    "- join layers on spatial and attribute values, and\n",
    "- find the nearest neighbour among point objects.\n",
    "\n",
    "**After lesson 4, you should be able to:**\n",
    "- reclassify data based on different criteria (common and custom classifiers),\n",
    "- carry out overlay analysis, e.g., select data based on the boundaries of\n",
    "  another layer,\n",
    "- aggregate data and merge geometric objects, and\n",
    "- simplify geometries.\n",
    "\n",
    "**After lesson 5, you should be able to:**\n",
    "- create a static map image with a background map,\n",
    "- create a simple interactive map, and\n",
    "- share your static or interactive map on the internet.\n",
    "\n",
    "**After lesson 6, you should be able to:**\n",
    "- retrieve and save data from OpenStreetMap,\n",
    "- extract simple street network properties and statistics, and\n",
    "- carry out simple route optimisation, using a shortest-path algorithm.\n",
    "\n",
    "**After lesson 7, you should be able to:**\n",
    "- read and explore single-band and multi-band raster data in Python,\n",
    "- process raster data using clipping, raster mosaics, reclassification, and\n",
    "- perform different raster data analysis including slope analysis and map algebra (raster-raster calculation).\n"
   ]
  }
 ],
 "metadata": {
  "kernelspec": {
   "display_name": "Python 3 (ipykernel)",
   "language": "python",
   "name": "python3"
  },
  "language_info": {
   "codemirror_mode": {
    "name": "ipython",
    "version": 3
   },
   "file_extension": ".py",
   "mimetype": "text/x-python",
   "name": "python",
   "nbconvert_exporter": "python",
   "pygments_lexer": "ipython3",
   "version": "3.11.7"
  }
 },
 "nbformat": 4,
 "nbformat_minor": 5
}
