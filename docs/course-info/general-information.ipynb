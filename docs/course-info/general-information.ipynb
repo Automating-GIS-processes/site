{
 "cells": [
  {
   "cell_type": "markdown",
   "id": "4d9ceae5-f5d7-4bc3-966a-fbacb22d1634",
   "metadata": {},
   "source": [
    "# General information\n",
    "\n",
    "\n",
    "<div class=\"info\">\n",
    "  <h3>Contact teaching at the University of Helsinki (2024)</h3>\n",
    "  <p><strong>Please note that access to <em>Discord</em> and to the <em>CSC Noppe</em> is limited to students at Finnish universities.</strong><br>\n",
    "  The recorded lesson videos, as well as all other course material on this page, are available to anyone interested.</p>\n",
    "</div>\n",
    "\n",
    "\n",
    "\n",
    "## Course meetings in teaching period Ⅱ\n",
    "\n",
    "- Lectures on Wednesday, 16:15-17:45, Physicum D112\n",
    "- Work sessions on Friday, 12:15-15:45, Physicum A113+A114 (GIS lab) (classroom is also reserved for 5.12.2024 - 16:15-19:45)\n",
    "<br>\n",
    "\n",
    "<div style=\"border: 2px solid #ffcc00; background-color: #fff8dc; padding: 15px; border-radius: 5px;\">\n",
    "    <strong>⚠️ Attention:</strong> There will be no in-person teaching on Week 2 (13.11). The session will be conducted remotely. Further updates will be provided during the course and via Discord. Please note that exercise session will run d as usual in Physicum A113+A114 (GIS lab).\n",
    "</div>\n",
    "\n",
    "\n",
    "## Instructors\n",
    "\n",
    "- Lecturer: \n",
    "    - Kamyar Hasanzadeh\n",
    "\n",
    "- Course assistants:\n",
    "    - Veeti Sihvola\n",
    "    - Vili Rauhala\n",
    "    - Nino Chkhartishvili\n",
    "\n",
    "\n",
    "Email: firstname.lastname@helsinki.fi\n",
    "\n",
    "\n",
    "## Course web pages:\n",
    "\n",
    "- *Automating GIS processes* (period Ⅱ)\n",
    "    - course page: [autogis.github.io](https://autogis.github.io/)\n",
    "    - CSC notebooks: [noppe.csc.fi](https://noppe.csc.fi/)\n",
    "    - Discrod (Q&A and chat): [autogis2024 Discord Server](https://discord.com/channels/1292810661348245526/1292810663969820687)\n",
    "- *Geo-Python* (period Ⅰ):\n",
    "    - course page: [geo-python.github.io](https://geo-python.github.io/)\n",
    "    - Textbook. [PythonGIS](https://python-gis-book.readthedocs.io/en/latest/) \n"
   ]
  },
  {
   "cell_type": "code",
   "execution_count": null,
   "id": "7e66cf64-2086-41a9-b83d-4e88cf66d7b3",
   "metadata": {},
   "outputs": [],
   "source": []
  }
 ],
 "metadata": {
  "kernelspec": {
   "display_name": "Python 3 (ipykernel)",
   "language": "python",
   "name": "python3"
  },
  "language_info": {
   "codemirror_mode": {
    "name": "ipython",
    "version": 3
   },
   "file_extension": ".py",
   "mimetype": "text/x-python",
   "name": "python",
   "nbconvert_exporter": "python",
   "pygments_lexer": "ipython3",
   "version": "3.11.7"
  }
 },
 "nbformat": 4,
 "nbformat_minor": 5
}
