{
 "cells": [
  {
   "cell_type": "markdown",
   "id": "4d9ceae5-f5d7-4bc3-966a-fbacb22d1634",
   "metadata": {},
   "source": [
    "# General information\n",
    "\n",
    "\n",
    "<div class=\"info\">\n",
    "  <h3>Contact teaching at the University of Helsinki</h3>\n",
    "  <p><strong>Please note that access to <em>Discord</em> and to the <em>CSC Notebooks</em> is limited to students at Finnish universities.</strong><br>\n",
    "  The recorded lesson videos, as well as all other course material on this page, are available to anyone interested.</p>\n",
    "</div>\n",
    "\n",
    "\n",
    "\n",
    "## Course meetings in teaching period Ⅱ\n",
    "\n",
    "- Lectures on *To be added*\n",
    "- Work sessions on *To be added*\n",
    "\n",
    "\n",
    "## Instructors\n",
    "\n",
    "- Lecturer: \n",
    "    - Kamyar Hasanzadeh\n",
    "\n",
    "- Course assistants:\n",
    "    - *To be added*\n",
    "\n",
    "\n",
    "Email: firstname.lastname@helsinki.fi\n",
    "\n",
    "\n",
    "## Course web pages:\n",
    "\n",
    "- *Automating GIS processes* (period Ⅱ)\n",
    "    - course page: [autogis.github.io](https://autogis.github.io/)\n",
    "    - CSC notebooks: [notebooks.csc.fi](https://notebooks.csc.fi/)\n",
    "    - Discrod (Q&A and chat): [autogis2023 Discord Server](https://discord.com/channels/1141294124633423932/1141294951729213460)\n",
    "- *Geo-Python* (period Ⅰ):\n",
    "    - course page: [geo-python.github.io](https://geo-python.github.io/)\n"
   ]
  },
  {
   "cell_type": "code",
   "execution_count": null,
   "id": "7e66cf64-2086-41a9-b83d-4e88cf66d7b3",
   "metadata": {},
   "outputs": [],
   "source": []
  }
 ],
 "metadata": {
  "kernelspec": {
   "display_name": "Python 3 (ipykernel)",
   "language": "python",
   "name": "python3"
  },
  "language_info": {
   "codemirror_mode": {
    "name": "ipython",
    "version": 3
   },
   "file_extension": ".py",
   "mimetype": "text/x-python",
   "name": "python",
   "nbconvert_exporter": "python",
   "pygments_lexer": "ipython3",
   "version": "3.11.7"
  }
 },
 "nbformat": 4,
 "nbformat_minor": 5
}
