{
 "cells": [
  {
   "cell_type": "markdown",
   "id": "4d9ceae5-f5d7-4bc3-966a-fbacb22d1634",
   "metadata": {},
   "source": [
    "# General information\n",
    "\n",
    ":::{admonition} Contact teaching at the University of Helsinki\n",
    ":class: info\n",
    "\n",
    "Please note that access to *Discord* and to the *CSC Notebooks* is limited to students at Finnish universities. The recorded lesson videos, as well as all other course material on this page, are available to anyone interested.\n",
    "\n",
    ":::\n",
    "\n",
    "\n",
    "## Course meetings in teaching period Ⅱ\n",
    "\n",
    "- Lectures on {{lectures_weekday_time_location}}\n",
    "- Work sessions on {{work_sessions_weekday_time_location}}\n",
    "\n",
    "\n",
    "## Instructors\n",
    "\n",
    "- Lecturer: \n",
    "    - Kamyar Hasanzadeh\n",
    "\n",
    "- Course assistants:\n",
    "    - Mikko Kangasmaa\n",
    "    - Aino Schulz\n",
    "    - Veeti Sihvola\n",
    "\n",
    "Email: firstname.lastname@helsinki.fi\n",
    "\n",
    "\n",
    "## Course web pages:\n",
    "\n",
    "- *Automating GIS processes* (period Ⅱ)\n",
    "    - course page: [autogis.github.io](https://autogis.github.io/)\n",
    "    - CSC notebooks: [notebooks.csc.fi](https://notebooks.csc.fi/)\n",
    "    - Discrod (Q&A and chat): [autogis2023 Discord Server](https://discord.com/channels/1141294124633423932/1141294951729213460)\n",
    "- *Geo-Python* (period Ⅰ):\n",
    "    - course page: [geo-python.github.io](https://geo-python.github.io/)\n"
   ]
  }
 ],
 "metadata": {
  "kernelspec": {
   "display_name": "Python 3 (ipykernel)",
   "language": "python",
   "name": "python3"
  },
  "language_info": {
   "codemirror_mode": {
    "name": "ipython",
    "version": 3
   },
   "file_extension": ".py",
   "mimetype": "text/x-python",
   "name": "python",
   "nbconvert_exporter": "python",
   "pygments_lexer": "ipython3",
   "version": "3.11.7"
  }
 },
 "nbformat": 4,
 "nbformat_minor": 5
}
