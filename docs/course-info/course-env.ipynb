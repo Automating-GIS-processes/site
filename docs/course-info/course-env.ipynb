{
 "cells": [
  {
   "cell_type": "markdown",
   "id": "8dcd0c4e-c747-41fc-ad17-cf0bbfac648a",
   "metadata": {},
   "source": [
    "# Course environment\n",
    "During this course, we use a set of tools that help make learning easier:\n",
    "We will use:\n",
    "\n",
    "1. **QGIS** as the GIS software during this course\n",
    "2. **JupyterLab** as a development environment accessed using\n",
    "   a normal web browser,\n",
    "3. the **cloud computing** platforms *Binder* and *CSC\n",
    "   Notebooks* to run JupyterLab in an environment in which all necessary\n",
    "   libraries have already been installed,\n",
    "4. **git** and **GitHub** for version control and documentation,\n",
    "5. **Discord** for communication between the University of Helsinki\n",
    "   students, the course assistents, and the teachers.\n",
    "6. You can clone every week tutorials from the following `git` repository: `https://github.com/Carto-gis/tutorials.git`\n",
    "\n",
    "\n",
    "An introduction of these tools is prvided on the [AutoGIS course pages](https://autogis-site.readthedocs.io/en/latest/course-info/course-environment.html)."
   ]
  },
  {
   "cell_type": "code",
   "execution_count": 2,
   "id": "64a74c06-36cc-4320-80b4-572b7f52a70c",
   "metadata": {
    "editable": true,
    "slideshow": {
     "slide_type": ""
    },
    "tags": [
     "hide-input"
    ]
   },
   "outputs": [
    {
     "data": {
      "text/html": [
       "\n",
       "        <iframe\n",
       "            width=\"1000\"\n",
       "            height=\"1000\"\n",
       "            src=\"https://autogis-site.readthedocs.io/en/latest/course-info/course-environment.html\"\n",
       "            frameborder=\"0\"\n",
       "            allowfullscreen\n",
       "            \n",
       "        ></iframe>\n",
       "        "
      ],
      "text/plain": [
       "<IPython.lib.display.IFrame at 0x2d34c047f90>"
      ]
     },
     "metadata": {},
     "output_type": "display_data"
    }
   ],
   "source": [
    "from IPython.display import IFrame\n",
    "documentation = IFrame(src='https://autogis-site.readthedocs.io/en/latest/course-info/course-environment.html', width=1000, height=1000)\n",
    "display(documentation)"
   ]
  },
  {
   "cell_type": "code",
   "execution_count": null,
   "id": "ec45fdf2-cfac-48a7-8c66-561de79c5ca8",
   "metadata": {},
   "outputs": [],
   "source": []
  }
 ],
 "metadata": {
  "kernelspec": {
   "display_name": "Python 3 (ipykernel)",
   "language": "python",
   "name": "python3"
  },
  "language_info": {
   "codemirror_mode": {
    "name": "ipython",
    "version": 3
   },
   "file_extension": ".py",
   "mimetype": "text/x-python",
   "name": "python",
   "nbconvert_exporter": "python",
   "pygments_lexer": "ipython3",
   "version": "3.11.7"
  }
 },
 "nbformat": 4,
 "nbformat_minor": 5
}
