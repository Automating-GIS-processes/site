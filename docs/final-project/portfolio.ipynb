{
 "cells": [
  {
   "cell_type": "markdown",
   "id": "7a3d1f95-9b62-4092-991b-d73f28351399",
   "metadata": {},
   "source": [
    "# Final portfolio"
   ]
  },
  {
   "cell_type": "markdown",
   "id": "64a39870-2682-4a8e-a26b-d8fb39b5d20b",
   "metadata": {},
   "source": [
    "In this course, we learned that visualization is a key tool for working with geospatial data. Different visualization methods have their own strengths and are suited for specific types of data or to explore certain aspects. While maps are a common way to show geospatial data, they're not the only method. Other ways of visualization can also be very helpful, either on their own or together with maps, to provide a better understanding of our data.\n",
    "\n",
    "We also discovered how to use geospatial data to tell stories. This involves combining different visualization methods with writing and other tools to share information in an engaging way. By doing this, we can make our data more interesting and easier for people to understand.\n",
    "\n",
    "Telling stories with geospatial data is not just about showing where things are. It's about creating a narrative that helps people see why the data matters. We can use maps, charts, and interactive elements to make these stories more engaging. This way, we're not just sharing data; we're telling a story that connects with people. And this is what we are going to pratice and demonstrate in the **final portfolio**. \n",
    "\n",
    "In the *portfolio* we choose a geospatial dataset and show in different ways and how to use these methods to tell stories that make the data meaningful and interesting to our audience."
   ]
  },
  {
   "cell_type": "markdown",
   "id": "433a92bd-df02-4cc3-9cf8-3776a24913d7",
   "metadata": {},
   "source": [
    "> **Important:** Please note that the portfolio is an **individual task** and cannot be completed in groups.\n",
    "\n",
    "<br>\n",
    "\n",
    "<div style=\"border: 1px solid #D9EAF7; border-radius: 5px;\">\n",
    "    <div style=\"background-color: #E7F3FA; padding: 10px; border-top-left-radius: 5px; border-top-right-radius: 5px; font-weight: bold;\">\n",
    "        <span style=\"color: #336CA6;\">&#9432;</span> The deadline\n",
    "    </div>\n",
    "    <div style=\"background-color: #F8F9FB; padding: 15px; border-bottom-left-radius: 5px; border-bottom-right-radius: 5px;\">\n",
    "        The deadline for the submission of the final portfolio is **June 16, 2024**. Please note that late submissions may result in a **10% reduction** in your grade from final assignment. Additionally, we cannot guarantee that grades and credits for late submissions will be processed in time, as it may overlap with summer holidays.\n",
    "    </div>\n",
    "</div>\n",
    "\n",
    "\n",
    "\n"
   ]
  },
  {
   "cell_type": "markdown",
   "id": "284b1143-2f81-4d4b-8365-96dc96aee3ce",
   "metadata": {},
   "source": [
    "## Data/topic suggestions\n",
    "\n",
    "You are free to select the topic and data set that most interests you for your project. You can also use data from the tutorials/exercises or from these few suggestions:\n",
    "\n",
    "- [**GBIF**](https://www.gbif.org/occurrence/search?occurrence_status=present&q=) (Global Biodiversity Information Facility) provides a vast database of current biodiversity records, offering a rich resource to explore and study the distribution of species across the globe or in a certain area. The dataset is very comprehensive but of course not perfect. It is used a lot in ecology but at the same time the dataset has quite some issues (biased towards sampling in Europe vs. the rest of the world, misidentifications of species, imprecise coordinates, etc.). [Read more](https://peerj.com/articles/9916)\n",
    "- [**LAJI**](https://laji.fi/en) - Finnish Biodiversity Information Facility - is a similar national dataset if you want to focus you work on Finland. Compared to GBIF, this is more carefully curated and thus with less issues.\n",
    "- The [**ARCLIM**](https://springernature.figshare.com/collections/ARCLIM_bioclimatic_indices_for_the_terrestrial_Arctic/6216368/2) is a new data collection that presents a comprehensive set of bioclimatic indices specifically designed for the terrestrial Arctic, serving as a valuable dataset for those interested in understanding climate impacts on Arctic biodiversity and ecosystems. This collection offers insights into the climatic variables that shape the unique environmental conditions of the Arctic, facilitating studies on climate change and its ecological effects in this sensitive region.\n",
    "- Mobile network performance data from [speedtest - Ookla](https://registry.opendata.aws/speedtest-global-performance/) (similar to what we used in week 3). \n",
    "- A more complete version of the student mobility data from week 3 can be downloaded from [here](data/erasmus_mobility_datasets.gpkg). Data includes these layers:\n",
    "**2018_student_mobility_NUTS2**: Erasmus exchanges that lasted at least 11 months at the level of NUTS2 regions. **NUTS_2_regions_2021**: Geometry centroids are used as the origin / destination points. **Data attribution**: This data is derived from student mobilities in the European Union’s Erasmus exchange program dataset. The full dataset has been processed and geocoded by Tuomas Väisänen and Oula Inkeröinen as part of the Mobi-Twin project at the Digital Geography Lab, University of Helsinki.\n"
   ]
  },
  {
   "cell_type": "markdown",
   "id": "d9546121-f7fd-48fb-a74a-e7e456972807",
   "metadata": {},
   "source": [
    "## Structure of portfolio\n",
    "\n",
    "To achieve a full grade, the portfolio must minimally include the following components:\n",
    "\n",
    "- **Compilation of Weekly Exercises**: This section should contain all maps produced throughout the course, accompanied by a single-page summary of weekly reflections.\n",
    "\n",
    "- **Description of Data**: Provide a concise overview of the data utilized in your projects.\n",
    "\n",
    "- **Geospatial Narrative**: This segment is the heart of your portfolio. Dive deep into your data to create a coherent story. Remember, this is a Cartography course; benefit from a wide range of visualization tools to uncover and narrate your story effectively.\n",
    "\n",
    "- **Conclusions**: Provide a concise summary of your discoveries and the insights gained from your visual exploration.\n"
   ]
  },
  {
   "cell_type": "markdown",
   "id": "23a4a942-150e-4f89-8778-1b7003a3e300",
   "metadata": {},
   "source": [
    "## Portfolio Format\n",
    "\n",
    "To enhance your storytelling abilities and showcase the full potential of your interactive maps, we encourage publishing your portfolio on an online webpage or blog platform.\n",
    "\n",
    "- **For University of Helsinki Students**: You're encouraged to use the university's blog service for creating your Cartography pages. If your blog is already used for other projects, no need to worry—you can get a second blog account (arrangements have been made). Simply reach out to IT or the course staff, preferably IT. Learn more about setting up your blog [here](https://blogs.helsinki.fi/setting-up-your-blog/).\n",
    "\n",
    "- **Students at Other Finnish Universities**: Your university might offer similar blogging or webpage creation services. It's worth checking to see if such options are available to you.\n",
    "\n",
    "- **Alternative Platforms**: For those looking for different options or studying outside of Finland, GitHub Pages is a great, free choice for hosting your portfolio. It allows for the creation and hosting of web pages to display your projects. [Learn how to set up GitHub Pages](https://pages.github.com/). There are countless other options that you can easily find by a simple search. \n",
    "\n",
    "If you prefer not to publish your portfolio online, a PDF version is acceptable. Please communicate with the course staff to ensure there's a way to share your interactive visualizations, such as including links to hosted HTML pages or GitHub repositories.\n",
    "\n",
    "Remember, it's **not needed** to publish your name or any personal identifiers on your public portfolio—it's entirely up to you what you choose to share.\n",
    "\n",
    "Lastly, ensure that whatever you share complies with laws (such as copyright laws) and university regulations. **You** are responsible for the content you publish."
   ]
  },
  {
   "cell_type": "markdown",
   "id": "be2a9482-6701-4807-8894-4d261b662f3f",
   "metadata": {},
   "source": [
    "## Grading criteria\n",
    "Your final exercise will be graded on the following criteria. \n",
    "\n",
    "<br>\n",
    "<div style=\"background-color: #ffcccb; color: black; padding: 10px; border-left: 6px solid red;\">\n",
    "  <strong>Attention:</strong> Text or visualizations in the portfolio cannot be produced by Artificial Intelligence (AI) or Large Language Models (LLMs). If misuse of AI tools is suspected, you may risk losing part or the entire grade for your portfolio. For more detailed information on the course's stance and instructions regarding the use of AI and LLMs, please read <a href=\"https://cartogis.readthedocs.io/en/latest/course-info/ai-tools.html\" target=\"_blank\">Course Instructions on AI and LLMs</a>.\n",
    "</div>\n",
    "<br><br>\n",
    "\n",
    "\n",
    "\n",
    "| Criteria                                      | Points | Excellent                                                                                          | Good                                                                                         | Satisfactory                                                                                        | Needs Improvement                                                                                   |\n",
    "|-----------------------------------------------|--------|-----------------------------------------------------------------------------------------------------------------|----------------------------------------------------------------------------------------------------------|---------------------------------------------------------------------------------------------------------------|--------------------------------------------------------------------------------------------------------------------|\n",
    "| Use of a wide range of tools and methods      | 10     | 9-10: Demonstrates outstanding proficiency in applying a diverse set of cartographic tools and methods.         | 7-8: Shows good use of various tools and methods, but with less diversity or depth.                      | 5-6: Uses some tools and methods, but with limited diversity.                                                  | 0-4: Relies on a very narrow range of tools and methods, with little to no exploration of the range taught in the course. |\n",
    "| Overall presentation of the portfolio         | 10     | 9-10: The portfolio is exceptionally well-organized, visually engaging, and easy to navigate.                  | 7-8: Well-organized and clear, but lacks some visual engagement or navigational ease.                    | 5-6: The portfolio is organized and navigable, but with room for improvement in clarity or engagement.          | 0-4: The portfolio is poorly organized, difficult to navigate, or visually unappealing.                            |\n",
    "| Correctness and suitability of visualizations | 15     | 13-15: Visualizations are perfectly accurate and highly suited to the data and intended message.               | 10-12: Visualizations are accurate and generally well-suited to the data and message, with minor issues. | 7-9: Some inaccuracies or unsuitable choices in visualizations, though generally correct.                       | 0-6: Frequent inaccuracies or poor choices in visualization methods that detract from the data or intended message.  |\n",
    "| Aesthetics of visualizations                  | 15     | 13-15: Visualizations are stunning, with exceptional use of color, layout, and typography.                     | 10-12: Visualizations are attractive, with good aesthetic choices, though not exceptional.               | 7-9: Visualizations are adequately presented, but lack refinement in aesthetic choices.                         | 0-6: Visualizations lack visual appeal, with poor or inappropriate use of color, layout, or typography.             |\n",
    "| Other merits                                  | 10     | 9-10: Portfolio demonstrates innovative approaches, comprehensive analysis, or outstanding creativity.        | 7-8: Shows additional efforts like in-depth analysis or creativity, but not exceptionally innovative.    | 5-6: Some attempt at going beyond basic requirements, with modest additional merits.                           | 0-4: Does not demonstrate significant effort beyond the basic requirements.                                        |\n"
   ]
  },
  {
   "cell_type": "code",
   "execution_count": null,
   "id": "84b99fec-8be6-4450-bb94-f19646459910",
   "metadata": {},
   "outputs": [],
   "source": []
  },
  {
   "cell_type": "code",
   "execution_count": null,
   "id": "6b5d94a5-7a20-4b93-9cf8-a3e9d18a2c6c",
   "metadata": {},
   "outputs": [],
   "source": []
  }
 ],
 "metadata": {
  "kernelspec": {
   "display_name": "Python 3 (ipykernel)",
   "language": "python",
   "name": "python3"
  },
  "language_info": {
   "codemirror_mode": {
    "name": "ipython",
    "version": 3
   },
   "file_extension": ".py",
   "mimetype": "text/x-python",
   "name": "python",
   "nbconvert_exporter": "python",
   "pygments_lexer": "ipython3",
   "version": "3.11.7"
  }
 },
 "nbformat": 4,
 "nbformat_minor": 5
}
