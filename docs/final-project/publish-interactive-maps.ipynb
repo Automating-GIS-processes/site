{
 "cells": [
  {
   "cell_type": "markdown",
   "id": "2d9a4386-ae4e-4df0-8c93-a28ef7b2b732",
   "metadata": {
    "editable": true,
    "slideshow": {
     "slide_type": ""
    },
    "tags": []
   },
   "source": [
    "### Publishing interative visualizations\n",
    "\n",
    "During this course and partiulalry in this lesson, we have created some interactive maps which we have exported as HTML files. You probabely make more HTML files when working on your final assignment if you create interactive visualizations. Here we will see one way of how you can publish these interactive visualizations and include them on you online portfolio.\n",
    "\n",
    "For students of University of Helsinki using the university's Blog pages, there are restrictions on adding blocks or plugins to their WordPress website. If you are hosting your portfolio on your own WordPress website or any other kind of page, adding HTML code is easily doable for example through use of plugins or Block page editors. Here we will see how we can publish the HTML file on GitHUb Pages and then add them to our Blog/Portfolio using `iframe`.\n",
    "\n",
    "Remember, while **GitHub Pages** is recommended for its simplicity and no-cost hosting, you can host your HTML files on any web server that allows direct linking. Just replace the URL in the iframe snippet accordingly.\n",
    "\n",
    "\n",
    "**Part 1: Hosting Your HTML on GitHub Pages**\n",
    "\n",
    "1. **Create a GitHub Account**\n",
    "   - If you don't already have one, sign up at [github.com](https://github.com/). \n",
    "\n",
    "2. **Create a New Repository**\n",
    "   - Once logged in, click the \"+\" icon in the top right and select \"New repository\".\n",
    "   - Name your repository. Optionally, you can use `<username>.github.io` for a personal site. For project sites, you can choose any name.\n",
    "   - Keep the repository public so GitHub Pages can host your site.\n",
    "   - Click \"Create repository\".\n",
    "\n",
    "3. **Add Your HTML File**\n",
    "   - Click \"uploading an existing file\" within your new repository.\n",
    "   - Drag and drop your HTML file (e.g., `index.html`) or use the file selector.\n",
    "   - Commit the file to the repository.\n",
    "  \n",
    "<div style=\"background-color: #fff3cd; padding: 20px; border-left: 5px solid red; margin-bottom: 20px;\">\n",
    "\n",
    "**Attention!**  \n",
    "Note that you need to have one html file neamed index.html which will serve as your home page. You can have more html files with different names which can be accessed by adding `/nameOfhtmlFile` to the end of your home page address.\n",
    "\n",
    "</div>\n",
    "\n",
    "\n",
    "4. **Enable GitHub Pages**\n",
    "   - Navigate to your repository settings, find the \"Pages\" section.\n",
    "   - Choose the branch where your HTML file is (usually on `root` in \"main\").\n",
    "   - Click \"Save\". GitHub will provide a URL to your hosted page.\n",
    "\n",
    "**Part 2: Embedding HTML in WordPress with an iframe**\n",
    "\n",
    "1. **Prepare the iframe Code**\n",
    "   - With your HTML file now hosted, prepare an iframe snippet like so:\n",
    "<div style=\"margin-bottom: 30px;\"></div>\n",
    "\n",
    "     ```html\n",
    "     <iframe src=\"https://<username>.github.io/<repository>/your_map.html\" width=\"600\" height=\"400\" style=\"border:none;\"></iframe>\n",
    "     ```\n",
    "<div style=\"margin-bottom: 30px;\"></div>\n",
    "\n",
    "   - Replace link in `src` with the address of your hosted map.\n",
    "\n",
    "1. **Embed in WordPress**\n",
    "   - Log in to your WordPress dashboard and navigate to the page where you want to embed the map.\n",
    "   - Switch to the Text editor, as you might have restrictions on using Gutenberg blocks or adding plugins.\n",
    "   - Paste your iframe code into the editor where you want the map to appear.\n",
    "\n",
    "2. **Publish and Test**\n",
    "   - After adding the iframe code, preview your page to ensure the map displays correctly.\n",
    "   - Publish or update your page. Your map, hosted on GitHub Pages, should now be embedded within your WordPress site."
   ]
  },
  {
   "cell_type": "code",
   "execution_count": null,
   "id": "318e6db5-2419-478d-bebc-3cbb704762dc",
   "metadata": {
    "editable": true,
    "slideshow": {
     "slide_type": ""
    },
    "tags": []
   },
   "outputs": [],
   "source": []
  }
 ],
 "metadata": {
  "kernelspec": {
   "display_name": "Python 3 (ipykernel)",
   "language": "python",
   "name": "python3"
  },
  "language_info": {
   "codemirror_mode": {
    "name": "ipython",
    "version": 3
   },
   "file_extension": ".py",
   "mimetype": "text/x-python",
   "name": "python",
   "nbconvert_exporter": "python",
   "pygments_lexer": "ipython3",
   "version": "3.11.7"
  }
 },
 "nbformat": 4,
 "nbformat_minor": 5
}
