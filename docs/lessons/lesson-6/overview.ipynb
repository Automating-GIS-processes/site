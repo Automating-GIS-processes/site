{
 "cells": [
  {
   "cell_type": "markdown",
   "id": "844e6c02",
   "metadata": {},
   "source": [
    "# Overview\n",
    "\n",
    "In this lesson, we cover how to use Python to **download raw data from\n",
    "OpenStreetMap** and how to conduct **network analyses** .\n",
    "\n",
    "\n",
    "## Learning goals\n",
    "\n",
    "After this lesson, you should know how to:\n",
    "\n",
    "- Retrieve data from OpenStreetMap\n",
    "- Extract simple street network properties and statistics (e.g., centrality measures)\n",
    "- Carry out simple route optimisation tasks using\n",
    "  [OSMnx](https://osmnx.readthedocs.io/) and\n",
    "  [NetworkX](https://networkx.readthedocs.io/)\n",
    "\n",
    "\n",
    "## Lesson video\n",
    " \n",
    "<iframe width=\"560\" height=\"315\" src=\"https://www.youtube.com/embed/QUIuJ1AXxJo?si=fphhKPHXIQbdLcNc\" title=\"YouTube video player\" frameborder=\"0\" allow=\"accelerometer; autoplay; clipboard-write; encrypted-media; gyroscope; picture-in-picture; web-share\" referrerpolicy=\"strict-origin-when-cross-origin\" allowfullscreen></iframe>\n"
   ]
  },
  {
   "cell_type": "code",
   "execution_count": null,
   "id": "9ecb78d0-09c9-4988-8c1e-11ddcb2b3287",
   "metadata": {},
   "outputs": [],
   "source": []
  }
 ],
 "metadata": {
  "kernelspec": {
   "display_name": "Python 3 (ipykernel)",
   "language": "python",
   "name": "python3"
  },
  "language_info": {
   "codemirror_mode": {
    "name": "ipython",
    "version": 3
   },
   "file_extension": ".py",
   "mimetype": "text/x-python",
   "name": "python",
   "nbconvert_exporter": "python",
   "pygments_lexer": "ipython3",
   "version": "3.11.7"
  }
 },
 "nbformat": 4,
 "nbformat_minor": 5
}
