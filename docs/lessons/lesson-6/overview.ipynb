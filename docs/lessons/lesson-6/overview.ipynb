{
 "cells": [
  {
   "cell_type": "markdown",
   "id": "844e6c02",
   "metadata": {},
   "source": [
    "# Overview\n",
    "\n",
    "In this lesson, we cover how to use Python to **download raw data from\n",
    "OpenStreetMap** and how to conduct **network analyses** .\n",
    "\n",
    "\n",
    "## Learning goals\n",
    "\n",
    "After this lesson, you should know how to:\n",
    "\n",
    "- Retrieve data from OpenStreetMap\n",
    "- Extract simple street network properties and statistics (e.g., centrality measures)\n",
    "- Carry out simple route optimisation tasks using\n",
    "  [OSMnx](https://osmnx.readthedocs.io/) and\n",
    "  [NetworkX](https://networkx.readthedocs.io/)\n",
    "\n",
    "\n",
    "## Lesson video\n",
    " \n",
    "<iframe width=\"560\" height=\"315\" src=\"https://www.youtube.com/embed/EZnKCn0LXkw?si=sGeZHqkZY5e86cov\" title=\"YouTube video player\" frameborder=\"0\" allow=\"accelerometer; autoplay; clipboard-write; encrypted-media; gyroscope; picture-in-picture; web-share\" allowfullscreen></iframe>\n",
    "\n",
    "## Slides about final assignment\n",
    "\n",
    "<iframe src=\"https://onedrive.live.com/embed?resid=29BAE38AD4BE2F78%211684&amp;authkey=!AObt9rmm-oVhMLc&amp;em=2&amp;wdAr=1.7777777777777777\" width=\"476px\" height=\"288px\" frameborder=\"0\">This is an embedded <a target=\"_blank\" href=\"https://office.com\">Microsoft Office</a> presentation, powered by <a target=\"_blank\" href=\"https://office.com/webapps\">Office</a>.</iframe>"
   ]
  }
 ],
 "metadata": {
  "kernelspec": {
   "display_name": "Python 3 (ipykernel)",
   "language": "python",
   "name": "python3"
  }
 },
 "nbformat": 4,
 "nbformat_minor": 5
}
