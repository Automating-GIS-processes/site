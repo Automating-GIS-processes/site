{
 "cells": [
  {
   "cell_type": "markdown",
   "id": "80e03c7c",
   "metadata": {},
   "source": [
    "# Exercise 2\n",
    "\n",
    ":::{important}\n",
    "Please complete this exercise\n",
    "**by the end of day** on Thursday, 16 November, 2023\n",
    "(the day before the next work session).\n",
    ":::\n",
    "\n",
    "To start this assignment, [accept the GitHub classroom\n",
    "assignment](https://classroom.github.com/a/CqrsixHD), and clone *your own*\n",
    "repository, e.g., in a [CSC\n",
    "Notebook](../../course-info/course-environment)\n",
    "instance. Make sure you commit and push all changes you make (you can\n",
    "revisit instructions on how to use `git` and the JupyterLab git-plugin\n",
    "on the [website of the Geo-Python\n",
    "course](https://geo-python-site.readthedocs.io/en/latest/lessons/L2/git-basics.html).\n",
    "\n",
    "To preview the exercise without logging in, you can find the open course copy\n",
    "of the course’s GitHub repository at\n",
    "[github.com/Automating-GIS-processes-II-2023/Exercise-2](https://github.com/Automating-GIS-processes-II-2023/Exercise-2).\n",
    "Don’t attempt to commit changes to that repository, but rather work with your\n",
    "personal GitHub classroom copy (see above).\n",
    "\n",
    "\n",
    "## Hints\n",
    "\n",
    "### Converting a `pandas.DataFrame`  into a `geopandas.GeoDataFrame`\n",
    "\n",
    "Sometimes, we work with data that are in a non-spatial format (such as Excel\n",
    "or CSV spreadsheets) but contain information on the location of records, for\n",
    "instance, in columns for longitude and latitude values. While geopandas’s\n",
    "`read_file()` function can read some formats, often, the safest way is to use\n",
    "pandas to read the data set and then convert it to a `GeoDataFrame`.\n",
    "\n",
    "Let’s assume, we read the following table using `pandas.read_csv()` into a\n",
    "variable `df`:"
   ]
  },
  {
   "cell_type": "code",
   "execution_count": null,
   "id": "b7981e54",
   "metadata": {
    "tags": [
     "remove-input"
    ]
   },
   "outputs": [],
   "source": [
    "# sample data\n",
    "import pandas\n",
    "df = pandas.DataFrame({\n",
    "    \"longitude\": [24.9557, 24.8353, 24.9587],\n",
    "    \"latitude\": [60.1555, 60.1878, 60.2029]\n",
    "})"
   ]
  },
  {
   "cell_type": "code",
   "execution_count": null,
   "id": "2ca309d5",
   "metadata": {},
   "outputs": [],
   "source": [
    "df"
   ]
  },
  {
   "cell_type": "markdown",
   "id": "483611f5",
   "metadata": {},
   "source": [
    "The `geopandas.GeoDataFrame()` constructor accepts a `pandas.DataFrame` as an\n",
    "input, but it does not automatically fill the `geometry` column. However, the\n",
    "library comes with a handy helper function `geopandas.points_from_xy()`. As we\n",
    "all know, a spatial data set should always have a coordinate reference system\n",
    "(CRS) defined; we can specify the CRS of the input data, here, too:"
   ]
  },
  {
   "cell_type": "code",
   "execution_count": null,
   "id": "ebd8424e",
   "metadata": {},
   "outputs": [],
   "source": [
    "import geopandas\n",
    "\n",
    "gdf = geopandas.GeoDataFrame(\n",
    "    df,\n",
    "    geometry=geopandas.points_from_xy(df.longitude, df.latitude),\n",
    "    crs=\"EPSG:4326\"\n",
    ")\n",
    "\n",
    "gdf"
   ]
  },
  {
   "cell_type": "markdown",
   "id": "7bfa7f08",
   "metadata": {},
   "source": [
    "Now, we have a ‘proper‘ `GeoDataFrame` with which we can do all geospatial\n",
    "operations we would want to do.\n",
    "\n",
    "\n",
    "\n",
    "### Creating a new `geopandas.GeoDataFrame`: alternative 1\n",
    "\n",
    "Sometimes, it makes sense to start from scratch with an empty data set and\n",
    "gradually add records. Of course, this is also possible with geopandas’ data\n",
    "frames, that can then be saved as a new geopackage or shapefile.\n",
    "\n",
    "First, create a completely empty `GeoDataFrame`:"
   ]
  },
  {
   "cell_type": "code",
   "execution_count": null,
   "id": "f82e6895",
   "metadata": {},
   "outputs": [],
   "source": [
    "import geopandas\n",
    "\n",
    "new_geodataframe = geopandas.GeoDataFrame()"
   ]
  },
  {
   "cell_type": "markdown",
   "id": "35d20e28",
   "metadata": {},
   "source": [
    "Then, create shapely geometry objects and insert them into the data frame. To\n",
    "insert a geometry object into the `geometry` column, and a name into the `name`\n",
    "column, in a newly added row, use:"
   ]
  },
  {
   "cell_type": "code",
   "execution_count": null,
   "id": "4230fd11",
   "metadata": {},
   "outputs": [],
   "source": [
    "import shapely.geometry\n",
    "polygon = shapely.geometry.Polygon(\n",
    "    [\n",
    "        (24.9510, 60.1690),\n",
    "        (24.9510, 60.1698),\n",
    "        (24.9536, 60.1698),\n",
    "        (24.9536, 60.1690)\n",
    "    ]\n",
    ")\n",
    "name = \"Senaatintori\"\n",
    "\n",
    "new_geodataframe.loc[\n",
    "    len(new_geodataframe),  # in which row,\n",
    "    [\"name\", \"geometry\"]    # in which columns to save values\n",
    "] = [name, polygon]\n",
    "\n",
    "new_geodataframe"
   ]
  },
  {
   "cell_type": "markdown",
   "id": "03b3c2cb",
   "metadata": {},
   "source": [
    "Before saving the newly created dataset, don’t forget to define a cartographic\n",
    "reference system for it. Otherwise, you will have trouble reusing the file in\n",
    "other programs:"
   ]
  },
  {
   "cell_type": "code",
   "execution_count": null,
   "id": "51b30825",
   "metadata": {},
   "outputs": [],
   "source": [
    "new_geodataframe.crs = \"EPSG:4326\""
   ]
  },
  {
   "cell_type": "markdown",
   "id": "a1b6a7c5",
   "metadata": {},
   "source": [
    ":::{hint}\n",
    "In the example above, we used the `len(new_geodataframe)` as a row index\n",
    "(which, in a newly created data frame is equivalent to the row number).  Since\n",
    "rows are counted from 0, the number of rows (length of data frame) is one\n",
    "greater than the address of the last row. This expression, thus, always adds a\n",
    "new row, independent of the actual length of the data frame.\n",
    "\n",
    "Note, that, strictly speaking, the index is independent from the row number,\n",
    "but in newly created data frames there are identical.\n",
    ":::\n",
    "\n",
    "\n",
    "### Creating a new `geopandas.GeoDataFrame`: alternative 2\n",
    "\n",
    "Often, it is more convenient, and more elegant, to first create a dictionary\n",
    "to collect data, that can then be converted into a data frame all at once.\n",
    "\n",
    "For this, first define a `dict` with the column names as keys, and empty `list`s\n",
    "as values:"
   ]
  },
  {
   "cell_type": "code",
   "execution_count": null,
   "id": "c9d1a42b",
   "metadata": {},
   "outputs": [],
   "source": [
    "data = {\n",
    "    \"name\": [],\n",
    "    \"geometry\": []\n",
    "}"
   ]
  },
  {
   "cell_type": "markdown",
   "id": "718234a7",
   "metadata": {},
   "source": [
    "Then, fill the dict with data:"
   ]
  },
  {
   "cell_type": "code",
   "execution_count": null,
   "id": "148840c5",
   "metadata": {},
   "outputs": [],
   "source": [
    "import shapely.geometry\n",
    "\n",
    "data[\"name\"].append(\"Senaatintori\")\n",
    "data[\"geometry\"].append(\n",
    "    shapely.geometry.Polygon(\n",
    "        [\n",
    "            (24.9510, 60.1690),\n",
    "            (24.9510, 60.1698),\n",
    "            (24.9536, 60.1698),\n",
    "            (24.9536, 60.1690)\n",
    "        ]\n",
    "    )\n",
    ")"
   ]
  },
  {
   "cell_type": "markdown",
   "id": "89b3b5bf",
   "metadata": {},
   "source": [
    "Finally, use this dictionary as input for a new `GeoDataFrame`. Don’t forget to\n",
    "specify a CRS:"
   ]
  },
  {
   "cell_type": "code",
   "execution_count": null,
   "id": "bd255fbd",
   "metadata": {},
   "outputs": [],
   "source": [
    "new_geodataframe = geopandas.GeoDataFrame(data, crs=\"EPSG:4326\")\n",
    "new_geodataframe"
   ]
  },
  {
   "cell_type": "markdown",
   "id": "dd9e1f1c",
   "metadata": {},
   "source": [
    "---\n",
    "\n",
    ":::{note}\n",
    "These two approaches result in identical `GeoDataFrame`s. Sometimes, one\n",
    "technique is more convenient than the other. You should always evaluate\n",
    "different ways of solving a problem, and find the most appropriate and efficient\n",
    "solution (there is **always** more than one possible solution).\n",
    ":::"
   ]
  }
 ],
 "metadata": {
  "kernelspec": {
   "display_name": "python3",
   "name": "python3"
  }
 },
 "nbformat": 4,
 "nbformat_minor": 5
}
