{
 "cells": [
  {
   "cell_type": "markdown",
   "id": "80e03c7c",
   "metadata": {},
   "source": [
    "# Exercise 2\n",
    "\n",
    ":::{important}\n",
    "Please complete this exercise\n",
    "**by the end of day** on Thursday, 16 November, 2023\n",
    "(the day before the next work session).\n",
    ":::\n",
    "\n",
    "To start this assignment, [accept the GitHub classroom\n",
    "assignment](https://classroom.github.com/a/CqrsixHD), and clone *your own*\n",
    "repository, e.g., in a [CSC\n",
    "Notebook](../../course-info/course-environment)\n",
    "instance. Make sure you commit and push all changes you make (you can\n",
    "revisit instructions on how to use `git` and the JupyterLab git-plugin\n",
    "on the [website of the Geo-Python\n",
    "course](https://geo-python-site.readthedocs.io/en/latest/lessons/L2/git-basics.html).\n",
    "\n",
    "To preview the exercise without logging in, you can find the open course copy\n",
    "of the course’s GitHub repository at\n",
    "[github.com/Automating-GIS-processes-II-2023/Exercise-2](https://github.com/Automating-GIS-processes-II-2023/Exercise-2).\n",
    "Don’t attempt to commit changes to that repository, but rather work with your\n",
    "personal GitHub classroom copy (see above).\n",
    "\n",
    "\n",
    "## Hints\n",
    "\n",
    "### Converting a `pandas.DataFrame`  into a `geopandas.GeoDataFrame`\n",
    "\n",
    "Sometimes, we work with data that are in a non-spatial format (such as Excel\n",
    "or CSV spreadsheets) but contain information on the location of records, for\n",
    "instance, in columns for longitude and latitude values. While geopandas’s\n",
    "`read_file()` function can read some formats, often, the safest way is to use\n",
    "pandas to read the data set and then convert it to a `GeoDataFrame`.\n",
    "\n",
    "Let’s assume, we read the following table using `pandas.read_csv()` into a\n",
    "variable `df`:"
   ]
  },
  {
   "cell_type": "code",
   "execution_count": 1,
   "id": "b7981e54",
   "metadata": {
    "tags": [
     "remove-input"
    ]
   },
   "outputs": [],
   "source": [
    "# sample data\n",
    "import pandas\n",
    "df = pandas.DataFrame({\n",
    "    \"longitude\": [24.9557, 24.8353, 24.9587],\n",
    "    \"latitude\": [60.1555, 60.1878, 60.2029]\n",
    "})"
   ]
  },
  {
   "cell_type": "code",
   "execution_count": 2,
   "id": "2ca309d5",
   "metadata": {},
   "outputs": [
    {
     "data": {
      "text/html": [
       "<div>\n",
       "<style scoped>\n",
       "    .dataframe tbody tr th:only-of-type {\n",
       "        vertical-align: middle;\n",
       "    }\n",
       "\n",
       "    .dataframe tbody tr th {\n",
       "        vertical-align: top;\n",
       "    }\n",
       "\n",
       "    .dataframe thead th {\n",
       "        text-align: right;\n",
       "    }\n",
       "</style>\n",
       "<table border=\"1\" class=\"dataframe\">\n",
       "  <thead>\n",
       "    <tr style=\"text-align: right;\">\n",
       "      <th></th>\n",
       "      <th>longitude</th>\n",
       "      <th>latitude</th>\n",
       "    </tr>\n",
       "  </thead>\n",
       "  <tbody>\n",
       "    <tr>\n",
       "      <th>0</th>\n",
       "      <td>24.9557</td>\n",
       "      <td>60.1555</td>\n",
       "    </tr>\n",
       "    <tr>\n",
       "      <th>1</th>\n",
       "      <td>24.8353</td>\n",
       "      <td>60.1878</td>\n",
       "    </tr>\n",
       "    <tr>\n",
       "      <th>2</th>\n",
       "      <td>24.9587</td>\n",
       "      <td>60.2029</td>\n",
       "    </tr>\n",
       "  </tbody>\n",
       "</table>\n",
       "</div>"
      ],
      "text/plain": [
       "   longitude  latitude\n",
       "0    24.9557   60.1555\n",
       "1    24.8353   60.1878\n",
       "2    24.9587   60.2029"
      ]
     },
     "execution_count": 2,
     "metadata": {},
     "output_type": "execute_result"
    }
   ],
   "source": [
    "df"
   ]
  },
  {
   "cell_type": "markdown",
   "id": "483611f5",
   "metadata": {},
   "source": [
    "The `geopandas.GeoDataFrame()` constructor accepts a `pandas.DataFrame` as an\n",
    "input, but it does not automatically fill the `geometry` column. However, the\n",
    "library comes with a handy helper function `geopandas.points_from_xy()`. As we\n",
    "all know, a spatial data set should always have a coordinate reference system\n",
    "(CRS) defined; we can specify the CRS of the input data, here, too:"
   ]
  },
  {
   "cell_type": "code",
   "execution_count": 3,
   "id": "ebd8424e",
   "metadata": {},
   "outputs": [
    {
     "data": {
      "text/html": [
       "<div>\n",
       "<style scoped>\n",
       "    .dataframe tbody tr th:only-of-type {\n",
       "        vertical-align: middle;\n",
       "    }\n",
       "\n",
       "    .dataframe tbody tr th {\n",
       "        vertical-align: top;\n",
       "    }\n",
       "\n",
       "    .dataframe thead th {\n",
       "        text-align: right;\n",
       "    }\n",
       "</style>\n",
       "<table border=\"1\" class=\"dataframe\">\n",
       "  <thead>\n",
       "    <tr style=\"text-align: right;\">\n",
       "      <th></th>\n",
       "      <th>longitude</th>\n",
       "      <th>latitude</th>\n",
       "      <th>geometry</th>\n",
       "    </tr>\n",
       "  </thead>\n",
       "  <tbody>\n",
       "    <tr>\n",
       "      <th>0</th>\n",
       "      <td>24.9557</td>\n",
       "      <td>60.1555</td>\n",
       "      <td>POINT (24.95570 60.15550)</td>\n",
       "    </tr>\n",
       "    <tr>\n",
       "      <th>1</th>\n",
       "      <td>24.8353</td>\n",
       "      <td>60.1878</td>\n",
       "      <td>POINT (24.83530 60.18780)</td>\n",
       "    </tr>\n",
       "    <tr>\n",
       "      <th>2</th>\n",
       "      <td>24.9587</td>\n",
       "      <td>60.2029</td>\n",
       "      <td>POINT (24.95870 60.20290)</td>\n",
       "    </tr>\n",
       "  </tbody>\n",
       "</table>\n",
       "</div>"
      ],
      "text/plain": [
       "   longitude  latitude                   geometry\n",
       "0    24.9557   60.1555  POINT (24.95570 60.15550)\n",
       "1    24.8353   60.1878  POINT (24.83530 60.18780)\n",
       "2    24.9587   60.2029  POINT (24.95870 60.20290)"
      ]
     },
     "execution_count": 3,
     "metadata": {},
     "output_type": "execute_result"
    }
   ],
   "source": [
    "import geopandas\n",
    "\n",
    "gdf = geopandas.GeoDataFrame(\n",
    "    df,\n",
    "    geometry=geopandas.points_from_xy(df.longitude, df.latitude),\n",
    "    crs=\"EPSG:4326\"\n",
    ")\n",
    "\n",
    "gdf"
   ]
  },
  {
   "cell_type": "markdown",
   "id": "7bfa7f08",
   "metadata": {},
   "source": [
    "Now, we have a ‘proper‘ `GeoDataFrame` with which we can do all geospatial\n",
    "operations we would want to do.\n",
    "\n",
    "\n",
    "\n",
    "### Creating a new `geopandas.GeoDataFrame`: alternative 1\n",
    "\n",
    "Sometimes, it makes sense to start from scratch with an empty data set and\n",
    "gradually add records. Of course, this is also possible with geopandas’ data\n",
    "frames, that can then be saved as a new geopackage or shapefile.\n",
    "\n",
    "First, create a completely empty `GeoDataFrame`:"
   ]
  },
  {
   "cell_type": "code",
   "execution_count": 4,
   "id": "f82e6895",
   "metadata": {},
   "outputs": [],
   "source": [
    "import geopandas\n",
    "\n",
    "new_geodataframe = geopandas.GeoDataFrame()"
   ]
  },
  {
   "cell_type": "markdown",
   "id": "35d20e28",
   "metadata": {},
   "source": [
    "Then, create shapely geometry objects and insert them into the data frame. To\n",
    "insert a geometry object into the `geometry` column, and a name into the `name`\n",
    "column, in a newly added row, use:"
   ]
  },
  {
   "cell_type": "code",
   "execution_count": 5,
   "id": "4230fd11",
   "metadata": {},
   "outputs": [
    {
     "name": "stderr",
     "output_type": "stream",
     "text": [
      "C:\\Users\\hasakam\\AppData\\Local\\Temp\\ipykernel_9084\\958110332.py:12: FutureWarning: Setting an item of incompatible dtype is deprecated and will raise an error in a future version of pandas. Value 'Senaatintori' has dtype incompatible with float64, please explicitly cast to a compatible dtype first.\n",
      "  new_geodataframe.loc[\n"
     ]
    },
    {
     "data": {
      "text/html": [
       "<div>\n",
       "<style scoped>\n",
       "    .dataframe tbody tr th:only-of-type {\n",
       "        vertical-align: middle;\n",
       "    }\n",
       "\n",
       "    .dataframe tbody tr th {\n",
       "        vertical-align: top;\n",
       "    }\n",
       "\n",
       "    .dataframe thead th {\n",
       "        text-align: right;\n",
       "    }\n",
       "</style>\n",
       "<table border=\"1\" class=\"dataframe\">\n",
       "  <thead>\n",
       "    <tr style=\"text-align: right;\">\n",
       "      <th></th>\n",
       "      <th>name</th>\n",
       "      <th>geometry</th>\n",
       "    </tr>\n",
       "  </thead>\n",
       "  <tbody>\n",
       "    <tr>\n",
       "      <th>0</th>\n",
       "      <td>Senaatintori</td>\n",
       "      <td>POLYGON ((24.95100 60.16900, 24.95100 60.16980...</td>\n",
       "    </tr>\n",
       "  </tbody>\n",
       "</table>\n",
       "</div>"
      ],
      "text/plain": [
       "           name                                           geometry\n",
       "0  Senaatintori  POLYGON ((24.95100 60.16900, 24.95100 60.16980..."
      ]
     },
     "execution_count": 5,
     "metadata": {},
     "output_type": "execute_result"
    }
   ],
   "source": [
    "import shapely.geometry\n",
    "polygon = shapely.geometry.Polygon(\n",
    "    [\n",
    "        (24.9510, 60.1690),\n",
    "        (24.9510, 60.1698),\n",
    "        (24.9536, 60.1698),\n",
    "        (24.9536, 60.1690)\n",
    "    ]\n",
    ")\n",
    "name = \"Senaatintori\"\n",
    "\n",
    "new_geodataframe.loc[\n",
    "    len(new_geodataframe),  # in which row,\n",
    "    [\"name\", \"geometry\"]    # in which columns to save values\n",
    "] = [name, polygon]\n",
    "\n",
    "new_geodataframe.head()"
   ]
  },
  {
   "cell_type": "markdown",
   "id": "03b3c2cb",
   "metadata": {},
   "source": [
    "Before saving the newly created dataset, don’t forget to set the geometry column and define a cartographic\n",
    "reference system for it. Otherwise, you will have trouble reusing the file in\n",
    "other programs:"
   ]
  },
  {
   "cell_type": "code",
   "execution_count": 6,
   "id": "51b30825",
   "metadata": {},
   "outputs": [],
   "source": [
    "new_geodataframe = new_geodataframe.set_geometry('geometry')\n",
    "new_geodataframe.crs = \"EPSG:4326\""
   ]
  },
  {
   "cell_type": "markdown",
   "id": "a1b6a7c5",
   "metadata": {},
   "source": [
    ":::{hint}\n",
    "In the example above, we used the `len(new_geodataframe)` as a row index\n",
    "(which, in a newly created data frame is equivalent to the row number).  Since\n",
    "rows are counted from 0, the number of rows (length of data frame) is one\n",
    "greater than the address of the last row. This expression, thus, always adds a\n",
    "new row, independent of the actual length of the data frame.\n",
    "\n",
    "Note, that, strictly speaking, the index is independent from the row number,\n",
    "but in newly created data frames there are identical.\n",
    ":::\n",
    "\n",
    "\n",
    "### Creating a new `geopandas.GeoDataFrame`: alternative 2\n",
    "\n",
    "Often, it is more convenient, and more elegant, to first create a dictionary\n",
    "to collect data, that can then be converted into a data frame all at once.\n",
    "\n",
    "For this, first define a `dict` with the column names as keys, and empty `list`s\n",
    "as values:"
   ]
  },
  {
   "cell_type": "code",
   "execution_count": 7,
   "id": "c9d1a42b",
   "metadata": {},
   "outputs": [],
   "source": [
    "data = {\n",
    "    \"name\": [],\n",
    "    \"geometry\": []\n",
    "}"
   ]
  },
  {
   "cell_type": "markdown",
   "id": "718234a7",
   "metadata": {},
   "source": [
    "Then, fill the dict with data:"
   ]
  },
  {
   "cell_type": "code",
   "execution_count": 8,
   "id": "148840c5",
   "metadata": {},
   "outputs": [],
   "source": [
    "import shapely.geometry\n",
    "\n",
    "data[\"name\"].append(\"Senaatintori\")\n",
    "data[\"geometry\"].append(\n",
    "    shapely.geometry.Polygon(\n",
    "        [\n",
    "            (24.9510, 60.1690),\n",
    "            (24.9510, 60.1698),\n",
    "            (24.9536, 60.1698),\n",
    "            (24.9536, 60.1690)\n",
    "        ]\n",
    "    )\n",
    ")"
   ]
  },
  {
   "cell_type": "markdown",
   "id": "89b3b5bf",
   "metadata": {},
   "source": [
    "Finally, use this dictionary as input for a new `GeoDataFrame`. Don’t forget to\n",
    "specify a CRS:"
   ]
  },
  {
   "cell_type": "code",
   "execution_count": 9,
   "id": "bd255fbd",
   "metadata": {},
   "outputs": [
    {
     "data": {
      "text/html": [
       "<div>\n",
       "<style scoped>\n",
       "    .dataframe tbody tr th:only-of-type {\n",
       "        vertical-align: middle;\n",
       "    }\n",
       "\n",
       "    .dataframe tbody tr th {\n",
       "        vertical-align: top;\n",
       "    }\n",
       "\n",
       "    .dataframe thead th {\n",
       "        text-align: right;\n",
       "    }\n",
       "</style>\n",
       "<table border=\"1\" class=\"dataframe\">\n",
       "  <thead>\n",
       "    <tr style=\"text-align: right;\">\n",
       "      <th></th>\n",
       "      <th>name</th>\n",
       "      <th>geometry</th>\n",
       "    </tr>\n",
       "  </thead>\n",
       "  <tbody>\n",
       "    <tr>\n",
       "      <th>0</th>\n",
       "      <td>Senaatintori</td>\n",
       "      <td>POLYGON ((24.95100 60.16900, 24.95100 60.16980...</td>\n",
       "    </tr>\n",
       "  </tbody>\n",
       "</table>\n",
       "</div>"
      ],
      "text/plain": [
       "           name                                           geometry\n",
       "0  Senaatintori  POLYGON ((24.95100 60.16900, 24.95100 60.16980..."
      ]
     },
     "execution_count": 9,
     "metadata": {},
     "output_type": "execute_result"
    }
   ],
   "source": [
    "new_geodataframe = geopandas.GeoDataFrame(data, crs=\"EPSG:4326\")\n",
    "new_geodataframe"
   ]
  },
  {
   "cell_type": "markdown",
   "id": "dd9e1f1c",
   "metadata": {},
   "source": [
    "---\n",
    "\n",
    ":::{note}\n",
    "These two approaches result in identical `GeoDataFrame`s. Sometimes, one\n",
    "technique is more convenient than the other. You should always evaluate\n",
    "different ways of solving a problem, and find the most appropriate and efficient\n",
    "solution (there is **always** more than one possible solution).\n",
    ":::"
   ]
  }
 ],
 "metadata": {
  "kernelspec": {
   "display_name": "Python 3 (ipykernel)",
   "language": "python",
   "name": "python3"
  },
  "language_info": {
   "codemirror_mode": {
    "name": "ipython",
    "version": 3
   },
   "file_extension": ".py",
   "mimetype": "text/x-python",
   "name": "python",
   "nbconvert_exporter": "python",
   "pygments_lexer": "ipython3",
   "version": "3.11.7"
  }
 },
 "nbformat": 4,
 "nbformat_minor": 5
}
