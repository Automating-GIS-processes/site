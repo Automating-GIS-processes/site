{
 "cells": [
  {
   "cell_type": "markdown",
   "id": "816898da-e868-4822-8e4a-9a0f282d325c",
   "metadata": {},
   "source": [
    "# Key concepts\n",
    "\n",
    "> **Check your understanding**  \n",
    "> Before diving into this week’s Python lesson, you should already be familiar with some basic spatial data file formats and projection definitions, such as these:\n",
    "> \n",
    "> - Shapefile\n",
    "> - GeoPackage\n",
    "> - CRS\n",
    "> - Datum\n",
    "> - EPSG\n",
    "\n",
    "---\n",
    "\n",
    "> **Definitions**  \n",
    "> \n",
    "> **Shapefile:** a vector data format for storing location information and related attributes. A shapefile consists of several files with a common prefix that need to be stored in the same directory. `.shp`, `.shx`, and `.dbf` are required file extensions in a shapefile. Other file extensions are not required, but for example, the file extension `.prj` is often essential. More information about Shapefile file extensions is available [here](http://help.arcgis.com/en/arcgisdesktop/10.0/help/index.html#/Shapefile_file_extensions/005600000003000000/). The shapefile format is developed by ESRI.\n",
    "> \n",
    "> **GeoPackage:** an open source format for storing and transferring geospatial information. GeoPackages are able to store both vector data and raster data. In more detail, a GeoPackage is a container for an SQLite database with a `.gpkg` extension (all in one file!). The GeoPackage format is governed by the Open Geospatial Consortium. More information at: <https://www.geopackage.org/>\n",
    "> \n",
    "> **CRS:** Coordinate reference systems define how coordinates relate to real locations on the Earth. *Geographic coordinate reference systems* commonly use latitude and longitude degrees, while *Projected coordinate reference systems* use x and y coordinates to represent locations on a flat surface. You will learn more about coordinate reference systems during this lesson!\n",
    "> \n",
    "> **Datum:** defines the center point, orientation, and scale of the reference surface related to a coordinate reference system. The same coordinates can relate to different locations depending on the Datum! For example, WGS84 is a widely used global datum, while ETRS89 is a datum used in Europe. Coordinate reference systems are often named based on the datum used.\n",
    "> \n",
    "> **EPSG:** EPSG codes refer to specific reference systems. EPSG stands for “European Petroleum Survey Group,” which originally published a database for spatial reference systems. For example, [EPSG:3067](https://spatialreference.org/ref/epsg/3067/) refers to the coordinate reference system ETRS-TM35FIN, commonly used in Finland, while [EPSG:4326](https://spatialreference.org/ref/epsg/4326/) refers to WGS84. You can search for EPSG codes at: <https://spatialreference.org/>\n"
   ]
  },
  {
   "cell_type": "code",
   "execution_count": null,
   "id": "97f1fe61-444e-4e1b-9db2-8d76e3b7ce85",
   "metadata": {},
   "outputs": [],
   "source": []
  }
 ],
 "metadata": {
  "kernelspec": {
   "display_name": "Python 3 (ipykernel)",
   "language": "python",
   "name": "python3"
  },
  "language_info": {
   "codemirror_mode": {
    "name": "ipython",
    "version": 3
   },
   "file_extension": ".py",
   "mimetype": "text/x-python",
   "name": "python",
   "nbconvert_exporter": "python",
   "pygments_lexer": "ipython3",
   "version": "3.11.7"
  }
 },
 "nbformat": 4,
 "nbformat_minor": 5
}
