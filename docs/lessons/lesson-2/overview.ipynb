{
 "cells": [
  {
   "cell_type": "markdown",
   "id": "ea43add5",
   "metadata": {},
   "source": [
    "# Overview\n",
    "\n",
    "In this lesson, we will learn how to handle spatial data in Python using\n",
    "[Geopandas](http://geopandas.org/). Geopandas combines the power of Pandas to\n",
    "analyse tabular data and shapely for handling geometries.\n",
    "\n",
    "We will learn how to read and write spatial data from and to files, how to\n",
    "manipulate geometries, and how to transform data between different coordinate\n",
    "reference systems (CRS).\n",
    "\n",
    "\n",
    "## Learning goals\n",
    "\n",
    "After this week, you should be able to:\n",
    "\n",
    "- read and write spatial data from and to common file formats,\n",
    "- filter and re-group data by spatial and non-spatial characteristics, and\n",
    "- manage and transform a data set’s coordinate reference system.\n",
    "\n",
    "\n",
    "## Lesson video\n",
    "\n",
    "<iframe width=\"560\" height=\"315\" src=\"https://www.youtube.com/embed/80FHcBS158Y?si=j3LOVqpwHZAV0cEg\" title=\"YouTube video player\" frameborder=\"0\" allow=\"accelerometer; autoplay; clipboard-write; encrypted-media; gyroscope; picture-in-picture; web-share\" referrerpolicy=\"strict-origin-when-cross-origin\" allowfullscreen></iframe>"
   ]
  },
  {
   "cell_type": "code",
   "execution_count": null,
   "outputs": [],
   "source": [],
   "metadata": {
    "collapsed": false
   },
   "id": "a51d82cec3561b11"
  }
 ],
 "metadata": {
  "kernelspec": {
   "display_name": "Python 3 (ipykernel)",
   "language": "python",
   "name": "python3"
  },
  "language_info": {
   "codemirror_mode": {
    "name": "ipython",
    "version": 3
   },
   "file_extension": ".py",
   "mimetype": "text/x-python",
   "name": "python",
   "nbconvert_exporter": "python",
   "pygments_lexer": "ipython3",
   "version": "3.11.7"
  }
 },
 "nbformat": 4,
 "nbformat_minor": 5
}
