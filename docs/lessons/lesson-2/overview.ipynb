{
 "cells": [
  {
   "cell_type": "markdown",
   "id": "ea43add5",
   "metadata": {},
   "source": [
    "# Overview\n",
    "\n",
    "In this lesson, we will learn how to handle spatial data in Python using\n",
    "[Geopandas](http://geopandas.org/). Geopandas combines the power of Pandas to\n",
    "analyse tabular data and shapely for handling geometries.\n",
    "\n",
    "We will learn how to read and write spatial data from and to files, how to\n",
    "manipulate geometries, and how to transform data between different coordinate\n",
    "reference systems (CRS).\n",
    "\n",
    "\n",
    "## Learning goals\n",
    "\n",
    "After this week, you should be able to:\n",
    "\n",
    "- read and write spatial data from and to common file formats,\n",
    "- filter and re-group data by spatial and non-spatial characteristics, and\n",
    "- manage and transform a data set’s coordinate reference system.\n",
    "\n",
    "\n",
    "## Lesson video\n",
    "\n",
    "<iframe width=\"560\" height=\"315\" src=\"https://www.youtube.com/embed/DzkEbhQEbpY?si=V_ob6uP4FsBSmsXE\" title=\"YouTube video player\" frameborder=\"0\" allow=\"accelerometer; autoplay; clipboard-write; encrypted-media; gyroscope; picture-in-picture; web-share\" allowfullscreen></iframe>"
   ]
  }
 ],
 "metadata": {
  "kernelspec": {
   "display_name": "python3",
   "name": "python3"
  }
 },
 "nbformat": 4,
 "nbformat_minor": 5
}
