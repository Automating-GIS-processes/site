{
 "cells": [
  {
   "cell_type": "markdown",
   "id": "544b05af",
   "metadata": {},
   "source": [
    "# Map projections\n",
    "\n",
    "A **coordinate reference systems (CRS)** is a crucial piece of metadata for any\n",
    "geospatial data set. Without a CRS, the geometries would simply be a collection\n",
    "of coordinates in an arbitrary space. Only the CRS allows GIS software,\n",
    "including the Python packages we use in this course, to relate these\n",
    "coordinates to a place on Earth (or other approximately spherical objects or\n",
    "planets).\n",
    "\n",
    "Often conflated with coordinate reference systems, and definitely closely\n",
    "related, are **map projections**. Map projections, also called *projected\n",
    "coordinate systems*, are mathematical models that allow us to transfer\n",
    "coordinates on the surface of our **three-dimensional Earth** into coordinates\n",
    "in a planar surface, such as a **flat, two-dimensional map**. In contrast to\n",
    "projected coordinate systems, *geographic coordinate systems* simply directly\n",
    "use latitude and longitude, i.e. the degrees along the horizontal and vertical\n",
    "great circles of a sphere approximating the Earth, as the x and y coordinates\n",
    "in a planar map. Finally, there are both projected and geographic coordinate\n",
    "systems that make use of more complex ellipsoids than a simple sphere to better\n",
    "approximate the ‘potato-shaped’ reality of our planet. The full CRS information\n",
    "needed to accurately relate geospatial information to a place on Earth includes\n",
    "both (projected/geographic) coordinate system and ellipsoid.\n",
    "\n",
    "The CRS in different spatial datasets differ fairly often, as different\n",
    "coordinate systems are optimised for certain regions and purposes. No\n",
    "coordinate system can be perfectly accurate around the globe, and the\n",
    "transformation from three- to two-dimensional coordinates can not be accurate\n",
    "in angles, distances, and areas simultaneously.\n",
    "\n",
    "Consequently, it is a common GIS task to **transform** (or reproject) a data\n",
    "set from one references system into another, for instance, to make two layers\n",
    "interoperatable. Comparing two data sets that have different CRS would\n",
    "inevitably produce wrong results; for example, finding points contained within\n",
    "a polygon cannot work, if the the points have geographic coordinates (in\n",
    "degrees), and the polygon is in the national Finnish reference system (in\n",
    "meters).\n",
    "\n",
    "Choosing an appropriate projection for your map is not always straightforward.\n",
    "It depends on what you actually want to represent in your map, and what your\n",
    "data’s spatial scale, resolution and extent are. In fact, there is not a single\n",
    "‘perfect projection’; each has strengths and weaknesses, and you should choose\n",
    "a projection that fits best for each map. In fact, the projection you choose\n",
    "might even tell something about you:\n",
    "\n",
    "\n",
    "![What’s that? You think I don’t like the Peters map because I’m uncomfortable with having my cultural assumptions challenged? Are you sure you’re not ... *puts on sunglasses* ... projecting?](https://imgs.xkcd.com/comics/map_projections.png)\n",
    "\n",
    "The XKCD web comic had it figured out long ago: ‘What your favourite map projection tells about you’.  \n",
    "*Source: [xkcd.com](https://xkcd.com/977)*\n",
    "\n",
    "---\n",
    "\n",
    "> **Note**  \n",
    "> For those of you who prefer a more analytical approach to choosing map projections: you can get a good overview from [georeference.org](http://www.georeference.org/doc/guide_to_selecting_map_projections.htm), and this blog post discussing [the strengths and weaknesses of a few commonly used projections](http://usersguidetotheuniverse.com/index.php/2011/03/03/whats-the-best-map-projection/).  \n",
    "> The web page *Radical Cartography* has an excellent [overview of which projections fit which extent of the world for which topic](https://radicalcartography.net/projectionref.html).\n",
    "\n",
    "---\n",
    "\n",
    "## Handling coordinate reference systems in Geopandas\n",
    "\n",
    "Once you have figured out which map projection to use, handling coordinate reference systems, fortunately, is fairly easy in Geopandas. The library [pyproj](https://pyproj4.github.io/pyproj/) provides additional information about a CRS and can assist with more tricky tasks, such as guessing the unknown CRS of a data set.\n",
    "\n",
    "In this section, we will learn **how to retrieve the coordinate reference system information of a data set, and how to re-project the data into another CRS**.\n",
    "\n",
    "---\n",
    "\n",
    "> **Caution: Careful with Shapefiles**  \n",
    "> You might have noticed that geospatial data sets in *ESRI Shapefile* format consist of multiple files with different file extensions. The `.prj` file contains information about the coordinate reference system. Be careful not to lose it!\n",
    "\n",
    "\n",
    "\n",
    "### Displaying the CRS of a data set\n",
    "\n",
    "We will start by loading a data set of EU countries that has been downloaded\n",
    "from the [*Geographic Information System of the Commission*\n",
    "(GISCO)](https://ec.europa.eu/eurostat/web/gisco/geodata/reference-data/administrative-units-statistical-units/countries),\n",
    "a unit within Eurostat that manages geospatial data for the European\n",
    "Commission."
   ]
  },
  {
   "cell_type": "code",
   "execution_count": null,
   "id": "ace048ce",
   "metadata": {},
   "outputs": [],
   "source": [
    "import pathlib \n",
    "NOTEBOOK_PATH = pathlib.Path().resolve()\n",
    "DATA_DIRECTORY = NOTEBOOK_PATH / \"data\""
   ]
  },
  {
   "cell_type": "code",
   "execution_count": null,
   "id": "f2ad0583",
   "metadata": {},
   "outputs": [],
   "source": [
    "import geopandas\n",
    "\n",
    "eu_countries = geopandas.read_file(\n",
    "    DATA_DIRECTORY / \"eu_countries\" / \"eu_countries_2022.gpkg\"\n",
    ")"
   ]
  },
  {
   "cell_type": "markdown",
   "id": "35a19ca3",
   "metadata": {},
   "source": [
    "Let’s check the data set’s CRS:"
   ]
  },
  {
   "cell_type": "code",
   "execution_count": null,
   "id": "e85d78e4",
   "metadata": {},
   "outputs": [],
   "source": [
    "eu_countries.crs"
   ]
  },
  {
   "cell_type": "markdown",
   "id": "280b4913",
   "metadata": {},
   "source": [
    "What we see here is, in fact, a `pyproj.CRS` object. \n",
    "\n",
    "The EPSG code (*European Petroleum Survey Group*) is global standard for\n",
    "identifying coordinate reference systems. The number refers to an entry in the\n",
    "[EPSG Geodetic Parameter Dataset](http://www.epsg.org/), a collection of\n",
    "coordinate reference systems coordinate transformations ranging from global to\n",
    "national, regional, and local scope.\n",
    "\n",
    "Our `GeoDataFrame`’s EPSG code is `4326`. This is number to remember, as you\n",
    "will come across it a lot in the geospatial world: It refers to a geographic\n",
    "coordinate system using the WGS-84 reference ellipsoid. This is the most\n",
    "commonly used coordinate reference system in the world. It’s what we refer to\n",
    "when we speak of longitude and latitude.\n",
    "\n",
    "You can find information about reference systems and lists of commonly known\n",
    "CRS from many online resources, for example:\n",
    "- [spatialreference.org](http://spatialreference.org/)\n",
    "- [proj4.org](https://proj4.org/operations/projections/)\n",
    "- [mapref.org](http://mapref.org/CollectionofCRSinEurope.html)\n",
    "\n",
    "\n",
    "> **Tip**  \n",
    "> If you know what range the coordinate values should be in, it doesn’t hurt to take a quick look at the data itself. In the case of `EPSG:4326`, coordinates should be between -180 and 180° longitude and -90 and 90° latitude.\n"
   ]
  },
  {
   "cell_type": "code",
   "execution_count": null,
   "id": "44c7b654",
   "metadata": {},
   "outputs": [],
   "source": [
    "eu_countries.geometry.head()"
   ]
  },
  {
   "cell_type": "markdown",
   "id": "13453e58",
   "metadata": {},
   "source": [
    "Indeed, the coordinate values of our data set seem to be in an appropriate value range.\n",
    "\n",
    "\n",
    "---\n",
    "\n",
    "\n",
    "### Reprojecting a `GeoDataFrame` \n",
    "\n",
    "A geographic coordinate system, `EPSG:4326`, is not particularly well-suited\n",
    "for showing the countries of the European Union. Distortion is high. Rather, we\n",
    "could use a *Lambert Azimuthal Equal-Area* projection, such as\n",
    "[`EPSG:3035`](https://spatialreference.org/ref/epsg/etrs89-etrs-laea/), the map\n",
    "projection [officially recommended by the European\n",
    "Commission](http://mapref.org/LinkedDocuments/MapProjectionsForEurope-EUR-20120.pdf).\n",
    "\n",
    "[Transforming data from one reference system to another is a very simple task\n",
    "in geopandas](http://geopandas.org/projections.html#re-projecting). In fact,\n",
    "all you have to to is use the `to_crs()` method of a `GeoDataFrame`, supplying\n",
    "a new CRS in a wide range of possible formats. The easiest is to use an EPSG\n",
    "code:"
   ]
  },
  {
   "cell_type": "code",
   "execution_count": null,
   "id": "a54eb3e7",
   "metadata": {},
   "outputs": [],
   "source": [
    "eu_countries_EPSG3035 = eu_countries.to_crs(\"EPSG:3035\")"
   ]
  },
  {
   "cell_type": "markdown",
   "id": "f1defba2",
   "metadata": {},
   "source": [
    "Let’s check how the coordinate values have changed:"
   ]
  },
  {
   "cell_type": "code",
   "execution_count": null,
   "id": "b96d9b17",
   "metadata": {},
   "outputs": [],
   "source": [
    "eu_countries_EPSG3035.geometry.head()"
   ]
  },
  {
   "cell_type": "markdown",
   "id": "7fe2f7f8",
   "metadata": {},
   "source": [
    "And here we go, the coordinate values in the geometries have changed!\n",
    "Congratulations on carrying out your very first geopandas coordinate\n",
    "transformation!\n",
    "\n",
    "To better grasp what exactly we have just done, it is a good idea to explore\n",
    "our data visually.  Let’s plot our data set both before and after the\n",
    "coordinate transformation. We will use `matplotlib`’s `subplots` feature that\n",
    "we got to know in [Geo-Python\n",
    "lesson 7](https://geo-python-site.readthedocs.io/en/latest/notebooks/L7/advanced-plotting.html)."
   ]
  },
  {
   "cell_type": "code",
   "execution_count": null,
   "id": "99a8ca48",
   "metadata": {},
   "outputs": [],
   "source": [
    "import matplotlib.pyplot\n",
    "\n",
    "# Prepare sub plots that are next to each other\n",
    "figure, (axis1, axis2) = matplotlib.pyplot.subplots(nrows=1, ncols=2)\n",
    "\n",
    "# Plot the original (WGS84, EPSG:4326) data set\n",
    "eu_countries.plot(ax=axis1)\n",
    "axis1.set_title(\"WGS84\")\n",
    "axis1.set_aspect(1)\n",
    "\n",
    "# Plot the reprojected (EPSG:3035) data set\n",
    "eu_countries_EPSG3035.plot(ax=axis2)\n",
    "axis2.set_title(\"ETRS-LAEA\")\n",
    "axis2.set_aspect(1)\n",
    "\n",
    "matplotlib.pyplot.tight_layout()"
   ]
  },
  {
   "cell_type": "markdown",
   "id": "4d074bd9",
   "metadata": {},
   "source": [
    "Indeed, the maps look quite different, and the re-projected data set distorts\n",
    "the European countries less, especially in the Northern part of the continent.\n",
    "\n",
    "Let’s still save the reprojected data set in a file so we can use it later.\n",
    "Note that, even though modern file formats save the CRS reliably, it is a good\n",
    "idea to use a descriptive file name that includes the reference system\n",
    "information."
   ]
  },
  {
   "cell_type": "code",
   "execution_count": null,
   "id": "05ba1c7f",
   "metadata": {},
   "outputs": [],
   "source": [
    "eu_countries_EPSG3035.to_file(\n",
    "    DATA_DIRECTORY / \"eu_countries\" / \"eu_countries_EPSG3035.gpkg\"\n",
    ")"
   ]
  },
  {
   "cell_type": "markdown",
   "id": "0e3dbba1",
   "metadata": {},
   "source": [
    "---\n",
    "\n",
    "\n",
    "## Handling different CRS formats\n",
    "\n",
    "There are different ways to store and represent CRS information. The more\n",
    "commonly used formats include [PROJ\n",
    "strings](https://proj.org/usage/quickstart.html), EPSG codes, *Well-Known-Text*\n",
    "(WKT) and JSON. You will likely encounter some or all of these when working\n",
    "with spatial data obtained from different sources. Being able to convert CRS\n",
    "information from one format to another is needed every now and then, hence, it\n",
    "is useful to know a few tricks how to do this.\n",
    "\n",
    "We’ve already briefly mentioned that geopandas uses the\n",
    "[pyproj](https://pyproj4.github.io/pyproj/) library to handle reference\n",
    "systems. We can use the same module to parse and convert CRS information in\n",
    "different formats.\n",
    "\n",
    "\n",
    "### Overview\n",
    "\n",
    "Below we print different representations of the CRS of the data set of EU\n",
    "countries we used before:"
   ]
  },
  {
   "cell_type": "code",
   "execution_count": null,
   "id": "76cfd3f7",
   "metadata": {},
   "outputs": [],
   "source": [
    "import pyproj\n",
    "\n",
    "crs = pyproj.CRS(eu_countries.crs)\n",
    "\n",
    "print(f\"CRS as a proj4 string: {crs.to_proj4()}\\n\")\n",
    "\n",
    "print(f\"CRS in WKT format: {crs.to_wkt()}\\n\")\n",
    "\n",
    "print(f\"EPSG code of the CRS: {crs.to_epsg()}\\n\")"
   ]
  },
  {
   "cell_type": "markdown",
   "id": "d405c4c5",
   "metadata": {},
   "source": [
    "> **Note**  \n",
    "> Not every possible coordinate reference system has an EPSG code assigned. That’s why *pyproj*, by default, tries to find the best-matching EPSG definition. If it does not find any, `to_epsg()` returns `None`.\n",
    "\n",
    "\n",
    "\n",
    "\n",
    "### Use pyproj to find detailed information about a CRS\n",
    "\n",
    "A `pyproj.CRS` object can also be initialised manually, for instance, using an\n",
    "EPSG code or a Proj4-string. It can then provide detailed information on the\n",
    "parameters of the reference system, as well as suggested areas of use. We can,\n",
    "for example, create a `CRS` object for the `EPSG:3035` map projection we used\n",
    "above:"
   ]
  },
  {
   "cell_type": "code",
   "execution_count": null,
   "id": "28daeaad",
   "metadata": {},
   "outputs": [],
   "source": [
    "crs = pyproj.CRS(\"EPSG:4326\")\n",
    "crs"
   ]
  },
  {
   "cell_type": "markdown",
   "id": "c226bb84",
   "metadata": {},
   "source": [
    "Immediately, we see that a `pyproj.CRS` object contains rich information about\n",
    "the reference system: a *name*, an *area of use* (including *bounds*), a\n",
    "*datum* and an *ellipsoid*.\n",
    "\n",
    "This information can also be extraced individually:"
   ]
  },
  {
   "cell_type": "code",
   "execution_count": null,
   "id": "be408563",
   "metadata": {},
   "outputs": [],
   "source": [
    "crs.name"
   ]
  },
  {
   "cell_type": "code",
   "execution_count": null,
   "id": "d25eda1d",
   "metadata": {},
   "outputs": [],
   "source": [
    "crs.area_of_use.bounds"
   ]
  },
  {
   "cell_type": "markdown",
   "id": "0993ebdf",
   "metadata": {},
   "source": [
    "---\n",
    "\n",
    "\n",
    "# Global map projections\n",
    "\n",
    "Finally, it’s time to play around with some map projections. For this, you will\n",
    "find a global data set of country polygons in the data directory. It was\n",
    "downloaded from [naturalearthdata.com](https://naturalearthdata.com/), a\n",
    "fantastic resource for cartographer-grade geodata.\n",
    "\n",
    "\n",
    "> **Attention: Check your understanding**  \n",
    "> Read in the data set from `DATA_DIRECTORY / \"world_countries\" / \"ne_110m_admin_0_countries.zip\"` and plot three maps with different map projections. You can use the hints and definitions from the following resources (and anywhere else):\n",
    "> \n",
    "> - [geopandas.org/projections.html](http://geopandas.org/projections.html)\n",
    "> - [pyproj4.github.io](https://pyproj4.github.io/pyproj/dev/api/crs.html)\n",
    "> - [spatialreference.org](https://spatialreference.org/)\n",
    "> \n",
    "> While plotting the maps and choosing map projections, think about the advantages and disadvantages of different map projections.\n"
   ]
  },
  {
   "cell_type": "code",
   "execution_count": null,
   "id": "041eb45c",
   "metadata": {},
   "outputs": [],
   "source": [
    "world_countries = geopandas.read_file(\n",
    "    DATA_DIRECTORY / \"world_countries\" / \"ne_110m_admin_0_countries.zip\"\n",
    ")"
   ]
  },
  {
   "cell_type": "code",
   "execution_count": null,
   "id": "ce4ccaa4",
   "metadata": {},
   "outputs": [],
   "source": [
    "world_countries.plot()\n",
    "matplotlib.pyplot.title(world_countries.crs.name)"
   ]
  },
  {
   "cell_type": "code",
   "execution_count": null,
   "id": "c2222c36",
   "metadata": {},
   "outputs": [],
   "source": [
    "# web mercator\n",
    "world_countries_EPSG3857 = world_countries.to_crs(\"EPSG:3857\")\n",
    "\n",
    "world_countries_EPSG3857.plot()\n",
    "matplotlib.pyplot.title(world_countries_EPSG3857.crs.name)\n",
    "\n",
    "# remove axis decorations\n",
    "matplotlib.pyplot.axis(\"off\")"
   ]
  },
  {
   "cell_type": "code",
   "execution_count": null,
   "id": "b45f2e0f",
   "metadata": {},
   "outputs": [],
   "source": [
    "# Eckert-IV (https://spatialreference.org/ref/esri/54012/)\n",
    "ECKERT_IV = \"+proj=eck4 +lon_0=0 +x_0=0 +y_0=0 +ellps=WGS84 +datum=WGS84 +units=m +no_defs\"\n",
    "\n",
    "world_countries_eckert_iv = world_countries.to_crs(ECKERT_IV)\n",
    "world_countries_eckert_iv.plot()\n",
    "matplotlib.pyplot.title(\"Eckert Ⅳ\")\n",
    "matplotlib.pyplot.axis(\"off\")"
   ]
  },
  {
   "cell_type": "code",
   "execution_count": null,
   "id": "a81b5c89",
   "metadata": {},
   "outputs": [],
   "source": [
    "# An orthographic projection, centered in Finland!\n",
    "# (http://www.statsmapsnpix.com/2019/09/globe-projections-and-insets-in-qgis.html)\n",
    "world_countries_ortho = world_countries.to_crs(\n",
    "    \"+proj=ortho +lat_0=60.00 +lon_0=23.0000 +x_0=0 +y_0=0 \"\n",
    "    \"+a=6370997 +b=6370997 +units=m +no_defs\"\n",
    ")\n",
    "world_countries_ortho.plot()\n",
    "matplotlib.pyplot.axis(\"off\")"
   ]
  }
 ],
 "metadata": {
  "kernelspec": {
   "display_name": "Python 3 (ipykernel)",
   "language": "python",
   "name": "python3"
  },
  "language_info": {
   "codemirror_mode": {
    "name": "ipython",
    "version": 3
   },
   "file_extension": ".py",
   "mimetype": "text/x-python",
   "name": "python",
   "nbconvert_exporter": "python",
   "pygments_lexer": "ipython3",
   "version": "3.11.7"
  }
 },
 "nbformat": 4,
 "nbformat_minor": 5
}
