{
 "cells": [
  {
   "cell_type": "markdown",
   "id": "9102e9f0",
   "metadata": {},
   "source": [
    "# Managing file paths\n",
    "\n",
    "When working with data, it is important to keep track of where which input\n",
    "files are stored, and where which output files should be written. This is\n",
    "especially important when moving between computers or between virtual machines,\n",
    "like, for instance, the CSC Notebooks platform. Using a distributed code\n",
    "repository or versioning system, such as GitHub, adds another layer of\n",
    "complexity: file paths should often be *relative* to the git repo, or to the\n",
    "current file, as the repository can be cloned to any location on a different\n",
    "computer (and already a different user name on your school and personal\n",
    "computers might break things).\n",
    "\n",
    "Earlier, file paths have often been hard-coded strings, text values. If, for\n",
    "instance, an output file name had to be derived from an input file name, all\n",
    "kind of slicing and other string manipulation methods would be used. More\n",
    "recently, the `os.path` module of Python became popular, that allowed to split\n",
    "a path into directories, and file names into base names and file extensions.\n",
    "However, manipulating file paths still required knowledge about the computer a\n",
    "script would ultimately run on. For instance, on all Unix-based operating\n",
    "systems, such as Linux or MacOS, directories are separated by forward-slashes\n",
    "(`/`), while Microsoft Windows uses back-slashes (`\\`) (this particular problem\n",
    "can be worked around with `os.sep` and `os.path.join`, but not in a very\n",
    "convenient way). \n",
    "\n",
    "Since Python 3.4 (so, fairly recently), there exists a built-in module that\n",
    "eases much of the hassle with managing file paths:\n",
    "[`pathlib`](https://docs.python.org/3/library/pathlib.html). It provides an\n",
    "abstract layer on top of the actual operating system file paths that is\n",
    "consistent across computers. A `pathlib.Path()` object can be initiated with a\n",
    "file path (as a `str`), when created without an argument, it refers to the\n",
    "directory of the script or notebook file."
   ]
  },
  {
   "cell_type": "code",
   "execution_count": null,
   "id": "12679a68",
   "metadata": {},
   "outputs": [],
   "source": [
    "import pathlib\n",
    "pathlib.Path()"
   ]
  },
  {
   "cell_type": "markdown",
   "id": "a2b8ddad",
   "metadata": {},
   "source": [
    "So far, this path is not checked against the actual directory structure, but we\n",
    "can `resolve()` it to convert it into an absolute path:"
   ]
  },
  {
   "cell_type": "code",
   "execution_count": null,
   "id": "e0b5d88c",
   "metadata": {},
   "outputs": [],
   "source": [
    "path = pathlib.Path()\n",
    "path = path.resolve()\n",
    "path"
   ]
  },
  {
   "cell_type": "markdown",
   "id": "e56c6955",
   "metadata": {},
   "source": [
    ":::{note}\n",
    "\n",
    "This path has now been expanded to reflect the directory structure of the\n",
    "computer it was run on. Most likely, the copy you are reading right now has\n",
    "been generated on [readthedocs.io](https://readthedocs.io/) servers, and the\n",
    "*‘current working directory’* is in a location you would not have expected.\n",
    ":::\n",
    "\n",
    "\n",
    "This path object now has a number of properties and methods. For instance, we\n",
    "can test whether the path exists in the file system, or whether it is a\n",
    "directory:"
   ]
  },
  {
   "cell_type": "code",
   "execution_count": null,
   "id": "073bd87c",
   "metadata": {},
   "outputs": [],
   "source": [
    "path.exists()"
   ]
  },
  {
   "cell_type": "code",
   "execution_count": null,
   "id": "44e7e3af",
   "metadata": {},
   "outputs": [],
   "source": [
    "path.is_dir()"
   ]
  },
  {
   "cell_type": "markdown",
   "id": "3e813b3e",
   "metadata": {},
   "source": [
    "We could also rename or delete the path (but let’s not do this with the course\n",
    "content!):"
   ]
  },
  {
   "cell_type": "code",
   "execution_count": null,
   "id": "d223d6da",
   "metadata": {},
   "outputs": [],
   "source": [
    "# path.rename(\"new name\")\n",
    "\n",
    "# path.unlink()  # delete if path is a file\n",
    "# path.rmdir()  # delete if path is a directory"
   ]
  },
  {
   "cell_type": "markdown",
   "id": "045a5017",
   "metadata": {},
   "source": [
    "Finally, to traverse within this path, you don’t have to think of whether you\n",
    "are running the script on Windows or Linux, and you most definitely don’t have\n",
    "to use string manipulation. To refer to a directory inside `path`, use the `/`\n",
    "(division operator) to append another path component (can be a string). For\n",
    "instance, to refer to a folder `data` within the same directory as this\n",
    "notebook, write the following:"
   ]
  },
  {
   "cell_type": "code",
   "execution_count": null,
   "id": "ba3c0108",
   "metadata": {},
   "outputs": [],
   "source": [
    "data_directory = path / \"data\"\n",
    "data_directory"
   ]
  },
  {
   "cell_type": "markdown",
   "id": "af63766a",
   "metadata": {},
   "source": [
    "To refer to ‘one directory up’ from a path, use its `.parent` property:"
   ]
  },
  {
   "cell_type": "code",
   "execution_count": null,
   "id": "445b21d0",
   "metadata": {},
   "outputs": [],
   "source": [
    "path.parent"
   ]
  },
  {
   "cell_type": "markdown",
   "id": "47f3ddba",
   "metadata": {},
   "source": [
    "`Path()` objects can be used (almost) anywhere a file path is expected as a\n",
    "variable of type `str`, as it automatically *typecasts* (converts) itself to a\n",
    "suitable type.\n",
    "\n",
    "In data science projects, it is a good habit to define a constant at the beginning of each notebook that points to the data directory, or multiple constants to point to, for instance, input and output directories. In today’s exercises we use different sample data sets from files stored in the same *data directory*. At the top of the notebooks, we thus define a constant `DATA_DIRECTORY` that we can later use to find the sample data set files:"
   ]
  },
  {
   "cell_type": "code",
   "execution_count": null,
   "id": "54d9c129",
   "metadata": {},
   "outputs": [],
   "source": [
    "# location (directory) of the notebook\n",
    "import pathlib\n",
    "NOTEBOOK_PATH = pathlib.Path().resolve()\n",
    "DATA_DIRECTORY = NOTEBOOK_PATH / \"data\""
   ]
  },
  {
   "cell_type": "code",
   "execution_count": null,
   "id": "f6837c51",
   "metadata": {},
   "outputs": [],
   "source": [
    "# this can then be used, for instance, in `geopandas.read_file()` (see next section):\n",
    "import geopandas\n",
    "data_set = geopandas.read_file(DATA_DIRECTORY / \"finland_municipalities\" / \"finland_municipalities_2021.gpkg\")\n",
    "data_set.plot()"
   ]
  },
  {
   "cell_type": "markdown",
   "id": "7eb5e1f8",
   "metadata": {},
   "source": [
    ":::{admonition} Constants?\n",
    ":class: note\n",
    "\n",
    "*Constants* are values that cannot be modified once they have been defined. This helps optimise programs’ speed and memory footprint, and also allows the programmer to rely on a constant having a valid value.\n",
    "\n",
    "Python does not know the concept of a constant, per-se. However, there is a convention to treat variables with an all-uppercase name as constants (e.g., they should not be modified).\n",
    ":::\n",
    "\n",
    ":::{caution}\n",
    "\n",
    "In the examples above, we used a path that we `resolve()`d earlier on. This\n",
    "further improves compatilibity and consistency across operating systems and\n",
    "local installations. \n",
    "\n",
    "Especially when using the path of the current file (as in `pathlib.Path()`\n",
    "without parameters), we recommend to resolve the path before traversing into\n",
    "any other directory.\n",
    ":::"
   ]
  }
 ],
 "metadata": {
  "kernelspec": {
   "display_name": "Python 3 (ipykernel)",
   "language": "python",
   "name": "python3"
  }
 },
 "nbformat": 4,
 "nbformat_minor": 5
}
