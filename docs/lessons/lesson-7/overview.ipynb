{
 "cells": [
  {
   "cell_type": "markdown",
   "id": "0893de9f-ce8b-4036-bf2b-a2ea64bcef8c",
   "metadata": {},
   "source": [
    "# Overview\n",
    "\n",
    "In this lesson, we explore the fundamentals of raster data analysis and processing using Python, focusing on both elevation models and satellite imagery. We’ll cover practical geospatial techniques such as raster classification, slope analysis, and essential raster operations. The lesson integrates popular geospatial libraries like [rioxarray](https://corteva.github.io/rioxarray/stable/getting_started/getting_started.html), [rasterio](https://rasterio.readthedocs.io/en/latest/), and [xarray](https://xarray.pydata.org/en/stable/) for efficient data handling and analysis.\n",
    "\n",
    "## Learning Goals:\n",
    "\n",
    "After this lesson, you will be able to:\n",
    "\n",
    "- Import and visualize single-band and multi-band raster data using `rioxarray` and `rasterio`\n",
    "- Merge multiple raster files together and create a `raster mosaic`\n",
    "- Clip raster using a polygon\n",
    "- Perform raster classification \n",
    "- Conduct terrain analysis, such as calculating slope from elevation models\n",
    "- Perform raster calculations\n",
    "\n",
    "\n",
    "# Lecture video\n",
    "\n",
    "<iframe width=\"560\" height=\"315\" src=\"https://www.youtube.com/embed/fk-M5gXzQYo?si=dze1_5LyGQ8Ui2Po\" title=\"YouTube video player\" frameborder=\"0\" allow=\"accelerometer; autoplay; clipboard-write; encrypted-media; gyroscope; picture-in-picture; web-share\" referrerpolicy=\"strict-origin-when-cross-origin\" allowfullscreen></iframe>"
   ]
  },
  {
   "cell_type": "code",
   "execution_count": null,
   "id": "5dd9eb21-47cd-4938-90e7-1eec0af52881",
   "metadata": {},
   "outputs": [],
   "source": []
  }
 ],
 "metadata": {
  "kernelspec": {
   "display_name": "Python 3 (ipykernel)",
   "language": "python",
   "name": "python3"
  },
  "language_info": {
   "codemirror_mode": {
    "name": "ipython",
    "version": 3
   },
   "file_extension": ".py",
   "mimetype": "text/x-python",
   "name": "python",
   "nbconvert_exporter": "python",
   "pygments_lexer": "ipython3",
   "version": "3.11.7"
  }
 },
 "nbformat": 4,
 "nbformat_minor": 5
}
