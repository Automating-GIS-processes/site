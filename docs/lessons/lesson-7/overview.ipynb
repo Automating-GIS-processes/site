{
 "cells": [
  {
   "cell_type": "markdown",
   "id": "0893de9f-ce8b-4036-bf2b-a2ea64bcef8c",
   "metadata": {},
   "source": [
    "# Overview"
   ]
  },
  {
   "cell_type": "markdown",
   "id": "a26e0eab-3fce-4746-93e3-b6db2d99a8bd",
   "metadata": {},
   "source": [
    "- Merge multiple raster files together and create a `raster mosaic`\n",
    "- Clip raster using a polygon\n",
    "- Reclassify raster\n",
    "- Perform `Slope` analysis"
   ]
  }
 ],
 "metadata": {
  "kernelspec": {
   "display_name": "Python 3 (ipykernel)",
   "language": "python",
   "name": "python3"
  },
  "language_info": {
   "codemirror_mode": {
    "name": "ipython",
    "version": 3
   },
   "file_extension": ".py",
   "mimetype": "text/x-python",
   "name": "python",
   "nbconvert_exporter": "python",
   "pygments_lexer": "ipython3",
   "version": "3.11.7"
  }
 },
 "nbformat": 4,
 "nbformat_minor": 5
}
