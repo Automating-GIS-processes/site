{
 "cells": [
  {
   "cell_type": "markdown",
   "id": "ccfb29e8",
   "metadata": {},
   "source": [
    "# Exercise 6\n",
    "\n",
    "> **Deadline**\n",
    "> \n",
    "> Please complete this exercise **by the end of day** on Thursday, 19 December, 2024 (the day before next week’s work session).\n",
    "\n",
    "> **Help us improve the course!**\n",
    "> \n",
    "> By providing course feedback, help us improve this course for the following years: [course feedback form](https://norppa.helsinki.fi/targets/83146323/feedback)\n",
    "\n",
    "To start this assignment, [accept the GitHub classroomassignment](https://classroom.github.com/a/uy8loJEr), and clone *your own* repository, e.g., in a [CSC Noppe](../../course-info/course-environment) instance. Make sure you commit and push all changes you make (you can revisit instructions on how to use `git` and the JupyterLab git-plugin on the [website of the Geo-Python course](https://geo-python-site.readthedocs.io/en/latest/lessons/L2/git-basics.html).\n",
    "\n",
    "To preview the exercise without logging in, you can find the open course copy of the course’s GitHub repository at [github.com/Automating-GIS-processes-II-2024/Exercise-6](https://github.com/Automating-GIS-processes-II-2024/exercise-6). Don’t attempt to commit changes to that repository, but rather work with your personal GitHub classroom copy (see above).\n",
    "\n",
    "\n",
    "## Hints\n",
    "\n",
    "### Division by zero in raster calculation\n",
    "\n",
    "When working with raster files or bands, one of the quickest ways to upset the mathematical gods of Python is to divide by zero. It’s like giving Python a riddle it can’t solve—it just throws its hands up (and an error). To  avoid this, you can replace the zero values with `NaN`. This way, Python knows how to handle `NaN`s . Here’s an example:\n",
    "\n",
    "```python\n",
    "# Avoid division by zero by setting NDVI to NaN where NIR + Red is zero\n",
    "NDVI = NDVI.where((nir_data + red_data) != 0)\n",
    "```\n"
   ]
  },
  {
   "cell_type": "code",
   "execution_count": null,
   "id": "034823a0-a252-4bab-ac9a-1db3d0d2ce98",
   "metadata": {},
   "outputs": [],
   "source": []
  }
 ],
 "metadata": {
  "kernelspec": {
   "display_name": "Python 3 (ipykernel)",
   "language": "python",
   "name": "python3"
  },
  "language_info": {
   "codemirror_mode": {
    "name": "ipython",
    "version": 3
   },
   "file_extension": ".py",
   "mimetype": "text/x-python",
   "name": "python",
   "nbconvert_exporter": "python",
   "pygments_lexer": "ipython3",
   "version": "3.11.7"
  }
 },
 "nbformat": 4,
 "nbformat_minor": 5
}
