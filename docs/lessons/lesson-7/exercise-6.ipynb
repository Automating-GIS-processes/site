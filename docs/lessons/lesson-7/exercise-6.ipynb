{
 "cells": [
  {
   "cell_type": "markdown",
   "id": "ccfb29e8",
   "metadata": {},
   "source": [
    "# Exercise 3\n",
    "\n",
    "> **Deadline**\n",
    "> \n",
    "> Please complete this exercise **by the end of day** on Thursday, 21 November, 2024 (the day before next week’s work session).\n",
    "\n",
    "\n",
    "To start this assignment, [accept the GitHub classroom\n",
    "assignment](https://classroom.github.com/a/AoeAxwR5), and clone *your own*\n",
    "repository, e.g., in a [CSC\n",
    "Noppe](../../course-info/course-environment)\n",
    "instance. Make sure you commit and push all changes you make (you can\n",
    "revisit instructions on how to use `git` and the JupyterLab git-plugin\n",
    "on the [website of the Geo-Python\n",
    "course](https://geo-python-site.readthedocs.io/en/latest/lessons/L2/git-basics.html).\n",
    "\n",
    "To preview the exercise without logging in, you can find the open course copy\n",
    "of the course’s GitHub repository at\n",
    "[github.com/Automating-GIS-processes-II-2024/Exercise-3](https://github.com/Automating-GIS-processes-II-2024/Exercise-3).\n",
    "Don’t attempt to commit changes to that repository, but rather work with your\n",
    "personal GitHub classroom copy (see above).\n",
    "\n",
    "\n",
    "## Hints\n",
    "\n",
    "### Division by zero in raster calculation\n",
    "\n",
    "```\n",
    "# Handle division by zero by setting NDVI to NaN where NIR + Red is zero\n",
    "NDVI = NDVI.where((nir_data + red_data) != 0)\n",
    "```"
   ]
  },
  {
   "cell_type": "code",
   "execution_count": null,
   "id": "034823a0-a252-4bab-ac9a-1db3d0d2ce98",
   "metadata": {},
   "outputs": [],
   "source": []
  }
 ],
 "metadata": {
  "kernelspec": {
   "display_name": "Python 3 (ipykernel)",
   "language": "python",
   "name": "python3"
  },
  "language_info": {
   "codemirror_mode": {
    "name": "ipython",
    "version": 3
   },
   "file_extension": ".py",
   "mimetype": "text/x-python",
   "name": "python",
   "nbconvert_exporter": "python",
   "pygments_lexer": "ipython3",
   "version": "3.9.19"
  }
 },
 "nbformat": 4,
 "nbformat_minor": 5
}
