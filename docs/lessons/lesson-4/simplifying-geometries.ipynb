{
 "cells": [
  {
   "cell_type": "markdown",
   "id": "d7bdf7ea",
   "metadata": {},
   "source": [
    "# Simplifying geometries\n",
    "\n",
    "\n",
    "Sometimes it might be useful to be able to simplify geometries. This could be\n",
    "something to consider for example when you have very detailed spatial features\n",
    "that cover the whole world. If you make a map that covers the whole world, it\n",
    "is unnecessary to have really detailed geometries because it is simply\n",
    "impossible to see those small details from your map. Furthermore, it takes a\n",
    "long time to actually render a large quantity of features into a map. Here, we\n",
    "will see how it is possible to simplify geometric features in Python.\n",
    "\n",
    "As an example we will use data representing the Amazon river in South America,\n",
    "and simplify it's geometries.\n",
    "\n",
    "Let's first read the data and see how the river looks like:"
   ]
  },
  {
   "cell_type": "code",
   "execution_count": null,
   "id": "6a5d7f93",
   "metadata": {},
   "outputs": [],
   "source": [
    "import pathlib \n",
    "NOTEBOOK_PATH = pathlib.Path().resolve()\n",
    "DATA_DIRECTORY = NOTEBOOK_PATH / \"data\""
   ]
  },
  {
   "cell_type": "code",
   "execution_count": null,
   "id": "9e13cfbf",
   "metadata": {},
   "outputs": [],
   "source": [
    "import geopandas\n",
    "\n",
    "amazon = geopandas.read_file(DATA_DIRECTORY / \"amazon_river\" / \"amazon_river.gpkg\")\n",
    "\n",
    "amazon.head()"
   ]
  },
  {
   "cell_type": "code",
   "execution_count": null,
   "id": "9cc78c04",
   "metadata": {},
   "outputs": [],
   "source": [
    "amazon.crs"
   ]
  },
  {
   "cell_type": "code",
   "execution_count": null,
   "id": "f3766910",
   "metadata": {},
   "outputs": [],
   "source": [
    "amazon.plot()"
   ]
  },
  {
   "cell_type": "markdown",
   "id": "a3c0d666",
   "metadata": {},
   "source": [
    "The LineString that is presented here is quite detailed, so let's see how we\n",
    "can generalize them a bit. As we can see from the coordinate reference system,\n",
    "the data is projected in a system using [Mercator projection based on\n",
    "SIRGAS datum](http://spatialreference.org/ref/sr-org/7868/), and metres as a unit. \n",
    "\n",
    "Generalization can be done easily by using a Shapely function called\n",
    "`.simplify()`. The `tolerance` parameter can be used to adjusts how much\n",
    "geometries should be generalized. **The tolerance value is tied to the\n",
    "coordinate system of the geometries**. Hence, the value we pass here is 20 000\n",
    "**meters** (20 kilometers)."
   ]
  },
  {
   "cell_type": "code",
   "execution_count": null,
   "id": "a133cd7d",
   "metadata": {},
   "outputs": [],
   "source": [
    "# Generalize geometry\n",
    "amazon['simplegeom'] = amazon.simplify(tolerance=20000)\n",
    "\n",
    "# Set geometry to be our new simlified geometry\n",
    "amazon = amazon.set_geometry('simplegeom')\n",
    "\n",
    "# Plot \n",
    "amazon.plot()"
   ]
  },
  {
   "cell_type": "markdown",
   "id": "e324389a",
   "metadata": {},
   "source": [
    "Nice! As a result, now we have simplified our LineString quite significantly as we can see from the map."
   ]
  }
 ],
 "metadata": {
  "kernelspec": {
   "display_name": "Python 3 (ipykernel)",
   "language": "python",
   "name": "python3"
  }
 },
 "nbformat": 4,
 "nbformat_minor": 5
}
