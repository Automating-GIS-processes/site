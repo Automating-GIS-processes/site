{
 "cells": [
  {
   "cell_type": "markdown",
   "id": "bef1a5fb",
   "metadata": {},
   "source": [
    "# Reclassifying data\n",
    "\n",
    "Reclassifying data based on specific criteria is a common task when doing GIS\n",
    "analysis. The purpose of this lesson is to see how we can reclassify values\n",
    "based on some criteria. We could, for example, classify information based on\n",
    "travel times and housing prices using these criteria:\n",
    "\n",
    "\n",
    "1. if travel time to my work is less than 30 minutes, **AND**\n",
    "2. the rent of the apartment is less than 1000 € per month\n",
    "\n",
    "If both criteria are met: I go to see the appartment and try to rent it\n",
    "If not: I continue to look for something else\n",
    "\n",
    "\n",
    "In this tutorial, we will:\n",
    "\n",
    "1. Use classification schemes from the PySAL [mapclassify\n",
    "   library](https://pysal.org/mapclassify/) to classify travel times into\n",
    "   multiple classes.\n",
    "\n",
    "2. Create a custom classifier to classify travel times and distances in order\n",
    "   to find out good locations to buy an apartment with these conditions:\n",
    "   - good public transport accessibility to city center\n",
    "   - bit further away from city center where the prices are presumably lower\n",
    "\n",
    "\n",
    "## Input data\n",
    "\n",
    "We will use [Travel Time Matrix data from\n",
    "Helsinki](https://blogs.helsinki.fi/accessibility/helsinki-region-travel-time-matrix/)\n",
    "that contains travel time and distance information for routes between all 250 m\n",
    "x 250 m grid cell centroids (n = 13231) in the Capital Region of Helsinki by\n",
    "walking, cycling, public transportation and car."
   ]
  },
  {
   "cell_type": "code",
   "execution_count": null,
   "id": "73ce0fc2",
   "metadata": {},
   "outputs": [],
   "source": [
    "import pathlib \n",
    "NOTEBOOK_PATH = pathlib.Path().resolve()\n",
    "DATA_DIRECTORY = NOTEBOOK_PATH / \"data\""
   ]
  },
  {
   "cell_type": "code",
   "execution_count": null,
   "id": "96dcac0a",
   "metadata": {},
   "outputs": [],
   "source": [
    "import geopandas\n",
    "accessibility_grid = geopandas.read_file(\n",
    "    DATA_DIRECTORY\n",
    "    / \"helsinki_region_travel_times_to_railway_station\"\n",
    "    / \"helsinki_region_travel_times_to_railway_station.gpkg\"\n",
    ")\n",
    "accessibility_grid.head()"
   ]
  },
  {
   "cell_type": "markdown",
   "id": "c8c848bb",
   "metadata": {},
   "source": [
    "## Common classifiers\n",
    "\n",
    "### Classification schemes for thematic maps\n",
    "\n",
    "[PySAL](https://pysal.org/) -module is an extensive Python library for spatial\n",
    "analysis. It also includes all of the most common data classifiers that are\n",
    "used commonly e.g. when visualizing data. Available map classifiers in [pysal's\n",
    "mapclassify -module](https://github.com/pysal/mapclassify):\n",
    "\n",
    "- Box Plot\n",
    "- Equal Interval\n",
    "- Fisher Jenks\n",
    "- Fisher Jenks Sampled\n",
    "- HeadTail Breaks\n",
    "- Jenks Caspall\n",
    "- Jenks Caspall Forced\n",
    "- Jenks Caspall Sampled\n",
    "- Max P Classifier\n",
    "- Maximum Breaks\n",
    "- Natural Breaks\n",
    "- Quantiles\n",
    "- Percentiles\n",
    "- Std Mean\n",
    "- User Defined\n",
    "\n",
    "\n",
    "There are plenty of different variables in the accessibility data set (see\n",
    "[from here the\n",
    "description](http://blogs.helsinki.fi/accessibility/helsinki-region-travel-time-matrix-2015)\n",
    "for all attributes) but what we are interested in are columns called `pt_r_tt`\n",
    "which is telling the time in minutes that it takes to reach city center from\n",
    "different parts of the city, and `walk_d` that tells the network distance by\n",
    "roads to reach city center from different parts of the city (almost equal to\n",
    "Euclidian distance).\n",
    "\n",
    "**The NoData values are presented with value -1**. \n",
    "Thus we need to remove the No Data values first."
   ]
  },
  {
   "cell_type": "code",
   "execution_count": null,
   "id": "3e457a4e",
   "metadata": {},
   "outputs": [],
   "source": [
    "# Include only data that is above or equal to 0\n",
    "accessibility_grid = accessibility_grid.loc[accessibility_grid[\"pt_r_tt\"] >=0]"
   ]
  },
  {
   "cell_type": "markdown",
   "id": "9910375a",
   "metadata": {},
   "source": [
    "Let's plot the data and see how it looks like\n",
    "- `cmap` parameter defines the color map. Read more about [choosing colormaps in matplotlib](https://matplotlib.org/3.1.0/tutorials/colors/colormaps.html)\n",
    "- `scheme` option scales the colors according to a classification scheme (requires `mapclassify` module to be installed):"
   ]
  },
  {
   "cell_type": "code",
   "execution_count": null,
   "id": "b6099cc9",
   "metadata": {},
   "outputs": [],
   "source": [
    "# Plot using 9 classes and classify the values using \"Natural Breaks\" classification\n",
    "accessibility_grid.plot(column=\"pt_r_tt\", scheme=\"Natural_Breaks\", k=9, cmap=\"RdYlBu\", linewidth=0, legend=True)"
   ]
  },
  {
   "cell_type": "markdown",
   "id": "7d07b858",
   "metadata": {},
   "source": [
    "As we can see from this map, the travel times are lower in the south where the\n",
    "city center is located but there are some areas of \"good\" accessibility also in\n",
    "some other areas (where the color is red).\n",
    "\n",
    "Let's also make a plot about walking distances:"
   ]
  },
  {
   "cell_type": "code",
   "execution_count": null,
   "id": "62563146",
   "metadata": {},
   "outputs": [],
   "source": [
    "# Plot walking distance\n",
    "accessibility_grid.plot(column=\"walk_d\", scheme=\"Natural_Breaks\", k=9, cmap=\"RdYlBu\", linewidth=0, legend=True)"
   ]
  },
  {
   "cell_type": "markdown",
   "id": "1f083ac7",
   "metadata": {},
   "source": [
    "Okay, from here we can see that the walking distances (along road network)\n",
    "reminds more or less Euclidian distances. \n",
    "\n",
    "### Applying classifiers to data\n",
    "\n",
    "As mentioned, the `scheme` option defines the classification scheme using\n",
    "`pysal/mapclassify`. Let's have a closer look at how these classifiers work."
   ]
  },
  {
   "cell_type": "code",
   "execution_count": null,
   "id": "0ac1a869",
   "metadata": {},
   "outputs": [],
   "source": [
    "import mapclassify"
   ]
  },
  {
   "cell_type": "markdown",
   "id": "09093434",
   "metadata": {},
   "source": [
    "#### Natural Breaks"
   ]
  },
  {
   "cell_type": "code",
   "execution_count": null,
   "id": "0b3841a8",
   "metadata": {},
   "outputs": [],
   "source": [
    "mapclassify.NaturalBreaks(y=accessibility_grid[\"pt_r_tt\"], k=9)"
   ]
  },
  {
   "cell_type": "markdown",
   "id": "c170d42d",
   "metadata": {},
   "source": [
    "#### Quantiles (default is 5 classes):"
   ]
  },
  {
   "cell_type": "code",
   "execution_count": null,
   "id": "eaf964c5",
   "metadata": {},
   "outputs": [],
   "source": [
    "mapclassify.Quantiles(y=accessibility_grid[\"pt_r_tt\"])"
   ]
  },
  {
   "cell_type": "markdown",
   "id": "ee464793",
   "metadata": {},
   "source": [
    "#### Extract threshold values\n",
    "\n",
    "It's possible to extract the threshold values into an array:"
   ]
  },
  {
   "cell_type": "code",
   "execution_count": null,
   "id": "45a2fdfd",
   "metadata": {},
   "outputs": [],
   "source": [
    "classifier = mapclassify.NaturalBreaks(y=accessibility_grid[\"pt_r_tt\"], k=9)\n",
    "classifier.bins"
   ]
  },
  {
   "cell_type": "markdown",
   "id": "9848c83b",
   "metadata": {},
   "source": [
    "Let's apply one of the `Pysal` classifiers into our data and classify the\n",
    "travel times by public transport into 9 classes\n",
    "The classifier needs to be initialized first with `make()` function that takes\n",
    "the number of desired classes as input parameter"
   ]
  },
  {
   "cell_type": "code",
   "execution_count": null,
   "id": "992055ea",
   "metadata": {},
   "outputs": [],
   "source": [
    "# Create a Natural Breaks classifier\n",
    "classifier = mapclassify.NaturalBreaks.make(k=9)"
   ]
  },
  {
   "cell_type": "markdown",
   "id": "b74b51fc",
   "metadata": {},
   "source": [
    "- Now we can apply that classifier into our data by using `apply` -function"
   ]
  },
  {
   "cell_type": "code",
   "execution_count": null,
   "id": "21f68bae",
   "metadata": {},
   "outputs": [],
   "source": [
    "# Classify the data\n",
    "classifications = accessibility_grid[[\"pt_r_tt\"]].apply(classifier)\n",
    "\n",
    "# Let's see what we have\n",
    "classifications.head()"
   ]
  },
  {
   "cell_type": "code",
   "execution_count": null,
   "id": "0b70c8a8",
   "metadata": {},
   "outputs": [],
   "source": [
    "type(classifications)"
   ]
  },
  {
   "cell_type": "markdown",
   "id": "6a3bf477",
   "metadata": {},
   "source": [
    "Okay, so now we have a DataFrame where our input column was classified into 9\n",
    "different classes (numbers 1-9) based on [Natural Breaks\n",
    "classification](http://wiki-1-1930356585.us-east-1.elb.amazonaws.com/wiki/index.php/Jenks_Natural_Breaks_Classification).\n",
    "\n",
    "We can also add the classification values directly into a new column in our dataframe:"
   ]
  },
  {
   "cell_type": "code",
   "execution_count": null,
   "id": "fbb79fdf",
   "metadata": {},
   "outputs": [],
   "source": [
    "# Rename the column so that we know that it was classified with natural breaks\n",
    "accessibility_grid[\"nb_pt_r_tt\"] = accessibility_grid[[\"pt_r_tt\"]].apply(classifier)\n",
    "\n",
    "# Check the original values and classification\n",
    "accessibility_grid[[\"pt_r_tt\", \"nb_pt_r_tt\"]].head()"
   ]
  },
  {
   "cell_type": "markdown",
   "id": "8eb58617",
   "metadata": {},
   "source": [
    "Great, now we have those values in our accessibility GeoDataFrame. Let's\n",
    "visualize the results and see how they look."
   ]
  },
  {
   "cell_type": "code",
   "execution_count": null,
   "id": "c0342be9",
   "metadata": {},
   "outputs": [],
   "source": [
    "# Plot\n",
    "accessibility_grid.plot(column=\"nb_pt_r_tt\", linewidth=0, legend=True)"
   ]
  },
  {
   "cell_type": "markdown",
   "id": "e27e5917",
   "metadata": {},
   "source": [
    "And here we go, now we have a map where we have used one of the common\n",
    "classifiers to classify our data into 9 classes.\n",
    "\n",
    "\n",
    "## Plotting a histogram\n",
    "\n",
    "A histogram is a graphic representation of the distribution of the data. When\n",
    "classifying the data, it's always good to consider how the data is distributed,\n",
    "and how the classification shceme divides values into different ranges. \n",
    "\n",
    "- plot the histogram using [pandas.DataFrame.plot.hist](https://pandas.pydata.org/pandas-docs/stable/reference/api/pandas.DataFrame.plot.hist.html)\n",
    "- Number of histogram bins (groups of data) can be controlled using the parameter `bins`:"
   ]
  },
  {
   "cell_type": "code",
   "execution_count": null,
   "id": "69d05947",
   "metadata": {},
   "outputs": [],
   "source": [
    "# Histogram for public transport rush hour travel time\n",
    "accessibility_grid[\"pt_r_tt\"].plot.hist(bins=50)"
   ]
  },
  {
   "cell_type": "markdown",
   "id": "779de554",
   "metadata": {},
   "source": [
    "Let's also add threshold values on thop of the histogram as vertical lines.\n",
    "\n",
    "- Natural Breaks:"
   ]
  },
  {
   "cell_type": "code",
   "execution_count": null,
   "id": "4728e376",
   "metadata": {},
   "outputs": [],
   "source": [
    "import matplotlib.pyplot as plt\n",
    "\n",
    "# Define classifier\n",
    "classifier = mapclassify.NaturalBreaks(y=accessibility_grid[\"pt_r_tt\"], k=9)\n",
    "\n",
    "# Plot histogram for public transport rush hour travel time\n",
    "accessibility_grid[\"pt_r_tt\"].plot.hist(bins=50)\n",
    "\n",
    "# Add vertical lines for class breaks\n",
    "for break_point in classifier.bins:\n",
    "    plt.axvline(break_point, color=\"k\", linestyle=\"dashed\", linewidth=1)"
   ]
  },
  {
   "cell_type": "markdown",
   "id": "91dbc490",
   "metadata": {},
   "source": [
    "- Quantiles:"
   ]
  },
  {
   "cell_type": "code",
   "execution_count": null,
   "id": "a8b4aadd",
   "metadata": {},
   "outputs": [],
   "source": [
    "# Define classifier\n",
    "classifier = mapclassify.Quantiles(y=accessibility_grid['pt_r_tt'])\n",
    "\n",
    "# Plot histogram for public transport rush hour travel time\n",
    "accessibility_grid[\"pt_r_tt\"].plot.hist(bins=50)\n",
    "\n",
    "for break_point in classifier.bins:\n",
    "    plt.axvline(break_point, color=\"k\", linestyle=\"dashed\", linewidth=1)"
   ]
  },
  {
   "cell_type": "markdown",
   "id": "38b5a835",
   "metadata": {},
   "source": [
    "> **Check your understanding**  \n",
    "> Select another column from the data (for example, travel times by car: `car_r_t`). Do the following visualizations using one of the classification schemes available from [pysal/mapclassify](https://github.com/pysal/mapclassify):\n",
    "> \n",
    "> - Histogram with vertical lines showing the classification bins  \n",
    "> - Thematic map using the classification scheme\n",
    "\n",
    "\n",
    "\n",
    "## Applying a custom classifier\n",
    "\n",
    "### Multicriteria data classification\n",
    "\n",
    "\n",
    "\n",
    "Let's classify the geometries into two classes based\n",
    "on a given `threshold` -parameter. If the area of a polygon is lower than the\n",
    "threshold value (e.g., a certain distance), the output column will get a value\n",
    "0, if it is larger, it will get a value 1. This kind of classification is often\n",
    "called a [binary\n",
    "classification](https://en.wikipedia.org/wiki/Binary_classification).\n",
    "\n",
    "To classify each row of our GeoDataFrame we can iterate over each row or we can apply\n",
    "a function for each row. In our case, we will apply a [lambda function](https://autogis-site.readthedocs.io/en/latest/lessons/lesson-1/exercise-1.html#apply-ing-an-anonymous-lambda-function) for each row in\n",
    "our GeoDataFrame, which returns a value based on the conditions we provide.\n",
    "\n",
    "Let's do our classification based on two criteria: and find out grid cells\n",
    "\n",
    "1. Grid cells where the travel time is **lower or equal to 20 minutes** \n",
    "\n",
    "2. *and* they are further away **than 4 km (4000 meters)** from the city center.\n",
    "\n",
    "\n",
    "Let's first see how to classify a single row:"
   ]
  },
  {
   "cell_type": "code",
   "execution_count": null,
   "id": "a9fc5943",
   "metadata": {},
   "outputs": [],
   "source": [
    "accessibility_grid.iloc[0][\"pt_r_tt\"] < 20 and accessibility_grid.iloc[0][\"walk_d\"] > 4000"
   ]
  },
  {
   "cell_type": "code",
   "execution_count": null,
   "id": "bdcec27d",
   "metadata": {},
   "outputs": [],
   "source": [
    "int(accessibility_grid.iloc[11293][\"pt_r_tt\"] < 20 and accessibility_grid.iloc[11293][\"walk_d\"] > 4000)"
   ]
  },
  {
   "cell_type": "markdown",
   "id": "da169d61",
   "metadata": {},
   "source": [
    "Let's now apply this to our GeoDataFrame and save it to a column called `\"suitable_area\"`:"
   ]
  },
  {
   "cell_type": "code",
   "execution_count": null,
   "id": "7555a5c2",
   "metadata": {},
   "outputs": [],
   "source": [
    "accessibility_grid[\"suitable_area\"] = accessibility_grid.apply(lambda row: int(row[\"pt_r_tt\"] < 20 and row[\"walk_d\"] > 4000), axis=1)"
   ]
  },
  {
   "cell_type": "code",
   "execution_count": null,
   "id": "06dc2a0a",
   "metadata": {},
   "outputs": [],
   "source": [
    "accessibility_grid.head()"
   ]
  },
  {
   "cell_type": "markdown",
   "id": "3db01f9f",
   "metadata": {},
   "source": [
    "Okey we have new values in `suitable_area` -column.\n",
    "\n",
    "- How many Polygons are suitable for us? Let's find out by using a Pandas\n",
    "  function called `value_counts()` that return the count of different values in\n",
    "  our column."
   ]
  },
  {
   "cell_type": "code",
   "execution_count": null,
   "id": "531f9a49",
   "metadata": {},
   "outputs": [],
   "source": [
    "# Get value counts\n",
    "accessibility_grid[\"suitable_area\"].value_counts()"
   ]
  },
  {
   "cell_type": "markdown",
   "id": "0d5d8cc2",
   "metadata": {},
   "source": [
    "Okay, so there seems to be nine suitable locations for us where we can try to\n",
    "find an appartment to buy.\n",
    "\n",
    "- Let's see where they are located:"
   ]
  },
  {
   "cell_type": "code",
   "execution_count": null,
   "id": "42fa380a",
   "metadata": {},
   "outputs": [],
   "source": [
    "# Plot\n",
    "accessibility_grid.plot(column=\"suitable_area\", linewidth=0)"
   ]
  },
  {
   "cell_type": "markdown",
   "id": "6d7f8dc5",
   "metadata": {},
   "source": [
    "A-haa, okay so we can see that suitable places for us with our criteria seem to\n",
    "be located in the eastern part from the city center. Actually, those locations\n",
    "are along the metro line which makes them good locations in terms of travel\n",
    "time to city center since metro is really fast travel mode."
   ]
  }
 ],
 "metadata": {
  "kernelspec": {
   "display_name": "Python 3 (ipykernel)",
   "language": "python",
   "name": "python3"
  },
  "language_info": {
   "codemirror_mode": {
    "name": "ipython",
    "version": 3
   },
   "file_extension": ".py",
   "mimetype": "text/x-python",
   "name": "python",
   "nbconvert_exporter": "python",
   "pygments_lexer": "ipython3",
   "version": "3.11.7"
  }
 },
 "nbformat": 4,
 "nbformat_minor": 5
}
