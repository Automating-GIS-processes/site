{
 "cells": [
  {
   "cell_type": "markdown",
   "id": "e7bcaa5c",
   "metadata": {},
   "source": [
    "# Aggregating data\n",
    "\n",
    "Data aggregation refers to a process where we combine data into groups. When\n",
    "doing spatial data aggregation, we merge the geometries together into coarser\n",
    "units (based on some attribute), and can also calculate summary statistics for\n",
    "these combined geometries from the original, more detailed values. For example,\n",
    "suppose that we are interested in studying continents, but we only have\n",
    "country-level data like the country dataset. If we aggregate the data by\n",
    "continent, we would convert the country-level data into a continent-level\n",
    "dataset.\n",
    "\n",
    "In this tutorial, we will aggregate our travel time data by car travel times\n",
    "(column `car_r_t`), i.e. the grid cells that have the same travel time to\n",
    "Railway Station will be merged together.\n",
    "\n",
    "Let’s start with loading `intersection.gpkg`, the output file of the\n",
    "[previous section](overlay-analysis):"
   ]
  },
  {
   "cell_type": "code",
   "execution_count": null,
   "id": "1a3673af",
   "metadata": {},
   "outputs": [],
   "source": [
    "import pathlib \n",
    "NOTEBOOK_PATH = pathlib.Path().resolve()\n",
    "DATA_DIRECTORY = NOTEBOOK_PATH / \"data\""
   ]
  },
  {
   "cell_type": "code",
   "execution_count": null,
   "id": "fb8552e3",
   "metadata": {},
   "outputs": [],
   "source": [
    "import geopandas\n",
    "intersection = geopandas.read_file(DATA_DIRECTORY / \"intersection.gpkg\")"
   ]
  },
  {
   "cell_type": "markdown",
   "id": "e073a58a",
   "metadata": {},
   "source": [
    "For doing the aggregation we will use a method called `dissolve()` that takes\n",
    "as input the column that will be used for conducting the aggregation:"
   ]
  },
  {
   "cell_type": "code",
   "execution_count": null,
   "id": "af90e0f0",
   "metadata": {},
   "outputs": [],
   "source": [
    "# Conduct the aggregation\n",
    "dissolved = intersection.dissolve(by=\"car_r_t\")\n",
    "\n",
    "# What did we get\n",
    "dissolved.head()"
   ]
  },
  {
   "cell_type": "markdown",
   "id": "8dd72b4d",
   "metadata": {},
   "source": [
    "Let’s compare the number of cells in the layers before and after the\n",
    "aggregation:"
   ]
  },
  {
   "cell_type": "code",
   "execution_count": null,
   "id": "93b4bca2",
   "metadata": {},
   "outputs": [],
   "source": [
    "print(f\"Rows in original intersection GeoDataFrame: {len(intersection)}\")\n",
    "print(f\"Rows in dissolved layer: {len(dissolved)}\")"
   ]
  },
  {
   "cell_type": "markdown",
   "id": "b6b08f9b",
   "metadata": {},
   "source": [
    "Indeed the number of rows in our data has decreased and the Polygons were\n",
    "merged together.\n",
    "\n",
    "What actually happened here? Let's take a closer look. \n",
    "\n",
    "Let's see what columns we have now in our GeoDataFrame:"
   ]
  },
  {
   "cell_type": "code",
   "execution_count": null,
   "id": "48c0201b",
   "metadata": {},
   "outputs": [],
   "source": [
    "dissolved.columns"
   ]
  },
  {
   "cell_type": "markdown",
   "id": "a64d42a9",
   "metadata": {},
   "source": [
    "As we can see, the column that we used for conducting the aggregation\n",
    "(`car_r_t`) can not be found from the columns list anymore. What happened to\n",
    "it?\n",
    "\n",
    "Let’s take a look at the indices of our GeoDataFrame:"
   ]
  },
  {
   "cell_type": "code",
   "execution_count": null,
   "id": "7bf6f23c",
   "metadata": {},
   "outputs": [],
   "source": [
    "dissolved.index"
   ]
  },
  {
   "cell_type": "markdown",
   "id": "5a349d9f",
   "metadata": {},
   "source": [
    "Aha! Well now we understand where our column went. It is now used as index in\n",
    "our `dissolved` GeoDataFrame. \n",
    "\n",
    "Now, we can for example select only such geometries from the layer that are for\n",
    "example exactly 15 minutes away from the Helsinki Railway Station:"
   ]
  },
  {
   "cell_type": "code",
   "execution_count": null,
   "id": "d73383b8",
   "metadata": {},
   "outputs": [],
   "source": [
    "# Select only geometries that are within 15 minutes away\n",
    "dissolved.loc[15]"
   ]
  },
  {
   "cell_type": "code",
   "execution_count": null,
   "id": "99a80a15",
   "metadata": {},
   "outputs": [],
   "source": [
    "# See the data type\n",
    "type(dissolved.loc[15])"
   ]
  },
  {
   "cell_type": "markdown",
   "id": "d7d576cf",
   "metadata": {},
   "source": [
    "As we can see, as a result, we have now a Pandas `Series` object containing\n",
    "basically one row from our original aggregated GeoDataFrame.\n",
    "\n",
    "Let’s also visualize those 15 minute grid cells.\n",
    "\n",
    "First, we need to convert the selected row back to a GeoDataFrame:"
   ]
  },
  {
   "cell_type": "code",
   "execution_count": null,
   "id": "ede1324e",
   "metadata": {},
   "outputs": [],
   "source": [
    "# Create a GeoDataFrame\n",
    "selection = geopandas.GeoDataFrame([dissolved.loc[15]], crs=dissolved.crs)"
   ]
  },
  {
   "cell_type": "markdown",
   "id": "75408bf8",
   "metadata": {},
   "source": [
    "Plot the selection on top of the entire grid:"
   ]
  },
  {
   "cell_type": "code",
   "execution_count": null,
   "id": "0dad253c",
   "metadata": {},
   "outputs": [],
   "source": [
    "# Plot all the grid cells, and the grid cells that are 15 minutes\n",
    "# away from the Railway Station\n",
    "ax = dissolved.plot(facecolor=\"gray\")\n",
    "selection.plot(ax=ax, facecolor=\"red\")"
   ]
  },
  {
   "cell_type": "markdown",
   "id": "abbb0c5b",
   "metadata": {},
   "source": [
    "Another way to visualize the travel times in the entire GeoDataFrame is to plot using one specific column. In order to use our `car_r_t` column, which is now the index of the GeoDataFrame, we need to reset the index:"
   ]
  },
  {
   "cell_type": "code",
   "execution_count": null,
   "id": "b2df1c33",
   "metadata": {},
   "outputs": [],
   "source": [
    "dissolved = dissolved.reset_index()\n",
    "dissolved.head()"
   ]
  },
  {
   "cell_type": "markdown",
   "id": "5415c463",
   "metadata": {},
   "source": [
    "As we can see, we now have our `car_r_t` as a column again, and can then plot the GeoDataFrame passing this column using the `column` parameter:"
   ]
  },
  {
   "cell_type": "code",
   "execution_count": null,
   "id": "b3e79d78",
   "metadata": {},
   "outputs": [],
   "source": [
    "dissolved.plot(column=\"car_r_t\")"
   ]
  },
  {
   "cell_type": "markdown",
   "id": "03ede1cb",
   "metadata": {},
   "source": [
    "% ## Practical example: hospital districts\n",
    "% \n",
    "% In this tutorial, we will create boundaries of Finnish hospital districts\n",
    "% (*sairaanhoitopiiri* in Finnish) by dissolving municipality boundaries into\n",
    "% larger entities. Main processing steps include a table join and dissolving the\n",
    "% municipality geometries into larger entities.\n",
    "% \n",
    "% We will combine information from [municipality\n",
    "% polygons](https://www.stat.fi/org/avoindata/paikkatietoaineistot/vaesto_tilastointialueittain.html)\n",
    "% from Statistics Finland and a [list of health care\n",
    "% districts](https://www.kuntaliitto.fi/sosiaali-ja-terveysasiat/sairaanhoitopiirien-jasenkunnat)\n",
    "% by the Finnish Municipality authority Kuntaliitto.\n",
    "% \n",
    "% \n",
    "% Importing required python packages:\n",
    "% \n",
    "% ```{code-cell}\n",
    "% import json\n",
    "% import numpy\n",
    "% import pandas\n",
    "% import geopandas\n",
    "% import pyproj\n",
    "% import matplotlib.pyplot as plt\n",
    "% ```\n",
    "% \n",
    "% \n",
    "% ## Read in data\n",
    "% \n",
    "% - **Municipality polygons** from Statistics Finland web feature service: https://www.stat.fi/org/avoindata/paikkatietoaineistot/kuntapohjaiset_tilastointialueet.html\n",
    "%     - wfs: http://geo.stat.fi/geoserver/tilastointialueet/wfs?\n",
    "%     - feature: `tilastointialueet:kunta1000k` (most recent information about municipality polygons)\n",
    "% \n",
    "% ```{code-cell}\n",
    "% # For available features, see http://geo.stat.fi/geoserver/tilastointialueet/wfs?request=GetCapabilities\n",
    "% url = (\n",
    "%     \"http://geo.stat.fi/geoserver/tilastointialueet/wfs\"\n",
    "%     \"?request=GetFeature\"\n",
    "%     \"&typename=tilastointialueet:kunta1000k\"\n",
    "%     \"&outputformat=JSON\"\n",
    "% )\n",
    "% geodata = geopandas.read_file(url)\n",
    "% ```\n",
    "% \n",
    "% ```{code-cell}\n",
    "% geodata.head()\n",
    "% ```\n",
    "% \n",
    "% ```{code-cell}\n",
    "% # Check length (there are 309 municipalities in Finland in 2022)\n",
    "% len(geodata)\n",
    "% ```\n",
    "% \n",
    "% ```{code-cell}\n",
    "% #Select and rename columns\n",
    "% geodata.rename(columns={'kunta':'code'}, inplace=True)\n",
    "% geodata = geodata[['code','name', 'geometry']]\n",
    "% geodata.head()\n",
    "% ```\n",
    "% \n",
    "% ```{code-cell}\n",
    "% geodata.plot()\n",
    "% ```\n",
    "% \n",
    "% ```{code-cell}\n",
    "% geodata.dtypes\n",
    "% ```\n",
    "% \n",
    "% - **Finnish municipalities with hospital district information** as an Excel spreadsheet \n",
    "%     - Downloaded from: https://www.kuntaliitto.fi/sosiaali-ja-terveysasiat/sairaanhoitopiirien-jasenkunnat in March 2020. \n",
    "%     - File `Shp_jäsenkunnat_2020.xls`, sheet `kunnat_shp_2020_ aakkosjärj.` This is the original unaltered file.\n",
    "%     - In this file, \"shp\" stands for \"sairaanhoitopiiri\" (hospital district in Finnish)\n",
    "%     \n",
    "% *Note: this data set does not include Åland (Ahvenanmaa). Åland municipalities are added in the later step.*\n",
    "% *Note: \"hospital districts\" is a more proper translation to sairaanhoitopiirit, but in this lesson I use \"health care districts\" to refer to these entities*\n",
    "% \n",
    "% Excel files often come with additional formatting such as metadata on the first lines of the data array. This is why it is a good idea to download the file on your own computer and have a look at the data structure before reading in the file using Python.\n",
    "% It is also often a good idea to save the file as a csv file before reading in the data. However, it is also possible to read in data directly from Excel. For this, you need to have the xlrd module installed:\n",
    "% \n",
    "% ```\n",
    "% conda install -c conda-forge xlrd\n",
    "% ```\n",
    "% \n",
    "% Now we are ready to read in the data using pandas.\n",
    "% \n",
    "% In the case of this health districts excel the header is located on the 4th row (index 3) of the excel spreadsheet.\n",
    "% \n",
    "% ```{code-cell}\n",
    "% # Read in the excel spreadsheet\n",
    "% data = pd.read_excel(r\"data/Shp_jäsenkunnat_2020.xls\", sheet_name=\"kunnat_shp_2020_ aakkosjärj.\", header=3)\n",
    "% ```\n",
    "% \n",
    "% ```{code-cell}\n",
    "% data.head()\n",
    "% ```\n",
    "% \n",
    "% In addition, the first row after the header is empty. We can get rid of it using the dropna() -function:\n",
    "% \n",
    "% ```{code-cell}\n",
    "% data.dropna(inplace=True)\n",
    "% ```\n",
    "% \n",
    "% Check number of rows (16 Åland municipalities are missing)\n",
    "% \n",
    "% ```{code-cell}\n",
    "% len(data)\n",
    "% ```\n",
    "% \n",
    "% The data needs some fixing and cleaning after reading the excel sheet\n",
    "% \n",
    "% ```{code-cell}\n",
    "% # Rename columns from Finnish to English \n",
    "% data.rename(columns={\"kunta-\\nkoodi\":\"code\", 'sairaanhoitopiiri':'healthCareDistrict'}, inplace=True)\n",
    "% \n",
    "% # Select only useful columns\n",
    "% data = data[['code','healthCareDistrict']]\n",
    "% ```\n",
    "% \n",
    "% ```{code-cell}\n",
    "% data\n",
    "% ```\n",
    "% \n",
    "% Looks better! Now we need to prepare the data for table join. We will use the municipality code as the common key.\n",
    "% \n",
    "% ```{code-cell}\n",
    "% data.dtypes\n",
    "% ```\n",
    "% \n",
    "% The code column is currently a floating point number. We need to modify these codes so that they match the ones in the spatial data:\n",
    "% \n",
    "% ```{code-cell}\n",
    "% # Example using one code\n",
    "% number = data.at[1, \"code\"]\n",
    "% number\n",
    "% ```\n",
    "% \n",
    "% ```{code-cell}\n",
    "% # Conver this number to character string 020\n",
    "% print(\"20\".zfill(3))\n",
    "% ```\n",
    "% \n",
    "% Let's apply this process on all rows at once, and take into account different number of digits:\n",
    "% \n",
    "% ```{code-cell}\n",
    "% # Convert to character string\n",
    "% data[\"code\"] = data[\"code\"].astype(int).astype('str')\n",
    "% \n",
    "% # Add missing zeros to municipality codes\n",
    "% data[\"code\"] = data[\"code\"].str.zfill(3)\n",
    "% ```\n",
    "% \n",
    "% ```{code-cell}\n",
    "% data.head()\n",
    "% ```\n",
    "% \n",
    "% ## Join Health district info to the municipality polygons\n",
    "% \n",
    "% ```{code-cell}\n",
    "% # Merge health district info to geodata using \"code\" as the common key\n",
    "% geodata = geodata.merge(data, on=\"code\", how=\"left\")\n",
    "% ```\n",
    "% \n",
    "% ```{code-cell}\n",
    "% geodata\n",
    "% ```\n",
    "% \n",
    "% Looks good! However, Municipalities in the Åland island did not have a matching health care district in the data. Let's have a closer look:\n",
    "% \n",
    "% ```{code-cell}\n",
    "% # List all municipalities that lack health district info:\n",
    "% geodata[geodata[\"healthCareDistrict\"].isnull()].name\n",
    "% ```\n",
    "% \n",
    "% ```{code-cell}\n",
    "% # Update \"Ahvenanmaa\" as the health care district for Åland municipalities (16 municipalities in total)\n",
    "% geodata.loc[geodata[\"healthCareDistrict\"].isnull(), \"healthCareDistrict\"] = \"Ahvenanmaa\"\n",
    "% ```\n",
    "% \n",
    "% Check the count of municipalities per health care disctrict\n",
    "% \n",
    "% ```{code-cell}\n",
    "% geodata[\"healthCareDistrict\"].value_counts()\n",
    "% ```\n",
    "% \n",
    "% ## Create polygons for health care districts\n",
    "% \n",
    "% ```{code-cell}\n",
    "% # Dissolve (=combine) municipality polygon geometries for each health care district\n",
    "% districts = geodata.dissolve(by='healthCareDistrict')\n",
    "% ```\n",
    "% \n",
    "% ```{code-cell}\n",
    "% districts.reset_index(inplace=True)\n",
    "% ```\n",
    "% \n",
    "% ```{code-cell}\n",
    "% # Select useful columns\n",
    "% districts = districts[[\"healthCareDistrict\", \"geometry\"]]\n",
    "% ```\n",
    "% \n",
    "% ```{code-cell}\n",
    "% districts\n",
    "% ```\n",
    "% \n",
    "% ```{code-cell}\n",
    "% districts.plot(column='healthCareDistrict', cmap='tab20', k=20)\n",
    "% plt.axis('off')\n",
    "% ```\n",
    "% \n",
    "% ```{code-cell}\n",
    "% # Write GeoJSON in original projection\n",
    "% districts.to_file(\"healthDistrictsEPSG3067.geojson\", driver='GeoJSON', encoding='utf-8')\n",
    "% ```\n",
    "% \n",
    "% ```{code-cell}\n",
    "% # Re-project to WGS84 and save again\n",
    "% wgs84 = CRS.from_epsg(4326)\n",
    "% districts.to_crs(wgs84).to_file(\"healthDistrictsEPSG4326.geojson\", driver='GeoJSON', encoding='utf-8')\n",
    "% ```\n",
    "% \n",
    "% That's it! You can elaborate this workflow by joining additional data. For example, if you join population info per municipality you can sum it up for each health care district using the `aggfunc=sum` argument to get population count per health care district."
   ]
  }
 ],
 "metadata": {
  "kernelspec": {
   "display_name": "Python 3 (ipykernel)",
   "language": "python",
   "name": "python3"
  }
 },
 "nbformat": 4,
 "nbformat_minor": 5
}
