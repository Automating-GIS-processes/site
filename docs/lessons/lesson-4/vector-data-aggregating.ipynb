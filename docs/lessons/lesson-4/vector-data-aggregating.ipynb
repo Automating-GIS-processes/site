{
 "cells": [
  {
   "cell_type": "markdown",
   "id": "e7bcaa5c",
   "metadata": {},
   "source": [
    "# Aggregating data\n",
    "\n",
    "Data aggregation refers to a process where we combine data into groups. When\n",
    "doing spatial data aggregation, we merge the geometries together into coarser\n",
    "units (based on some attribute), and can also calculate summary statistics for\n",
    "these combined geometries from the original, more detailed values. For example,\n",
    "suppose that we are interested in studying continents, but we only have\n",
    "country-level data like the country dataset. If we aggregate the data by\n",
    "continent, we would convert the country-level data into a continent-level\n",
    "dataset.\n",
    "\n",
    "In this tutorial, we will aggregate our travel time data by car travel times\n",
    "(column `car_r_t`), i.e. the grid cells that have the same travel time to\n",
    "Railway Station will be merged together.\n",
    "\n",
    "Let’s start with loading `intersection.gpkg`, the output file of the\n",
    "[previous section](overlay-analysis):"
   ]
  },
  {
   "cell_type": "code",
   "execution_count": null,
   "id": "1a3673af",
   "metadata": {},
   "outputs": [],
   "source": [
    "import pathlib \n",
    "NOTEBOOK_PATH = pathlib.Path().resolve()\n",
    "DATA_DIRECTORY = NOTEBOOK_PATH / \"data\""
   ]
  },
  {
   "cell_type": "code",
   "execution_count": null,
   "id": "fb8552e3",
   "metadata": {},
   "outputs": [],
   "source": [
    "import geopandas\n",
    "intersection = geopandas.read_file(DATA_DIRECTORY / \"intersection.gpkg\")"
   ]
  },
  {
   "cell_type": "markdown",
   "id": "e073a58a",
   "metadata": {},
   "source": [
    "For doing the aggregation we will use a method called `dissolve()` that takes\n",
    "as input the column that will be used for conducting the aggregation:"
   ]
  },
  {
   "cell_type": "code",
   "execution_count": null,
   "id": "af90e0f0",
   "metadata": {},
   "outputs": [],
   "source": [
    "# Conduct the aggregation\n",
    "dissolved = intersection.dissolve(by=\"car_r_t\")\n",
    "\n",
    "# What did we get\n",
    "dissolved.head()"
   ]
  },
  {
   "cell_type": "markdown",
   "id": "8dd72b4d",
   "metadata": {},
   "source": [
    "Let’s compare the number of cells in the layers before and after the\n",
    "aggregation:"
   ]
  },
  {
   "cell_type": "code",
   "execution_count": null,
   "id": "93b4bca2",
   "metadata": {},
   "outputs": [],
   "source": [
    "print(f\"Rows in original intersection GeoDataFrame: {len(intersection)}\")\n",
    "print(f\"Rows in dissolved layer: {len(dissolved)}\")"
   ]
  },
  {
   "cell_type": "markdown",
   "id": "b6b08f9b",
   "metadata": {},
   "source": [
    "Indeed the number of rows in our data has decreased and the Polygons were\n",
    "merged together.\n",
    "\n",
    "What actually happened here? Let's take a closer look. \n",
    "\n",
    "Let's see what columns we have now in our GeoDataFrame:"
   ]
  },
  {
   "cell_type": "code",
   "execution_count": null,
   "id": "48c0201b",
   "metadata": {},
   "outputs": [],
   "source": [
    "dissolved.columns"
   ]
  },
  {
   "cell_type": "markdown",
   "id": "a64d42a9",
   "metadata": {},
   "source": [
    "As we can see, the column that we used for conducting the aggregation\n",
    "(`car_r_t`) can not be found from the columns list anymore. What happened to\n",
    "it?\n",
    "\n",
    "Let’s take a look at the indices of our GeoDataFrame:"
   ]
  },
  {
   "cell_type": "code",
   "execution_count": null,
   "id": "7bf6f23c",
   "metadata": {},
   "outputs": [],
   "source": [
    "dissolved.index"
   ]
  },
  {
   "cell_type": "markdown",
   "id": "5a349d9f",
   "metadata": {},
   "source": [
    "Aha! Well now we understand where our column went. It is now used as index in\n",
    "our `dissolved` GeoDataFrame. \n",
    "\n",
    "Now, we can for example select only such geometries from the layer that are for\n",
    "example exactly 15 minutes away from the Helsinki Railway Station:"
   ]
  },
  {
   "cell_type": "code",
   "execution_count": null,
   "id": "d73383b8",
   "metadata": {},
   "outputs": [],
   "source": [
    "# Select only geometries that are within 15 minutes away\n",
    "dissolved.loc[15]"
   ]
  },
  {
   "cell_type": "code",
   "execution_count": null,
   "id": "99a80a15",
   "metadata": {},
   "outputs": [],
   "source": [
    "# See the data type\n",
    "type(dissolved.loc[15])"
   ]
  },
  {
   "cell_type": "markdown",
   "id": "d7d576cf",
   "metadata": {},
   "source": [
    "As we can see, as a result, we have now a Pandas `Series` object containing\n",
    "basically one row from our original aggregated GeoDataFrame.\n",
    "\n",
    "Let’s also visualize those 15 minute grid cells.\n",
    "\n",
    "First, we need to convert the selected row back to a GeoDataFrame:"
   ]
  },
  {
   "cell_type": "code",
   "execution_count": null,
   "id": "ede1324e",
   "metadata": {},
   "outputs": [],
   "source": [
    "# Create a GeoDataFrame\n",
    "selection = geopandas.GeoDataFrame([dissolved.loc[15]], crs=dissolved.crs)"
   ]
  },
  {
   "cell_type": "markdown",
   "id": "75408bf8",
   "metadata": {},
   "source": [
    "Plot the selection on top of the entire grid:"
   ]
  },
  {
   "cell_type": "code",
   "execution_count": null,
   "id": "0dad253c",
   "metadata": {},
   "outputs": [],
   "source": [
    "# Plot all the grid cells, and the grid cells that are 15 minutes\n",
    "# away from the Railway Station\n",
    "ax = dissolved.plot(facecolor=\"gray\")\n",
    "selection.plot(ax=ax, facecolor=\"red\")"
   ]
  },
  {
   "cell_type": "markdown",
   "id": "abbb0c5b",
   "metadata": {},
   "source": [
    "Another way to visualize the travel times in the entire GeoDataFrame is to plot using one specific column. In order to use our `car_r_t` column, which is now the index of the GeoDataFrame, we need to reset the index:"
   ]
  },
  {
   "cell_type": "code",
   "execution_count": null,
   "id": "b2df1c33",
   "metadata": {},
   "outputs": [],
   "source": [
    "dissolved = dissolved.reset_index()\n",
    "dissolved.head()"
   ]
  },
  {
   "cell_type": "markdown",
   "id": "5415c463",
   "metadata": {},
   "source": [
    "As we can see, we now have our `car_r_t` as a column again, and can then plot the GeoDataFrame passing this column using the `column` parameter:"
   ]
  },
  {
   "cell_type": "code",
   "execution_count": null,
   "id": "b3e79d78",
   "metadata": {},
   "outputs": [],
   "source": [
    "dissolved.plot(column=\"car_r_t\")"
   ]
  }
 ],
 "metadata": {
  "kernelspec": {
   "display_name": "Python 3 (ipykernel)",
   "language": "python",
   "name": "python3"
  },
  "language_info": {
   "codemirror_mode": {
    "name": "ipython",
    "version": 3
   },
   "file_extension": ".py",
   "mimetype": "text/x-python",
   "name": "python",
   "nbconvert_exporter": "python",
   "pygments_lexer": "ipython3",
   "version": "3.11.7"
  }
 },
 "nbformat": 4,
 "nbformat_minor": 5
}
