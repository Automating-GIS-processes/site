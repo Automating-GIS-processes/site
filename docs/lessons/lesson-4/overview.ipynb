{
 "cells": [
  {
   "cell_type": "markdown",
   "id": "0afd02a1",
   "metadata": {},
   "source": [
    "# Overview\n",
    "\n",
    "In this lesson, we will get to know how geopandas handles some typical GIS\n",
    "operations: **overlay analysis** (e.g., unions, or differences of multiple\n",
    "geometries), **aggregating** geometries (e.g., smaller statistical units into\n",
    "larger ones), **simplifying** geometries (to be printed or shown at smaller map\n",
    "scales), and **classifying** numerical data into categories for map display. \n",
    "\n",
    "\n",
    "## Learning goals\n",
    "\n",
    "After this lesson, you should know how to:\n",
    "\n",
    "- create new geometries by adding, subtracting or intersecting two geometries,\n",
    "- combine geometries based on a common attribute (*dissolving* them),\n",
    "- create categories for numerical data based on classifiers such as *natural\n",
    "  breaks*, *equal interval*, or *quantiles*, and\n",
    "- simplify geometries according to a maximum-error threshold\n",
    "\n",
    "\n",
    "## Lesson video\n",
    "\n",
    "Will be added after the lecture. "
   ]
  }
 ],
 "metadata": {
  "kernelspec": {
   "display_name": "Python 3 (ipykernel)",
   "language": "python",
   "name": "python3"
  },
  "language_info": {
   "codemirror_mode": {
    "name": "ipython",
    "version": 3
   },
   "file_extension": ".py",
   "mimetype": "text/x-python",
   "name": "python",
   "nbconvert_exporter": "python",
   "pygments_lexer": "ipython3",
   "version": "3.11.7"
  }
 },
 "nbformat": 4,
 "nbformat_minor": 5
}
