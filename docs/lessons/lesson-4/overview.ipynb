{
 "cells": [
  {
   "cell_type": "markdown",
   "id": "0afd02a1",
   "metadata": {},
   "source": [
    "# Overview\n",
    "\n",
    "In this lesson, we will get to know how geopandas handles some typical GIS\n",
    "operations: **overlay analysis** (e.g., unions, or differences of multiple\n",
    "geometries), **aggregating** geometries (e.g., smaller statistical units into\n",
    "larger ones), **simplifying** geometries (to be printed or shown at smaller map\n",
    "scales), and **classifying** numerical data into categories for map display. \n",
    "\n",
    "\n",
    "## Learning goals\n",
    "\n",
    "After this lesson, you should know how to:\n",
    "\n",
    "- create new geometries by adding, subtracting or intersecting two geometries,\n",
    "- combine geometries based on a common attribute (*dissolving* them),\n",
    "- create categories for numerical data based on classifiers such as *natural\n",
    "  breaks*, *equal interval*, or *quantiles*, and\n",
    "- simplify geometries according to a maximum-error threshold\n",
    "\n",
    "\n",
    "## Lesson video\n",
    "\n",
    "<iframe width=\"560\" height=\"315\" src=\"https://www.youtube.com/embed/xpetCZXp9Y4?si=a6aCQZ2rL7wjFZX5\" title=\"YouTube video player\" frameborder=\"0\" allow=\"accelerometer; autoplay; clipboard-write; encrypted-media; gyroscope; picture-in-picture; web-share\" allowfullscreen></iframe>"
   ]
  }
 ],
 "metadata": {
  "kernelspec": {
   "display_name": "Python 3 (ipykernel)",
   "language": "python",
   "name": "python3"
  }
 },
 "nbformat": 4,
 "nbformat_minor": 5
}
