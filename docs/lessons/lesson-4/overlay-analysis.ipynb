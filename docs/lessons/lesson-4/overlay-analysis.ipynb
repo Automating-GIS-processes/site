{
 "cells": [
  {
   "cell_type": "markdown",
   "id": "3589c952",
   "metadata": {},
   "source": [
    "# Overlay analysis\n",
    "\n",
    "Overlay analyses are GIS operations in which two or more vector layers are\n",
    "combined to produce new geometries. Typical overlay operations include *union*,\n",
    "*intersection*, and *difference* - named after the result of the combination of\n",
    "two layers.\n",
    "\n",
    "\n",
    ":::{figure} ../../static/images/lesson-4/overlay-operations_700x200px.svg\n",
    ":alt: Four panels showing the union, intersection, symmetrical difference and difference of two geometries.\n",
    "\n",
    "Spatial overlay with two input vector layers (rectangle, circle). The resulting vector layer is displayed in green. *Source: [QGIS documentation](https://docs.qgis.org/latest/en/docs/gentle_gis_introduction/vector_spatial_analysis_buffers.html#figure-overlay-operations)*\n",
    ":::\n",
    "\n",
    "\n",
    "In this tutorial, we will carry out an overlay analysis to select those polygon\n",
    "cells of a grid dataset that lie within the city limits of Helsinki. For this\n",
    "exercise, we use two input data sets: a grid of statistical polygons with the\n",
    "travel time to the Helsinki railway station, covering the entire metropolitan\n",
    "area (`helsinki_region_travel_times_to_railway_station.gpkg`) and a polygon\n",
    "data set (with one feature) of the area the municipality of Helsinki covers\n",
    "(`helsinki_municipality.gpkg`). Both files are in logically named subfolders\n",
    "of the `DATA_DIRECTORY`."
   ]
  },
  {
   "cell_type": "code",
   "execution_count": null,
   "id": "cbcd6a7f",
   "metadata": {},
   "outputs": [],
   "source": [
    "import pathlib \n",
    "NOTEBOOK_PATH = pathlib.Path().resolve()\n",
    "DATA_DIRECTORY = NOTEBOOK_PATH / \"data\""
   ]
  },
  {
   "cell_type": "code",
   "execution_count": null,
   "id": "55f698a3",
   "metadata": {},
   "outputs": [],
   "source": [
    "import geopandas\n",
    "\n",
    "grid = geopandas.read_file(\n",
    "    DATA_DIRECTORY\n",
    "    / \"helsinki_region_travel_times_to_railway_station\"\n",
    "    / \"helsinki_region_travel_times_to_railway_station.gpkg\"\n",
    ")\n",
    "\n",
    "helsinki = geopandas.read_file(\n",
    "    DATA_DIRECTORY / \"helsinki_municipality\" / \"helsinki_municipality.gpkg\"\n",
    ")"
   ]
  },
  {
   "cell_type": "markdown",
   "id": "56a805d6",
   "metadata": {},
   "source": [
    "Let’s do a quick overlay visualization of the two layers:"
   ]
  },
  {
   "cell_type": "code",
   "execution_count": null,
   "id": "02a6faa0",
   "metadata": {},
   "outputs": [],
   "source": [
    "# Plot the layers\n",
    "ax = grid.plot(facecolor=\"gray\")\n",
    "helsinki.plot(ax=ax, facecolor=\"None\", edgecolor=\"blue\")"
   ]
  },
  {
   "cell_type": "markdown",
   "id": "cd80df66",
   "metadata": {},
   "source": [
    "Here the grey area is the Travel Time Matrix - a data set that contains  13231\n",
    "grid squares (13231 rows of data) that covers the Helsinki region, and the blue\n",
    "area represents the municipality of Helsinki. Our goal is to conduct an overlay\n",
    "analysis and select the geometries from the grid polygon layer that intersect\n",
    "with the Helsinki municipality polygon.\n",
    "\n",
    "When conducting overlay analysis, it is important to first check that the CRS\n",
    "of the layers match. The overlay visualization indicates that everything should\n",
    "be ok (the layers are plotted nicely on top of each other). However, let's\n",
    "still check if the crs match using Python:"
   ]
  },
  {
   "cell_type": "code",
   "execution_count": null,
   "id": "d29f3de8",
   "metadata": {},
   "outputs": [],
   "source": [
    "# Check the crs of the municipality polygon\n",
    "print(helsinki.crs)"
   ]
  },
  {
   "cell_type": "code",
   "execution_count": null,
   "id": "dd2ab578",
   "metadata": {},
   "outputs": [],
   "source": [
    "# Ensure that the CRS matches, if not raise an AssertionError\n",
    "assert helsinki.crs == grid.crs, \"CRS differs between layers!\""
   ]
  },
  {
   "cell_type": "markdown",
   "id": "434c6168",
   "metadata": {},
   "source": [
    "Indeed, they do. We are now ready to conduct an overlay analysis between these layers. \n",
    "\n",
    "We will create a new layer based on grid polygons that `intersect` with our\n",
    "Helsinki layer. We can use a method `overlay()` of a `GeoDataFrame` to conduct\n",
    "the overlay analysis that takes as an input 1) second GeoDataFrame, and 2)\n",
    "parameter `how` that can be used to control how the overlay analysis is\n",
    "conducted (possible values are `'intersection'`, `'union'`,\n",
    "`'symmetric_difference'`, `'difference'`, and `'identity'`):"
   ]
  },
  {
   "cell_type": "code",
   "execution_count": null,
   "id": "b855e6f8",
   "metadata": {},
   "outputs": [],
   "source": [
    "intersection = grid.overlay(helsinki, how=\"intersection\")"
   ]
  },
  {
   "cell_type": "markdown",
   "id": "f75b0647",
   "metadata": {},
   "source": [
    "Let's plot our data and see what we have:"
   ]
  },
  {
   "cell_type": "code",
   "execution_count": null,
   "id": "7d0ceee3",
   "metadata": {},
   "outputs": [],
   "source": [
    "intersection.plot(color=\"b\")"
   ]
  },
  {
   "cell_type": "markdown",
   "id": "a6058f49",
   "metadata": {},
   "source": [
    "As a result, we now have only those grid cells that intersect with the Helsinki\n",
    "borders. If you look closely, you can also observe that **the grid cells are\n",
    "clipped based on the boundary.**\n",
    "\n",
    "- Whatabout the data attributes? Let's see what we have:"
   ]
  },
  {
   "cell_type": "code",
   "execution_count": null,
   "id": "dc406031",
   "metadata": {},
   "outputs": [],
   "source": [
    "intersection.head()"
   ]
  },
  {
   "cell_type": "markdown",
   "id": "65345382",
   "metadata": {},
   "source": [
    "As we can see, due to the overlay analysis, the dataset contains the attributes\n",
    "from both input layers.\n",
    "\n",
    "Let's save our result grid as a GeoPackage."
   ]
  },
  {
   "cell_type": "code",
   "execution_count": null,
   "id": "43dbea2e",
   "metadata": {},
   "outputs": [],
   "source": [
    "intersection.to_file(\n",
    "    DATA_DIRECTORY / \"intersection.gpkg\",\n",
    "    layer=\"travel_time_matrix_helsinki_region\"\n",
    ")"
   ]
  },
  {
   "cell_type": "markdown",
   "id": "5971a16d",
   "metadata": {},
   "source": [
    "There are many more examples for different types of overlay analysis in\n",
    "[Geopandas documentation](http://geopandas.org/set_operations.html) where you\n",
    "can go and learn more."
   ]
  }
 ],
 "metadata": {
  "kernelspec": {
   "display_name": "Python 3 (ipykernel)",
   "language": "python",
   "name": "python3"
  }
 },
 "nbformat": 4,
 "nbformat_minor": 5
}
