{
 "cells": [
  {
   "cell_type": "markdown",
   "id": "8bb56650",
   "metadata": {},
   "source": [
    "# Shapely and geometry objects\n",
    "\n",
    "In this lesson, you will learn how to create and manipulate geometries in Python\n",
    "using the [Shapely Python\n",
    "Package](https://shapely.readthedocs.io/en/stable/manual.html).\n",
    "\n",
    "**Sources:** Parts of this chapter are based on [shapely’s\n",
    "documentation](https://shapely.readthedocs.io/) and on chapter 3 of [Westra E.\n",
    "(2013)](https://www.packtpub.com/application-development/python-geospatial-development-second-edition).\n",
    "\n",
    "\n",
    "## Spatial data model\n",
    "\n",
    "![Spatial data model](fig/simple-features_595x500px.svg)\n",
    "\n",
    "\n",
    "Fundamental geometric objects (‘simple features’) that can be used in Python\n",
    "with [shapely](https://shapely.readthedocs.io/). <br /> *(Figures by M. W.\n",
    "Toews; cf. [Wikipedia’s article on GeoJSON](https://en.wikipedia.org/wiki/GeoJSON))*\n",
    ":::\n",
    "\n",
    "All geospatial vector data can be described by a combining a set of fundamental\n",
    "geometric objects: **points**, **lines**, and **polygons** are the basic\n",
    "ingredients of working with spatial data.\n",
    "\n",
    "In Python, the library package [shapely](https://shapely.readthedocs.io/) has\n",
    "become the standard tool for working with geo-spatial objects, and for carrying\n",
    "out a range of geometric operations. A basic understanding of how *shapely*\n",
    "works is paramount for using higher-level tools, such as, for instance,\n",
    "[geopandas](https://geopandas.pydata.org/) (see [lesson 2](../lesson-2/overview))\n",
    "that handles entire data sets of geographic information (a.k.a. ‘layers’).\n",
    "\n",
    "\n",
    "Shapely, like the vast majority of geospatial software, follows the data model\n",
    "set forward in the [Open Geospatial Consortium’s *Simple Feature Access*\n",
    "standard](https://www.ogc.org/standards/sfa). In this chapter, we use the\n",
    "terminology used by *shapely*, but the general concepts are applicable much more\n",
    "widely.\n",
    "\n",
    "\n",
    "### Geometric objects are described and constructed by *coordinate tuples*\n",
    "\n",
    "Even more fundamental than that, **coordinate tuples** are what is used to\n",
    "define the geometric fundamentals point, line, and polygon. Coordinate tuples\n",
    "typically are either two-dimensional `(x, y)`, or three-dimensional `(x, y, z)`.\n",
    "\n",
    ":::{admonition} Tuples\n",
    ":class: info\n",
    "\n",
    "A [tuple](https://docs.python.org/3/tutorial/datastructures.html#tuples-and-sequences)\n",
    "is a Python data structure that consists of a number of values separated by\n",
    "commas. Coordinate pairs are often represented as a tuple. For example,\n",
    "`(60.192059, 24.945831)` is a tuple with two values, `(1,)` a tuple with one\n",
    "value (note the comma that distinguishes a one-value tuple from a mathematical\n",
    "expression in parentheses), and `tuple([1, 2, 3])` converts (‘casts’) a `list`\n",
    "into a `tuple`.\n",
    "\n",
    "Tuples belong to the [sequence data\n",
    "types](https://docs.python.org/3/library/stdtypes.html#typesseq) in Python.\n",
    "Other sequence data types are lists and ranges. Tuples have many similarities\n",
    "with lists and ranges, but they are often used for different purposes.\n",
    "\n",
    "The main difference between tuples and lists is that tuples are\n",
    "[immutable](https://docs.python.org/3/glossary.html#term-immutable), which means\n",
    "that the contents of a tuple cannot be altered (while lists are mutable; you\n",
    "can, for example, add and remove values from lists).\n",
    "\n",
    ":::\n",
    "\n",
    "### Points\n",
    "\n",
    "**Point** geometries represent a singular point (in two- or three-dimensional\n",
    "Euclidean space). Points are defined by a single coordinate tuple.\n",
    "\n",
    "(#linestrings)=\n",
    "### LineStrings\n",
    "\n",
    "**LineString** geometries (and the related **LinearRing**s) represent lines.\n",
    "They are defined by a sequence of points. By connecting the points in order,\n",
    "a line is formed, if the first and last point are the same, a linear ring.\n",
    "Consequently, to describe a *LineString*, at least two points are necessary, \n",
    "for a *LinearRing* at least three (first and last being identical).\n",
    "\n",
    "(#polygons)=\n",
    "### Polygons\n",
    "\n",
    "Finally, **Polygon** geometries represent an area. A polygon is defined by\n",
    "exactly one *LinearRing* as its circumference, and any number of additional\n",
    "*LinearRing*s representing holes that are cut out. As such, at minimum, three\n",
    "coordinate tuples are needed to define a Polygon (but it becomes more difficult\n",
    "quickly, as, naturally, the coordinates that define the holes have to lie within\n",
    "the exterior *LinearRing*, and also must not intersect each other).\n",
    "\n",
    "\n",
    "### Collections of geometric objects\n",
    "\n",
    "All of the fundamental geometric types can be combined to represent more complex\n",
    "geographic features, such as, for instance, administrative areas that consist of\n",
    "multiple discontinuous regions:\n",
    "\n",
    "\n",
    "# Multipolygons\n",
    "![A map of Austria showing that the province of Tyrol consists of two](fig/multipolygons_595x300px.svg)\n",
    "\n",
    "\n",
    "*Tyrol*, a federal state of Austria, is a **MultiPolygon**. *(Data: [Statistics\n",
    "Austria](https://data.statistik.gv.at/web/meta.jsp?dataset=OGDEXT_GEM_1))*\n",
    ":::\n",
    "\n",
    "\n",
    "- **MultiPoint** geometries represent collections of points.\n",
    "- **MultiLineString** geometries represent collections of lines.\n",
    "- **MultiPolygon** geometries represent collections of polygons.\n",
    "- **GeometryCollection** geometries are collections of points,\n",
    "  lines, and polygons, as well as multi-points, multi-lines,\n",
    "  and multi-polygons.\n",
    "\n",
    "\n",
    "## Using shapely to create, access, manipulate and analyse geometric objects\n",
    "\n",
    "Shapely can perform many useful operations on geometries, and provides a range\n",
    "of attributes of geometries. For instance, you can:\n",
    "- create lines and polygons from a set of points\n",
    "- calculate the area, length, perimeter, etc., of geometries\n",
    "- perform geometric operations on a set of geometries, for instance, merging\n",
    "  (`union`), subtracting (`difference`), or calculating the distance between\n",
    "  geometries.\n",
    "- query the relationship between geometries, i.e., find out whether two\n",
    "  geometries intersect, touch, cross, etc.\n",
    "\n",
    "\n",
    "### Creating `Point` geometries and accessing their properties\n",
    "\n",
    "Creating a point geometry object is easy: simply pass coordinates (x, y, and\n",
    "possibly z) to its [constructor](https://pythonbasics.org/constructor/)."
   ]
  },
  {
   "cell_type": "code",
   "execution_count": null,
   "id": "b3013aca",
   "metadata": {},
   "outputs": [],
   "source": [
    "# Import `shapely.geometry.Point` class\n",
    "from shapely.geometry import Point\n",
    "\n",
    "# Create `Point` objects:\n",
    "point1 = Point(2.2, 4.2)\n",
    "point2 = Point(7.2, -25.1)\n",
    "point3 = Point(9.26, -2.456)\n",
    "point4_3D = Point(9.26, -2.456, 0.57)"
   ]
  },
  {
   "cell_type": "markdown",
   "id": "dfb13b7c",
   "metadata": {},
   "source": [
    "Let’s see what these variables now contain:"
   ]
  },
  {
   "cell_type": "code",
   "execution_count": null,
   "id": "fa79bc41",
   "metadata": {},
   "outputs": [],
   "source": [
    "point1"
   ]
  },
  {
   "cell_type": "markdown",
   "id": "61ffca56",
   "metadata": {},
   "source": [
    "As we can see, Jupyter notebook is able to display the shape directly on the screen.\n",
    "\n",
    "Alternatively, use a `print` statement to show the text representation of a\n",
    "shapely geometry object:"
   ]
  },
  {
   "cell_type": "code",
   "execution_count": null,
   "id": "d7feec91",
   "metadata": {},
   "outputs": [],
   "source": [
    "print(point1)\n",
    "print(point4_3D)"
   ]
  },
  {
   "cell_type": "markdown",
   "id": "0bca667d",
   "metadata": {},
   "source": [
    "This text representation is in [‘Well-Known Text’ (WKT)\n",
    "format](https://en.wikipedia.org/wiki/Well-Known_Text/), a standard set forward\n",
    "in the [Open Geospatial Consortium’s (OGC)](https://www.ogc.org/) [*Simple\n",
    "Feature Access*](https://www.ogc.org/standards/sfa) (see above). This includes\n",
    "the additional letter ‘Z’ that marks the three-dimensional version of a\n",
    "geometry (e.g., our point `point4_3D`).\n",
    "\n",
    "\n",
    "Let’s also check the data type of a point:"
   ]
  },
  {
   "cell_type": "code",
   "execution_count": null,
   "id": "c63219bd",
   "metadata": {},
   "outputs": [],
   "source": [
    "type(point1)"
   ]
  },
  {
   "cell_type": "markdown",
   "id": "50e8b4c8",
   "metadata": {},
   "source": [
    "We can see that the type of the point is a `shapely.geometry.point.Point`\n",
    "(which is equivalent to `shapely.geometry.Point`, the class we used to\n",
    "instantiate the point object). \n",
    "\n",
    "Under the hood, shapely uses [GEOS](https://osgeo.org/projects/geos/) to handle\n",
    "geometry objects. GEOS is a C++ library (much faster than Python code), and is\n",
    "one of the fundamental pillars of the open source GIS world, powering\n",
    "geospatial processing for many projects, including [QGIS](https://qgis.org/).\n",
    "\n",
    "\n",
    "### Point properties and methods\n",
    "\n",
    "Points and other shapely geometry objects have useful built-in [properties and\n",
    "methods](https://shapely.readthedocs.io/en/stable/manual.html#general-attributes-and-methods).\n",
    "Using the available attributes, we can for example extract the coordinate\n",
    "values of a Point and calculate the Euclidian distance between points.\n",
    "\n",
    "The `geom_type` property contains information about the geometry type of a\n",
    "shapely geometry:"
   ]
  },
  {
   "cell_type": "code",
   "execution_count": null,
   "id": "bb9a3091",
   "metadata": {},
   "outputs": [],
   "source": [
    "point1.geom_type"
   ]
  },
  {
   "cell_type": "markdown",
   "id": "ba1a6812",
   "metadata": {},
   "source": [
    "There are multiple ways to access the coordinates of geometry object. For\n",
    "instance, `coords` is a `spapely.coords.CoordinateSequence`. It is an\n",
    "`Iterator`, an efficient Python data structure to iterate over lists of items,\n",
    "but for now we can simply convert it into a list of the (one pair of)\n",
    "coordinates:"
   ]
  },
  {
   "cell_type": "code",
   "execution_count": null,
   "id": "4e1d613c",
   "metadata": {},
   "outputs": [],
   "source": [
    "# Get coordinate tuple(s)\n",
    "list(point1.coords)"
   ]
  },
  {
   "cell_type": "markdown",
   "id": "a05d8c55",
   "metadata": {},
   "source": [
    "However, since points, by definition, only contain one coordinate tuple,\n",
    "`shapely.geometry.Point`s have properties to *directly* access its coordinate\n",
    "values: the properties `x`, `y`, and (possibly) `z`, which are basic `float`\n",
    "type decimal numbers."
   ]
  },
  {
   "cell_type": "code",
   "execution_count": null,
   "id": "778a6d11",
   "metadata": {},
   "outputs": [],
   "source": [
    "# Read x and y coordinates separately\n",
    "x = point1.x\n",
    "y = point1.y\n",
    "\n",
    "print(x, y)"
   ]
  },
  {
   "cell_type": "code",
   "execution_count": null,
   "id": "59fa7b5e",
   "metadata": {},
   "outputs": [],
   "source": [
    "# Read x, y, and z\n",
    "x = point4_3D.x\n",
    "y = point4_3D.y\n",
    "z = point4_3D.z\n",
    "\n",
    "print(x, y, z)"
   ]
  },
  {
   "cell_type": "markdown",
   "id": "77b0eb3a",
   "metadata": {},
   "source": [
    "It is also possible to calculate the distance between two objects using the\n",
    "[distance](https://shapely.readthedocs.io/en/stable/manual.html#object.distance)\n",
    "method.\n",
    "\n",
    "In our example the distance is calculated in a cartesian coordinate system.\n",
    "When working with real GIS data the distance is based on the used coordinate\n",
    "reference system. always check what is the unit of measurement (for example,\n",
    "meters) in the coordinate reference system you are using.\n",
    "\n",
    "Let’s calculate the distance between `point1` and `point2`:"
   ]
  },
  {
   "cell_type": "code",
   "execution_count": null,
   "id": "496f1ecb",
   "metadata": {},
   "outputs": [],
   "source": [
    "# Check input data\n",
    "print(point1)\n",
    "print(point2)"
   ]
  },
  {
   "cell_type": "code",
   "execution_count": null,
   "id": "850874a6",
   "metadata": {},
   "outputs": [],
   "source": [
    "# Calculate the distance between point1 and point2\n",
    "dist = point1.distance(point2)\n",
    "\n",
    "# Print out a nicely formatted info message\n",
    "print(f\"Distance between the points is {dist:.2f} units\")"
   ]
  },
  {
   "cell_type": "markdown",
   "id": "1bc5f625",
   "metadata": {},
   "source": [
    ":::{caution}\n",
    "\n",
    "Shapely geometries are, by design, agnostic (unaware) of the reference system\n",
    "used to represent them. Distances and surface area calculated using the\n",
    "built-in shapely methods will always:\n",
    "a) assume a flat, Cartesian, Euclidean space, and \n",
    "b) return the calculated value in the unit of the coordinates (e.g.,\n",
    "   meters, or degrees).\n",
    "\n",
    "This is perfectly fine for small-scale geo-spatial operations, if you **keep\n",
    "yourself aware of the expected output unit**. Most packages built on top of\n",
    "shapely, for instance [GeoPandas](https://geopandas.org/), which we will get to\n",
    "know in lesson 2, bring their own functions and take the coordinate reference\n",
    "system into consideration.\n",
    "\n",
    ":::\n",
    "\n",
    "\n",
    "\n",
    "## Lines\n",
    "\n",
    "\n",
    "Creating `LineString` objects is similar to creating `Points`. Instead of a\n",
    "single coordinate tuple, we pass a list of coordinate tuples, or a list of\n",
    "points, that make up the line:"
   ]
  },
  {
   "cell_type": "code",
   "execution_count": null,
   "id": "a870f22a",
   "metadata": {},
   "outputs": [],
   "source": [
    "# import the LineString class\n",
    "from shapely.geometry import LineString\n",
    "\n",
    "# Create a LineString from our Point objects\n",
    "line = LineString([point1, point2, point3])"
   ]
  },
  {
   "cell_type": "code",
   "execution_count": null,
   "id": "afc6388e",
   "metadata": {},
   "outputs": [],
   "source": [
    "# Create a LineString from a list of coordinates:\n",
    "# (with the same coordinate values as the points, so results should be identical)\n",
    "line2 = LineString([(2.2, 4.2), (7.2, -25.1), (9.26, -2.456)])"
   ]
  },
  {
   "cell_type": "code",
   "execution_count": null,
   "id": "c6f32615",
   "metadata": {},
   "outputs": [],
   "source": [
    "# Check if the lines are, indeed, identical:\n",
    "line == line2"
   ]
  },
  {
   "cell_type": "markdown",
   "id": "e39d8c00",
   "metadata": {},
   "source": [
    "Let’s see how our line looks like:"
   ]
  },
  {
   "cell_type": "code",
   "execution_count": null,
   "id": "a4272fc5",
   "metadata": {},
   "outputs": [],
   "source": [
    "line"
   ]
  },
  {
   "cell_type": "code",
   "execution_count": null,
   "id": "2263700e",
   "metadata": {},
   "outputs": [],
   "source": [
    "print(line)"
   ]
  },
  {
   "cell_type": "markdown",
   "id": "28c99e43",
   "metadata": {},
   "source": [
    "Again, the text representation is in WKT format. WKT is convenient as it is a\n",
    "human-readable text format that also most GIS tools can readily use. \n",
    "\n",
    "It’s not surprising, but we can see that a `LineString` is constituted of\n",
    "multiple coordinate tuples. In fact, the value(s) of a WKT `LINESTRING` are made\n",
    "up of the values of multiple WKT `POINTS`, joined together with a comma.\n",
    "\n",
    "Check also the data type:"
   ]
  },
  {
   "cell_type": "code",
   "execution_count": null,
   "id": "3616c380",
   "metadata": {},
   "outputs": [],
   "source": [
    "# Check data type of the line object\n",
    "type(line)"
   ]
  },
  {
   "cell_type": "code",
   "execution_count": null,
   "id": "b88035df",
   "metadata": {},
   "outputs": [],
   "source": [
    "# Check geometry type of the line object\n",
    "line.geom_type"
   ]
  },
  {
   "cell_type": "markdown",
   "id": "c148bf68",
   "metadata": {},
   "source": [
    "### `LineString` properties and methods\n",
    "\n",
    "Linear geometries in their shapely representations (`LineString`, `LinearRing`,\n",
    "`MultiLineString`) have a variety of properties and methods that expose useful\n",
    "functionality. For instance, it is possible to access a geometry’s coordinates,\n",
    "calculate its lengths, find its centre point, create points along the line at a\n",
    "specified interval, or compute the closest distance between a line an another\n",
    "geometry. \n",
    "\n",
    "\n",
    ":::{tip}\n",
    "\n",
    "Consult the [Shapely user\n",
    "manual](https://shapely.readthedocs.io/en/stable/manual.html) for a complete\n",
    "list of geometry attributes and operations on one or more geometries.\n",
    "\n",
    ":::\n",
    "\n",
    "\n",
    "Fundamentally, accessing the coordinates of a line is very similar as accessing\n",
    "the ones of a point:"
   ]
  },
  {
   "cell_type": "code",
   "execution_count": null,
   "id": "87952584",
   "metadata": {},
   "outputs": [],
   "source": [
    "# Get coordinate tuples\n",
    "list(line.coords)"
   ]
  },
  {
   "cell_type": "markdown",
   "id": "14dae108",
   "metadata": {},
   "source": [
    "Because a line has to have at least two coordinate tuples, the list now\n",
    "contains more than the one value we saw earlier with points.\n",
    "\n",
    "\n",
    "If you would need to access all x-coordinates or all y-coordinates of the line,\n",
    "you can use its `xy` attribute (an iterator, but, again, for now, we can use\n",
    "them as lists):"
   ]
  },
  {
   "cell_type": "code",
   "execution_count": null,
   "id": "33da1c5c",
   "metadata": {},
   "outputs": [],
   "source": [
    "# Obtain x and y coordinates\n",
    "xcoords = list(line.xy[0])\n",
    "ycoords = list(line.xy[1])\n",
    "\n",
    "print(xcoords)\n",
    "print(ycoords)"
   ]
  },
  {
   "cell_type": "markdown",
   "id": "31ebc8ff",
   "metadata": {},
   "source": [
    ":::{admonition} 3D-LineStrings\n",
    ":class: warning\n",
    "\n",
    "Note that the `xy` property of shapely geometries does not return `z` values\n",
    "for three-dimensional geometries.\n",
    "\n",
    ":::\n",
    "\n",
    "\n",
    "Other properties of lines that are useful for GIS analyses include the length\n",
    "and the centre point (centroid) of lines:"
   ]
  },
  {
   "cell_type": "code",
   "execution_count": null,
   "id": "21bc5109",
   "metadata": {},
   "outputs": [],
   "source": [
    "# Get the length of the line\n",
    "line_length = line.length\n",
    "print(f\"Length of our line: {line_length:.1f} units\")"
   ]
  },
  {
   "cell_type": "code",
   "execution_count": null,
   "id": "d59e8ee3",
   "metadata": {},
   "outputs": [],
   "source": [
    "# Get the centre point of the line\n",
    "print(line.centroid)"
   ]
  },
  {
   "cell_type": "markdown",
   "id": "f6d125d2",
   "metadata": {},
   "source": [
    "The centroid (or centre *point*) of a line (or any other shapely geometry) is a\n",
    "`shapely.geometry.Point` object.\n",
    "\n",
    "\n",
    "\n",
    "## Polygon\n",
    "\n",
    "Creating a polygon geometry follows the same logic as creating a point or line\n",
    "geometry. However, [as discussed above](#polygons) the rules for what\n",
    "constitutes a polygon are more complex: It is constructed of exactly one linear\n",
    "ring forming its exterior (perimeter), and any number of additional linear\n",
    "rings forming holes that are cut out of the exterior shell.\n",
    "\n",
    "Consequently, the `shapely.geometry.Polygon` *constructor* function accepts two\n",
    "parameter: the first one, `shell`, is a list of coordinate tuples, a list of\n",
    "points, or a `LinearRing`, and will form the outer hull of the new polygon. The\n",
    "second, optional, parameter `holes` can be a list of holes to cut out of\n",
    "`shell` (the items in the list can be the same data types as `shell`).\n",
    "\n",
    "For now, let’s create a simple polygon without any holes. The first example\n",
    "uses **(at least three) coordinate tuples** (three points are required to form\n",
    "a surface):"
   ]
  },
  {
   "cell_type": "code",
   "execution_count": null,
   "id": "a8775cc3",
   "metadata": {},
   "outputs": [],
   "source": [
    "from shapely.geometry import Polygon\n",
    "\n",
    "# Create a Polygon from the coordinates\n",
    "polygon1 = Polygon([(2.2, 4.2), (7.2, -25.1), (9.26, -2.456)])"
   ]
  },
  {
   "cell_type": "markdown",
   "id": "46636082",
   "metadata": {},
   "source": [
    "We can also construct the polygon directly from a list of points:"
   ]
  },
  {
   "cell_type": "code",
   "execution_count": null,
   "id": "eb9f7119",
   "metadata": {},
   "outputs": [],
   "source": [
    "polygon2 = Polygon([point1, point2, point3])"
   ]
  },
  {
   "cell_type": "markdown",
   "id": "1a4f688e",
   "metadata": {},
   "source": [
    "… or from a [`LinearRing`](https://shapely.readthedocs.io/en/stable/manual.html#linearrings)\n",
    "(which has an [almost identical behaviour](#linestrings) as a `LineString`,\n",
    "except that it is closed, i.e., the first and last point are identical):"
   ]
  },
  {
   "cell_type": "code",
   "execution_count": null,
   "id": "e7921e20",
   "metadata": {},
   "outputs": [],
   "source": [
    "from shapely.geometry import LinearRing\n",
    "\n",
    "shell = LinearRing([point1, point2, point3, point1])\n",
    "polygon3 = Polygon(shell)"
   ]
  },
  {
   "cell_type": "markdown",
   "id": "1cce1308",
   "metadata": {},
   "source": [
    "(When constructing a `shapely.geometry.LinearRing`, you can omit listing\n",
    "the first point again at the end; shapely will then implicitely add the\n",
    "first point another time to the end of the list of points)\n",
    "\n",
    "We used different methods to construct the three polygons, but we used the\n",
    "same values. Let’s see whether they ended up describing identical geometries:"
   ]
  },
  {
   "cell_type": "code",
   "execution_count": null,
   "id": "3ef118c3",
   "metadata": {},
   "outputs": [],
   "source": [
    "polygon1 == polygon2 == polygon3"
   ]
  },
  {
   "cell_type": "markdown",
   "id": "4e12b15f",
   "metadata": {},
   "source": [
    "Let’s also see how the polygon looks like drawn, and what its text\n",
    "representation is:"
   ]
  },
  {
   "cell_type": "code",
   "execution_count": null,
   "id": "b74d7838",
   "metadata": {},
   "outputs": [],
   "source": [
    "polygon1"
   ]
  },
  {
   "cell_type": "code",
   "execution_count": null,
   "id": "54733104",
   "metadata": {},
   "outputs": [],
   "source": [
    "print(polygon1)"
   ]
  },
  {
   "cell_type": "markdown",
   "id": "653d1ae8",
   "metadata": {},
   "source": [
    "Just like with points and lines, the text representation of a\n",
    "`shapely.geometry.Polygon` is in the Well-Known Text format. Note how a WKT\n",
    "`POLYGON` is made up of the values of one or more WKT `LINEARRING`’s values\n",
    "(closed line strings), in parentheses, and joined together by commas. The first\n",
    "linear ring represents the exterior, all following ones holes.\n",
    "(Our example polygon consists of one linear ring, only, so no need for the comma).\n",
    "\n",
    "\n",
    "Check also the data type:"
   ]
  },
  {
   "cell_type": "code",
   "execution_count": null,
   "id": "f8e6d893",
   "metadata": {},
   "outputs": [],
   "source": [
    "# Data type\n",
    "type(polygon1)"
   ]
  },
  {
   "cell_type": "code",
   "execution_count": null,
   "id": "61da0a8a",
   "metadata": {},
   "outputs": [],
   "source": [
    "# Geometry type\n",
    "polygon1.geom_type"
   ]
  },
  {
   "cell_type": "markdown",
   "id": "36621875",
   "metadata": {},
   "source": [
    ":::{tip}\n",
    "\n",
    "You can always use the built-in `help()` function to find out how a function or\n",
    "class works, which parameters it expects, and what properties and methods you\n",
    "can use:\n",
    "\n",
    ":::"
   ]
  },
  {
   "cell_type": "code",
   "execution_count": null,
   "id": "090f67d5",
   "metadata": {
    "tags": [
     "hide-output"
    ]
   },
   "outputs": [],
   "source": [
    "# Check the help for Polygon objects:\n",
    "help(Polygon)"
   ]
  },
  {
   "cell_type": "markdown",
   "id": "35cdb380",
   "metadata": {},
   "source": [
    "Let’s still see how to create a polygon with a hole:"
   ]
  },
  {
   "cell_type": "code",
   "execution_count": null,
   "id": "a59db26b",
   "metadata": {},
   "outputs": [],
   "source": [
    "# define the exterior\n",
    "outer = LinearRing([(-180, 90), (-180, -90), (180, -90), (180, 90)])\n",
    "\n",
    "# define a hole:\n",
    "hole = LinearRing([(-170, 80), (-100, -80), (100, -80), (170, 80)])"
   ]
  },
  {
   "cell_type": "markdown",
   "id": "3c67ae57",
   "metadata": {},
   "source": [
    "Let’s see how the exterior shell and the hole look like on their own:"
   ]
  },
  {
   "cell_type": "code",
   "execution_count": null,
   "id": "0152812c",
   "metadata": {},
   "outputs": [],
   "source": [
    "outer"
   ]
  },
  {
   "cell_type": "code",
   "execution_count": null,
   "id": "488f0485",
   "metadata": {},
   "outputs": [],
   "source": [
    "hole"
   ]
  },
  {
   "cell_type": "markdown",
   "id": "1cc951c3",
   "metadata": {},
   "source": [
    "A polygon using only the exterior shell:"
   ]
  },
  {
   "cell_type": "code",
   "execution_count": null,
   "id": "76dc53d8",
   "metadata": {},
   "outputs": [],
   "source": [
    "polygon_without_hole = Polygon(outer)\n",
    "polygon_without_hole"
   ]
  },
  {
   "cell_type": "markdown",
   "id": "f0c7ebb5",
   "metadata": {},
   "source": [
    "And, finally, a polygon defined by the exterior shell, and one hole\n",
    "(note that `holes` need to be specified as a list):"
   ]
  },
  {
   "cell_type": "code",
   "execution_count": null,
   "id": "e976c588",
   "metadata": {},
   "outputs": [],
   "source": [
    "polygon_with_hole = Polygon(outer, [hole])\n",
    "polygon_with_hole"
   ]
  },
  {
   "cell_type": "code",
   "execution_count": null,
   "id": "9ae7f5a1",
   "metadata": {},
   "outputs": [],
   "source": [
    "print(polygon_without_hole)\n",
    "print(polygon_with_hole)"
   ]
  },
  {
   "cell_type": "markdown",
   "id": "aaf277ae",
   "metadata": {},
   "source": [
    "### Polygon properties and methods\n",
    "\n",
    "Very similar to lines and points, also `shapely.geometry.Polygon`s expose a\n",
    "number of properties and methods that can be useful for spatial analysis tasks.\n",
    "Consult the [shapely user\n",
    "manual](https://shapely.readthedocs.io/en/stable/manual.html) for a complete\n",
    "list, and see a few examples here:"
   ]
  },
  {
   "cell_type": "code",
   "execution_count": null,
   "id": "c21d908c",
   "metadata": {},
   "outputs": [],
   "source": [
    "print(f\"Polygon centroid: {polygon_with_hole.centroid}\")\n",
    "print(f\"Polygon area: {polygon_with_hole.area}\")\n",
    "print(f\"Polygon bounding box: {polygon_with_hole.bounds}\")\n",
    "print(f\"Polygon exterior ring: {polygon_with_hole.exterior}\")\n",
    "print(f\"Polygon circumference: {polygon_with_hole.exterior.length}\")"
   ]
  },
  {
   "cell_type": "markdown",
   "id": "9202d5ca",
   "metadata": {},
   "source": [
    "As we can see above, it is again fairly straightforward to access different attributes of `Polygon` objects. Note that distance metrics will make more sense when we start working with data in projected coordinate systems.\n",
    "\n",
    "\n",
    "## Check your understanding\n",
    "\n",
    "Plot these shapes using shapely!\n",
    "\n",
    "- **Pentagon**, example coordinates: `(30, 2.01), (31.91, 0.62), (31.18, -1.63), (28.82, -1.63), (28.09, 0.62)`\n",
    "- **Triangle**\n",
    "- **Square**\n",
    "- **Circle**"
   ]
  },
  {
   "cell_type": "code",
   "execution_count": null,
   "id": "4e765379",
   "metadata": {},
   "outputs": [],
   "source": [
    "# Pentagon \n",
    "Polygon([(30, 2.01), (31.91, 0.62), (31.18, -1.63), (28.82, -1.63), (28.09, 0.62)])"
   ]
  },
  {
   "cell_type": "code",
   "execution_count": null,
   "id": "31857f6c",
   "metadata": {},
   "outputs": [],
   "source": [
    "# Triangle\n",
    "Polygon([(0,0), (2,4), (4,0)])"
   ]
  },
  {
   "cell_type": "code",
   "execution_count": null,
   "id": "82dfcc50",
   "metadata": {},
   "outputs": [],
   "source": [
    "# Square\n",
    "Polygon([(0,0), (0,4), (4,4), (4,0)])"
   ]
  },
  {
   "cell_type": "code",
   "execution_count": null,
   "id": "fa3073b7",
   "metadata": {},
   "outputs": [],
   "source": [
    "# Circle (using a buffer around a point)\n",
    "point = Point((0,0))\n",
    "point.buffer(1)"
   ]
  },
  {
   "cell_type": "markdown",
   "id": "38053c94",
   "metadata": {},
   "source": [
    "## Geometry collections (optional)\n",
    "\n",
    "Sometimes, it can be useful to store multiple geometries (for example, several\n",
    "points or several polygons) in a single feature. See, for instance, the\n",
    "[example of Tyrol above](#multipolygons). Its two parts share the same\n",
    "attributes, and together are equivalent to any of the other provinces of\n",
    "Austria. Semantically, it would not make sense to store the two polygons in\n",
    "separate rows. If expressed as a MultiPolygon, Tyrol would represent one\n",
    "row of information in the attribute table with multiple polygons attached.\n",
    "\n",
    "\n",
    ":::{caution}\n",
    "By convention, data sets should always consist of either single- or\n",
    "multi-geometries. Some file formats enforce this, and many GIS tools refuse\n",
    "operation on data sets with mixed single- and multi-geometries.\n",
    "\n",
    "If one feature in a data set is a MultiGeometry, all other features should be\n",
    "converted, too. All single geometries can be expressed as a collection of one\n",
    "item.\n",
    ":::\n",
    "\n",
    "\n",
    "In shapely, collections of points are implemented as `MultiPoint` geometries,\n",
    "collections of lines as `MultiLineString` geometries, and collections of\n",
    "polygons as `MultiPolygon` geometries."
   ]
  },
  {
   "cell_type": "code",
   "execution_count": null,
   "id": "5d1d545c",
   "metadata": {},
   "outputs": [],
   "source": [
    "from shapely.geometry import MultiPoint, MultiLineString, MultiPolygon\n",
    "\n",
    "# Create a MultiPoint object of our points 1,2 and 3\n",
    "multipoint = MultiPoint([point1, point2, point3])\n",
    "\n",
    "# We can also create a MultiLineString with two lines\n",
    "line1 = LineString([point1, point2])\n",
    "line2 = LineString([point2, point3])\n",
    "multiline = MultiLineString([line1, line2])\n",
    "\n",
    "print(multipoint)\n",
    "print(multiline)"
   ]
  },
  {
   "cell_type": "code",
   "execution_count": null,
   "id": "1bbab737",
   "metadata": {},
   "outputs": [],
   "source": [
    "multipoint"
   ]
  },
  {
   "cell_type": "code",
   "execution_count": null,
   "id": "049d3631",
   "metadata": {},
   "outputs": [],
   "source": [
    "multiline"
   ]
  },
  {
   "cell_type": "markdown",
   "id": "1e9174bc",
   "metadata": {},
   "source": [
    "`MultiPolygons` are constructed in a similar manner. Let’s create a bounding box\n",
    "for ‘the world’ by combining two separate polygons that represent the western and\n",
    "eastern hemispheres."
   ]
  },
  {
   "cell_type": "code",
   "execution_count": null,
   "id": "3aa1b2e2",
   "metadata": {},
   "outputs": [],
   "source": [
    "# Let’s create the exterior of the western part of the world\n",
    "western_hemisphere = Polygon([(-180, 90), (-180, -90), (0, -90), (0, 90)])\n",
    "print(western_hemisphere)\n",
    "western_hemisphere"
   ]
  },
  {
   "cell_type": "markdown",
   "id": "899dd884",
   "metadata": {},
   "source": [
    "Shapely has a short-hand function for creating rectangular polygons, ‘boxes’. It\n",
    "can be used, for instance, to create [bounding\n",
    "boxes](https://en.wikipedia.org/wiki/Minimum_bounding_box) using minimum and\n",
    "maximum x and y coordinates. \n",
    "\n",
    "Let’s use\n",
    "[shapely.geometry.box()](https://shapely.readthedocs.io/en/stable/manual.html#shapely.geometry.box)\n",
    "for creating the polygon representing the the eastern hemisphere:"
   ]
  },
  {
   "cell_type": "code",
   "execution_count": null,
   "id": "e3f0d928",
   "metadata": {},
   "outputs": [],
   "source": [
    "from shapely.geometry import box\n",
    "min_x = 0\n",
    "max_x = 180\n",
    "min_y = -90\n",
    "max_y = 90\n",
    "\n",
    "eastern_hemisphere = box(min_x, min_y, max_x, max_y)\n",
    "\n",
    "print(eastern_hemisphere)\n",
    "eastern_hemisphere"
   ]
  },
  {
   "cell_type": "markdown",
   "id": "bb35e77e",
   "metadata": {},
   "source": [
    "Finally, we can combine the two polygons into a MultiPolygon:"
   ]
  },
  {
   "cell_type": "code",
   "execution_count": null,
   "id": "bdec1463",
   "metadata": {},
   "outputs": [],
   "source": [
    "# Let’s create our MultiPolygon.\n",
    "# Pass multiple Polygon objects as a list\n",
    "multipolygon = MultiPolygon([western_hemisphere, eastern_hemisphere])\n",
    "\n",
    "print(multipolygon)\n",
    "multipolygon"
   ]
  },
  {
   "cell_type": "markdown",
   "id": "2d7e2462",
   "metadata": {},
   "source": [
    "Multi-geometries are in many ways similar to simple geometries, like the ones we\n",
    "created earlier. The main difference is that they can combine multiple geometric\n",
    "primitives into one feature.\n",
    "\n",
    "\n",
    "## Convex hull and envelope\n",
    "\n",
    "A ‘convex hull’ refers to the smallest possible\n",
    "[convex](https://en.wikipedia.org/wiki/Convex_set) polygon that can contain a\n",
    "geometry or a set of geometries. Alongside bounding boxes, convex hulls are\n",
    "useful to describe the extent of data sets."
   ]
  },
  {
   "cell_type": "code",
   "execution_count": null,
   "id": "0d1c8bd5",
   "metadata": {},
   "outputs": [],
   "source": [
    "# Check input geometry\n",
    "multipoint"
   ]
  },
  {
   "cell_type": "code",
   "execution_count": null,
   "id": "a3ef3ccf",
   "metadata": {},
   "outputs": [],
   "source": [
    "# Convex Hull\n",
    "multipoint.convex_hull"
   ]
  },
  {
   "cell_type": "code",
   "execution_count": null,
   "id": "f1ac9136",
   "metadata": {},
   "outputs": [],
   "source": [
    "# Envelope (smalles rectangular polygon around a geometry/set of geometries):\n",
    "multipoint.envelope"
   ]
  },
  {
   "cell_type": "markdown",
   "id": "c6ef5c60",
   "metadata": {},
   "source": [
    "## Validity of geometries\n",
    "\n",
    "As discussed on the very top of this page, already the geometric primitives have\n",
    "certain requirements. For instance, a `LineString` must consist of at least two\n",
    "points, and a `Polygon`’s [exterior shell and holes must not\n",
    "intersect](https://shapely.readthedocs.io/en/1.8.5/manual.html#polygons).\n",
    "\n",
    "Each shapely geometry has a built-in check that can be of great help, for\n",
    "instance, finding topological errors:"
   ]
  },
  {
   "cell_type": "code",
   "execution_count": null,
   "id": "badb52be",
   "metadata": {},
   "outputs": [],
   "source": [
    "print(f\"Is polygon valid?: {polygon_with_hole.is_valid}\")"
   ]
  }
 ],
 "metadata": {
  "kernelspec": {
   "display_name": "Python 3 (ipykernel)",
   "language": "python",
   "name": "python3"
  },
  "language_info": {
   "codemirror_mode": {
    "name": "ipython",
    "version": 3
   },
   "file_extension": ".py",
   "mimetype": "text/x-python",
   "name": "python",
   "nbconvert_exporter": "python",
   "pygments_lexer": "ipython3",
   "version": "3.11.7"
  }
 },
 "nbformat": 4,
 "nbformat_minor": 5
}
