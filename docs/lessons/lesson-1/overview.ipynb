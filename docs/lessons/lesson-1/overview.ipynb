{
 "cells": [
  {
   "cell_type": "markdown",
   "id": "adf7d0bc",
   "metadata": {},
   "source": [
    "# Overview\n",
    "\n",
    "Before we start to work with entire data sets next week, we first have to become\n",
    "familiar with basic geometric objects (primitives): in the centre of this week’s\n",
    "lesson stand points, lines, and polygons.\n",
    "\n",
    "We will learn how to create and manipulate ‘simple features’ in Python, using\n",
    "the Python package [shapely](https://shapely.readthedocs.io/)."
   ]
  },
  {
   "cell_type": "markdown",
   "id": "fac01669",
   "metadata": {},
   "source": [
    "## Learning goals:\n",
    "\n",
    "After this lesson, you will be able to:\n",
    "- find Python packages for GIS and spatial analysis,\n",
    "- understand and describe how geometric objects (points, lines, polygons) are\n",
    "  handled and stored by *shapely*, and\n",
    "- create geometries given their coordinate values."
   ]
  },
  {
   "cell_type": "markdown",
   "id": "425bcb07",
   "metadata": {},
   "source": [
    "## Slides\n",
    "\n",
    "<embed src=\"https://automating-gis-processes.github.io/slides/2023/introduction.html\" type=\"text/html\" style=\"width: 100%; height: 30em\" />"
   ]
  },
  {
   "cell_type": "markdown",
   "id": "222bbd1d",
   "metadata": {},
   "source": [
    "## Lesson video\n",
    "\n",
    "<iframe width=\"560\" height=\"315\" src=\"https://www.youtube.com/embed/heEKeH2ECSk?si=TZem7YtYXlz3xaxh\" title=\"YouTube video player\" frameborder=\"0\" allow=\"accelerometer; autoplay; clipboard-write; encrypted-media; gyroscope; picture-in-picture; web-share\" allowfullscreen></iframe>"
   ]
  }
 ],
 "metadata": {
  "jupytext": {
   "cell_metadata_filter": "-all",
   "main_language": "python",
   "notebook_metadata_filter": "-all"
  }
 },
 "nbformat": 4,
 "nbformat_minor": 5
}
