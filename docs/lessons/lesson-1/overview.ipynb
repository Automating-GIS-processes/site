{
 "cells": [
  {
   "cell_type": "markdown",
   "id": "adf7d0bc",
   "metadata": {},
   "source": [
    "# Overview\n",
    "\n",
    "Before we start to work with entire data sets next week, we first have to become\n",
    "familiar with basic geometric objects (primitives): in the centre of this week’s\n",
    "lesson stand points, lines, and polygons.\n",
    "\n",
    "We will learn how to create and manipulate ‘simple features’ in Python, using\n",
    "the Python package [shapely](https://shapely.readthedocs.io/)."
   ]
  },
  {
   "cell_type": "markdown",
   "id": "fac01669",
   "metadata": {},
   "source": [
    "## Learning goals:\n",
    "\n",
    "After this lesson, you will be able to:\n",
    "\n",
    "- find Python packages for GIS and spatial analysis,\n",
    "- understand and describe how geometric objects (points, lines, polygons) are handled and stored by *shapely*, and\n",
    "- create geometries given their coordinate values."
   ]
  },
  {
   "cell_type": "markdown",
   "id": "425bcb07",
   "metadata": {},
   "source": [
    "## Slides\n",
    "\n",
    "<iframe src=\"https://docs.google.com/presentation/d/e/2PACX-1vRCVGNoJyKDRBTjNkTK1QBOxGGr3HmzRT-S9ETFjymjdxU75ESwSdObtytkESKkSg/embed?start=false&loop=false&delayms=60000\" frameborder=\"0\" width=\"1280\" height=\"749\" allowfullscreen=\"true\" mozallowfullscreen=\"true\" webkitallowfullscreen=\"true\"></iframe>"
   ]
  },
  {
   "cell_type": "markdown",
   "id": "222bbd1d",
   "metadata": {},
   "source": [
    "## Lesson video\n",
    "\n"
   ]
  }
 ],
 "metadata": {
  "jupytext": {
   "cell_metadata_filter": "-all",
   "main_language": "python",
   "notebook_metadata_filter": "-all"
  },
  "kernelspec": {
   "display_name": "Python 3 (ipykernel)",
   "language": "python",
   "name": "python3"
  },
  "language_info": {
   "codemirror_mode": {
    "name": "ipython",
    "version": 3
   },
   "file_extension": ".py",
   "mimetype": "text/x-python",
   "name": "python",
   "nbconvert_exporter": "python",
   "pygments_lexer": "ipython3",
   "version": "3.11.7"
  }
 },
 "nbformat": 4,
 "nbformat_minor": 5
}
