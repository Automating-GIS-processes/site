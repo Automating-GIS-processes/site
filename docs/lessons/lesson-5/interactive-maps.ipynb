{
 "cells": [
  {
   "cell_type": "markdown",
   "id": "267ca294",
   "metadata": {},
   "source": [
    "# Interactive maps\n",
    "\n",
    "[Online\n",
    "maps](https://link.springer.com/referenceworkentry/10.1007/978-3-319-23519-6_1485-2)\n",
    "have been interactive for a long time: virtually all online maps allow to zoom\n",
    "in and out, to pan the map extent, and to select map features, or otherwise\n",
    "query information about them.\n",
    "\n",
    "Interactive content in web pages, such as online maps, are typically\n",
    "implemented using\n",
    "[*JavaScript*/*ECMAScript*](https://en.wikipedia.org/wiki/ECMAScript), a scripting\n",
    "language originally targeted at web pages, primarily, but used for many other\n",
    "applications.\n",
    "\n",
    "In the open source realm, there exist a number of different *JavaScript*\n",
    "libraries for interactive web cartography, including\n",
    "[Leaflet](https://leafletjs.com/), which we will use in this lesson, and\n",
    "[OpenLayers](https://openlayers.org/).\n",
    "\n",
    "No worries, we will not have to write a single line of *JavaScript*; this is a\n",
    "*Python* course, after all. Rather, we will take advantage of the\n",
    "[*Folium*](https://python-visualization.github.io/folium/) Python package: it\n",
    "helps create interactive *Leaflet* maps from data stored in\n",
    "`geopandas.GeoDataFrame`s.\n",
    "\n",
    "\n",
    "> **Folium Resources**  \n",
    ">  \n",
    "> Find more information about the capabilities of the *Folium* package on its official web pages:  \n",
    "> - [Documentation](https://python-visualization.github.io/folium/)  \n",
    "> - [Example Gallery](https://nbviewer.org/github/python-visualization/folium/tree/main/examples/)  \n",
    "> - [Quickstart Tutorial](https://python-visualization.github.io/folium/quickstart.html#Getting-Started)\n",
    "\n",
    "\n",
    "## Create a simple interactive web map\n",
    "\n",
    "We will start by creating a simple interactive web map that contains nothing\n",
    "but a base map. This is so we get acustomed to how *Folium*’s syntax works, and\n",
    "which steps we have to take.\n",
    "\n",
    "We create a `folium.Map` object, and specify centred around which `location`\n",
    "and at which initial zoom level (~0-20) a map shall be displayed. By setting\n",
    "`control_scale` to `True`, we make *Folium* display a scale bar."
   ]
  },
  {
   "cell_type": "code",
   "execution_count": null,
   "id": "adaa8e35",
   "metadata": {},
   "outputs": [],
   "source": [
    "import pathlib\n",
    "NOTEBOOK_PATH = pathlib.Path().resolve()\n",
    "DATA_DIRECTORY = NOTEBOOK_PATH / \"data\"\n",
    "\n",
    "# We will export HTML pages during this lesson,\n",
    "# let’s also prepare an output directory for them:\n",
    "HTML_DIRECTORY = NOTEBOOK_PATH / \"html\"\n",
    "HTML_DIRECTORY.mkdir(exist_ok=True)"
   ]
  },
  {
   "cell_type": "code",
   "execution_count": null,
   "id": "4484e786",
   "metadata": {},
   "outputs": [],
   "source": [
    "import folium\n",
    "\n",
    "interactive_map = folium.Map(\n",
    "    location=(60.2, 24.8),\n",
    "    zoom_start=10,\n",
    "    control_scale=True\n",
    ")\n",
    "\n",
    "interactive_map"
   ]
  },
  {
   "cell_type": "markdown",
   "id": "0380cbff",
   "metadata": {},
   "source": [
    "### Save the resulting map\n",
    "\n",
    "To save this map to an HTML file that can be opened in any web browser,\n",
    "use [`folium.Map.save()`](https://python-visualization.github.io/branca/element.html#branca.element.Element.save):"
   ]
  },
  {
   "cell_type": "code",
   "execution_count": null,
   "id": "07cce389",
   "metadata": {},
   "outputs": [],
   "source": [
    "interactive_map.save(HTML_DIRECTORY / \"base-map.html\")"
   ]
  },
  {
   "cell_type": "markdown",
   "id": "aa922c79",
   "metadata": {},
   "source": [
    "### Change the base map\n",
    "\n",
    "If you want to use a different base layer than the default OpenStreetMap,\n",
    "`folium.Map` accepts a parameter `tiles`, that can either reference [one of the\n",
    "built-in map providers](https://python-visualization.github.io/folium/modules.html#folium.folium.Map).\n",
    "\n",
    "While we’re at it, let’s also vary the centre location and the zoom level\n",
    "of the map:"
   ]
  },
  {
   "cell_type": "code",
   "execution_count": null,
   "id": "773167d9",
   "metadata": {},
   "outputs": [],
   "source": [
    "interactive_map = folium.Map(\n",
    "    location=(60.2, 25.00),\n",
    "    zoom_start=12,\n",
    "    tiles=\"cartodbpositron\"\n",
    ")\n",
    "interactive_map"
   ]
  },
  {
   "cell_type": "markdown",
   "id": "41f73981",
   "metadata": {},
   "source": [
    "Or we can point to a custom *tileset URL*:"
   ]
  },
  {
   "cell_type": "code",
   "execution_count": null,
   "id": "8a450489",
   "metadata": {},
   "outputs": [],
   "source": [
    "interactive_map = folium.Map(\n",
    "    location=(60.2, 25.00),\n",
    "    zoom_start=12,\n",
    "    tiles=\"https://mt1.google.com/vt/lyrs=r&x={x}&y={y}&z={z}\",\n",
    "    attr=\"Google maps\",\n",
    ")\n",
    "interactive_map"
   ]
  },
  {
   "cell_type": "markdown",
   "id": "4f52d09e",
   "metadata": {},
   "source": [
    "## Add a point marker\n",
    "\n",
    "To add a single marker to a *Folium* map, create a\n",
    "[`folium.Marker`](https://python-visualization.github.io/folium/modules.html#folium.map.Marker).\n",
    "Supply a\n",
    "[`folium.Icon`](https://python-visualization.github.io/folium/modules.html#folium.map.Icon)\n",
    "as a parameter `icon` to influence how the marker is styled, and set `tooltip`\n",
    "to display a text when the mouse pointer hovers over it."
   ]
  },
  {
   "cell_type": "code",
   "execution_count": null,
   "id": "7992ac9a",
   "metadata": {},
   "outputs": [],
   "source": [
    "interactive_map = folium.Map(\n",
    "    location=(60.2, 25.0),\n",
    "    zoom_start=12\n",
    ")\n",
    "\n",
    "kumpula = folium.Marker(\n",
    "    location=(60.204, 24.962),\n",
    "    tooltip=\"Kumpula Campus\",\n",
    "    icon=folium.Icon(color=\"green\", icon=\"ok-sign\")\n",
    ")\n",
    "kumpula.add_to(interactive_map)\n",
    "\n",
    "interactive_map"
   ]
  },
  {
   "cell_type": "markdown",
   "id": "542ce805",
   "metadata": {},
   "source": [
    "## Add a layer of points\n",
    "\n",
    "*Folium* also supports to add entire layers, for instance, as\n",
    "`geopandas.GeoDataFrames`. *Folium* implements [*Leaflet*’s `geoJSON`\n",
    "layers](https://leafletjs.com/reference.html#geojson) in its\n",
    "`folium.features.GeoJson` class. We can initialise such a class (and layer)\n",
    "with a geo-data frame, and add it to a map. In the example below, we use the\n",
    "`addresses.gpkg` data set we create [in lesson\n",
    "3](../lesson-3/geocoding-in-geopandas)."
   ]
  },
  {
   "cell_type": "code",
   "execution_count": null,
   "id": "7c512ac2",
   "metadata": {},
   "outputs": [],
   "source": [
    "import geopandas\n",
    "\n",
    "addresses = geopandas.read_file(DATA_DIRECTORY / \"addresses.gpkg\")\n",
    "addresses.head()"
   ]
  },
  {
   "cell_type": "code",
   "execution_count": null,
   "id": "46b3e935",
   "metadata": {},
   "outputs": [],
   "source": [
    "interactive_map = folium.Map(\n",
    "    location=(60.2, 25.0),\n",
    "    zoom_start=12\n",
    ")\n",
    "\n",
    "addresses_layer = folium.features.GeoJson(\n",
    "    addresses,\n",
    "    name=\"Public transport stops\"\n",
    ")\n",
    "addresses_layer.add_to(interactive_map)\n",
    "\n",
    "interactive_map"
   ]
  },
  {
   "cell_type": "markdown",
   "id": "4b834101",
   "metadata": {},
   "source": [
    "We can also add a pop-up window to our map which would show the addresses at the point of interest upon clicking:"
   ]
  },
  {
   "cell_type": "code",
   "execution_count": null,
   "id": "521a99fc",
   "metadata": {},
   "outputs": [],
   "source": [
    "interactive_map = folium.Map(\n",
    "    location=(60.2, 25.0),\n",
    "    zoom_start=12\n",
    ")\n",
    "\n",
    "popup = folium.GeoJsonPopup(\n",
    "    fields=[\"address\"],\n",
    "    aliases=[\"Address\"],\n",
    "    localize=True,\n",
    "    labels=True,\n",
    "    style=\"background-color: yellow;\",\n",
    ")\n",
    "\n",
    "addresses_layer = folium.features.GeoJson(\n",
    "    addresses,\n",
    "    name=\"Public transport stops\",\n",
    "    popup=popup\n",
    ")\n",
    "addresses_layer.add_to(interactive_map)\n",
    "\n",
    "interactive_map"
   ]
  },
  {
   "cell_type": "markdown",
   "id": "15edbdbb",
   "metadata": {},
   "source": [
    "## Add a polygon layer\n",
    "\n",
    "In the following section we are going to revisit another data set with which we have worked before: the Helsinki Region population grid we got to know in [lesson 2](../lesson-2/vector-data-io), and which you used during [exercise 3](../lesson-3/exercise-3). We can load the layer directly from [HSY’s open data WFS endpoint](https://hri.fi/):"
   ]
  },
  {
   "cell_type": "code",
   "execution_count": null,
   "id": "2a60a364",
   "metadata": {},
   "outputs": [],
   "source": [
    "# To ignore the SSL certificate issue\n",
    "import ssl\n",
    "ssl._create_default_https_context = ssl._create_unverified_context\n",
    "population_grid = (\n",
    "    geopandas.read_file(\n",
    "        \"https://kartta.hsy.fi/geoserver/wfs\"\n",
    "        \"?service=wfs\"\n",
    "        \"&version=2.0.0\"\n",
    "        \"&request=GetFeature\"\n",
    "        \"&typeName=asuminen_ja_maankaytto:Vaestotietoruudukko_2020\"\n",
    "        \"&srsName=EPSG:4326\"\n",
    "        \"&bbox=24.6,60.1,25.2,60.4,EPSG:4326\"\n",
    "    )\n",
    "    .set_crs(\"EPSG:4326\")\n",
    ")\n",
    "population_grid.head()"
   ]
  },
  {
   "cell_type": "markdown",
   "id": "b2fb7b19",
   "metadata": {},
   "source": [
    "Let’s first clean the data frame: drop all columns we don’t need, and\n",
    "rename the remaining ones to English."
   ]
  },
  {
   "cell_type": "code",
   "execution_count": null,
   "id": "6ce52c3f",
   "metadata": {},
   "outputs": [],
   "source": [
    "population_grid = population_grid[[\"index\", \"asukkaita\", \"geometry\"]]\n",
    "population_grid = population_grid.rename(columns={\n",
    "    \"asukkaita\": \"population\"\n",
    "})"
   ]
  },
  {
   "cell_type": "markdown",
   "id": "915d00d7",
   "metadata": {},
   "source": [
    "> **Index column for choropleth maps**  \n",
    ">  \n",
    "> We will use the `folium.Choropleth` to display the population grid. Choropleth maps are more than just polygon geometries, which could be displayed as a `folium.features.GeoJson` layer, like we used for the address points above. Rather, this class takes care of categorizing data, adding a legend, and handling a few more small tasks to quickly create beautiful thematic maps.  \n",
    ">  \n",
    "> The class expects an input dataset that has an explicit, `str`-type, index column, as it treats the geospatial input and the thematic input as separate datasets that need to be joined (see below for how we specify both `geo_data` and `data`).  \n",
    ">  \n",
    "> A good approach to create such a column is to copy the data frame’s index into a new column, for instance, `id`.\n"
   ]
  },
  {
   "cell_type": "code",
   "execution_count": null,
   "id": "23a90b18",
   "metadata": {},
   "outputs": [],
   "source": [
    "population_grid[\"id\"] = population_grid.index.astype(str)"
   ]
  },
  {
   "cell_type": "markdown",
   "id": "5d5aa78f",
   "metadata": {},
   "source": [
    "Now we can create the polygon choropleth layer, and add it to a map object.\n",
    "Due to the slightly complex architecture of *Folium*, we have to supply a\n",
    "number of parameters:\n",
    "- `geo_data` and `data`, the geospatial and thematic input data sets,\n",
    "  respectively. Can be the same `geopandas.GeoDataFrame`.\n",
    "- `columns`: a tuple of the names of relevant columns in `data`: a unique\n",
    "  index column, and the column containing thematic data\n",
    "- `key_on`: which column in `geo_data` to use for joining `data` (this is\n",
    "  basically identical to `columns`, except it’s only the first value)"
   ]
  },
  {
   "cell_type": "code",
   "execution_count": null,
   "id": "9d12ebe4",
   "metadata": {},
   "outputs": [],
   "source": [
    "interactive_map = folium.Map(\n",
    "    location=(60.17, 24.94),\n",
    "    zoom_start=12\n",
    ")\n",
    "\n",
    "population_grid_layer = folium.Choropleth(\n",
    "    geo_data=population_grid,\n",
    "    data=population_grid,\n",
    "    columns=(\"id\", \"population\"),\n",
    "    key_on=\"feature.id\"\n",
    ")\n",
    "population_grid_layer.add_to(interactive_map)\n",
    "\n",
    "interactive_map"
   ]
  },
  {
   "cell_type": "markdown",
   "id": "b57fc48a",
   "metadata": {},
   "source": [
    "To make the map slightly nicer, let’s still request more categories (`bins`),\n",
    "change the colour range (using `fill_color`), set the line thickness to zero,\n",
    "and add a layer name to the legend:"
   ]
  },
  {
   "cell_type": "code",
   "execution_count": null,
   "id": "eabbbc33",
   "metadata": {},
   "outputs": [],
   "source": [
    "interactive_map = folium.Map(\n",
    "    location=(60.17, 24.94),\n",
    "    zoom_start=12\n",
    ")\n",
    "\n",
    "population_grid_layer = folium.Choropleth(\n",
    "    geo_data=population_grid,\n",
    "    data=population_grid,\n",
    "    columns=(\"id\", \"population\"),\n",
    "    key_on=\"feature.id\",\n",
    "\n",
    "    bins=9,\n",
    "    fill_color=\"YlOrRd\",\n",
    "    line_weight=0,\n",
    "    legend_name=\"Population, 2020\",\n",
    "\n",
    "    highlight=True\n",
    ")\n",
    "population_grid_layer.add_to(interactive_map)\n",
    "\n",
    "interactive_map"
   ]
  },
  {
   "cell_type": "markdown",
   "id": "cf3b4893",
   "metadata": {},
   "source": [
    "### Add a tooltip to a choropleth map\n",
    "\n",
    "In such an interactive map, it would be nice to display the value of each\n",
    "grid cell polygon when hovering the mouse over it. *Folium* does not support\n",
    "this out-of-the-box, but with a simple trick, we can extend its functionality:\n",
    "We add a transparent polygon layer using a ‘basic‘ `folium.features.GeoJson`,\n",
    "and configure it to display tooltips.\n",
    "\n",
    "We can keep the `map` we created above, and simply add another layer to it."
   ]
  },
  {
   "cell_type": "code",
   "execution_count": null,
   "id": "39f8d21b",
   "metadata": {},
   "outputs": [],
   "source": [
    "# folium GeoJson layers expect a styling function,\n",
    "# that receives each of the map’s feature and returns\n",
    "# an individual style. It can, however, also return a\n",
    "# static style:\n",
    "def style_function(feature):\n",
    "    return {\n",
    "        \"color\": \"transparent\",\n",
    "        \"fillColor\": \"transparent\"\n",
    "    }\n",
    "\n",
    "\n",
    "# More complex tooltips can be created using the\n",
    "# `folium.features.GeoJsonTooltip` class. Below, we use\n",
    "# its most basic features: `fields` specifies which columns\n",
    "# should be displayed, `aliases` how they should be labelled.\n",
    "tooltip = folium.features.GeoJsonTooltip(\n",
    "    fields=(\"population\",),\n",
    "    aliases=(\"Population:\",)\n",
    ")\n",
    "\n",
    "\n",
    "tooltip_layer = folium.features.GeoJson(\n",
    "    population_grid,\n",
    "    style_function=style_function,\n",
    "    tooltip=tooltip\n",
    ")\n",
    "tooltip_layer.add_to(interactive_map)\n",
    "\n",
    "interactive_map"
   ]
  },
  {
   "cell_type": "markdown",
   "id": "0c2e3851",
   "metadata": {},
   "source": [
    "> **Python packages for interactive (web) maps**  \n",
    ">  \n",
    "> *Folium* is just one of many packages that provide an easy way to create interactive maps using data stored in (geo-)pandas data frames. Other interesting libraries include:  \n",
    ">  \n",
    "> - [GeoViews](https://geoviews.org/)  \n",
    "> - [Mapbox GL for Jupyter](https://github.com/mapbox/mapboxgl-jupyter)  \n",
    "> - [Bokeh](https://docs.bokeh.org/en/latest/docs/gallery.html)  \n",
    "> - [Plotly Express](https://plotly.com/python/maps/)  \n",
    "> - and many more.\n",
    "> \n",
    "> Some of these packages are covered in the course [**Cartographic visualizations in GIS**](https://cartogis.readthedocs.io/en/latest/)."
   ]
  },
  {
   "cell_type": "code",
   "execution_count": null,
   "id": "a0701576-84a7-4510-a440-366789728d18",
   "metadata": {},
   "outputs": [],
   "source": []
  }
 ],
 "metadata": {
  "kernelspec": {
   "display_name": "Python 3 (ipykernel)",
   "language": "python",
   "name": "python3"
  },
  "language_info": {
   "codemirror_mode": {
    "name": "ipython",
    "version": 3
   },
   "file_extension": ".py",
   "mimetype": "text/x-python",
   "name": "python",
   "nbconvert_exporter": "python",
   "pygments_lexer": "ipython3",
   "version": "3.11.7"
  }
 },
 "nbformat": 4,
 "nbformat_minor": 5
}
