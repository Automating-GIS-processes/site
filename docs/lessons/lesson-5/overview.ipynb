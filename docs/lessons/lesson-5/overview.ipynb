{
 "cells": [
  {
   "cell_type": "markdown",
   "id": "84d9ee51",
   "metadata": {},
   "source": [
    "# Overview\n",
    "\n",
    "In this lesson, we will learn how to create more complex **static maps**, as well as\n",
    "**interactive web maps**. \n",
    "\n",
    "> **Interested in cartography?**  \n",
    "> The goal of this lesson is to create maps from a technical point of view, so we do not focus much on the cartographical aspects. If you are interested in learning more about cartography, working with different libraries, making different visualizations and maps, or customizing your maps further, check out the open materials for the course [**Cartographic visualizations in GIS**](https://cartogis.readthedocs.io/en/latest/) offered at University of Helsinki.\n",
    "\n",
    "\n",
    "\n",
    "## Learning goals\n",
    "\n",
    "After this lesson, you should know how to:\n",
    "\n",
    "- create static thematic maps comprising of multiple data layers using\n",
    "  [GeoPandas](https://geopandas.org) and [matplotlib](https://matplotlib.org),\n",
    "- add base maps, such as [OpenStreetMap](https://osm.org), to such maps using\n",
    "  [contextily](https://contextily.readthedocs.io),\n",
    "- create simple interactive maps using\n",
    "  [Folium](https://python-visualization.github.io/folium/), and\n",
    "- enrich the interactive maps with popups and hover tooltips.\n",
    "\n",
    "\n",
    "## Lesson video\n",
    "\n",
    "Will be uploaded after the lecture. "
   ]
  },
  {
   "cell_type": "code",
   "execution_count": null,
   "id": "cbc4cc67-4707-4c2a-8469-ddf99ffebee3",
   "metadata": {},
   "outputs": [],
   "source": []
  }
 ],
 "metadata": {
  "kernelspec": {
   "display_name": "Python 3 (ipykernel)",
   "language": "python",
   "name": "python3"
  },
  "language_info": {
   "codemirror_mode": {
    "name": "ipython",
    "version": 3
   },
   "file_extension": ".py",
   "mimetype": "text/x-python",
   "name": "python",
   "nbconvert_exporter": "python",
   "pygments_lexer": "ipython3",
   "version": "3.11.7"
  }
 },
 "nbformat": 4,
 "nbformat_minor": 5
}
