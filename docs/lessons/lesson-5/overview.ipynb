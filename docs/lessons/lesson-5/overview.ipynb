{
 "cells": [
  {
   "cell_type": "markdown",
   "id": "84d9ee51",
   "metadata": {},
   "source": [
    "# Overview\n",
    "\n",
    "In this lesson, we will learn how to create more complex **static maps**, as well as\n",
    "**interactive web maps**. \n",
    "\n",
    "\n",
    "## Learning goals\n",
    "\n",
    "After this lesson, you should know how to:\n",
    "\n",
    "- create static thematic maps comprising of multiple data layers using\n",
    "  [GeoPandas](https://geopandas.org) and [matplotlib](https://matplotlib.org),\n",
    "- add base maps, such as [OpenStreetMap](https://osm.org), to such maps using\n",
    "  [contextily](https://contextily.readthedocs.io),\n",
    "- create simple interactive maps using\n",
    "  [Folium](https://python-visualization.github.io/folium/), and\n",
    "- enrich the interactive maps with popups and hover tooltips.\n",
    "\n",
    "\n",
    "## Lesson video\n",
    "\n",
    "<iframe width=\"560\" height=\"315\" src=\"https://www.youtube.com/embed/WK4FVQxGDOk?si=O5_XVyR-IbhyyqVc\" title=\"YouTube video player\" frameborder=\"0\" allow=\"accelerometer; autoplay; clipboard-write; encrypted-media; gyroscope; picture-in-picture; web-share\" allowfullscreen></iframe>"
   ]
  }
 ],
 "metadata": {
  "kernelspec": {
   "display_name": "Python 3 (ipykernel)",
   "language": "python",
   "name": "python3"
  }
 },
 "nbformat": 4,
 "nbformat_minor": 5
}
