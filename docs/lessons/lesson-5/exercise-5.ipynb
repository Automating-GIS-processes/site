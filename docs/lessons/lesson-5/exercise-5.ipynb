{
 "cells": [
  {
   "cell_type": "markdown",
   "id": "d94dbb89",
   "metadata": {},
   "source": [
    "# Exercise 5\n",
    "\n",
    ":::{important}\n",
    "Please complete this exercise\n",
    "**by the end of day** on Thursday, 7 December, 2023\n",
    "(the day of next week’s work session).\n",
    ":::\n",
    "\n",
    "To start this assignment, [accept the GitHub Classroom\n",
    "assignment](https://classroom.github.com/a/75b8ksXD), and clone *your own*\n",
    "repository, e.g., in a [CSC\n",
    "Notebook](../../course-info/course-environment)\n",
    "instance. Make sure you commit and push all changes you make (you can\n",
    "revisit instructions on how to use `git` and the jupyterlab git-plugin\n",
    "on the [website of the Geo-Python\n",
    "course](https://geo-python-site.readthedocs.io/en/latest/lessons/L2/git-basics.html).\n",
    "\n",
    "To preview the exercise without logging in, you can find the open course copy\n",
    "of the course’s GitHub repository at\n",
    "[github.com/Automating-GIS-processes-II-2023/exercise-5](https://github.com/Automating-GIS-processes-II-2023/exercise-5).\n",
    "Don’t attempt to commit changes to that repository, but rather work with your\n",
    "personal GitHub Classroom copy (see above)."
   ]
  }
 ],
 "metadata": {
  "kernelspec": {
   "display_name": "python3",
   "name": "python3"
  }
 },
 "nbformat": 4,
 "nbformat_minor": 5
}
