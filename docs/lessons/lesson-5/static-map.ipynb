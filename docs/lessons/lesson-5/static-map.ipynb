{
 "cells": [
  {
   "cell_type": "markdown",
   "id": "c0a4bfc6-1a19-44a3-99d5-c214ba99e7cc",
   "metadata": {},
   "source": [
    "<iframe src=\"_static/static-maps.html\" width=\"100%\" height=\"800px\" frameborder=\"0\"></iframe>\n"
   ]
  },
  {
   "cell_type": "code",
   "execution_count": null,
   "id": "bca291dd-1f7c-4bbe-a983-bb5110d91f49",
   "metadata": {},
   "outputs": [],
   "source": []
  }
 ],
 "metadata": {
  "kernelspec": {
   "display_name": "Python 3 (ipykernel)",
   "language": "python",
   "name": "python3"
  },
  "language_info": {
   "codemirror_mode": {
    "name": "ipython",
    "version": 3
   },
   "file_extension": ".py",
   "mimetype": "text/x-python",
   "name": "python",
   "nbconvert_exporter": "python",
   "pygments_lexer": "ipython3",
   "version": "3.11.7"
  }
 },
 "nbformat": 4,
 "nbformat_minor": 5
}
