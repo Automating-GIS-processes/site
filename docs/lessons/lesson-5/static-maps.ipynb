{
 "cells": [
  {
   "cell_type": "markdown",
   "id": "411a0c18",
   "metadata": {},
   "source": [
    "# Static maps\n",
    "\n",
    "Over the course of the last weeks, we have already become familiar to plotting\n",
    "basic static maps using\n",
    "[`geopandas.GeoDataFrame.plot()`](http://geopandas.org/mapping.html), for\n",
    "instance in lessons [2](../lesson-2/geopandas-an-introduction),\n",
    "[3](../lesson-3/spatial-join), and [4](../lesson-4/reclassifying-data). We also\n",
    "learnt that `geopandas.GeoDataFrame.plot()` uses the `matplotlib.pyplot`\n",
    "library, and that [most of its arguments and options are accepted by\n",
    "geopandas](https://matplotlib.org/stable/api/pyplot_summary.html).\n",
    "\n",
    "To refresh our memory about the basics of plotting maps, let’s create a static\n",
    "accessibility map of the Helsinki metropolitan area, that also shows roads and\n",
    "metro lines (three layers, overlayed onto each other). Remember that the input\n",
    "data sets need to be in the same coordinate system!\n",
    "\n",
    "\n",
    "## Data\n",
    "\n",
    "We will use three different data sets:\n",
    "- the travel time to the Helsinki railway station we used in [lesson\n",
    "  4](../lesson-4/reclassifying-data), which is in `DATA_DIRECTORY /\n",
    "\"helsinki_region_travel_times_to_railway_station\"`,\n",
    "- the Helsinki Metro network, available via WFS from the city’s map services,\n",
    "  and\n",
    "- a simplified network of the most important roads in the metropolitan region,\n",
    "  also available via WFS from the same endpoint."
   ]
  },
  {
   "cell_type": "code",
   "execution_count": null,
   "id": "c3616dee",
   "metadata": {},
   "outputs": [],
   "source": [
    "import pathlib\n",
    "NOTEBOOK_PATH = pathlib.Path().resolve()\n",
    "DATA_DIRECTORY = NOTEBOOK_PATH / \"data\""
   ]
  },
  {
   "cell_type": "code",
   "execution_count": null,
   "id": "228bb0f9",
   "metadata": {},
   "outputs": [],
   "source": [
    "import geopandas\n",
    "import numpy\n",
    "import ssl\n",
    "ssl._create_default_https_context = ssl._create_unverified_context\n",
    "\n",
    "accessibility_grid = geopandas.read_file(\n",
    "    DATA_DIRECTORY\n",
    "    / \"helsinki_region_travel_times_to_railway_station\"\n",
    "    / \"helsinki_region_travel_times_to_railway_station.gpkg\"\n",
    ")\n",
    "accessibility_grid[\"pt_r_t\"] = accessibility_grid[\"pt_r_t\"].replace(-1, numpy.nan)\n",
    "\n",
    "WFS_BASE_URL = (\n",
    "    \"https://kartta.hel.fi/ws/geoserver/avoindata/wfs\"\n",
    "    \"?service=wfs\"\n",
    "    \"&version=2.0.0\"\n",
    "    \"&request=GetFeature\"\n",
    "    \"&srsName=EPSG:3879\"\n",
    "    \"&typeName={layer:s}\"\n",
    ")\n",
    "\n",
    "metro = (\n",
    "    geopandas.read_file(\n",
    "        WFS_BASE_URL.format(layer=\"avoindata:Seutukartta_liikenne_metro_rata\")\n",
    "    )\n",
    "    .set_crs(\"EPSG:3879\")\n",
    ")\n",
    "roads = (\n",
    "    geopandas.read_file(\n",
    "        WFS_BASE_URL.format(layer=\"avoindata:Seutukartta_liikenne_paatiet\")\n",
    "    )\n",
    "    .set_crs(\"EPSG:3879\")\n",
    ")"
   ]
  },
  {
   "cell_type": "markdown",
   "id": "12cba82c",
   "metadata": {},
   "source": [
    ":::{admonition} Coordinate reference systems\n",
    ":class: attention\n",
    "\n",
    "Remember that different geo-data frames need to be in same coordinate system\n",
    "before plotting them in the same map. `geopandas.GeoDataFrame.plot()` does not\n",
    "reproject data automatically.\n",
    "\n",
    "You can always check it with a simple `assert` statement.\n",
    ":::"
   ]
  },
  {
   "cell_type": "code",
   "execution_count": null,
   "id": "46a50e8b",
   "metadata": {
    "tags": [
     "raises-exception"
    ]
   },
   "outputs": [],
   "source": [
    "assert accessibility_grid.crs == metro.crs == roads.crs, \"Input data sets’ CRS differs\""
   ]
  },
  {
   "cell_type": "markdown",
   "id": "0ee12f74",
   "metadata": {},
   "source": [
    "If multiple data sets do not share a common CRS, first, figure out which CRS\n",
    "they have assigned (if any!), then transform the data into a common reference\n",
    "system:"
   ]
  },
  {
   "cell_type": "code",
   "execution_count": null,
   "id": "9b4b89e1",
   "metadata": {},
   "outputs": [],
   "source": [
    "accessibility_grid.crs"
   ]
  },
  {
   "cell_type": "code",
   "execution_count": null,
   "id": "c560d1b0",
   "metadata": {},
   "outputs": [],
   "source": [
    "metro.crs"
   ]
  },
  {
   "cell_type": "code",
   "execution_count": null,
   "id": "b4e96fac",
   "metadata": {},
   "outputs": [],
   "source": [
    "roads.crs"
   ]
  },
  {
   "cell_type": "code",
   "execution_count": null,
   "id": "b53928d3",
   "metadata": {},
   "outputs": [],
   "source": [
    "roads = roads.to_crs(accessibility_grid.crs)\n",
    "metro = metro.to_crs(accessibility_grid.crs)"
   ]
  },
  {
   "cell_type": "code",
   "execution_count": null,
   "id": "61f631a7",
   "metadata": {},
   "outputs": [],
   "source": [
    "assert accessibility_grid.crs == metro.crs == roads.crs, \"Input data sets’ CRS differs\""
   ]
  },
  {
   "cell_type": "markdown",
   "id": "2a13ec2e",
   "metadata": {},
   "source": [
    "## Plotting a multi-layer map\n",
    "\n",
    ":::{admonition} Check your understanding\n",
    ":class: hint\n",
    "\n",
    "Complete the next steps at your own pace (clear out the code cells first).\n",
    "Make sure to revisit previous lessons if you feel unsure how to complete\n",
    "a task.\n",
    "\n",
    "- Visualise a multi-layer map using the `geopandas.GeoDataFrame.plot()` method;\n",
    "- first, plot the accessibility grid using a ‘quantiles’ classification scheme,\n",
    "- then, add roads network and metro lines in the same plot (remember the `ax`\n",
    "  parameter)\n",
    ":::\n",
    "\n",
    "\n",
    "Remember the following options that can be passed to `plot()`:\n",
    "- style the polygon layer:\n",
    "    - define a classification scheme using the `scheme` parameter\n",
    "    - [change the colour map using\n",
    "      `cmap`](https://matplotlib.org/stable/tutorials/colors/colormaps.html)\n",
    "    - control the layer’s transparency the `alpha` parameter (`0` is fully\n",
    "      transparent, `1` fully opaque)\n",
    "- style the line layers:\n",
    "    - adjust [the line\n",
    "      colour](https://matplotlib.org/stable/api/colors_api.html) using the\n",
    "      `color` parameter\n",
    "    - change the `linewidth`, as needed\n",
    "\n",
    "The layers have different extents (`roads` covers a much larger area). You can\n",
    "use the axes’ (`ax`) methods `set_xlim()` and `set_ylim()` to set the horizontal\n",
    "and vertical extents of the map (e.g., to a geo-data frame’s `total_bounds`)."
   ]
  },
  {
   "cell_type": "code",
   "execution_count": null,
   "id": "da93e028",
   "metadata": {},
   "outputs": [],
   "source": [
    "ax = accessibility_grid.plot(\n",
    "    figsize=(12, 8),\n",
    "\n",
    "    column=\"pt_r_t\",\n",
    "    scheme=\"quantiles\",\n",
    "    cmap=\"Spectral\",\n",
    "    linewidth=0,\n",
    "    alpha=0.8\n",
    ")\n",
    "\n",
    "metro.plot(\n",
    "    ax=ax,\n",
    "    color=\"orange\",\n",
    "    linewidth=2.5\n",
    ")\n",
    "\n",
    "roads.plot(\n",
    "    ax=ax,\n",
    "    color=\"grey\",\n",
    "    linewidth=0.8\n",
    ")\n",
    "\n",
    "minx, miny, maxx, maxy = accessibility_grid.total_bounds\n",
    "ax.set_xlim(minx, maxx)\n",
    "ax.set_ylim(miny, maxy)"
   ]
  },
  {
   "cell_type": "markdown",
   "id": "b9caf492",
   "metadata": {},
   "source": [
    "## Adding a legend\n",
    "\n",
    "To plot a legend for a map, add the `legend=True` parameter.\n",
    "\n",
    "For figures without a classification `scheme`, the legend consists of a colour\n",
    "gradient bar. The legend is an instance of\n",
    "[`matplotlib.pyplot.colorbar.Colorbar`](https://matplotlib.org/stable/api/_as_gen/matplotlib.pyplot.colorbar.html),\n",
    "and all arguments defined in `legend_kwds` are passed through to it. See below\n",
    "how to use the `label` property to set the *legend title*:"
   ]
  },
  {
   "cell_type": "code",
   "execution_count": null,
   "id": "6286e878",
   "metadata": {},
   "outputs": [],
   "source": [
    "ax = accessibility_grid.plot(\n",
    "    figsize=(12, 8),\n",
    "\n",
    "    column=\"pt_r_t\",\n",
    "    cmap=\"Spectral\",\n",
    "    linewidth=0,\n",
    "    alpha=0.8,\n",
    "\n",
    "    legend=True,\n",
    "    legend_kwds={\"label\": \"Travel time (min)\"}\n",
    ")"
   ]
  },
  {
   "cell_type": "markdown",
   "id": "00bd4291",
   "metadata": {},
   "source": [
    ":::{admonition} Set other `Colorbar` parameters\n",
    ":class: hint\n",
    "\n",
    "Check out [`matplotlib.pyplot.colorbar.Colorbar`’s\n",
    "documentation](https://matplotlib.org/stable/api/_as_gen/matplotlib.pyplot.colorbar.html)\n",
    "and experiment with other parameters! Anything you add to the `legend_kwds`\n",
    "dictionary will be passed to the colour bar.\n",
    ":::\n",
    "\n",
    "\n",
    "---\n",
    "\n",
    "\n",
    "For figures that use a classification `scheme`, on the other hand, `plot()`\n",
    "creates a\n",
    "[`matplotlib.legend.Legend`](https://matplotlib.org/stable/api/legend_api.html#matplotlib.legend.Legend).\n",
    "Again, `legend_kwds` are passed through, but the parameters are slightly\n",
    "different: for instance, use `title` instead of `label` to set the legend\n",
    "title:"
   ]
  },
  {
   "cell_type": "code",
   "execution_count": null,
   "id": "f954ccbd",
   "metadata": {},
   "outputs": [],
   "source": [
    "accessibility_grid.plot(\n",
    "    figsize=(12, 8),\n",
    "\n",
    "    column=\"pt_r_t\",\n",
    "    scheme=\"quantiles\",\n",
    "    cmap=\"Spectral\",\n",
    "    linewidth=0,\n",
    "    alpha=0.8,\n",
    "\n",
    "    legend=True,\n",
    "    legend_kwds={\"title\": \"Travel time (min)\"}\n",
    ")"
   ]
  },
  {
   "cell_type": "markdown",
   "id": "8e437d2f",
   "metadata": {},
   "source": [
    ":::{admonition} Set other `Legend` parameters\n",
    ":class: hint\n",
    "\n",
    "Check out [`matplotlib.pyplot.legend.Legend`’s\n",
    "documentation](https://matplotlib.org/stable/api/legend_api.html#matplotlib.legend.Legend),\n",
    "and experiment with other parameters! Anything you add to the `legend_kwds`\n",
    "dictionary will be passed to the legend.\n",
    "\n",
    "What `legend_kwds` keyword would spread the legend onto two columns?\n",
    ":::\n",
    "\n",
    "\n",
    "## Adding a base map\n",
    "\n",
    "For better orientation, it is often helpful to add a base map to a map plot. A\n",
    "base map, for instance, from map providers such as\n",
    "[OpenStreetMap](https://osm.org/) or [Stamen](https://maps.stamen.com/), adds\n",
    "streets, place names, and other contextual information.\n",
    "\n",
    "The Python package [contextily](https://contextily.readthedocs.io/) takes care\n",
    "of downloading the necessary map tiles and rendering them in a geopandas plot.\n",
    "\n",
    ":::{admonition} Web Mercator\n",
    ":class: caution\n",
    "\n",
    "Map tiles from online map providers are typically in [Web Mercator projection\n",
    "(EPSG:3857](http://spatialreference.org/ref/sr-org/epsg3857-wgs84-web-mercator-auxiliary-sphere/).\n",
    "It is generally advisable to transform all other layers to `EPSG:3857`, too.\n",
    ":::"
   ]
  },
  {
   "cell_type": "code",
   "execution_count": null,
   "id": "b513bf24",
   "metadata": {},
   "outputs": [],
   "source": [
    "accessibility_grid = accessibility_grid.to_crs(\"EPSG:3857\")\n",
    "metro = metro.to_crs(\"EPSG:3857\")\n",
    "roads = roads.to_crs(\"EPSG:3857\")"
   ]
  },
  {
   "cell_type": "markdown",
   "id": "659f4de2",
   "metadata": {},
   "source": [
    "To add a base map to an existing plot, use the\n",
    "[`contextily.add_basemap()`](https://contextily.readthedocs.io/en/latest/intro_guide.html)\n",
    "function, and supply the plot’s `ax` object obtained in an earlier step."
   ]
  },
  {
   "cell_type": "code",
   "execution_count": null,
   "id": "9c3539be",
   "metadata": {},
   "outputs": [],
   "source": [
    "import contextily\n",
    "\n",
    "ax = accessibility_grid.plot(\n",
    "    figsize=(12, 8),\n",
    "\n",
    "    column=\"pt_r_t\",\n",
    "    scheme=\"quantiles\",\n",
    "    cmap=\"Spectral\",\n",
    "    linewidth=0,\n",
    "    alpha=0.8,\n",
    "\n",
    "    legend=True,\n",
    "    legend_kwds={\"title\": \"Travel time (min)\"}\n",
    ")\n",
    "contextily.add_basemap(ax, source=contextily.providers.OpenStreetMap.Mapnik)"
   ]
  },
  {
   "cell_type": "markdown",
   "id": "bdf4dda5",
   "metadata": {},
   "source": [
    "[There are many\n",
    "other online maps to choose\n",
    "from](https://contextily.readthedocs.io/en/latest/intro_guide.html#Providers).\n",
    "Any of the other `contextily.providers` (see link above) can be passed as a\n",
    "`source` to `add_basemap()`. You can get a list of available providers:"
   ]
  },
  {
   "cell_type": "code",
   "execution_count": null,
   "id": "72b2aa6f",
   "metadata": {},
   "outputs": [],
   "source": [
    "contextily.providers"
   ]
  },
  {
   "cell_type": "markdown",
   "id": "99968229",
   "metadata": {},
   "source": [
    "In this zoom level, the benefits from using OpenStreetMap (such as place names)\n",
    "do not live to their full potential. Let’s look at a subset of the travel time\n",
    "matrix: grid cells that are within 15 minutes from the railway station."
   ]
  },
  {
   "cell_type": "code",
   "execution_count": null,
   "id": "0f4ad3d4",
   "metadata": {},
   "outputs": [],
   "source": [
    "ax = accessibility_grid[accessibility_grid.pt_r_t <= 15].plot(\n",
    "    figsize=(12, 8),\n",
    "\n",
    "    column=\"pt_r_t\",\n",
    "    scheme=\"quantiles\",\n",
    "    k=5,\n",
    "    cmap=\"Spectral\",\n",
    "    linewidth=0,\n",
    "    alpha=0.8,\n",
    "\n",
    "    legend=True,\n",
    "    legend_kwds={\"title\": \"Travel time (min)\"}\n",
    ")\n",
    "contextily.add_basemap(\n",
    "    ax,\n",
    "    source=contextily.providers.OpenStreetMap.Mapnik\n",
    ")"
   ]
  },
  {
   "cell_type": "markdown",
   "id": "18b378cf",
   "metadata": {},
   "source": [
    "Finally, we can modify the attribution (copyright notice) displayed in the\n",
    "bottom left of the map plot. Note that you should *always* respect the map\n",
    "providers’ terms of use, which typically include a data source attribution\n",
    "(*contextily*’s defaults take care of this). We can and should, however,\n",
    "add a data source for any layer we added, such as the travel time matrix\n",
    "data set:"
   ]
  },
  {
   "cell_type": "code",
   "execution_count": null,
   "id": "5e5056d0",
   "metadata": {},
   "outputs": [],
   "source": [
    "ax = accessibility_grid[accessibility_grid.pt_r_t <= 15].plot(\n",
    "    figsize=(12, 8),\n",
    "\n",
    "    column=\"pt_r_t\",\n",
    "    scheme=\"quantiles\",\n",
    "    k=5,\n",
    "    cmap=\"Spectral\",\n",
    "    linewidth=0,\n",
    "    alpha=0.8,\n",
    "\n",
    "    legend=True,\n",
    "    legend_kwds={\"title\": \"Travel time (min)\"}\n",
    ")\n",
    "contextily.add_basemap(\n",
    "    ax,\n",
    "    source=contextily.providers.OpenStreetMap.Mapnik,\n",
    "    attribution=(\n",
    "        \"Travel time data (c) Digital Geography Lab, \"\n",
    "        \"map data (c) OpenStreetMap contributors\"\n",
    "    )\n",
    ")"
   ]
  }
 ],
 "metadata": {
  "kernelspec": {
   "display_name": "Python 3",
   "language": "python",
   "name": "python3"
  }
 },
 "nbformat": 4,
 "nbformat_minor": 5
}
