{
 "cells": [
  {
   "cell_type": "markdown",
   "id": "28aa2695",
   "metadata": {},
   "source": [
    "# Geocoding in geopandas\n",
    "\n",
    "Geopandas supports geocoding via a library called\n",
    "[geopy](http://geopy.readthedocs.io/), which needs to be installed to use\n",
    "[geopandas’ `geopandas.tools.geocode()`\n",
    "function](https://geopandas.org/en/stable/docs/reference/api/geopandas.tools.geocode.html).\n",
    "`geocode()` expects a `list` or `pandas.Series` of addresses (strings) and\n",
    "returns a `GeoDataFrame` with resolved addresses and point geometries.\n",
    "\n",
    "Let’s try this out.\n",
    "\n",
    "We will geocode addresses stored in a semicolon-separated text file called\n",
    "`addresses.txt`. These addresses are located in the Helsinki Region in Southern\n",
    "Finland."
   ]
  },
  {
   "cell_type": "code",
   "execution_count": null,
   "id": "a7ce03b3",
   "metadata": {},
   "outputs": [],
   "source": [
    "import pathlib\n",
    "NOTEBOOK_PATH = pathlib.Path().resolve()\n",
    "DATA_DIRECTORY = NOTEBOOK_PATH / \"data\""
   ]
  },
  {
   "cell_type": "code",
   "execution_count": null,
   "id": "0bc6de80",
   "metadata": {},
   "outputs": [],
   "source": [
    "import pandas\n",
    "addresses = pandas.read_csv(\n",
    "    DATA_DIRECTORY / \"helsinki_addresses\" / \"addresses.txt\",\n",
    "    sep=\";\"\n",
    ")\n",
    "\n",
    "addresses.head()"
   ]
  },
  {
   "cell_type": "markdown",
   "id": "334d162e",
   "metadata": {},
   "source": [
    "We have an `id` for each row and an address in the `addr` column.\n",
    "\n",
    "\n",
    "## Geocode addresses using *Nominatim*\n",
    "\n",
    "In our example, we will use *Nominatim* as a *geocoding provider*. [*Nominatim*](https://nominatim.org/) is a library and service using OpenStreetMap data, and run by the OpenStreetMap Foundation. Geopandas’\n",
    "[`geocode()`\n",
    "function](hhttps://geopandas.org/en/stable/docs/reference/api/geopandas.tools.geocode.html) supports it natively.\n",
    "\n",
    "<div style=\"border: 1px solid #cce5ff; background-color: #e9f7fd; padding: 15px; border-radius: 5px;\">\n",
    "\n",
    "**Fair-use**\n",
    "\n",
    "[Nominatim’s terms of use](https://operations.osmfoundation.org/policies/nominatim/) require that users of the service ensure they don’t send more frequent requests than one per second and that a custom **user-agent** string is attached to each query.\n",
    "\n",
    "Geopandas’ implementation allows us to specify a `user_agent`, and the library also takes care of respecting Nominatim's rate limit.\n",
    "\n",
    "Looking up an address is a quite expensive database operation. This is why the public and free-to-use Nominatim server sometimes takes slightly longer to respond. In this example, we add a parameter `timeout=10` to wait up to 10 seconds for a response.\n",
    "\n",
    "</div>\n",
    "\n"
   ]
  },
  {
   "cell_type": "code",
   "execution_count": null,
   "id": "976d52af",
   "metadata": {},
   "outputs": [],
   "source": [
    "import geopandas\n",
    "\n",
    "geocoded_addresses = geopandas.tools.geocode(\n",
    "    addresses[\"addr\"],\n",
    "    provider=\"nominatim\",\n",
    "    user_agent=\"autogis2023\",\n",
    "    timeout=10\n",
    ")\n",
    "geocoded_addresses.head()"
   ]
  },
  {
   "cell_type": "markdown",
   "id": "14c7d507",
   "metadata": {},
   "source": [
    "Et voilà! As a result we received a `GeoDataFrame` that contains a parsed\n",
    "version of our original addresses and a `geometry` column of\n",
    "`shapely.geometry.Point`s that we can use, for instance, to export the data to\n",
    "a geospatial data format.\n",
    "\n",
    "However, the `id` column was discarded in the process. To combine the input\n",
    "data set with our result set, we can use pandas’ [*join*\n",
    "operations](https://pandas.pydata.org/docs/user_guide/merging.html).\n",
    "\n",
    "\n",
    "## Join data frames\n",
    "\n",
    "> **Note: Joining data sets using pandas**\n",
    "\n",
    "> For a comprehensive overview of different ways of combining DataFrames and Series based on set theory, see the pandas documentation on [merge, join, and concatenate](https://pandas.pydata.org/pandas-docs/stable/user_guide/merging.html).\n",
    "\n",
    "\n",
    "\n",
    "Joining data from two or more data frames or tables is a common task in many\n",
    "(spatial) data analysis workflows. As you might remember from our earlier\n",
    "lessons, combining data from different tables based on common **key** attribute\n",
    "can be done easily in pandas/geopandas using the [`merge()`\n",
    "function](https://pandas.pydata.org/pandas-docs/stable/generated/pandas.DataFrame.merge.html).\n",
    "We used this approach in [exercise 6 of the Geo-Python\n",
    "course](https://geo-python-site.readthedocs.io/en/latest/lessons/L6/exercise-6.html#joining-data-from-one-dataframe-to-another).\n",
    "\n",
    "However, sometimes it is useful to join two data frames together based on their\n",
    "**index**. The data frames have to have the **same number of records** and\n",
    "**share the same index** (simply put, they should have the same order of rows).\n",
    "\n",
    "We can use this approach, here, to join information from the original data\n",
    "frame `addresses` to the geocoded addresses `geocoded_addresses`, row by row.\n",
    "The `join()` function, by default, joins two data frames based on their index.\n",
    "This works correctly for our example, as the order of the two data frames is\n",
    "identical."
   ]
  },
  {
   "cell_type": "code",
   "execution_count": null,
   "id": "9acc2a09",
   "metadata": {},
   "outputs": [],
   "source": [
    "geocoded_addresses_with_id = geocoded_addresses.join(addresses)\n",
    "geocoded_addresses_with_id"
   ]
  },
  {
   "cell_type": "markdown",
   "id": "a78615d5",
   "metadata": {},
   "source": [
    "The output of `join()` is a new `geopandas.GeoDataFrame`:"
   ]
  },
  {
   "cell_type": "code",
   "execution_count": null,
   "id": "a8fea7b8",
   "metadata": {},
   "outputs": [],
   "source": [
    "type(geocoded_addresses_with_id)"
   ]
  },
  {
   "cell_type": "markdown",
   "id": "031cc3a4",
   "metadata": {},
   "source": [
    "The new data frame has all original columns plus new columns for the `geometry`\n",
    "and for a parsed `address` that can be used to spot-check the results.\n",
    "\n",
    "> **Note**\n",
    "\n",
    "> If you perform the join the other way around, i.e., `addresses.join(geocoded_addresses)`, the output would be a `pandas.DataFrame`, not a `geopandas.GeoDataFrame`.\n",
    "\n",
    "\n",
    "\n",
    "---\n",
    "\n",
    "\n",
    "It’s now easy to save the new data set as a geospatial file, for instance, in\n",
    "*GeoPackage* format:"
   ]
  },
  {
   "cell_type": "code",
   "execution_count": null,
   "id": "5a768d36",
   "metadata": {
    "tags": [
     "remove-input",
     "remove-output"
    ]
   },
   "outputs": [],
   "source": [
    "# delete a possibly existing file, as it creates\n",
    "# troubles in case sphinx is run repeatedly\n",
    "try:\n",
    "    (DATA_DIRECTORY / \"addresses.gpkg\").unlink()\n",
    "except FileNotFoundError:\n",
    "    pass"
   ]
  },
  {
   "cell_type": "code",
   "execution_count": null,
   "id": "6905c3d8",
   "metadata": {},
   "outputs": [],
   "source": [
    "geocoded_addresses.to_file(DATA_DIRECTORY / \"addresses.gpkg\")"
   ]
  },
  {
   "cell_type": "markdown",
   "id": "3144020a-7209-41d4-9eec-b7aef672a8b7",
   "metadata": {},
   "source": [
    "<div style=\"border: 1px solid #ffeeba; background-color: #fff3cd; padding: 15px; border-radius: 5px;\">\n",
    "\n",
    "**Attention: Understanding the difference between `join` and `merge` in GeoPandas**\n",
    "\n",
    "GeoPandas provides both `join` and `merge` functions, and while they may seem similar, they are used differently depending on the context.\n",
    "\n",
    "1. **`join`**: \n",
    "   - This is primarily used for joining GeoDataFrames with a shared index. It works similarly to a SQL join based on the index of the two tables.\n",
    "   - It is ideal for adding columns from one GeoDataFrame to another based on the index or a pre-aligned structure.\n",
    "   \n",
    "2. **`merge`**:\n",
    "   - `merge` allows more flexibility by enabling joins based on specific columns, not just the index. It works similarly to `pd.merge` in pandas.\n",
    "   - It is useful for spatial joins when you want to match features based on attribute values in specific columns rather than just the index.\n",
    "   \n",
    "### Example\n",
    "\n",
    "```python\n",
    "import geopandas as gpd\n",
    "\n",
    "# Sample GeoDataFrames\n",
    "gdf1 = gpd.GeoDataFrame({\n",
    "    'ID': [1, 2, 3],\n",
    "    'Name': ['Park', 'Lake', 'Forest'],\n",
    "    'geometry': gpd.points_from_xy([10, 20, 30], [10, 20, 30])\n",
    "})\n",
    "\n",
    "gdf2 = gpd.GeoDataFrame({\n",
    "    'ID': [1, 2, 3],\n",
    "    'Area_km2': [1.5, 2.1, 3.3]\n",
    "})\n",
    "\n",
    "# Using `join` - joins based on index\n",
    "joined = gdf1.set_index('ID').join(gdf2.set_index('ID'))\n",
    "print(\"Using `join`:\\n\", joined)\n",
    "\n",
    "# Using `merge` - joins based on a column\n",
    "merged = gdf1.merge(gdf2, on='ID')\n",
    "print(\"Using `merge`:\\n\", merged)\n"
   ]
  },
  {
   "cell_type": "code",
   "execution_count": null,
   "id": "39a10a6e-48a9-4756-8d35-e83a6263f624",
   "metadata": {},
   "outputs": [],
   "source": []
  }
 ],
 "metadata": {
  "kernelspec": {
   "display_name": "Python 3 (ipykernel)",
   "language": "python",
   "name": "python3"
  },
  "language_info": {
   "codemirror_mode": {
    "name": "ipython",
    "version": 3
   },
   "file_extension": ".py",
   "mimetype": "text/x-python",
   "name": "python",
   "nbconvert_exporter": "python",
   "pygments_lexer": "ipython3",
   "version": "3.11.7"
  }
 },
 "nbformat": 4,
 "nbformat_minor": 5
}
