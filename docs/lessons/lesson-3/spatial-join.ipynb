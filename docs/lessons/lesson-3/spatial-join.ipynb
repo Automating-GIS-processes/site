{
 "cells": [
  {
   "cell_type": "markdown",
   "id": "8d2d34a2",
   "metadata": {},
   "source": [
    "# Spatial join\n",
    "\n",
    "*Spatial joins* are operations that combine data from two or more spatial data\n",
    "sets based on their geometric relationship. In the previous sections, we got to\n",
    "know two specific cases of spatial joins: [Point-in-polygon\n",
    "queries](point-in-polygon-queries) and [intersects-queries](intersect). However,\n",
    "there is more to using the geometric relationship between features and between\n",
    "entire layers.\n",
    "\n",
    "Spatial join operations require two input parameters: the *predicament*, i.e., the\n",
    "geometric condition that needs to be met between two geometries, and the\n",
    "*join-type*: whether only rows with matching geometries are kept, or all of one\n",
    "input table’s rows, or all records. \n",
    "\n",
    "*Geopandas* (using `shapely` to implement geometric relationships) [supports a\n",
    "standard set of geometric\n",
    "predicates](https://geopandas.org/en/stable/docs/user_guide/mergingdata.html#binary-predicate-joins),\n",
    "that is similar to most GIS analysis tools and applications:\n",
    "\n",
    "- intersects\n",
    "- contains\n",
    "- within\n",
    "- touches\n",
    "- crosses\n",
    "- overlaps\n",
    "\n",
    "Geometric predicaments are expressed as verbs, so they have an intuitive\n",
    "meaning. See the [shapely user\n",
    "manual](https://shapely.readthedocs.io/en/stable/manual.html#binary-predicates)\n",
    "for a detailed description of each geometric predicate.\n",
    "\n",
    "\n",
    ":::{admonition} Binary geometric predicates\n",
    ":class: hint\n",
    "\n",
    "Shapely supports more *binary geometric predicates* than geopandas implements\n",
    "for spatial joins. What are they? Can they be expressed by combining the\n",
    "implemented ones?\n",
    ":::\n",
    "\n",
    "\n",
    "In terms of the *join-type*, geopandas implements three different options:\n",
    "\n",
    "- *left*: keep all records of the *left* data frame, fill with empty values if\n",
    "  no match, keep *left* geometry column\n",
    "- *right*: keep all records of the *left* data frame, fill with empty values if\n",
    "  no match, keep *right* geometry column\n",
    "- *inner*: keep only records of matching records, keep *left* geometry column\n",
    "\n",
    "\n",
    ":::{tip}\n",
    "The [PyGIS\n",
    "book](https://pygis.io/docs/e_spatial_joins.html) has a great overview of\n",
    "spatial predicaments and join-types with explanatory drawings.\n",
    ":::\n",
    "\n",
    "\n",
    "---\n",
    "\n",
    "\n",
    "## Load input data\n",
    "\n",
    "As a practical example, let’s find the population density at each of the\n",
    "addresses from [earlier in this lesson](geocoding-in-geopandas), by combining\n",
    "the data set with data from a population grid.\n",
    "\n",
    "The population grid data is available from [HSY, the Helsinki Region\n",
    "Environmental\n",
    "Services](https://www.hsy.fi/en/environmental-information/open-data/), for\n",
    "instance via their WFS endpoint."
   ]
  },
  {
   "cell_type": "code",
   "execution_count": null,
   "id": "72fc59e3",
   "metadata": {},
   "outputs": [],
   "source": [
    "import pathlib \n",
    "NOTEBOOK_PATH = pathlib.Path().resolve()\n",
    "DATA_DIRECTORY = NOTEBOOK_PATH / \"data\""
   ]
  },
  {
   "cell_type": "markdown",
   "id": "a79d9be6",
   "metadata": {},
   "source": [
    "```{code}\n",
    "import geopandas\n",
    "\n",
    "addresses = geopandas.read_file(DATA_DIRECTORY / \"addresses.gpkg\")\n",
    "\n",
    "population_grid = geopandas.read_file(\n",
    "    (\n",
    "        \"https://kartta.hsy.fi/geoserver/wfs\"\n",
    "        \"?service=wfs\"\n",
    "        \"&version=2.0.0\"\n",
    "        \"&request=GetFeature\"\n",
    "        \"&typeName=asuminen_ja_maankaytto:Vaestotietoruudukko_2020\"\n",
    "        \"&srsName=EPSG:3879\"\n",
    "    ),\n",
    ")\n",
    "population_grid.crs = \"EPSG:3879\"  # for WFS data, the CRS needs to be specified manually\n",
    "```"
   ]
  },
  {
   "cell_type": "code",
   "execution_count": null,
   "id": "7182daef",
   "metadata": {
    "tags": [
     "remove-input",
     "remove-output"
    ]
   },
   "outputs": [],
   "source": [
    "import geopandas\n",
    "\n",
    "addresses = geopandas.read_file(DATA_DIRECTORY / \"addresses.gpkg\")\n",
    "\n",
    "population_grid = geopandas.read_file(\n",
    "    \"https://avoidatastr.blob.core.windows.net/avoindata/AvoinData/\"\n",
    "    \"6_Asuminen/Vaestotietoruudukko/Shp/Vaestotietoruudukko_2021_shp.zip\"\n",
    ")\n",
    "population_grid = (\n",
    "    population_grid[[\"ASUKKAITA\", \"geometry\"]]\n",
    "    .rename(columns={\"ASUKKAITA\": \"asukkaita\"})\n",
    ")"
   ]
  },
  {
   "cell_type": "markdown",
   "id": "3dfc3673",
   "metadata": {},
   "source": [
    ":::{admonition} Concatenating long strings\n",
    ":class: note\n",
    "\n",
    "In the WFS address above, we split a long string across multiple lines. Strings\n",
    "between parentheses are automatically concatenated (joint together), even\n",
    "without any operator (e.g., `+`).\n",
    "\n",
    "For the sake of clarity, the example has an additional set of parentheses, but\n",
    "already the parentheses of the method call would suffice.\n",
    ":::\n",
    "\n",
    "\n",
    "---"
   ]
  },
  {
   "cell_type": "code",
   "execution_count": null,
   "id": "f5b204ce",
   "metadata": {},
   "outputs": [],
   "source": [
    "population_grid.head()"
   ]
  },
  {
   "cell_type": "markdown",
   "id": "c331d3f1",
   "metadata": {},
   "source": [
    "The population grid has many columns, and all of its column names are in\n",
    "Finnish. Let’s drop (delete) all of the columns except the population total,\n",
    "and rename the remaining to English:"
   ]
  },
  {
   "cell_type": "code",
   "execution_count": null,
   "id": "a3f66ff9",
   "metadata": {},
   "outputs": [],
   "source": [
    "population_grid = population_grid[[\"asukkaita\", \"geometry\"]]\n",
    "population_grid = population_grid.rename(columns={\"asukkaita\": \"population\"})"
   ]
  },
  {
   "cell_type": "markdown",
   "id": "5ce81946",
   "metadata": {},
   "source": [
    "Finally, calculate the population density by dividing the number of inhabitants\n",
    "of each grid cell by its area in km²:"
   ]
  },
  {
   "cell_type": "code",
   "execution_count": null,
   "id": "b3309506",
   "metadata": {},
   "outputs": [],
   "source": [
    "population_grid[\"population_density\"] = (\n",
    "    population_grid[\"population\"]\n",
    "    / (population_grid.area / 1_000_000)\n",
    ")\n",
    "population_grid.head()"
   ]
  },
  {
   "cell_type": "markdown",
   "id": "636f8992",
   "metadata": {},
   "source": [
    ":::{admonition} Coding style: big numbers, operators in multi-line expressions\n",
    ":class: tip\n",
    "\n",
    "If you need to use very large numbers, such as, in the above example, the *1\n",
    "million* to convert m² to km², you can use underscore characters (`_`) as\n",
    "thousands separators. The Python interpreter will treat a sequence of numbers\n",
    "interleaved with underscores as a regular numeric value.\n",
    "[You can use the same syntax to group\n",
    "numbers](https://peps.python.org/pep-0515/) by a different logic, for instance,\n",
    "to group hexadecimal or binary values into groups of four.\n",
    "\n",
    "In case an expression, such as, e.g., a mathematical formula, spreads across\n",
    "multiple lines, it is considered good coding style to place an operator at the\n",
    "beginning of a new line, rather than let it trail in the previous line. This is\n",
    "considered more readable, as explained in the [PEP-8 styling\n",
    "guidelines](https://peps.python.org/pep-0008/#should-a-line-break-before-or-after-a-binary-operator)\n",
    ":::\n",
    "\n",
    "\n",
    "---\n",
    "\n",
    "\n",
    "## Join input layers\n",
    "\n",
    "\n",
    "Now we are ready to perform the spatial join between the two layers.\n",
    "Remember: the aim is to find the population density around each of the address\n",
    "points. We want to attach population density information from the\n",
    "`population_grid` polygon layer to the `addresses` point layer, depending on\n",
    "whether the **point is within the polygon**. During this operation, we want to\n",
    "**retain the geometries of the point layer**.\n",
    "\n",
    "Before we can go ahead with the join operation, we have to make sure the two\n",
    "layers are in the same cartographic reference system:"
   ]
  },
  {
   "cell_type": "code",
   "execution_count": null,
   "id": "48ee97dc",
   "metadata": {
    "tags": [
     "raises-exception"
    ]
   },
   "outputs": [],
   "source": [
    "assert addresses.crs == population_grid.crs, \"CRS are not identical\""
   ]
  },
  {
   "cell_type": "markdown",
   "id": "5067c00c",
   "metadata": {},
   "source": [
    "They do not share the same CRS, let’s reproject one of them:"
   ]
  },
  {
   "cell_type": "code",
   "execution_count": null,
   "id": "90f6a30a",
   "metadata": {},
   "outputs": [],
   "source": [
    "population_grid = population_grid.to_crs(addresses.crs)"
   ]
  },
  {
   "cell_type": "markdown",
   "id": "790c253d",
   "metadata": {},
   "source": [
    "Now we are ready to carry out the actual spatial join using the\n",
    "[`geopandas.GeoDataFrame.sjoin()`](https://geopandas.org/en/stable/docs/reference/api/geopandas.GeoDataFrame.sjoin.html)\n",
    "method. Remember, we want to use a *within* geometric predicate and retain the\n",
    "point layer’s geometries (in the example below the *left* data frame)."
   ]
  },
  {
   "cell_type": "code",
   "execution_count": null,
   "id": "907435a6",
   "metadata": {},
   "outputs": [],
   "source": [
    "addresses_with_population_data = addresses.sjoin(\n",
    "    population_grid,\n",
    "    how=\"left\",\n",
    "    predicate=\"within\"\n",
    ")\n",
    "addresses_with_population_data.head()"
   ]
  },
  {
   "cell_type": "markdown",
   "id": "e16161f7",
   "metadata": {},
   "source": [
    "That looks great! We now have an address data set with population density\n",
    "information attached to it. \n",
    "\n",
    "\n",
    "---\n",
    "\n",
    "\n",
    "As a final task, let’s look at how to plot data using a *graduated*\n",
    "cartographic visualisation scheme. \n",
    "\n",
    "The `geopandas.GeoDataFrame.plot()` method can vary the map colours depending on a column’s values by passing its name as a named argument `column`. On top of that, the method accepts many arguments to influence the style of the map. Among them are `scheme` and `cmap` that define the [categorisation scheme](https://geopandas.org/en/stable/gallery/choropleths.html), and the [colour map](https://matplotlib.org/stable/tutorials/colors/colormaps.html) used. Many more arguments are passed through to `matplotlib`, such as `markersize` to set the size of point symbols, and `facecolor` to set the colour of polygon areas. To draw a legend, set `legend` to `True`, to set the size of the figure, pass a tuple (with values in inch) as `figsize`."
   ]
  },
  {
   "cell_type": "code",
   "execution_count": null,
   "id": "71381d3a",
   "metadata": {},
   "outputs": [],
   "source": [
    "ax = addresses_with_population_data.plot(\n",
    "    figsize=(10, 10),\n",
    "    column=\"population_density\",\n",
    "    cmap=\"Reds\",\n",
    "    scheme=\"quantiles\",\n",
    "    markersize=15,\n",
    "    legend=True\n",
    ")\n",
    "ax.set_title(\"Population density around address points\")"
   ]
  },
  {
   "cell_type": "markdown",
   "id": "0d13b9bc",
   "metadata": {},
   "source": [
    "---\n",
    "\n",
    "\n",
    "We can apply the same arguments to plot a population density map using the\n",
    "entire `population_grid` data set:"
   ]
  },
  {
   "cell_type": "code",
   "execution_count": null,
   "id": "bc52ce88",
   "metadata": {},
   "outputs": [],
   "source": [
    "ax = population_grid.plot(\n",
    "    figsize=(10, 10),\n",
    "    column=\"population_density\",\n",
    "    cmap=\"Reds\",\n",
    "    scheme=\"quantiles\",\n",
    "    legend=True\n",
    ")\n",
    "ax.set_title(\"Population density in the Helsinki metropolitan area\")\n"
   ]
  },
  {
   "cell_type": "markdown",
   "id": "d7fa3747",
   "metadata": {},
   "source": [
    "---\n",
    "\n",
    "\n",
    "Finally, remember to save the output data frame to a file. We can append it to\n",
    "the existing *GeoPackage* by specifying a new layer name:"
   ]
  },
  {
   "cell_type": "code",
   "execution_count": null,
   "id": "2da86431",
   "metadata": {},
   "outputs": [],
   "source": [
    "addresses_with_population_data.to_file(\n",
    "    DATA_DIRECTORY / \"addresses.gpkg\",\n",
    "    layer=\"addresses_with_population_data\"\n",
    ")\n"
   ]
  }
 ],
 "metadata": {
  "kernelspec": {
   "display_name": "Python 3 (ipykernel)",
   "language": "python",
   "name": "python3"
  }
 },
 "nbformat": 4,
 "nbformat_minor": 5
}
