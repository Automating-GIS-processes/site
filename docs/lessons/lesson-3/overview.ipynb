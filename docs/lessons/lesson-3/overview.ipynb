{
 "cells": [
  {
   "cell_type": "markdown",
   "id": "5ee815ec",
   "metadata": {},
   "source": [
    "# Overview\n",
    "\n",
    "In this lesson, we will learn about two interesting problem sets that GIS\n",
    "professionals often come across. First, we will look at different options of\n",
    "converting addresses into coordinates and vice versa, i.e. **geocoding**. Then,\n",
    "we will learn how to carry out **spatial join** operations in geopandas, first\n",
    "in the specific use case of finding points inside a polygon, then more\n",
    "generally joining two data sets based on their locations.\n",
    "\n",
    "\n",
    "## Learning goals\n",
    "\n",
    "After this lesson, you should know how to:\n",
    "\n",
    "- geocode addresses, i.e., convert a list of addresses into a list of coordinates,\n",
    "- query whether a point is inside a polygon, and\n",
    "- join two vector data sets based on their features’ location\n",
    "\n",
    "## Discussion\n",
    "\n",
    "- How would you determine if a specific location (like a park or café) is within a neighborhood boundary?\n",
    "- If you have two areas, like a commercial and a residential zone, how might you identify where they overlap? Why would this be useful?\n",
    "- Imagine you have datasets for schools and hospitals—how could you link them spatially to find schools near hospitals?\n",
    "- What types of data would you need to start analyzing spatial relationships between locations?\n",
    "- Can you think of real-world applications where knowing the location relationships (inside, near, overlapping) is critical?\n",
    "\n",
    "\n",
    "## Lesson video\n",
    "\n",
    "<iframe width=\"560\" height=\"315\" src=\"https://www.youtube.com/embed/YJgLhWjo-WM?si=4h0C4gNBrMsZjL5Y\" title=\"YouTube video player\" frameborder=\"0\" allow=\"accelerometer; autoplay; clipboard-write; encrypted-media; gyroscope; picture-in-picture; web-share\" referrerpolicy=\"strict-origin-when-cross-origin\" allowfullscreen></iframe>"
   ]
  },
  {
   "cell_type": "code",
   "execution_count": null,
   "id": "9d3775cf-a9f2-4174-b612-501cfc2ba595",
   "metadata": {},
   "outputs": [],
   "source": []
  }
 ],
 "metadata": {
  "kernelspec": {
   "display_name": "Python 3 (ipykernel)",
   "language": "python",
   "name": "python3"
  },
  "language_info": {
   "codemirror_mode": {
    "name": "ipython",
    "version": 3
   },
   "file_extension": ".py",
   "mimetype": "text/x-python",
   "name": "python",
   "nbconvert_exporter": "python",
   "pygments_lexer": "ipython3",
   "version": "3.11.7"
  }
 },
 "nbformat": 4,
 "nbformat_minor": 5
}
