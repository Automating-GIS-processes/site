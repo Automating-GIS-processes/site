{
 "cells": [
  {
   "cell_type": "markdown",
   "id": "5ee815ec",
   "metadata": {},
   "source": [
    "# Overview\n",
    "\n",
    "In this lesson, we will learn about two interesting problem sets that GIS\n",
    "professionals often come across. First, we will look at different options of\n",
    "converting addresses into coordinates and vice versa, i.e. **geocoding**. Then,\n",
    "we will learn how to carry out **spatial join** operations in geopandas, first\n",
    "in the specific use case of finding points inside a polygon, then more\n",
    "generally joining two data sets based on their locations.\n",
    "\n",
    "\n",
    "## Learning goals\n",
    "\n",
    "After this lesson, you should know how to:\n",
    "\n",
    "- geocode addresses, i.e., convert a list of addresses into a list of coordinates,\n",
    "- query whether a point is inside a polygon, and\n",
    "- join two vector data sets based on their features’ location\n",
    "\n",
    "\n",
    "## Lesson video\n",
    "\n",
    "<iframe width=\"560\" height=\"315\" src=\"https://www.youtube.com/embed/xs_csmGkVVU?si=IAl9Nfy6DBTinQFV\" title=\"YouTube video player\" frameborder=\"0\" allow=\"accelerometer; autoplay; clipboard-write; encrypted-media; gyroscope; picture-in-picture; web-share\" allowfullscreen></iframe>"
   ]
  }
 ],
 "metadata": {
  "kernelspec": {
   "display_name": "python3",
   "name": "python3"
  }
 },
 "nbformat": 4,
 "nbformat_minor": 5
}
