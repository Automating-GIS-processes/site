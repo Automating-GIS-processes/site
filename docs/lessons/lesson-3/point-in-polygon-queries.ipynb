{
 "cells": [
  {
   "cell_type": "markdown",
   "id": "ae0a4b2f",
   "metadata": {},
   "source": [
    "# Point-in-polygon queries\n",
    "\n",
    "Finding out if a certain point is located inside or outside of an area,\n",
    "or finding out if a line intersects with another line or polygon are\n",
    "fundamental geospatial operations that are often used e.g. to select\n",
    "data based on location. Such spatial queries are one of the typical\n",
    "first steps of the workflow when doing spatial analysis. Performing a\n",
    "spatial join (will be introduced later) between two spatial datasets is\n",
    "one of the most typical applications where Point in Polygon (PIP) query\n",
    "is used.\n",
    "\n",
    "For further reading about PIP and other geometric operations,\n",
    "see Chapter 4.2 in Smith, Goodchild & Longley: [Geospatial Analysis - 6th edition](https://www.spatialanalysisonline.com/HTML/index.html).\n",
    "\n",
    "\n",
    "## How to check if point is inside a polygon?\n",
    "\n",
    "Computationally, detecting if a point is inside a polygon is most commonly done using a specific formula called [Ray Casting algorithm](https://en.wikipedia.org/wiki/Point_in_polygon#Ray_casting_algorithm).\n",
    "Luckily, we do not need to create such a function ourselves for\n",
    "conducting the Point in Polygon (PIP) query. Instead, we can take\n",
    "advantage of [Shapely's binary predicates](https://shapely.readthedocs.io/en/stable/manual.html#binary-predicates)\n",
    "that can evaluate the topolocical relationships between geographical\n",
    "objects, such as the PIP as we're interested here.\n",
    "\n",
    "<br>\n",
    "\n",
    "> ### Good to know: Ray-Casting Algorithm\n",
    "> The **ray-casting algorithm** is a common method used to determine whether a given point lies inside or outside of a polygon. This algorithm is widely used in spatial analysis and GIS.\n",
    ">\n",
    "> #### How It Works\n",
    "> - **Cast a Ray**: A ray (straight line) is extended from the point in question to infinity in one direction.\n",
    "> - **Count Intersections**: Count how many times this ray intersects with the edges of the polygon.\n",
    ">   - If the ray crosses the edges an **odd number of times**, the point is considered to be **inside** the polygon.\n",
    ">   - If it crosses an edge an **even number of times**, the point is **outside** the polygon.\n",
    ">\n",
    "> ![Example of ray casting of a polygon](figs/ray-casting.png)\n",
    "> \n",
    "> *Example of ray casting of a polygon. Image from [IEEE](https://ieeexplore.ieee.org/document/7991484).*\n",
    "> #### Why This Works\n",
    "> This method leverages the idea that a ray entering and exiting the polygon will cross an edge each time it enters or exits. An odd count of intersections means the point is \"trapped\" inside; an even count means it is outside.\n",
    ">\n",
    "> #### Use Cases and Limitations\n",
    "> - This method works well for both convex and concave polygons.\n",
    "> - Special cases like points on the polygon edge may need additional handling.\n",
    ">\n",
    "> #### **Test your understanding**\n",
    "> Can you write a Python code to implement this algrothm?"
   ]
  },
  {
   "cell_type": "markdown",
   "id": "7c7214a0-a2e2-40d5-8af8-d73c7cce41e8",
   "metadata": {},
   "source": [
    "## Point-in-polygon queries on `shapely` geometries\n",
    "\n",
    "There are basically two ways of conducting PIP in Shapely:\n",
    "\n",
    "1. using a function called\n",
    "   [within()](https://shapely.readthedocs.io/en/stable/manual.html#object.within)\n",
    "   that checks if a point is within a polygon\n",
    "2. using a function called\n",
    "   [contains()](https://shapely.readthedocs.io/en/stable/manual.html#object.contains)\n",
    "   that checks if a polygon contains a point\n",
    "\n",
    "\n",
    "> **Note**\n",
    ">\n",
    "> Even though we are discussing a **Point** in Polygon operation, it is also possible to check if a LineString or Polygon is inside another Polygon.\n",
    "\n",
    "\n",
    "\n",
    "Let’s first create a couple of point geometries:"
   ]
  },
  {
   "cell_type": "code",
   "execution_count": null,
   "id": "290dd955",
   "metadata": {},
   "outputs": [],
   "source": [
    "import shapely.geometry\n",
    "point1 = shapely.geometry.Point(24.952242, 60.1696017)\n",
    "point2 = shapely.geometry.Point(24.976567, 60.1612500)"
   ]
  },
  {
   "cell_type": "markdown",
   "id": "28b431a5",
   "metadata": {},
   "source": [
    "... and a polygon:"
   ]
  },
  {
   "cell_type": "code",
   "execution_count": null,
   "id": "0f5c3e95",
   "metadata": {},
   "outputs": [],
   "source": [
    "polygon = shapely.geometry.Polygon(\n",
    "    [\n",
    "        (24.950899, 60.169158),\n",
    "        (24.953492, 60.169158),\n",
    "        (24.953510, 60.170104),\n",
    "        (24.950958, 60.169990)\n",
    "    ]\n",
    ")"
   ]
  },
  {
   "cell_type": "code",
   "execution_count": null,
   "id": "7476a932",
   "metadata": {},
   "outputs": [],
   "source": [
    "print(point1)\n",
    "print(point2)\n",
    "print(polygon)"
   ]
  },
  {
   "cell_type": "markdown",
   "id": "cc25c707",
   "metadata": {},
   "source": [
    "Let’s check if the points are `within()` the polygon:"
   ]
  },
  {
   "cell_type": "code",
   "execution_count": null,
   "id": "9475a971",
   "metadata": {},
   "outputs": [],
   "source": [
    "point1.within(polygon)"
   ]
  },
  {
   "cell_type": "code",
   "execution_count": null,
   "id": "91b5b69f",
   "metadata": {},
   "outputs": [],
   "source": [
    "point2.within(polygon)"
   ]
  },
  {
   "cell_type": "markdown",
   "id": "f327796e",
   "metadata": {},
   "source": [
    "It seems that the first point is inside the polygon, but the second one is not.\n",
    "\n",
    "We can turn the logic of the look-up around: Rather than check of the point is\n",
    "within the polygon, we can also ask whether the polygon `contains()` the point:"
   ]
  },
  {
   "cell_type": "code",
   "execution_count": null,
   "id": "b672d7df",
   "metadata": {},
   "outputs": [],
   "source": [
    "polygon.contains(point1)"
   ]
  },
  {
   "cell_type": "code",
   "execution_count": null,
   "id": "880fe0b7",
   "metadata": {},
   "outputs": [],
   "source": [
    "polygon.contains(point2)"
   ]
  },
  {
   "cell_type": "markdown",
   "id": "2919e35a",
   "metadata": {},
   "source": [
    "> **Hint:** The two ways of checking the spatial relationship are complementary and yield\n",
    "> equivalent results; [contains()](https://shapely.readthedocs.io/en/stable/manual.html#object.contains)\n",
    "> is inverse to [within()](https://shapely.readthedocs.io/en/stable/manual.html#object.within),\n",
    "> and vice versa.\n",
    ">\n",
    "> Then, which one should you use? Well, it depends:\n",
    ">\n",
    "> - If you have **many points and just one polygon** and want to find out which points are inside the polygon, you might need to iterate over the points and check one at a time if it is **within()** the polygon.\n",
    "> - If you have **many polygons and just one point** and want to find out which polygon contains the point, you might need to iterate over the polygons until you find one that **contains()** the point.\n",
    "\n",
    "\n",
    "\n",
    "## Point-in-polygon queries on `geopandas.GeoDataFrame`s\n",
    "\n",
    "In the following practical example we find which of the addresses we obtained\n",
    "in the [geocoding section](geocoding-in-geopandas) are located within a certain\n",
    "city district of Helsinki.\n",
    "\n",
    "The data set we are using is from [Helsinki Region Infoshare](https://hri.fi/data/en_GB/dataset/helsingin-piirijako), and licensed under a [Creative-Commons-Attribution-4.0](https://creativecommons.org/licenses/by/4.0/) license."
   ]
  },
  {
   "cell_type": "code",
   "execution_count": null,
   "id": "d14e025e",
   "metadata": {},
   "outputs": [],
   "source": [
    "import pathlib\n",
    "NOTEBOOK_PATH = pathlib.Path().resolve()\n",
    "DATA_DIRECTORY = NOTEBOOK_PATH / \"data\""
   ]
  },
  {
   "cell_type": "code",
   "execution_count": null,
   "id": "98d96acc",
   "metadata": {},
   "outputs": [],
   "source": [
    "import geopandas\n",
    "\n",
    "city_districts = geopandas.read_file(\n",
    "    DATA_DIRECTORY / \"helsinki_city_districts\" / \"helsinki_city_districts_2021.gpkg\"\n",
    ")\n",
    "city_districts.head()"
   ]
  },
  {
   "cell_type": "code",
   "execution_count": null,
   "id": "8336a478",
   "metadata": {},
   "outputs": [],
   "source": [
    "city_districts.plot()"
   ]
  },
  {
   "cell_type": "markdown",
   "id": "4a60eb6d",
   "metadata": {},
   "source": [
    "Specifically, we want to find out which points are within the ‘Eteläinen’\n",
    "(‘southern’) city district. Let’s start by obtaining a separate data set for\n",
    "this district, loading the addresses data, and plotting a multi-layer map\n",
    "that shows all districts, the ‘Eteläinen’ district, and all the points in\n",
    "one map:"
   ]
  },
  {
   "cell_type": "code",
   "execution_count": null,
   "id": "07b46735",
   "metadata": {},
   "outputs": [],
   "source": [
    "southern_district = city_districts[city_districts.name == \"Eteläinen\"]\n",
    "southern_district"
   ]
  },
  {
   "cell_type": "code",
   "execution_count": null,
   "id": "bfa33f67",
   "metadata": {},
   "outputs": [],
   "source": [
    "addresses = geopandas.read_file(DATA_DIRECTORY / \"addresses.gpkg\")"
   ]
  },
  {
   "cell_type": "markdown",
   "id": "14edd522",
   "metadata": {},
   "source": [
    "> **Hint: Plotting multiple map layers**\n",
    ">\n",
    "> To plot several map layers in one figure, use the `ax` parameter to specify in which *axes* data should be plotted. This was used in [lesson 7 of Geo-Python](https://geo-python-site.readthedocs.io/en/latest/notebooks/L7/matplotlib.html) to add text to a plot or modify axes properties.\n",
    ">\n",
    "> The easiest way to obtain an *axes* is to save the return value of the first `plot()` (see below). Another option is to create [subplots()](https://geo-python-site.readthedocs.io/en/latest/notebooks/L7/advanced-plotting.html#using-subplots), possibly with only one row and one column.\n"
   ]
  },
  {
   "cell_type": "code",
   "execution_count": null,
   "id": "be5a78b6",
   "metadata": {},
   "outputs": [],
   "source": [
    "axes = city_districts.plot(facecolor=\"grey\")\n",
    "southern_district.plot(ax=axes, facecolor=\"red\")\n",
    "addresses.plot(ax=axes, color=\"blue\", markersize=5)"
   ]
  },
  {
   "cell_type": "markdown",
   "id": "8e4079b6",
   "metadata": {},
   "source": [
    "Some points are within the ‘Eteläinen’ district, but others are not. To find\n",
    "out which are the ones inside the district, we can use a **point-in-polygon\n",
    "query**, this time on the entire `geopandas.GeoDataFrame`. Its method\n",
    "`within()` returns Boolean (`True`/`False`) values that indicate whether or not\n",
    "a row’s geometry is contained in the supplied *other* geometry:\n",
    "\n",
    "\n",
    "<div style=\"border: 1px solid #ffa726; background-color: #ffe0b2; padding: 15px; border-radius: 5px;\">\n",
    "\n",
    "**Geometry vs. geometry column**\n",
    "\n",
    "In the example below, we use `southern.at[0, \"geometry\"]` to obtain a single value, a `shapely.geometry.Polygon`, instead of an entire column (a `GeoSeries`). This ensures that each row’s geometry in the `addresses` data frame is matched against *the same polygon*. In contrast, if we ran `within()` against a column, the operation would be carried out row-wise: the first address point would be checked against the first polygon, the second address point against the second polygon, and so forth.\n",
    "\n",
    "Check the [documentation for `within()`](https://geopandas.org/en/stable/docs/reference/api/geopandas.GeoSeries.within.html) to learn more!\n",
    "\n",
    "</div>\n",
    "\n",
    "\n"
   ]
  },
  {
   "cell_type": "code",
   "execution_count": null,
   "id": "2af63e25",
   "metadata": {},
   "outputs": [],
   "source": [
    "addresses.within(southern_district.at[0, \"geometry\"])"
   ]
  },
  {
   "cell_type": "markdown",
   "id": "4555e5bc",
   "metadata": {},
   "source": [
    "This list of Boolean values, also called a *mask array* can be used to filter\n",
    "the input data frame:"
   ]
  },
  {
   "cell_type": "code",
   "execution_count": null,
   "id": "a30030e8",
   "metadata": {},
   "outputs": [],
   "source": [
    "addresses_in_the_southern_district = addresses[\n",
    "    addresses.within(southern_district.at[0, \"geometry\"])\n",
    "]\n",
    "addresses_in_the_southern_district"
   ]
  },
  {
   "cell_type": "markdown",
   "id": "6cd8811b",
   "metadata": {},
   "source": [
    "Finally, let’s plot this list of addresses one more time to visually verify\n",
    "that all of them, indeed, are located within the ‘Eteläinen’ city district:"
   ]
  },
  {
   "cell_type": "code",
   "execution_count": null,
   "id": "32bc57f5",
   "metadata": {},
   "outputs": [],
   "source": [
    "axes = city_districts.plot(facecolor=\"grey\")\n",
    "southern_district.plot(ax=axes, facecolor=\"red\")\n",
    "\n",
    "addresses_in_the_southern_district.plot(\n",
    "    ax=axes,\n",
    "    color=\"gold\",\n",
    "    markersize=5\n",
    ")"
   ]
  },
  {
   "cell_type": "markdown",
   "id": "f8816344",
   "metadata": {},
   "source": [
    "Perfect! Now we are left with only the (golden) points which, indeed, are\n",
    "inside the red polygon. That’s exactly what we wanted!"
   ]
  }
 ],
 "metadata": {
  "kernelspec": {
   "display_name": "Python 3 (ipykernel)",
   "language": "python",
   "name": "python3"
  },
  "language_info": {
   "codemirror_mode": {
    "name": "ipython",
    "version": 3
   },
   "file_extension": ".py",
   "mimetype": "text/x-python",
   "name": "python",
   "nbconvert_exporter": "python",
   "pygments_lexer": "ipython3",
   "version": "3.9.19"
  }
 },
 "nbformat": 4,
 "nbformat_minor": 5
}
