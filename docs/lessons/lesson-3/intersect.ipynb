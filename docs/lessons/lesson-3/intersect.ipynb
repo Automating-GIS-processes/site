{
 "cells": [
  {
   "cell_type": "markdown",
   "id": "8c12359f",
   "metadata": {},
   "source": [
    "# Intersect\n",
    " \n",
    "Similar to the spatial relationships `within` and `contains` covered in the [previous section](point-in-polygon-queries), another common geospatial query asks whether two geometries intersect or touch.\n",
    "\n",
    "Both queries are implemented in `shapely`:\n",
    "- [`intersects()`](https://shapely.readthedocs.io/en/stable/manual.html#object.intersects): two objects intersect if the boundary or interior of one object intersect in any way with the boundary or interior of the other object.\n",
    "- [`touches()`](https://shapely.readthedocs.io/en/stable/manual.html#object.touches): two objects touch if the objects have at least one point in common, but their interiors do not intersect with any part of the other object.\n",
    "\n",
    "Let’s try these functions out, for instance, using two lines:"
   ]
  },
  {
   "cell_type": "code",
   "execution_count": null,
   "id": "f8adb3de",
   "metadata": {},
   "outputs": [],
   "source": [
    "import shapely.geometry\n",
    "\n",
    "line1 = shapely.geometry.LineString([(0, 0), (1, 1)])\n",
    "line2 = shapely.geometry.LineString([(1, 1), (0, 2)])"
   ]
  },
  {
   "cell_type": "code",
   "execution_count": null,
   "id": "22ac6b0e",
   "metadata": {},
   "outputs": [],
   "source": [
    "line1.intersects(line2)"
   ]
  },
  {
   "cell_type": "markdown",
   "id": "c16f4c0a",
   "metadata": {},
   "source": [
    "The lines intersect. Do they also touch?"
   ]
  },
  {
   "cell_type": "code",
   "execution_count": null,
   "id": "36610144",
   "metadata": {},
   "outputs": [],
   "source": [
    "line1.touches(line2)"
   ]
  },
  {
   "cell_type": "markdown",
   "id": "9c5c7d8b",
   "metadata": {},
   "source": [
    "`line1` touches `line2`. Adding them both to a multi-line is a quick way of\n",
    "drawing them inside a Jupyter notebook:"
   ]
  },
  {
   "cell_type": "code",
   "execution_count": null,
   "id": "6962e9fb",
   "metadata": {},
   "outputs": [],
   "source": [
    "shapely.geometry.MultiLineString([line1, line2])"
   ]
  },
  {
   "cell_type": "markdown",
   "id": "8204feaa",
   "metadata": {},
   "source": [
    "We can see here, that the share the point `(1, 1)`, in which `line1` ends, and\n",
    "`line2` begins. The two lines do not intersect otherwise (‘in their interior’),\n",
    "so the predicament ’`touch()`’ - as defined above - is true.\n",
    "\n",
    "If the lines would share some of their interior, that would not be counted as\n",
    "touching. For instance, `line1` does not touch `line1` (itself), but fulfils\n",
    "all requirements to be counted as `intersect()`ing with itself:"
   ]
  },
  {
   "cell_type": "code",
   "execution_count": null,
   "id": "798148f0",
   "metadata": {},
   "outputs": [],
   "source": [
    "line1.touches(line1)"
   ]
  },
  {
   "cell_type": "code",
   "execution_count": null,
   "id": "8d3f14ab",
   "metadata": {},
   "outputs": [],
   "source": [
    "line1.intersects(line1)"
   ]
  }
 ],
 "metadata": {
  "kernelspec": {
   "display_name": "Python 3 (ipykernel)",
   "language": "python",
   "name": "python3"
  }
 },
 "nbformat": 4,
 "nbformat_minor": 5
}
