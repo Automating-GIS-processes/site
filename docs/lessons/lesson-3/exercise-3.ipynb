{
 "cells": [
  {
   "cell_type": "markdown",
   "id": "ccfb29e8",
   "metadata": {},
   "source": [
    "# Exercise 3\n",
    "\n",
    "> **Deadline**\n",
    "> \n",
    "> Please complete this exercise **by the end of day** on Thursday, 21 November, 2024 (the day before next week’s work session).\n",
    "\n",
    "\n",
    "To start this assignment, [accept the GitHub classroom\n",
    "assignment](https://classroom.github.com/a/AoeAxwR5), and clone *your own*\n",
    "repository, e.g., in a [CSC\n",
    "Noppe](../../course-info/course-environment)\n",
    "instance. Make sure you commit and push all changes you make (you can\n",
    "revisit instructions on how to use `git` and the JupyterLab git-plugin\n",
    "on the [website of the Geo-Python\n",
    "course](https://geo-python-site.readthedocs.io/en/latest/lessons/L2/git-basics.html).\n",
    "\n",
    "To preview the exercise without logging in, you can find the open course copy\n",
    "of the course’s GitHub repository at\n",
    "[github.com/Automating-GIS-processes-II-2024/Exercise-3](https://github.com/Automating-GIS-processes-II-2024/Exercise-3).\n",
    "Don’t attempt to commit changes to that repository, but rather work with your\n",
    "personal GitHub classroom copy (see above).\n",
    "\n",
    "\n",
    "## Hints\n",
    "\n",
    "### Coordinate reference systems\n",
    " \n",
    "<div style=\"border-left: 5px solid #f5c242; padding: 10px; background-color: #fff3cd; margin: 10px 0;\">\n",
    "  <strong>Note</strong>\n",
    "  <p>Remember the difference between defining a CRS and re-projecting a layer into a new CRS! Before re-projecting, the layer should have a valid CRS definition, which you can check like this: <code>data.crs</code>.</p>\n",
    "</div>\n",
    "\n",
    "\n",
    " \n",
    "To **define a projection**, assign a new CRS to a geo-data frame’s `crs`\n",
    "property:\n",
    "\n",
    "```{code}\n",
    "data.crs = pyproj.CRS(\"EPSG:4326\")\n",
    "```\n",
    "\n",
    "This will update the metadata, only. The actual coordinate values will remained\n",
    "unmodified. Use this only if the original CRS definition is missing or invalid.\n",
    "\n",
    "To **re-project** a `geopandas.GeoDataFrame`, use its `to_crs()` method:\n",
    "\n",
    "```{code}\n",
    "data = data.to_crs(\"EPSG:4326\")\n",
    "```\n",
    "\n",
    "This will actually transform the geometry features of the data frame, *AND* re-define the CRS definition stored in the `.crs` property."
   ]
  },
  {
   "cell_type": "code",
   "execution_count": null,
   "id": "034823a0-a252-4bab-ac9a-1db3d0d2ce98",
   "metadata": {},
   "outputs": [],
   "source": []
  }
 ],
 "metadata": {
  "kernelspec": {
   "display_name": "Python 3 (ipykernel)",
   "language": "python",
   "name": "python3"
  },
  "language_info": {
   "codemirror_mode": {
    "name": "ipython",
    "version": 3
   },
   "file_extension": ".py",
   "mimetype": "text/x-python",
   "name": "python",
   "nbconvert_exporter": "python",
   "pygments_lexer": "ipython3",
   "version": "3.11.7"
  }
 },
 "nbformat": 4,
 "nbformat_minor": 5
}
