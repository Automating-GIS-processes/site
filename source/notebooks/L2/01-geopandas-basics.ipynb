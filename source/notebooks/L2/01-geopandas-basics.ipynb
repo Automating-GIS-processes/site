{
 "cells": [
  {
   "cell_type": "markdown",
   "metadata": {},
   "source": [
    "# Introduction to Geopandas\n",
    "\n",
    "In this lesson, we will cover basics steps needed for interacting with spatial data in Python using geopandas:\n",
    "\n",
    "- Managing filepaths\n",
    "- Reading spatial data from file \n",
    "- Geometry calculations \n",
    "- Writing spatial data to file\n",
    "- Grouping and splitting spatial data into multiple layers\n",
    "\n",
    "\n",
    "Geopandas (http://geopandas.org/) makes it possible to work with geospatial data in Python in a relatively easy way. Geopandas combines the capabilities of the data analysis library [pandas](https://pandas.pydata.org/pandas-docs/stable/) with other packages like [shapely](https://shapely.readthedocs.io/en/stable/manual.html) and [fiona](https://fiona.readthedocs.io/en/latest/manual.html) for managing spatial data. \n",
    "\n",
    "The main data structures in geopandas are `GeoSeries` and `GeoDataFrame` which extend the capabilities of `Series` and `DataFrames` from pandas. This means that we can use all our pandas skills also when working with geopandas!  If you need to refresh your memory about pandas, check out week 5 and 6 lesson materials from the [Geo-Python website](geo-python.github.io). \n",
    "\n",
    "The main difference between geodataframes and pandas dataframes is that a [geodataframe](http://geopandas.org/data_structures.html#geodataframe) should contain one column for geometries. By default, the name of this column is `'geometry'`. The geometry column is a [geoseries](http://geopandas.org/data_structures.html#geoseries) which contains the geometries (points, lines, polygons, multipolygons etc.) as shapely objects. \n",
    "\n",
    "![geodataframe.png](img/geodataframe.png)\n",
    "\n",
    "As we learned in the Geo-Python course, it is conventional to import pandas as `pd`. Similarly,we will import geopandas as `gpd`:"
   ]
  },
  {
   "cell_type": "code",
   "execution_count": 1,
   "metadata": {},
   "outputs": [
    {
     "name": "stderr",
     "output_type": "stream",
     "text": [
      "/home/aagesenh/.conda/envs/python-gis/lib/python3.8/site-packages/geopandas/_compat.py:111: UserWarning: The Shapely GEOS version (3.9.1dev-CAPI-1.14.1) is incompatible with the GEOS version PyGEOS was compiled with (3.9.1-CAPI-1.14.2). Conversions between both will be slow.\n",
      "  warnings.warn(\n"
     ]
    }
   ],
   "source": [
    "import geopandas as gpd"
   ]
  },
  {
   "cell_type": "markdown",
   "metadata": {},
   "source": [
    "## Input data: Finnish topographic database \n",
    "\n",
    "In this lesson we will work with the [National Land Survey of Finland (NLS) topographic database (from 2018)](https://www.maanmittauslaitos.fi/en/maps-and-spatial-data/expert-users/product-descriptions/topographic-database). \n",
    "- The data set is licensed under the NLS' [open data licence](https://www.maanmittauslaitos.fi/en/opendata-licence-cc40) (CC BY 4.0).\n",
    "- Structure of the data is described in a separate Excel file ([download link](http://www.maanmittauslaitos.fi/sites/maanmittauslaitos.fi/files/attachments/2018/10/maastotietokanta_kohdemalli_eng.xlsx)).\n",
    "- Further information about file naming is available at [fairdata.fi](https://etsin.fairdata.fi/dataset/5023ecc7-914a-4494-9e32-d0a39d3b56ae).\n",
    "\n",
    "For this lesson, we have acquired a subset of the topographic database as shapefiles from the Helsinki Region in Finland via the [CSC open data portal](https://avaa.tdata.fi/web/paituli/latauspalvelu):\n",
    "\n",
    "![Paituli data download](img/Paituli_maastotietokanta_download.png)\n",
    "\n",
    "\n",
    "In this lesson, we will focus on **terrain objects** (Feature group: \"Terrain/1\" in the topographic database). The Terrain/1 feature group contains several feature classes. **Our aim in this lesson is to save all the Terrain/1 feature classes into separate files**.\n",
    "\n",
    "*Terrain/1 features in the Topographic Database:*\n",
    "\n",
    "|  feature class | Name of feature                                            | Feature group |\n",
    "|----------------|------------------------------------------------------------|---------------|\n",
    "| 32421          | Motor traffic area                                         | Terrain/1     |\n",
    "| 32200          | Cemetery                                                   | Terrain/1     |\n",
    "| 34300          | Sand                                                       | Terrain/1     |\n",
    "| 34100          | Rock - area                                                | Terrain/1     |\n",
    "| 34700          | Rocky area                                                 | Terrain/1     |\n",
    "| 32500          | Quarry                                                     | Terrain/1     |\n",
    "| 32112          | Mineral resources extraction area, fine-grained material   | Terrain/1     |\n",
    "| 32111          | Mineral resources extraction area, coarse-grained material | Terrain/1     |\n",
    "| 32611          | Field                                                      | Terrain/1     |\n",
    "| 32612          | Garden                                                     | Terrain/1     |\n",
    "| 32800          | Meadow                                                     | Terrain/1     |\n",
    "| 32900          | Park                                                       | Terrain/1     |\n",
    "| 35300          | Paludified land                                            | Terrain/1     |\n",
    "| 35412          | Bog, easy to traverse forested                             | Terrain/1     |\n",
    "| 35411          | Open bog, easy to traverse treeless                        | Terrain/1     |\n",
    "| 35421          | Open fen, difficult to traverse treeless                   | Terrain/1     |\n",
    "| 33000          | Earth fill                                                 | Terrain/1     |\n",
    "| 33100          | Sports and recreation area                                 | Terrain/1     |\n",
    "| 36200          | Lake water                                                 | Terrain/1     |\n",
    "| 36313          | Watercourse area                                           | Terrain/1     |\n",
    "\n",
    "\n",
    "According to the [naming convention](https://etsin.fairdata.fi/dataset/5023ecc7-914a-4494-9e32-d0a39d3b56ae), all files that start with a letter `m` and end with `p` contain the objects we are interested in (Terrain/1 polygons). "
   ]
  },
  {
   "cell_type": "markdown",
   "metadata": {},
   "source": [
    "## Downloading data\n",
    "\n",
    "You can use `wget` program (available in Binder and CSC Notebooks) to download the data from the command line from this download link: https://github.com/AutoGIS/data/raw/master/L2_data.zip. Let's download the data into the same folder with the lesson 2 notebooks (`.../notebooks/L2`):\n",
    "\n",
    "1. Open up a new terminal window\n",
    "2. Navigate to the correct folder in the terminal:\n",
    "\n",
    "```\n",
    "# Navigate to lesson 2 notebooks directory:\n",
    "cd autogis/notebooks/L2\n",
    "    \n",
    "```\n",
    "3. Use `wget` to dowload the data from the dowload link:\n",
    "    \n",
    "```\n",
    "wget https://github.com/AutoGIS/data/raw/master/L2_data.zip\n",
    "    \n",
    "```\n",
    "<div class=\"alert alert-info\">\n",
    "\n",
    "**Copy-paste**\n",
    "    \n",
    "You can paste copied text in JupyterLab Terminal by pressing `SHIFT` + `RIGHT-CLICK` on your mouse and choosing `Paste`.\n",
    "\n",
    "</div>\n",
    "\n",
    "Once you have downloaded the `L2_data.zip` file into your (cloud) computer, you can unzip the file using `unzip` command in the Terminal (or e.g. 7zip on Windows if working with own computer). Run the following commands in the `.../notebooks/L2` -directory:\n",
    "\n",
    "``` \n",
    "$ unzip L2_data.zip\n",
    "$ ls L2_data\n",
    "\n",
    "```\n",
    "You can also check the contents of the downloaded and unzipped file in the file browser window. \n",
    "\n",
    "The L2_data folder contains several subfolders according to the file strucutre in the topographic database shapefile distribution. After unzipping the downloaded file, you can find the data for this tutorial under: `L2_data/NLS/2018/L4/L41/L4132R.shp`. Notice that Shapefile -fileformat contains many separate files such as `.dbf` that contains the attribute information, and `.prj` -file that contains information about coordinate reference system."
   ]
  },
  {
   "cell_type": "markdown",
   "metadata": {},
   "source": [
    "## Managing filepaths\n",
    "\n",
    "Built-in module `os` provides many useful functions for interacting with the operating system. One of the most useful submodules in the os package is the [os.path-module](https://docs.python.org/2/library/os.path.html) for manipulating file paths. This week, we have data in different sub-folders and we can practice how to use `os` path tools when defining filepaths.\n",
    "\n",
    "Let's import `os` and see how we can construct a filepath by joining a folder path and file name:"
   ]
  },
  {
   "cell_type": "code",
   "execution_count": 2,
   "metadata": {},
   "outputs": [
    {
     "name": "stdout",
     "output_type": "stream",
     "text": [
      "L2_data/NLS/2018/L4/L41/L4132R.shp/m_L4132R_p.shp\n"
     ]
    }
   ],
   "source": [
    "import os\n",
    "\n",
    "# Define path to folder\n",
    "input_folder = r\"L2_data/NLS/2018/L4/L41/L4132R.shp\"\n",
    "\n",
    "# Join folder path and filename \n",
    "fp = os.path.join(input_folder, \"m_L4132R_p.shp\")\n",
    "\n",
    "# Print out the full file path\n",
    "print(fp)"
   ]
  },
  {
   "cell_type": "markdown",
   "metadata": {},
   "source": [
    "## Reading a Shapefile\n",
    "\n",
    "Esri Shapefile is the default file format when reading in data usign geopandas, so we only need to pass the file path in order to read in our data:"
   ]
  },
  {
   "cell_type": "code",
   "execution_count": 3,
   "metadata": {},
   "outputs": [],
   "source": [
    "import geopandas as gpd\n",
    "\n",
    "# Read file using gpd.read_file()\n",
    "data = gpd.read_file(fp)"
   ]
  },
  {
   "cell_type": "markdown",
   "metadata": {},
   "source": [
    "Let's check the data type:"
   ]
  },
  {
   "cell_type": "code",
   "execution_count": 4,
   "metadata": {
    "collapsed": false,
    "jupyter": {
     "outputs_hidden": false
    }
   },
   "outputs": [
    {
     "data": {
      "text/plain": [
       "geopandas.geodataframe.GeoDataFrame"
      ]
     },
     "execution_count": 4,
     "metadata": {},
     "output_type": "execute_result"
    }
   ],
   "source": [
    "type(data)"
   ]
  },
  {
   "cell_type": "markdown",
   "metadata": {},
   "source": [
    "Here we see that our `data` -variable is a `GeoDataFrame`. GeoDataFrame extends the functionalities of\n",
    "`pandas.DataFrame` in a way that it is possible to handle spatial data using similar approaches and datastructures as in pandas (hence the name geopandas). \n",
    "\n",
    "Let's check the first rows of data: "
   ]
  },
  {
   "cell_type": "code",
   "execution_count": 5,
   "metadata": {
    "collapsed": false,
    "jupyter": {
     "outputs_hidden": false
    }
   },
   "outputs": [
    {
     "data": {
      "text/html": [
       "<div>\n",
       "<style scoped>\n",
       "    .dataframe tbody tr th:only-of-type {\n",
       "        vertical-align: middle;\n",
       "    }\n",
       "\n",
       "    .dataframe tbody tr th {\n",
       "        vertical-align: top;\n",
       "    }\n",
       "\n",
       "    .dataframe thead th {\n",
       "        text-align: right;\n",
       "    }\n",
       "</style>\n",
       "<table border=\"1\" class=\"dataframe\">\n",
       "  <thead>\n",
       "    <tr style=\"text-align: right;\">\n",
       "      <th></th>\n",
       "      <th>TEKSTI</th>\n",
       "      <th>RYHMA</th>\n",
       "      <th>LUOKKA</th>\n",
       "      <th>TASTAR</th>\n",
       "      <th>KORTAR</th>\n",
       "      <th>KORARV</th>\n",
       "      <th>KULKUTAPA</th>\n",
       "      <th>KOHDEOSO</th>\n",
       "      <th>AINLAHDE</th>\n",
       "      <th>SYNTYHETKI</th>\n",
       "      <th>...</th>\n",
       "      <th>KARTOGLK</th>\n",
       "      <th>ALUEJAKOON</th>\n",
       "      <th>VERSUH</th>\n",
       "      <th>SUUNTA</th>\n",
       "      <th>SIIRT_DX</th>\n",
       "      <th>SIIRT_DY</th>\n",
       "      <th>KORKEUS</th>\n",
       "      <th>ATTR2</th>\n",
       "      <th>ATTR3</th>\n",
       "      <th>geometry</th>\n",
       "    </tr>\n",
       "  </thead>\n",
       "  <tbody>\n",
       "    <tr>\n",
       "      <th>0</th>\n",
       "      <td>None</td>\n",
       "      <td>64</td>\n",
       "      <td>32421</td>\n",
       "      <td>5000</td>\n",
       "      <td>0</td>\n",
       "      <td>0.0</td>\n",
       "      <td>0</td>\n",
       "      <td>1812247077</td>\n",
       "      <td>1</td>\n",
       "      <td>20180125</td>\n",
       "      <td>...</td>\n",
       "      <td>0</td>\n",
       "      <td>0</td>\n",
       "      <td>0</td>\n",
       "      <td>0</td>\n",
       "      <td>0</td>\n",
       "      <td>0</td>\n",
       "      <td>0.0</td>\n",
       "      <td>0</td>\n",
       "      <td>0</td>\n",
       "      <td>POLYGON ((379394.248 6689991.936, 379389.790 6...</td>\n",
       "    </tr>\n",
       "    <tr>\n",
       "      <th>1</th>\n",
       "      <td>None</td>\n",
       "      <td>64</td>\n",
       "      <td>32421</td>\n",
       "      <td>5000</td>\n",
       "      <td>0</td>\n",
       "      <td>0.0</td>\n",
       "      <td>0</td>\n",
       "      <td>1718796908</td>\n",
       "      <td>1</td>\n",
       "      <td>20180120</td>\n",
       "      <td>...</td>\n",
       "      <td>0</td>\n",
       "      <td>0</td>\n",
       "      <td>0</td>\n",
       "      <td>0</td>\n",
       "      <td>0</td>\n",
       "      <td>0</td>\n",
       "      <td>0.0</td>\n",
       "      <td>0</td>\n",
       "      <td>0</td>\n",
       "      <td>POLYGON ((378980.811 6689359.377, 378983.401 6...</td>\n",
       "    </tr>\n",
       "    <tr>\n",
       "      <th>2</th>\n",
       "      <td>None</td>\n",
       "      <td>64</td>\n",
       "      <td>32421</td>\n",
       "      <td>20000</td>\n",
       "      <td>0</td>\n",
       "      <td>0.0</td>\n",
       "      <td>0</td>\n",
       "      <td>411167695</td>\n",
       "      <td>1</td>\n",
       "      <td>20180120</td>\n",
       "      <td>...</td>\n",
       "      <td>0</td>\n",
       "      <td>0</td>\n",
       "      <td>0</td>\n",
       "      <td>0</td>\n",
       "      <td>0</td>\n",
       "      <td>0</td>\n",
       "      <td>0.0</td>\n",
       "      <td>0</td>\n",
       "      <td>0</td>\n",
       "      <td>POLYGON ((378804.766 6689256.471, 378817.107 6...</td>\n",
       "    </tr>\n",
       "    <tr>\n",
       "      <th>3</th>\n",
       "      <td>None</td>\n",
       "      <td>64</td>\n",
       "      <td>32421</td>\n",
       "      <td>20000</td>\n",
       "      <td>0</td>\n",
       "      <td>0.0</td>\n",
       "      <td>0</td>\n",
       "      <td>411173768</td>\n",
       "      <td>1</td>\n",
       "      <td>20180120</td>\n",
       "      <td>...</td>\n",
       "      <td>0</td>\n",
       "      <td>0</td>\n",
       "      <td>0</td>\n",
       "      <td>0</td>\n",
       "      <td>0</td>\n",
       "      <td>0</td>\n",
       "      <td>0.0</td>\n",
       "      <td>0</td>\n",
       "      <td>0</td>\n",
       "      <td>POLYGON ((379229.695 6685025.111, 379233.366 6...</td>\n",
       "    </tr>\n",
       "    <tr>\n",
       "      <th>4</th>\n",
       "      <td>None</td>\n",
       "      <td>64</td>\n",
       "      <td>32421</td>\n",
       "      <td>20000</td>\n",
       "      <td>0</td>\n",
       "      <td>0.0</td>\n",
       "      <td>0</td>\n",
       "      <td>411173698</td>\n",
       "      <td>1</td>\n",
       "      <td>20180120</td>\n",
       "      <td>...</td>\n",
       "      <td>0</td>\n",
       "      <td>0</td>\n",
       "      <td>0</td>\n",
       "      <td>0</td>\n",
       "      <td>0</td>\n",
       "      <td>0</td>\n",
       "      <td>0.0</td>\n",
       "      <td>0</td>\n",
       "      <td>0</td>\n",
       "      <td>POLYGON ((379825.199 6685096.247, 379829.651 6...</td>\n",
       "    </tr>\n",
       "  </tbody>\n",
       "</table>\n",
       "<p>5 rows × 21 columns</p>\n",
       "</div>"
      ],
      "text/plain": [
       "  TEKSTI  RYHMA  LUOKKA  TASTAR  KORTAR  KORARV  KULKUTAPA    KOHDEOSO  \\\n",
       "0   None     64   32421    5000       0     0.0          0  1812247077   \n",
       "1   None     64   32421    5000       0     0.0          0  1718796908   \n",
       "2   None     64   32421   20000       0     0.0          0   411167695   \n",
       "3   None     64   32421   20000       0     0.0          0   411173768   \n",
       "4   None     64   32421   20000       0     0.0          0   411173698   \n",
       "\n",
       "   AINLAHDE SYNTYHETKI  ... KARTOGLK  ALUEJAKOON  VERSUH  SUUNTA  SIIRT_DX  \\\n",
       "0         1   20180125  ...        0           0       0       0         0   \n",
       "1         1   20180120  ...        0           0       0       0         0   \n",
       "2         1   20180120  ...        0           0       0       0         0   \n",
       "3         1   20180120  ...        0           0       0       0         0   \n",
       "4         1   20180120  ...        0           0       0       0         0   \n",
       "\n",
       "   SIIRT_DY  KORKEUS  ATTR2  ATTR3  \\\n",
       "0         0      0.0      0      0   \n",
       "1         0      0.0      0      0   \n",
       "2         0      0.0      0      0   \n",
       "3         0      0.0      0      0   \n",
       "4         0      0.0      0      0   \n",
       "\n",
       "                                            geometry  \n",
       "0  POLYGON ((379394.248 6689991.936, 379389.790 6...  \n",
       "1  POLYGON ((378980.811 6689359.377, 378983.401 6...  \n",
       "2  POLYGON ((378804.766 6689256.471, 378817.107 6...  \n",
       "3  POLYGON ((379229.695 6685025.111, 379233.366 6...  \n",
       "4  POLYGON ((379825.199 6685096.247, 379829.651 6...  \n",
       "\n",
       "[5 rows x 21 columns]"
      ]
     },
     "execution_count": 5,
     "metadata": {},
     "output_type": "execute_result"
    }
   ],
   "source": [
    "data.head()"
   ]
  },
  {
   "cell_type": "markdown",
   "metadata": {},
   "source": [
    "- Check all column names:"
   ]
  },
  {
   "cell_type": "code",
   "execution_count": 6,
   "metadata": {},
   "outputs": [
    {
     "data": {
      "text/plain": [
       "array(['TEKSTI', 'RYHMA', 'LUOKKA', 'TASTAR', 'KORTAR', 'KORARV',\n",
       "       'KULKUTAPA', 'KOHDEOSO', 'AINLAHDE', 'SYNTYHETKI', 'KUOLHETKI',\n",
       "       'KARTOGLK', 'ALUEJAKOON', 'VERSUH', 'SUUNTA', 'SIIRT_DX',\n",
       "       'SIIRT_DY', 'KORKEUS', 'ATTR2', 'ATTR3', 'geometry'], dtype=object)"
      ]
     },
     "execution_count": 6,
     "metadata": {},
     "output_type": "execute_result"
    }
   ],
   "source": [
    "data.columns.values"
   ]
  },
  {
   "cell_type": "markdown",
   "metadata": {},
   "source": [
    "As you might guess, the column names are in Finnish.\n",
    "Let's select only the useful columns and rename them into English:"
   ]
  },
  {
   "cell_type": "code",
   "execution_count": 7,
   "metadata": {},
   "outputs": [],
   "source": [
    "data = data[['RYHMA', 'LUOKKA',  'geometry']]"
   ]
  },
  {
   "cell_type": "markdown",
   "metadata": {},
   "source": [
    "Define new column names in a dictionary:"
   ]
  },
  {
   "cell_type": "code",
   "execution_count": 8,
   "metadata": {},
   "outputs": [],
   "source": [
    "colnames = {'RYHMA':'GROUP', 'LUOKKA':'CLASS'}"
   ]
  },
  {
   "cell_type": "markdown",
   "metadata": {},
   "source": [
    "Rename:"
   ]
  },
  {
   "cell_type": "code",
   "execution_count": 9,
   "metadata": {},
   "outputs": [],
   "source": [
    "data.rename(columns=colnames, inplace=True)"
   ]
  },
  {
   "cell_type": "markdown",
   "metadata": {},
   "source": [
    "Check the output:"
   ]
  },
  {
   "cell_type": "code",
   "execution_count": 10,
   "metadata": {},
   "outputs": [
    {
     "data": {
      "text/html": [
       "<div>\n",
       "<style scoped>\n",
       "    .dataframe tbody tr th:only-of-type {\n",
       "        vertical-align: middle;\n",
       "    }\n",
       "\n",
       "    .dataframe tbody tr th {\n",
       "        vertical-align: top;\n",
       "    }\n",
       "\n",
       "    .dataframe thead th {\n",
       "        text-align: right;\n",
       "    }\n",
       "</style>\n",
       "<table border=\"1\" class=\"dataframe\">\n",
       "  <thead>\n",
       "    <tr style=\"text-align: right;\">\n",
       "      <th></th>\n",
       "      <th>GROUP</th>\n",
       "      <th>CLASS</th>\n",
       "      <th>geometry</th>\n",
       "    </tr>\n",
       "  </thead>\n",
       "  <tbody>\n",
       "    <tr>\n",
       "      <th>0</th>\n",
       "      <td>64</td>\n",
       "      <td>32421</td>\n",
       "      <td>POLYGON ((379394.248 6689991.936, 379389.790 6...</td>\n",
       "    </tr>\n",
       "    <tr>\n",
       "      <th>1</th>\n",
       "      <td>64</td>\n",
       "      <td>32421</td>\n",
       "      <td>POLYGON ((378980.811 6689359.377, 378983.401 6...</td>\n",
       "    </tr>\n",
       "    <tr>\n",
       "      <th>2</th>\n",
       "      <td>64</td>\n",
       "      <td>32421</td>\n",
       "      <td>POLYGON ((378804.766 6689256.471, 378817.107 6...</td>\n",
       "    </tr>\n",
       "    <tr>\n",
       "      <th>3</th>\n",
       "      <td>64</td>\n",
       "      <td>32421</td>\n",
       "      <td>POLYGON ((379229.695 6685025.111, 379233.366 6...</td>\n",
       "    </tr>\n",
       "    <tr>\n",
       "      <th>4</th>\n",
       "      <td>64</td>\n",
       "      <td>32421</td>\n",
       "      <td>POLYGON ((379825.199 6685096.247, 379829.651 6...</td>\n",
       "    </tr>\n",
       "  </tbody>\n",
       "</table>\n",
       "</div>"
      ],
      "text/plain": [
       "   GROUP  CLASS                                           geometry\n",
       "0     64  32421  POLYGON ((379394.248 6689991.936, 379389.790 6...\n",
       "1     64  32421  POLYGON ((378980.811 6689359.377, 378983.401 6...\n",
       "2     64  32421  POLYGON ((378804.766 6689256.471, 378817.107 6...\n",
       "3     64  32421  POLYGON ((379229.695 6685025.111, 379233.366 6...\n",
       "4     64  32421  POLYGON ((379825.199 6685096.247, 379829.651 6..."
      ]
     },
     "execution_count": 10,
     "metadata": {},
     "output_type": "execute_result"
    }
   ],
   "source": [
    "data.head()"
   ]
  },
  {
   "cell_type": "markdown",
   "metadata": {},
   "source": [
    "#### Check your understanding"
   ]
  },
  {
   "cell_type": "markdown",
   "metadata": {},
   "source": [
    "<div class=\"alert alert-info\">\n",
    "    \n",
    "Figure out the following information from our input data using your pandas skills:\n",
    "    \n",
    "- Number of rows?\n",
    "- Number of classes?\n",
    "- Number of groups?\n",
    "</div>"
   ]
  },
  {
   "cell_type": "code",
   "execution_count": 11,
   "metadata": {},
   "outputs": [
    {
     "name": "stdout",
     "output_type": "stream",
     "text": [
      "Number of rows 4311\n",
      "Number of classes 20\n",
      "Number of groups 1\n"
     ]
    }
   ],
   "source": [
    "print(\"Number of rows\", len(data['CLASS']))\n",
    "print(\"Number of classes\", data['CLASS'].nunique())\n",
    "print(\"Number of groups\", data['GROUP'].nunique())"
   ]
  },
  {
   "cell_type": "markdown",
   "metadata": {},
   "source": [
    "It is always a good idea to explore your data also on a map. Creating a simple map from a `GeoDataFrame` is really easy: you can use ``.plot()`` -function from geopandas that **creates a map based on the geometries of the data**. Geopandas actually uses matplotlib for plotting which we introduced in [Lesson 7 of the Geo-Python course](https://geo-python.github.io/site/notebooks/L7/matplotlib.html).\n",
    "\n",
    "Let's try it out, and plot our GeoDataFrame:"
   ]
  },
  {
   "cell_type": "code",
   "execution_count": 12,
   "metadata": {
    "collapsed": false,
    "jupyter": {
     "outputs_hidden": false
    }
   },
   "outputs": [
    {
     "data": {
      "text/plain": [
       "<AxesSubplot:>"
      ]
     },
     "execution_count": 12,
     "metadata": {},
     "output_type": "execute_result"
    },
    {
     "data": {
      "image/png": "[encoded data removed]",
      "text/plain": [
       "<Figure size 432x288 with 1 Axes>"
      ]
     },
     "metadata": {
      "needs_background": "light"
     },
     "output_type": "display_data"
    }
   ],
   "source": [
    "data.plot()"
   ]
  },
  {
   "cell_type": "markdown",
   "metadata": {},
   "source": [
    "Voilá! As we can see, it is really easy to produce a map out of your Shapefile with geopandas. Geopandas automatically positions your map in a way that it covers the whole extent of your data.\n",
    "\n",
    "*If you are living in the Helsinki region, you might recognize the shapes plotted on the map!*"
   ]
  },
  {
   "cell_type": "markdown",
   "metadata": {},
   "source": [
    "## Geometries in Geopandas\n",
    "\n",
    "Geopandas takes advantage of Shapely's geometric objects. Geometries are stored in a column called *geometry* that is a default column name for\n",
    "storing geometric information in geopandas."
   ]
  },
  {
   "cell_type": "markdown",
   "metadata": {},
   "source": [
    "Let's print the first 5 rows of the column 'geometry':"
   ]
  },
  {
   "cell_type": "code",
   "execution_count": 13,
   "metadata": {
    "collapsed": false,
    "jupyter": {
     "outputs_hidden": false
    }
   },
   "outputs": [
    {
     "data": {
      "text/plain": [
       "0    POLYGON ((379394.248 6689991.936, 379389.790 6...\n",
       "1    POLYGON ((378980.811 6689359.377, 378983.401 6...\n",
       "2    POLYGON ((378804.766 6689256.471, 378817.107 6...\n",
       "3    POLYGON ((379229.695 6685025.111, 379233.366 6...\n",
       "4    POLYGON ((379825.199 6685096.247, 379829.651 6...\n",
       "Name: geometry, dtype: geometry"
      ]
     },
     "execution_count": 13,
     "metadata": {},
     "output_type": "execute_result"
    }
   ],
   "source": [
    "data['geometry'].head()"
   ]
  },
  {
   "cell_type": "markdown",
   "metadata": {},
   "source": [
    "As we can see the `geometry` column contains familiar looking values, namely Shapely `Polygon` -objects. Since the spatial data is stored as Shapely objects, **it is possible to use Shapely methods** when dealing with geometries in geopandas.\n",
    "\n",
    "Let's have a closer look at the polygons and try to apply some of the Shapely methods we are already familiar with.\n",
    "\n",
    "Let's start by checking the area of the first polygon in the data:"
   ]
  },
  {
   "cell_type": "code",
   "execution_count": 14,
   "metadata": {},
   "outputs": [
    {
     "data": {
      "image/svg+xml": [
       "<svg xmlns=\"http://www.w3.org/2000/svg\" xmlns:xlink=\"http://www.w3.org/1999/xlink\" width=\"100.0\" height=\"100.0\" viewBox=\"379389.03576 6689991.18176 20.36447999998927 9.572479999624193\" preserveAspectRatio=\"xMinYMin meet\"><g transform=\"matrix(1,0,0,-1,0,13379991.936)\"><path fill-rule=\"evenodd\" fill=\"#66cc99\" stroke=\"#555555\" stroke-width=\"0.4072895999997854\" opacity=\"0.6\" d=\"M 379394.248,6689991.936 L 379389.79,6690000.0 L 379408.646,6690000.0 L 379394.248,6689991.936 z\" /></g></svg>"
      ],
      "text/plain": [
       "<shapely.geometry.polygon.Polygon at 0x7f24213b4d30>"
      ]
     },
     "execution_count": 14,
     "metadata": {},
     "output_type": "execute_result"
    }
   ],
   "source": [
    "# Access the geometry on the first row of data\n",
    "data.at[0, \"geometry\"]"
   ]
  },
  {
   "cell_type": "code",
   "execution_count": 15,
   "metadata": {},
   "outputs": [
    {
     "name": "stdout",
     "output_type": "stream",
     "text": [
      "Area: 76.0 square meters\n"
     ]
    }
   ],
   "source": [
    "# Print information about the area \n",
    "print(\"Area:\", round(data.at[0, \"geometry\"].area, 0), \"square meters\")"
   ]
  },
  {
   "cell_type": "markdown",
   "metadata": {},
   "source": [
    "\n",
    "Let's do the same for the first five rows in the data; \n",
    "\n",
    "- Iterate over the GeoDataFrame rows using the `iterrows()` -function that we learned [during the Lesson 6 of the Geo-Python course](https://geo-python.github.io/site/notebooks/L6/pandas/advanced-data-processing-with-pandas.html#Iterating-rows-and-using-self-made-functions-in-Pandas).\n",
    "- For each row, print the area of the polygon (here, we'll limit the for-loop to a selection of the first five rows):"
   ]
  },
  {
   "cell_type": "code",
   "execution_count": 16,
   "metadata": {
    "collapsed": false,
    "jupyter": {
     "outputs_hidden": false
    }
   },
   "outputs": [
    {
     "name": "stdout",
     "output_type": "stream",
     "text": [
      "Polygon area at index 0 is: 76 square meters\n",
      "Polygon area at index 1 is: 2652 square meters\n",
      "Polygon area at index 2 is: 3186 square meters\n",
      "Polygon area at index 3 is: 13075 square meters\n",
      "Polygon area at index 4 is: 3981 square meters\n"
     ]
    }
   ],
   "source": [
    "# Iterate over rows and print the area of a Polygon\n",
    "for index, row in data[0:5].iterrows():\n",
    "    \n",
    "    # Get the area from the shapely-object stored in the geometry-column\n",
    "    poly_area = row['geometry'].area\n",
    "    \n",
    "    # Print info\n",
    "    print(\"Polygon area at index {index} is: {area:.0f} square meters\".format(index=index, area=poly_area))"
   ]
  },
  {
   "cell_type": "markdown",
   "metadata": {},
   "source": [
    "As you see from here, all **pandas** methods, such as the `iterrows()` function, are directly available in Geopandas without the need to call pandas separately because Geopandas is an **extension** for pandas. \n",
    "\n",
    "In practice, it is not necessary to use the iterrows()-approach to calculate the area for all features. Geodataframes and geoseries have an attribute `area` which we can use for accessing the area for each feature at once: "
   ]
  },
  {
   "cell_type": "code",
   "execution_count": 17,
   "metadata": {},
   "outputs": [
    {
     "data": {
      "text/plain": [
       "0          76.027392\n",
       "1        2652.054186\n",
       "2        3185.649995\n",
       "3       13075.165279\n",
       "4        3980.682621\n",
       "            ...     \n",
       "4306     2651.800270\n",
       "4307      376.503380\n",
       "4308      413.942555\n",
       "4309     3487.927677\n",
       "4310     1278.963199\n",
       "Length: 4311, dtype: float64"
      ]
     },
     "execution_count": 17,
     "metadata": {},
     "output_type": "execute_result"
    }
   ],
   "source": [
    "data.area"
   ]
  },
  {
   "cell_type": "markdown",
   "metadata": {},
   "source": [
    "Let's next create a new column into our GeoDataFrame where we calculate and store the areas of individual polygons:"
   ]
  },
  {
   "cell_type": "code",
   "execution_count": 18,
   "metadata": {
    "collapsed": false,
    "jupyter": {
     "outputs_hidden": false
    }
   },
   "outputs": [],
   "source": [
    "# Create a new column called 'area' \n",
    "data['area'] = data.area"
   ]
  },
  {
   "cell_type": "markdown",
   "metadata": {},
   "source": [
    "Check the output:"
   ]
  },
  {
   "cell_type": "code",
   "execution_count": 19,
   "metadata": {},
   "outputs": [
    {
     "data": {
      "text/plain": [
       "0          76.027392\n",
       "1        2652.054186\n",
       "2        3185.649995\n",
       "3       13075.165279\n",
       "4        3980.682621\n",
       "            ...     \n",
       "4306     2651.800270\n",
       "4307      376.503380\n",
       "4308      413.942555\n",
       "4309     3487.927677\n",
       "4310     1278.963199\n",
       "Name: area, Length: 4311, dtype: float64"
      ]
     },
     "execution_count": 19,
     "metadata": {},
     "output_type": "execute_result"
    }
   ],
   "source": [
    "data['area']"
   ]
  },
  {
   "cell_type": "markdown",
   "metadata": {},
   "source": [
    "These values correspond to the ones we saw in previous step when iterating rows.\n",
    "\n",
    "Let's check what is the `min`, `max` and `mean` of those areas using familiar functions from our previous Pandas lessions."
   ]
  },
  {
   "cell_type": "code",
   "execution_count": 20,
   "metadata": {},
   "outputs": [
    {
     "data": {
      "text/plain": [
       "4084558.15"
      ]
     },
     "execution_count": 20,
     "metadata": {},
     "output_type": "execute_result"
    }
   ],
   "source": [
    "# Maximum area\n",
    "round(data['area'].max(), 2)"
   ]
  },
  {
   "cell_type": "code",
   "execution_count": 21,
   "metadata": {},
   "outputs": [
    {
     "data": {
      "text/plain": [
       "0.67"
      ]
     },
     "execution_count": 21,
     "metadata": {},
     "output_type": "execute_result"
    }
   ],
   "source": [
    "# Minimum area\n",
    "round(data['area'].min(), 2)"
   ]
  },
  {
   "cell_type": "code",
   "execution_count": 22,
   "metadata": {},
   "outputs": [
    {
     "data": {
      "text/plain": [
       "11522.29"
      ]
     },
     "execution_count": 22,
     "metadata": {},
     "output_type": "execute_result"
    }
   ],
   "source": [
    "# Average area\n",
    "round(data['area'].mean(), 2)"
   ]
  },
  {
   "cell_type": "markdown",
   "metadata": {},
   "source": [
    "## Writing data into a shapefile\n",
    "\n",
    "It is possible to export GeoDataFrames into various data formats using the [to_file()](http://geopandas.org/io.html#writing-spatial-data) method. In our case, we want to export subsets of the data into Shapefiles (one file for each feature class).\n",
    "\n",
    "Let's first select one class (class number `36200`, \"Lake water\") from the data as a new GeoDataFrame:\n"
   ]
  },
  {
   "cell_type": "code",
   "execution_count": 23,
   "metadata": {},
   "outputs": [],
   "source": [
    "# Select a class\n",
    "selection = data.loc[data[\"CLASS\"]==36200]"
   ]
  },
  {
   "cell_type": "markdown",
   "metadata": {},
   "source": [
    "Check the selection:"
   ]
  },
  {
   "cell_type": "code",
   "execution_count": 24,
   "metadata": {},
   "outputs": [
    {
     "data": {
      "text/plain": [
       "<AxesSubplot:>"
      ]
     },
     "execution_count": 24,
     "metadata": {},
     "output_type": "execute_result"
    },
    {
     "data": {
      "image/png": "[encoded data removed]",
      "text/plain": [
       "<Figure size 432x288 with 1 Axes>"
      ]
     },
     "metadata": {
      "needs_background": "light"
     },
     "output_type": "display_data"
    }
   ],
   "source": [
    "selection.plot()"
   ]
  },
  {
   "cell_type": "markdown",
   "metadata": {},
   "source": [
    "- write this layer into a new Shapefile using the `gpd.to_file()` -function:"
   ]
  },
  {
   "cell_type": "code",
   "execution_count": 25,
   "metadata": {},
   "outputs": [],
   "source": [
    "# Create a output path for the data\n",
    "output_folder = r\"L2_data/\"\n",
    "output_fp = os.path.join(output_folder, \"Class_36200.shp\")"
   ]
  },
  {
   "cell_type": "code",
   "execution_count": 26,
   "metadata": {},
   "outputs": [],
   "source": [
    "# Write those rows into a new file (the default output file format is Shapefile)\n",
    "selection.to_file(output_fp)"
   ]
  },
  {
   "cell_type": "markdown",
   "metadata": {},
   "source": [
    "#### Check your understanding"
   ]
  },
  {
   "cell_type": "markdown",
   "metadata": {},
   "source": [
    "<div class=\"alert alert-info\">\n",
    "\n",
    "Read the output Shapefile in a new geodataframe, and check that the data looks ok.\n",
    "</div>"
   ]
  },
  {
   "cell_type": "code",
   "execution_count": 27,
   "metadata": {},
   "outputs": [],
   "source": [
    "temp = gpd.read_file(output_fp)"
   ]
  },
  {
   "cell_type": "code",
   "execution_count": 28,
   "metadata": {},
   "outputs": [
    {
     "data": {
      "text/html": [
       "<div>\n",
       "<style scoped>\n",
       "    .dataframe tbody tr th:only-of-type {\n",
       "        vertical-align: middle;\n",
       "    }\n",
       "\n",
       "    .dataframe tbody tr th {\n",
       "        vertical-align: top;\n",
       "    }\n",
       "\n",
       "    .dataframe thead th {\n",
       "        text-align: right;\n",
       "    }\n",
       "</style>\n",
       "<table border=\"1\" class=\"dataframe\">\n",
       "  <thead>\n",
       "    <tr style=\"text-align: right;\">\n",
       "      <th></th>\n",
       "      <th>GROUP</th>\n",
       "      <th>CLASS</th>\n",
       "      <th>area</th>\n",
       "      <th>geometry</th>\n",
       "    </tr>\n",
       "  </thead>\n",
       "  <tbody>\n",
       "    <tr>\n",
       "      <th>0</th>\n",
       "      <td>64</td>\n",
       "      <td>36200</td>\n",
       "      <td>1318.878221</td>\n",
       "      <td>POLYGON ((379089.473 6687069.722, 379093.838 6...</td>\n",
       "    </tr>\n",
       "    <tr>\n",
       "      <th>1</th>\n",
       "      <td>64</td>\n",
       "      <td>36200</td>\n",
       "      <td>22918.867073</td>\n",
       "      <td>POLYGON ((376732.156 6687178.141, 376731.301 6...</td>\n",
       "    </tr>\n",
       "    <tr>\n",
       "      <th>2</th>\n",
       "      <td>64</td>\n",
       "      <td>36200</td>\n",
       "      <td>5759.318345</td>\n",
       "      <td>POLYGON ((377939.741 6684539.678, 377929.192 6...</td>\n",
       "    </tr>\n",
       "    <tr>\n",
       "      <th>3</th>\n",
       "      <td>64</td>\n",
       "      <td>36200</td>\n",
       "      <td>265899.648379</td>\n",
       "      <td>POLYGON ((372948.857 6688594.047, 372935.951 6...</td>\n",
       "    </tr>\n",
       "    <tr>\n",
       "      <th>4</th>\n",
       "      <td>64</td>\n",
       "      <td>36200</td>\n",
       "      <td>128221.314258</td>\n",
       "      <td>POLYGON ((370900.963 6689201.649, 370890.077 6...</td>\n",
       "    </tr>\n",
       "  </tbody>\n",
       "</table>\n",
       "</div>"
      ],
      "text/plain": [
       "   GROUP  CLASS           area  \\\n",
       "0     64  36200    1318.878221   \n",
       "1     64  36200   22918.867073   \n",
       "2     64  36200    5759.318345   \n",
       "3     64  36200  265899.648379   \n",
       "4     64  36200  128221.314258   \n",
       "\n",
       "                                            geometry  \n",
       "0  POLYGON ((379089.473 6687069.722, 379093.838 6...  \n",
       "1  POLYGON ((376732.156 6687178.141, 376731.301 6...  \n",
       "2  POLYGON ((377939.741 6684539.678, 377929.192 6...  \n",
       "3  POLYGON ((372948.857 6688594.047, 372935.951 6...  \n",
       "4  POLYGON ((370900.963 6689201.649, 370890.077 6...  "
      ]
     },
     "execution_count": 28,
     "metadata": {},
     "output_type": "execute_result"
    }
   ],
   "source": [
    "# Check first rows\n",
    "temp.head()"
   ]
  },
  {
   "cell_type": "code",
   "execution_count": 29,
   "metadata": {},
   "outputs": [
    {
     "data": {
      "text/plain": [
       "<AxesSubplot:>"
      ]
     },
     "execution_count": 29,
     "metadata": {},
     "output_type": "execute_result"
    },
    {
     "data": {
      "image/png": "[encoded data removed]",
      "text/plain": [
       "<Figure size 432x288 with 1 Axes>"
      ]
     },
     "metadata": {
      "needs_background": "light"
     },
     "output_type": "display_data"
    }
   ],
   "source": [
    "# You can also plot the data for a visual check\n",
    "temp.plot()"
   ]
  },
  {
   "cell_type": "markdown",
   "metadata": {},
   "source": [
    "## Grouping the Geodataframe\n",
    "\n",
    "One really useful function that can be used in Pandas/Geopandas is [groupby()](http://pandas.pydata.org/pandas-docs/stable/generated/pandas.DataFrame.groupby.html) which groups data based on values on selected column(s). We saw and used this function already in Lesson 6 of the Geo-Python course. \n",
    "\n",
    "Next we will automate the file export task; we will group the data based on column `CLASS` and export a shapefile for each class.\n",
    "\n",
    "Let's continue with the same input file we already read previously into the variable `data`. We also selected and renamed a subset of the columns.\n",
    "\n",
    "Check again the first rows of our input data:"
   ]
  },
  {
   "cell_type": "code",
   "execution_count": 30,
   "metadata": {},
   "outputs": [
    {
     "data": {
      "text/html": [
       "<div>\n",
       "<style scoped>\n",
       "    .dataframe tbody tr th:only-of-type {\n",
       "        vertical-align: middle;\n",
       "    }\n",
       "\n",
       "    .dataframe tbody tr th {\n",
       "        vertical-align: top;\n",
       "    }\n",
       "\n",
       "    .dataframe thead th {\n",
       "        text-align: right;\n",
       "    }\n",
       "</style>\n",
       "<table border=\"1\" class=\"dataframe\">\n",
       "  <thead>\n",
       "    <tr style=\"text-align: right;\">\n",
       "      <th></th>\n",
       "      <th>GROUP</th>\n",
       "      <th>CLASS</th>\n",
       "      <th>geometry</th>\n",
       "      <th>area</th>\n",
       "    </tr>\n",
       "  </thead>\n",
       "  <tbody>\n",
       "    <tr>\n",
       "      <th>0</th>\n",
       "      <td>64</td>\n",
       "      <td>32421</td>\n",
       "      <td>POLYGON ((379394.248 6689991.936, 379389.790 6...</td>\n",
       "      <td>76.027392</td>\n",
       "    </tr>\n",
       "    <tr>\n",
       "      <th>1</th>\n",
       "      <td>64</td>\n",
       "      <td>32421</td>\n",
       "      <td>POLYGON ((378980.811 6689359.377, 378983.401 6...</td>\n",
       "      <td>2652.054186</td>\n",
       "    </tr>\n",
       "    <tr>\n",
       "      <th>2</th>\n",
       "      <td>64</td>\n",
       "      <td>32421</td>\n",
       "      <td>POLYGON ((378804.766 6689256.471, 378817.107 6...</td>\n",
       "      <td>3185.649995</td>\n",
       "    </tr>\n",
       "    <tr>\n",
       "      <th>3</th>\n",
       "      <td>64</td>\n",
       "      <td>32421</td>\n",
       "      <td>POLYGON ((379229.695 6685025.111, 379233.366 6...</td>\n",
       "      <td>13075.165279</td>\n",
       "    </tr>\n",
       "    <tr>\n",
       "      <th>4</th>\n",
       "      <td>64</td>\n",
       "      <td>32421</td>\n",
       "      <td>POLYGON ((379825.199 6685096.247, 379829.651 6...</td>\n",
       "      <td>3980.682621</td>\n",
       "    </tr>\n",
       "  </tbody>\n",
       "</table>\n",
       "</div>"
      ],
      "text/plain": [
       "   GROUP  CLASS                                           geometry  \\\n",
       "0     64  32421  POLYGON ((379394.248 6689991.936, 379389.790 6...   \n",
       "1     64  32421  POLYGON ((378980.811 6689359.377, 378983.401 6...   \n",
       "2     64  32421  POLYGON ((378804.766 6689256.471, 378817.107 6...   \n",
       "3     64  32421  POLYGON ((379229.695 6685025.111, 379233.366 6...   \n",
       "4     64  32421  POLYGON ((379825.199 6685096.247, 379829.651 6...   \n",
       "\n",
       "           area  \n",
       "0     76.027392  \n",
       "1   2652.054186  \n",
       "2   3185.649995  \n",
       "3  13075.165279  \n",
       "4   3980.682621  "
      ]
     },
     "execution_count": 30,
     "metadata": {},
     "output_type": "execute_result"
    }
   ],
   "source": [
    "data.head()"
   ]
  },
  {
   "cell_type": "markdown",
   "metadata": {},
   "source": [
    "The `CLASS` column in the data contains information about different land use types. With `.unique()` -function we can quickly see all different values in that column:"
   ]
  },
  {
   "cell_type": "code",
   "execution_count": 31,
   "metadata": {
    "collapsed": false,
    "jupyter": {
     "outputs_hidden": false
    }
   },
   "outputs": [
    {
     "data": {
      "text/plain": [
       "array([32421, 32200, 34300, 34100, 34700, 32500, 32112, 32111, 32611,\n",
       "       32612, 32800, 32900, 35300, 35412, 35411, 35421, 33000, 33100,\n",
       "       36200, 36313])"
      ]
     },
     "execution_count": 31,
     "metadata": {},
     "output_type": "execute_result"
    }
   ],
   "source": [
    "# Print all unique values in the column\n",
    "data['CLASS'].unique()"
   ]
  },
  {
   "cell_type": "markdown",
   "metadata": {},
   "source": [
    "- Now we can use that information to group our data and save all land use types into different layers:"
   ]
  },
  {
   "cell_type": "code",
   "execution_count": 32,
   "metadata": {
    "collapsed": false,
    "jupyter": {
     "outputs_hidden": false
    }
   },
   "outputs": [
    {
     "data": {
      "text/plain": [
       "<pandas.core.groupby.generic.DataFrameGroupBy object at 0x7f24202153a0>"
      ]
     },
     "execution_count": 32,
     "metadata": {},
     "output_type": "execute_result"
    }
   ],
   "source": [
    "# Group the data by class\n",
    "grouped = data.groupby('CLASS')\n",
    "\n",
    "# Let's see what we have\n",
    "grouped"
   ]
  },
  {
   "cell_type": "markdown",
   "metadata": {},
   "source": [
    "As we can see, `groupby` -function gives us an object called `DataFrameGroupBy` which is similar to list of keys and values (in a dictionary) that we can iterate over.\n",
    "\n",
    "Check group keys:"
   ]
  },
  {
   "cell_type": "code",
   "execution_count": 33,
   "metadata": {},
   "outputs": [
    {
     "data": {
      "text/plain": [
       "dict_keys([32111, 32112, 32200, 32421, 32500, 32611, 32612, 32800, 32900, 33000, 33100, 34100, 34300, 34700, 35300, 35411, 35412, 35421, 36200, 36313])"
      ]
     },
     "execution_count": 33,
     "metadata": {},
     "output_type": "execute_result"
    }
   ],
   "source": [
    "grouped.groups.keys()"
   ]
  },
  {
   "cell_type": "markdown",
   "metadata": {},
   "source": [
    "The group keys are unique values from the column by which we grouped the dataframe.\n",
    "\n",
    "Check how many rows of data each group has:"
   ]
  },
  {
   "cell_type": "code",
   "execution_count": 34,
   "metadata": {
    "collapsed": false,
    "jupyter": {
     "outputs_hidden": false
    }
   },
   "outputs": [
    {
     "name": "stdout",
     "output_type": "stream",
     "text": [
      "Terrain class: 32111\n",
      "Number of rows: 1 \n",
      "\n",
      "Terrain class: 32112\n",
      "Number of rows: 1 \n",
      "\n",
      "Terrain class: 32200\n",
      "Number of rows: 2 \n",
      "\n",
      "Terrain class: 32421\n",
      "Number of rows: 110 \n",
      "\n",
      "Terrain class: 32500\n",
      "Number of rows: 2 \n",
      "\n",
      "Terrain class: 32611\n",
      "Number of rows: 257 \n",
      "\n",
      "Terrain class: 32612\n",
      "Number of rows: 11 \n",
      "\n",
      "Terrain class: 32800\n",
      "Number of rows: 80 \n",
      "\n",
      "Terrain class: 32900\n",
      "Number of rows: 28 \n",
      "\n",
      "Terrain class: 33000\n",
      "Number of rows: 5 \n",
      "\n",
      "Terrain class: 33100\n",
      "Number of rows: 118 \n",
      "\n",
      "Terrain class: 34100\n",
      "Number of rows: 3005 \n",
      "\n",
      "Terrain class: 34300\n",
      "Number of rows: 1 \n",
      "\n",
      "Terrain class: 34700\n",
      "Number of rows: 3 \n",
      "\n",
      "Terrain class: 35300\n",
      "Number of rows: 134 \n",
      "\n",
      "Terrain class: 35411\n",
      "Number of rows: 35 \n",
      "\n",
      "Terrain class: 35412\n",
      "Number of rows: 449 \n",
      "\n",
      "Terrain class: 35421\n",
      "Number of rows: 5 \n",
      "\n",
      "Terrain class: 36200\n",
      "Number of rows: 56 \n",
      "\n",
      "Terrain class: 36313\n",
      "Number of rows: 8 \n",
      "\n"
     ]
    }
   ],
   "source": [
    "# Iterate over the grouped object\n",
    "for key, group in grouped:\n",
    "\n",
    "    # Let's check how many rows each group has:\n",
    "    print('Terrain class:', key)\n",
    "    print('Number of rows:', len(group), \"\\n\")"
   ]
  },
  {
   "cell_type": "markdown",
   "metadata": {},
   "source": [
    "There are, for example, 56 lake polygons in the input data."
   ]
  },
  {
   "cell_type": "markdown",
   "metadata": {},
   "source": [
    "We can also check how the _last_ group looks like (we have the variables in memory from the last iteration of the for-loop):"
   ]
  },
  {
   "cell_type": "code",
   "execution_count": 35,
   "metadata": {},
   "outputs": [
    {
     "data": {
      "text/html": [
       "<div>\n",
       "<style scoped>\n",
       "    .dataframe tbody tr th:only-of-type {\n",
       "        vertical-align: middle;\n",
       "    }\n",
       "\n",
       "    .dataframe tbody tr th {\n",
       "        vertical-align: top;\n",
       "    }\n",
       "\n",
       "    .dataframe thead th {\n",
       "        text-align: right;\n",
       "    }\n",
       "</style>\n",
       "<table border=\"1\" class=\"dataframe\">\n",
       "  <thead>\n",
       "    <tr style=\"text-align: right;\">\n",
       "      <th></th>\n",
       "      <th>GROUP</th>\n",
       "      <th>CLASS</th>\n",
       "      <th>geometry</th>\n",
       "      <th>area</th>\n",
       "    </tr>\n",
       "  </thead>\n",
       "  <tbody>\n",
       "    <tr>\n",
       "      <th>4303</th>\n",
       "      <td>64</td>\n",
       "      <td>36313</td>\n",
       "      <td>POLYGON ((377127.305 6688073.257, 377116.045 6...</td>\n",
       "      <td>9619.307973</td>\n",
       "    </tr>\n",
       "    <tr>\n",
       "      <th>4304</th>\n",
       "      <td>64</td>\n",
       "      <td>36313</td>\n",
       "      <td>POLYGON ((371141.897 6677999.999, 371139.757 6...</td>\n",
       "      <td>25266.167705</td>\n",
       "    </tr>\n",
       "    <tr>\n",
       "      <th>4305</th>\n",
       "      <td>64</td>\n",
       "      <td>36313</td>\n",
       "      <td>POLYGON ((371498.720 6680399.799, 371497.585 6...</td>\n",
       "      <td>364.087680</td>\n",
       "    </tr>\n",
       "    <tr>\n",
       "      <th>4306</th>\n",
       "      <td>64</td>\n",
       "      <td>36313</td>\n",
       "      <td>POLYGON ((375668.607 6682942.062, 375671.489 6...</td>\n",
       "      <td>2651.800270</td>\n",
       "    </tr>\n",
       "    <tr>\n",
       "      <th>4307</th>\n",
       "      <td>64</td>\n",
       "      <td>36313</td>\n",
       "      <td>POLYGON ((368411.063 6679328.990, 368411.424 6...</td>\n",
       "      <td>376.503380</td>\n",
       "    </tr>\n",
       "  </tbody>\n",
       "</table>\n",
       "</div>"
      ],
      "text/plain": [
       "      GROUP  CLASS                                           geometry  \\\n",
       "4303     64  36313  POLYGON ((377127.305 6688073.257, 377116.045 6...   \n",
       "4304     64  36313  POLYGON ((371141.897 6677999.999, 371139.757 6...   \n",
       "4305     64  36313  POLYGON ((371498.720 6680399.799, 371497.585 6...   \n",
       "4306     64  36313  POLYGON ((375668.607 6682942.062, 375671.489 6...   \n",
       "4307     64  36313  POLYGON ((368411.063 6679328.990, 368411.424 6...   \n",
       "\n",
       "              area  \n",
       "4303   9619.307973  \n",
       "4304  25266.167705  \n",
       "4305    364.087680  \n",
       "4306   2651.800270  \n",
       "4307    376.503380  "
      ]
     },
     "execution_count": 35,
     "metadata": {},
     "output_type": "execute_result"
    }
   ],
   "source": [
    "group.head()"
   ]
  },
  {
   "cell_type": "markdown",
   "metadata": {},
   "source": [
    "Notice that the index numbers refer to the row numbers in the original data -GeoDataFrame."
   ]
  },
  {
   "cell_type": "markdown",
   "metadata": {},
   "source": [
    "Check also the data type of the group:"
   ]
  },
  {
   "cell_type": "code",
   "execution_count": 36,
   "metadata": {},
   "outputs": [
    {
     "data": {
      "text/plain": [
       "geopandas.geodataframe.GeoDataFrame"
      ]
     },
     "execution_count": 36,
     "metadata": {},
     "output_type": "execute_result"
    }
   ],
   "source": [
    "type(group)"
   ]
  },
  {
   "cell_type": "markdown",
   "metadata": {},
   "source": [
    "As we can see, each set of data are now grouped into separate GeoDataFrames, and we can save them into separate files."
   ]
  },
  {
   "cell_type": "markdown",
   "metadata": {},
   "source": [
    "### Saving multiple output files\n",
    "\n",
    "Let's **export each class into a separate Shapefile**. While doing this, we also want to **create unique filenames for each class**.\n",
    "\n",
    "When looping over the grouped object, information about the class is stored in the variable `key`, and we can use this information for creating new variable names inside the for-loop. For example, we want to name the shapefile containing lake polygons as \"terrain_36200.shp\".\n",
    "\n",
    "\n",
    "<div class=\"alert alert-info\">\n",
    "\n",
    "**String formatting**\n",
    "    \n",
    "There are different approaches for formatting strings in Python. Here are a couple of different ways for putting together file-path names using two variables:\n",
    "\n",
    "```\n",
    "basename = \"terrain\"\n",
    "key = 36200\n",
    "\n",
    "# OPTION 1. Concatenating using the `+` operator:\n",
    "out_fp = basename + \"_\" + str(key) + \".shp\"\n",
    "\n",
    "# OPTION 2. Positional formatting using `%` operator\n",
    "out_fp = \"%s_%s.shp\" %(basename, key)\n",
    "    \n",
    "# OPTION 3. Positional formatting using `.format()`\n",
    "out_fp = \"{}_{}.shp\".format(basename, key)\n",
    "```\n",
    "    \n",
    "Read more from here: https://pyformat.info/\n",
    "</div>\n",
    "\n",
    "\n",
    "Let's now export terrain classes into separate Shapefiles.\n",
    "\n",
    "- First, create a new folder for the outputs:"
   ]
  },
  {
   "cell_type": "code",
   "execution_count": 37,
   "metadata": {},
   "outputs": [
    {
     "name": "stdout",
     "output_type": "stream",
     "text": [
      "Creating a folder for the results..\n"
     ]
    }
   ],
   "source": [
    "# Determine output directory\n",
    "output_folder = r\"L2_data/\"\n",
    "\n",
    "# Create a new folder called 'Results' \n",
    "result_folder = os.path.join(output_folder, 'Results')\n",
    "\n",
    "# Check if the folder exists already\n",
    "if not os.path.exists(result_folder):\n",
    "    \n",
    "    print(\"Creating a folder for the results..\")\n",
    "    # If it does not exist, create one\n",
    "    os.makedirs(result_folder)\n",
    "    \n",
    "else:\n",
    "    print(\"Results folder exists already.\")"
   ]
  },
  {
   "cell_type": "markdown",
   "metadata": {},
   "source": [
    "At this point, you can go to the file browser and check that the new folder was created successfully.\n",
    "\n",
    "- Iterate over groups, create a file name, and save group to file:"
   ]
  },
  {
   "cell_type": "code",
   "execution_count": 38,
   "metadata": {
    "collapsed": false,
    "jupyter": {
     "outputs_hidden": false
    }
   },
   "outputs": [
    {
     "name": "stdout",
     "output_type": "stream",
     "text": [
      "Saving file terrain_32111.shp\n",
      "Saving file terrain_32112.shp\n",
      "Saving file terrain_32200.shp\n",
      "Saving file terrain_32421.shp\n",
      "Saving file terrain_32500.shp\n",
      "Saving file terrain_32611.shp\n",
      "Saving file terrain_32612.shp\n",
      "Saving file terrain_32800.shp\n",
      "Saving file terrain_32900.shp\n",
      "Saving file terrain_33000.shp\n",
      "Saving file terrain_33100.shp\n",
      "Saving file terrain_34100.shp\n",
      "Saving file terrain_34300.shp\n",
      "Saving file terrain_34700.shp\n",
      "Saving file terrain_35300.shp\n",
      "Saving file terrain_35411.shp\n",
      "Saving file terrain_35412.shp\n",
      "Saving file terrain_35421.shp\n",
      "Saving file terrain_36200.shp\n",
      "Saving file terrain_36313.shp\n"
     ]
    }
   ],
   "source": [
    "# Iterate over the groups\n",
    "for key, group in grouped:\n",
    "    # Format the filename \n",
    "    output_name = \"terrain_{}.shp\".format(key)\n",
    "\n",
    "    # Print information about the process\n",
    "    print(\"Saving file\", os.path.basename(output_name))\n",
    "\n",
    "    # Create an output path\n",
    "    outpath = os.path.join(result_folder, output_name)\n",
    "\n",
    "    # Export the data\n",
    "    group.to_file(outpath)"
   ]
  },
  {
   "cell_type": "markdown",
   "metadata": {},
   "source": [
    "Excellent! Now we have saved those individual classes into separate Shapefiles and named the file according to the class name. These kind of grouping operations can be really handy when dealing with layers of spatial data. Doing similar process manually would be really laborious and error-prone."
   ]
  },
  {
   "cell_type": "markdown",
   "metadata": {},
   "source": [
    "### Extra: save data to csv"
   ]
  },
  {
   "cell_type": "markdown",
   "metadata": {},
   "source": [
    "We can also extract basic statistics from our geodataframe, and save this information as a text file. \n",
    "\n",
    "Let's summarize the total area of each group:"
   ]
  },
  {
   "cell_type": "code",
   "execution_count": 39,
   "metadata": {},
   "outputs": [],
   "source": [
    "area_info = grouped.area.sum().round()"
   ]
  },
  {
   "cell_type": "code",
   "execution_count": 40,
   "metadata": {},
   "outputs": [
    {
     "data": {
      "text/plain": [
       "CLASS\n",
       "32111        1834.0\n",
       "32112        2148.0\n",
       "32200      105737.0\n",
       "32421      702073.0\n",
       "32500      109747.0\n",
       "32611    13135597.0\n",
       "32612      107343.0\n",
       "32800     1465278.0\n",
       "32900      617209.0\n",
       "33000      659465.0\n",
       "33100     3777595.0\n",
       "34100    12381611.0\n",
       "34300        1627.0\n",
       "34700        2786.0\n",
       "35300     1382940.0\n",
       "35411      411198.0\n",
       "35412     4710133.0\n",
       "35421       67864.0\n",
       "36200     9986966.0\n",
       "36313       43459.0\n",
       "Name: area, dtype: float64"
      ]
     },
     "execution_count": 40,
     "metadata": {},
     "output_type": "execute_result"
    }
   ],
   "source": [
    "area_info"
   ]
  },
  {
   "cell_type": "markdown",
   "metadata": {},
   "source": [
    "- save area info to csv using pandas:"
   ]
  },
  {
   "cell_type": "code",
   "execution_count": 41,
   "metadata": {},
   "outputs": [],
   "source": [
    "# Create an output path\n",
    "area_info.to_csv(os.path.join(result_folder, \"terrain_class_areas.csv\"), header=True)"
   ]
  },
  {
   "cell_type": "markdown",
   "metadata": {},
   "source": [
    "## Summary\n",
    "\n",
    "In this tutorial we introduced the first steps of using geopandas. More specifically you should know how to:\n",
    "\n",
    "1. Read data from Shapefile using geopandas\n",
    "\n",
    "2. Access geometry information in a geodataframe\n",
    "\n",
    "4. Write GeoDataFrame data from Shapefile using geopandas\n",
    "\n",
    "5. Automate a task to save specific rows from data into Shapefile based on specific key using `groupby()` -function\n",
    "\n",
    "6. Extra: saving attribute information to a csv file.\n",
    "\n",
    "\n",
    " "
   ]
  }
 ],
 "metadata": {
  "kernelspec": {
   "display_name": "Python 3 (ipykernel)",
   "language": "python",
   "name": "python3"
  },
  "language_info": {
   "codemirror_mode": {
    "name": "ipython",
    "version": 3
   },
   "file_extension": ".py",
   "mimetype": "text/x-python",
   "name": "python",
   "nbconvert_exporter": "python",
   "pygments_lexer": "ipython3",
   "version": "3.8.12"
  }
 },
 "nbformat": 4,
 "nbformat_minor": 4
}
