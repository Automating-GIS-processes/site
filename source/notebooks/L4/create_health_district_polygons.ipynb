{
 "cells": [
  {
   "cell_type": "markdown",
   "metadata": {},
   "source": [
    "# Case: hospital districts\n"
   ]
  },
  {
   "cell_type": "markdown",
   "metadata": {},
   "source": [
    "In this tutorial, we will create boundaries of Finnish hospital districts (*sairaanhoitopiiri* in Finnish) by dissolving municipality boundaries into larger entities. Main processing steps include a table join and dissolving the municipality geometries into larger entities.\n",
    "\n",
    "We will combine information from [municipality polygons](https://www.stat.fi/org/avoindata/paikkatietoaineistot/vaesto_tilastointialueittain.html) from Statistics Finland and a [list of health care districts](https://www.kuntaliitto.fi/sosiaali-ja-terveysasiat/sairaanhoitopiirien-jasenkunnat) by the Finnish Municipality authority Kuntaliitto."
   ]
  },
  {
   "cell_type": "markdown",
   "metadata": {},
   "source": [
    "Importing required python packages:"
   ]
  },
  {
   "cell_type": "code",
   "execution_count": 1,
   "metadata": {},
   "outputs": [],
   "source": [
    "import json\n",
    "import numpy as np\n",
    "import pandas as pd\n",
    "import geopandas as gpd\n",
    "from pyproj import CRS\n",
    "import matplotlib.pyplot as plt"
   ]
  },
  {
   "cell_type": "markdown",
   "metadata": {},
   "source": [
    "## Read in data\n",
    "- **Municipality polygons** from Statistics Finland web feature service: https://www.stat.fi/org/avoindata/paikkatietoaineistot/kuntapohjaiset_tilastointialueet.html\n",
    "    - wfs: http://geo.stat.fi/geoserver/tilastointialueet/wfs?\n",
    "    - feature: `tilastointialueet:kunta1000k` (most recent information about municipality polygons)\n",
    "\n",
    "\n",
    "\n"
   ]
  },
  {
   "cell_type": "code",
   "execution_count": 2,
   "metadata": {},
   "outputs": [],
   "source": [
    "# For available features, see http://geo.stat.fi/geoserver/tilastointialueet/wfs?request=GetCapabilities\n",
    "url = \"http://geo.stat.fi/geoserver/tilastointialueet/wfs?request=GetFeature&typename=tilastointialueet:kunta1000k&outputformat=JSON\"\n",
    "geodata = gpd.read_file(url)"
   ]
  },
  {
   "cell_type": "code",
   "execution_count": 3,
   "metadata": {},
   "outputs": [
    {
     "data": {
      "text/html": [
       "<div>\n",
       "<style scoped>\n",
       "    .dataframe tbody tr th:only-of-type {\n",
       "        vertical-align: middle;\n",
       "    }\n",
       "\n",
       "    .dataframe tbody tr th {\n",
       "        vertical-align: top;\n",
       "    }\n",
       "\n",
       "    .dataframe thead th {\n",
       "        text-align: right;\n",
       "    }\n",
       "</style>\n",
       "<table border=\"1\" class=\"dataframe\">\n",
       "  <thead>\n",
       "    <tr style=\"text-align: right;\">\n",
       "      <th></th>\n",
       "      <th>id</th>\n",
       "      <th>kunta</th>\n",
       "      <th>vuosi</th>\n",
       "      <th>nimi</th>\n",
       "      <th>namn</th>\n",
       "      <th>name</th>\n",
       "      <th>geometry</th>\n",
       "    </tr>\n",
       "  </thead>\n",
       "  <tbody>\n",
       "    <tr>\n",
       "      <th>0</th>\n",
       "      <td>kunta1000k.1</td>\n",
       "      <td>005</td>\n",
       "      <td>2020</td>\n",
       "      <td>Alajärvi</td>\n",
       "      <td>Alajärvi</td>\n",
       "      <td>Alajärvi</td>\n",
       "      <td>POLYGON ((366787.924 7001300.583, 364487.590 6...</td>\n",
       "    </tr>\n",
       "    <tr>\n",
       "      <th>1</th>\n",
       "      <td>kunta1000k.2</td>\n",
       "      <td>009</td>\n",
       "      <td>2020</td>\n",
       "      <td>Alavieska</td>\n",
       "      <td>Alavieska</td>\n",
       "      <td>Alavieska</td>\n",
       "      <td>POLYGON ((382543.364 7120022.976, 382899.505 7...</td>\n",
       "    </tr>\n",
       "    <tr>\n",
       "      <th>2</th>\n",
       "      <td>kunta1000k.3</td>\n",
       "      <td>010</td>\n",
       "      <td>2020</td>\n",
       "      <td>Alavus</td>\n",
       "      <td>Alavus</td>\n",
       "      <td>Alavus</td>\n",
       "      <td>POLYGON ((343298.204 6961570.195, 343831.847 6...</td>\n",
       "    </tr>\n",
       "    <tr>\n",
       "      <th>3</th>\n",
       "      <td>kunta1000k.4</td>\n",
       "      <td>016</td>\n",
       "      <td>2020</td>\n",
       "      <td>Asikkala</td>\n",
       "      <td>Asikkala</td>\n",
       "      <td>Asikkala</td>\n",
       "      <td>POLYGON ((436139.680 6798279.085, 435714.468 6...</td>\n",
       "    </tr>\n",
       "    <tr>\n",
       "      <th>4</th>\n",
       "      <td>kunta1000k.5</td>\n",
       "      <td>018</td>\n",
       "      <td>2020</td>\n",
       "      <td>Askola</td>\n",
       "      <td>Askola</td>\n",
       "      <td>Askola</td>\n",
       "      <td>POLYGON ((426631.036 6720528.076, 428821.749 6...</td>\n",
       "    </tr>\n",
       "  </tbody>\n",
       "</table>\n",
       "</div>"
      ],
      "text/plain": [
       "             id kunta  vuosi       nimi       namn       name  \\\n",
       "0  kunta1000k.1   005   2020   Alajärvi   Alajärvi   Alajärvi   \n",
       "1  kunta1000k.2   009   2020  Alavieska  Alavieska  Alavieska   \n",
       "2  kunta1000k.3   010   2020     Alavus     Alavus     Alavus   \n",
       "3  kunta1000k.4   016   2020   Asikkala   Asikkala   Asikkala   \n",
       "4  kunta1000k.5   018   2020     Askola     Askola     Askola   \n",
       "\n",
       "                                            geometry  \n",
       "0  POLYGON ((366787.924 7001300.583, 364487.590 6...  \n",
       "1  POLYGON ((382543.364 7120022.976, 382899.505 7...  \n",
       "2  POLYGON ((343298.204 6961570.195, 343831.847 6...  \n",
       "3  POLYGON ((436139.680 6798279.085, 435714.468 6...  \n",
       "4  POLYGON ((426631.036 6720528.076, 428821.749 6...  "
      ]
     },
     "execution_count": 3,
     "metadata": {},
     "output_type": "execute_result"
    }
   ],
   "source": [
    "geodata.head()"
   ]
  },
  {
   "cell_type": "code",
   "execution_count": 4,
   "metadata": {},
   "outputs": [
    {
     "data": {
      "text/plain": [
       "310"
      ]
     },
     "execution_count": 4,
     "metadata": {},
     "output_type": "execute_result"
    }
   ],
   "source": [
    "# Check length (there are 310 municipalities in Finland in 2020)\n",
    "len(geodata)"
   ]
  },
  {
   "cell_type": "code",
   "execution_count": 5,
   "metadata": {},
   "outputs": [
    {
     "data": {
      "text/html": [
       "<div>\n",
       "<style scoped>\n",
       "    .dataframe tbody tr th:only-of-type {\n",
       "        vertical-align: middle;\n",
       "    }\n",
       "\n",
       "    .dataframe tbody tr th {\n",
       "        vertical-align: top;\n",
       "    }\n",
       "\n",
       "    .dataframe thead th {\n",
       "        text-align: right;\n",
       "    }\n",
       "</style>\n",
       "<table border=\"1\" class=\"dataframe\">\n",
       "  <thead>\n",
       "    <tr style=\"text-align: right;\">\n",
       "      <th></th>\n",
       "      <th>code</th>\n",
       "      <th>name</th>\n",
       "      <th>geometry</th>\n",
       "    </tr>\n",
       "  </thead>\n",
       "  <tbody>\n",
       "    <tr>\n",
       "      <th>0</th>\n",
       "      <td>005</td>\n",
       "      <td>Alajärvi</td>\n",
       "      <td>POLYGON ((366787.924 7001300.583, 364487.590 6...</td>\n",
       "    </tr>\n",
       "    <tr>\n",
       "      <th>1</th>\n",
       "      <td>009</td>\n",
       "      <td>Alavieska</td>\n",
       "      <td>POLYGON ((382543.364 7120022.976, 382899.505 7...</td>\n",
       "    </tr>\n",
       "    <tr>\n",
       "      <th>2</th>\n",
       "      <td>010</td>\n",
       "      <td>Alavus</td>\n",
       "      <td>POLYGON ((343298.204 6961570.195, 343831.847 6...</td>\n",
       "    </tr>\n",
       "    <tr>\n",
       "      <th>3</th>\n",
       "      <td>016</td>\n",
       "      <td>Asikkala</td>\n",
       "      <td>POLYGON ((436139.680 6798279.085, 435714.468 6...</td>\n",
       "    </tr>\n",
       "    <tr>\n",
       "      <th>4</th>\n",
       "      <td>018</td>\n",
       "      <td>Askola</td>\n",
       "      <td>POLYGON ((426631.036 6720528.076, 428821.749 6...</td>\n",
       "    </tr>\n",
       "  </tbody>\n",
       "</table>\n",
       "</div>"
      ],
      "text/plain": [
       "  code       name                                           geometry\n",
       "0  005   Alajärvi  POLYGON ((366787.924 7001300.583, 364487.590 6...\n",
       "1  009  Alavieska  POLYGON ((382543.364 7120022.976, 382899.505 7...\n",
       "2  010     Alavus  POLYGON ((343298.204 6961570.195, 343831.847 6...\n",
       "3  016   Asikkala  POLYGON ((436139.680 6798279.085, 435714.468 6...\n",
       "4  018     Askola  POLYGON ((426631.036 6720528.076, 428821.749 6..."
      ]
     },
     "execution_count": 5,
     "metadata": {},
     "output_type": "execute_result"
    }
   ],
   "source": [
    "#Select and rename columns\n",
    "geodata.rename(columns={'kunta':'code'}, inplace=True)\n",
    "geodata = geodata[['code','name', 'geometry']]\n",
    "geodata.head()"
   ]
  },
  {
   "cell_type": "code",
   "execution_count": 6,
   "metadata": {},
   "outputs": [
    {
     "data": {
      "text/plain": [
       "<AxesSubplot:>"
      ]
     },
     "execution_count": 6,
     "metadata": {},
     "output_type": "execute_result"
    },
    {
     "data": {
      "image/png": "[encoded data removed]",
      "text/plain": [
       "<Figure size 432x288 with 1 Axes>"
      ]
     },
     "metadata": {
      "needs_background": "light"
     },
     "output_type": "display_data"
    }
   ],
   "source": [
    "geodata.plot()"
   ]
  },
  {
   "cell_type": "code",
   "execution_count": 7,
   "metadata": {},
   "outputs": [
    {
     "data": {
      "text/plain": [
       "code          object\n",
       "name          object\n",
       "geometry    geometry\n",
       "dtype: object"
      ]
     },
     "execution_count": 7,
     "metadata": {},
     "output_type": "execute_result"
    }
   ],
   "source": [
    "geodata.dtypes"
   ]
  },
  {
   "cell_type": "markdown",
   "metadata": {},
   "source": [
    "- **Finnish municipalities with hospital district information** as an Excel spreadsheet \n",
    "    - Downloaded from: https://www.kuntaliitto.fi/sosiaali-ja-terveysasiat/sairaanhoitopiirien-jasenkunnat in March 2020. \n",
    "    - File `Shp_jäsenkunnat_2020.xls`, sheet `kunnat_shp_2020_ aakkosjärj.` This is the original unaltered file.\n",
    "    - In this file, \"shp\" stands for \"sairaanhoitopiiri\" (hospital district in Finnish)\n",
    "    \n",
    "*Note: this data set does not include Åland (Ahvenanmaa). Åland municipalities are added in the later step.*\n",
    "*Note: \"hospital districts\" is a more proper translation to sairaanhoitopiirit, but in this lesson I use \"health care districts\" to refer to these entities*\n",
    "\n",
    "Excel files often come with additional formatting such as metadata on the first lines of the data array. This is why it is a good idea to download the file on your own computer and have a look at the data structure before reading in the file using Python.\n",
    "It is also often a good idea to save the file as a csv file before reading in the data. However, it is also possible to read in data directly from Excel. For this, you need to have the xlrd module installed:\n",
    "\n",
    "```\n",
    "conda install -c conda-forge xlrd\n",
    "```\n",
    "\n",
    "Now we are ready to read in the data using pandas.\n",
    "\n",
    "In the case of this health districts excel the header is located on the 4th row (index 3) of the excel spreadsheet. "
   ]
  },
  {
   "cell_type": "code",
   "execution_count": 8,
   "metadata": {},
   "outputs": [],
   "source": [
    "# Read in the excel spreadsheet\n",
    "data = pd.read_excel(r\"data/Shp_jäsenkunnat_2020.xls\", sheet_name=\"kunnat_shp_2020_ aakkosjärj.\", header=3)"
   ]
  },
  {
   "cell_type": "code",
   "execution_count": 9,
   "metadata": {},
   "outputs": [
    {
     "data": {
      "text/html": [
       "<div>\n",
       "<style scoped>\n",
       "    .dataframe tbody tr th:only-of-type {\n",
       "        vertical-align: middle;\n",
       "    }\n",
       "\n",
       "    .dataframe tbody tr th {\n",
       "        vertical-align: top;\n",
       "    }\n",
       "\n",
       "    .dataframe thead th {\n",
       "        text-align: right;\n",
       "    }\n",
       "</style>\n",
       "<table border=\"1\" class=\"dataframe\">\n",
       "  <thead>\n",
       "    <tr style=\"text-align: right;\">\n",
       "      <th></th>\n",
       "      <th>kunta-\\nkoodi</th>\n",
       "      <th>kunta</th>\n",
       "      <th>shp:n koodi</th>\n",
       "      <th>sairaanhoitopiiri</th>\n",
       "      <th>erva-alue</th>\n",
       "      <th>kuntien lkm</th>\n",
       "    </tr>\n",
       "  </thead>\n",
       "  <tbody>\n",
       "    <tr>\n",
       "      <th>0</th>\n",
       "      <td>NaN</td>\n",
       "      <td>NaN</td>\n",
       "      <td>NaN</td>\n",
       "      <td>NaN</td>\n",
       "      <td>NaN</td>\n",
       "      <td>NaN</td>\n",
       "    </tr>\n",
       "    <tr>\n",
       "      <th>1</th>\n",
       "      <td>20.0</td>\n",
       "      <td>Akaa</td>\n",
       "      <td>6.0</td>\n",
       "      <td>Pirkanmaa</td>\n",
       "      <td>TAYS</td>\n",
       "      <td>1.0</td>\n",
       "    </tr>\n",
       "    <tr>\n",
       "      <th>2</th>\n",
       "      <td>5.0</td>\n",
       "      <td>Alajärvi</td>\n",
       "      <td>15.0</td>\n",
       "      <td>Etelä-Pohjanmaa</td>\n",
       "      <td>TAYS</td>\n",
       "      <td>2.0</td>\n",
       "    </tr>\n",
       "    <tr>\n",
       "      <th>3</th>\n",
       "      <td>9.0</td>\n",
       "      <td>Alavieska</td>\n",
       "      <td>18.0</td>\n",
       "      <td>Pohjois-Pohjanmaa</td>\n",
       "      <td>OYS</td>\n",
       "      <td>3.0</td>\n",
       "    </tr>\n",
       "    <tr>\n",
       "      <th>4</th>\n",
       "      <td>10.0</td>\n",
       "      <td>Alavus</td>\n",
       "      <td>15.0</td>\n",
       "      <td>Etelä-Pohjanmaa</td>\n",
       "      <td>TAYS</td>\n",
       "      <td>4.0</td>\n",
       "    </tr>\n",
       "  </tbody>\n",
       "</table>\n",
       "</div>"
      ],
      "text/plain": [
       "   kunta-\\nkoodi      kunta  shp:n koodi  sairaanhoitopiiri erva-alue  \\\n",
       "0            NaN        NaN          NaN                NaN       NaN   \n",
       "1           20.0       Akaa          6.0          Pirkanmaa      TAYS   \n",
       "2            5.0   Alajärvi         15.0    Etelä-Pohjanmaa      TAYS   \n",
       "3            9.0  Alavieska         18.0  Pohjois-Pohjanmaa       OYS   \n",
       "4           10.0     Alavus         15.0    Etelä-Pohjanmaa      TAYS   \n",
       "\n",
       "   kuntien lkm  \n",
       "0          NaN  \n",
       "1          1.0  \n",
       "2          2.0  \n",
       "3          3.0  \n",
       "4          4.0  "
      ]
     },
     "execution_count": 9,
     "metadata": {},
     "output_type": "execute_result"
    }
   ],
   "source": [
    "data.head()"
   ]
  },
  {
   "cell_type": "markdown",
   "metadata": {},
   "source": [
    "In addition, the first row after the header is empty. We can get rid of it using the dropna() -function:"
   ]
  },
  {
   "cell_type": "code",
   "execution_count": 10,
   "metadata": {},
   "outputs": [],
   "source": [
    "data.dropna(inplace=True)"
   ]
  },
  {
   "cell_type": "markdown",
   "metadata": {},
   "source": [
    "Check number of rows (16 Åland municipalities are missing)"
   ]
  },
  {
   "cell_type": "code",
   "execution_count": 11,
   "metadata": {},
   "outputs": [
    {
     "data": {
      "text/plain": [
       "294"
      ]
     },
     "execution_count": 11,
     "metadata": {},
     "output_type": "execute_result"
    }
   ],
   "source": [
    "len(data)"
   ]
  },
  {
   "cell_type": "markdown",
   "metadata": {},
   "source": [
    "The data needs some fixing and cleaning after reading the excel sheet"
   ]
  },
  {
   "cell_type": "code",
   "execution_count": 12,
   "metadata": {},
   "outputs": [],
   "source": [
    "# Rename columns from Finnish to English \n",
    "data.rename(columns={\"kunta-\\nkoodi\":\"code\", 'sairaanhoitopiiri':'healthCareDistrict'}, inplace=True)\n",
    "\n",
    "# Select only useful columns\n",
    "data = data[['code','healthCareDistrict']]"
   ]
  },
  {
   "cell_type": "code",
   "execution_count": 13,
   "metadata": {},
   "outputs": [
    {
     "data": {
      "text/html": [
       "<div>\n",
       "<style scoped>\n",
       "    .dataframe tbody tr th:only-of-type {\n",
       "        vertical-align: middle;\n",
       "    }\n",
       "\n",
       "    .dataframe tbody tr th {\n",
       "        vertical-align: top;\n",
       "    }\n",
       "\n",
       "    .dataframe thead th {\n",
       "        text-align: right;\n",
       "    }\n",
       "</style>\n",
       "<table border=\"1\" class=\"dataframe\">\n",
       "  <thead>\n",
       "    <tr style=\"text-align: right;\">\n",
       "      <th></th>\n",
       "      <th>code</th>\n",
       "      <th>healthCareDistrict</th>\n",
       "    </tr>\n",
       "  </thead>\n",
       "  <tbody>\n",
       "    <tr>\n",
       "      <th>1</th>\n",
       "      <td>20.0</td>\n",
       "      <td>Pirkanmaa</td>\n",
       "    </tr>\n",
       "    <tr>\n",
       "      <th>2</th>\n",
       "      <td>5.0</td>\n",
       "      <td>Etelä-Pohjanmaa</td>\n",
       "    </tr>\n",
       "    <tr>\n",
       "      <th>3</th>\n",
       "      <td>9.0</td>\n",
       "      <td>Pohjois-Pohjanmaa</td>\n",
       "    </tr>\n",
       "    <tr>\n",
       "      <th>4</th>\n",
       "      <td>10.0</td>\n",
       "      <td>Etelä-Pohjanmaa</td>\n",
       "    </tr>\n",
       "    <tr>\n",
       "      <th>5</th>\n",
       "      <td>16.0</td>\n",
       "      <td>Päijät-Häme</td>\n",
       "    </tr>\n",
       "    <tr>\n",
       "      <th>...</th>\n",
       "      <td>...</td>\n",
       "      <td>...</td>\n",
       "    </tr>\n",
       "    <tr>\n",
       "      <th>290</th>\n",
       "      <td>977.0</td>\n",
       "      <td>Pohjois-Pohjanmaa</td>\n",
       "    </tr>\n",
       "    <tr>\n",
       "      <th>291</th>\n",
       "      <td>980.0</td>\n",
       "      <td>Pirkanmaa</td>\n",
       "    </tr>\n",
       "    <tr>\n",
       "      <th>292</th>\n",
       "      <td>981.0</td>\n",
       "      <td>Kanta-Häme</td>\n",
       "    </tr>\n",
       "    <tr>\n",
       "      <th>293</th>\n",
       "      <td>989.0</td>\n",
       "      <td>Etelä-Pohjanmaa</td>\n",
       "    </tr>\n",
       "    <tr>\n",
       "      <th>294</th>\n",
       "      <td>992.0</td>\n",
       "      <td>Keski-Suomi</td>\n",
       "    </tr>\n",
       "  </tbody>\n",
       "</table>\n",
       "<p>294 rows × 2 columns</p>\n",
       "</div>"
      ],
      "text/plain": [
       "      code healthCareDistrict\n",
       "1     20.0          Pirkanmaa\n",
       "2      5.0    Etelä-Pohjanmaa\n",
       "3      9.0  Pohjois-Pohjanmaa\n",
       "4     10.0    Etelä-Pohjanmaa\n",
       "5     16.0        Päijät-Häme\n",
       "..     ...                ...\n",
       "290  977.0  Pohjois-Pohjanmaa\n",
       "291  980.0          Pirkanmaa\n",
       "292  981.0         Kanta-Häme\n",
       "293  989.0    Etelä-Pohjanmaa\n",
       "294  992.0        Keski-Suomi\n",
       "\n",
       "[294 rows x 2 columns]"
      ]
     },
     "execution_count": 13,
     "metadata": {},
     "output_type": "execute_result"
    }
   ],
   "source": [
    "data"
   ]
  },
  {
   "cell_type": "markdown",
   "metadata": {},
   "source": [
    "Looks better! Now we need to prepare the data for table join. We will use the municipality code as the common key."
   ]
  },
  {
   "cell_type": "code",
   "execution_count": 14,
   "metadata": {},
   "outputs": [
    {
     "data": {
      "text/plain": [
       "code                  float64\n",
       "healthCareDistrict     object\n",
       "dtype: object"
      ]
     },
     "execution_count": 14,
     "metadata": {},
     "output_type": "execute_result"
    }
   ],
   "source": [
    "data.dtypes"
   ]
  },
  {
   "cell_type": "markdown",
   "metadata": {},
   "source": [
    "The code column is currently a floating point number. We need to modify these codes so that they match the ones in the spatial data:"
   ]
  },
  {
   "cell_type": "code",
   "execution_count": 15,
   "metadata": {},
   "outputs": [
    {
     "data": {
      "text/plain": [
       "20.0"
      ]
     },
     "execution_count": 15,
     "metadata": {},
     "output_type": "execute_result"
    }
   ],
   "source": [
    "# Example using one code\n",
    "number = data.at[1, \"code\"]\n",
    "number"
   ]
  },
  {
   "cell_type": "code",
   "execution_count": 16,
   "metadata": {},
   "outputs": [
    {
     "data": {
      "text/plain": [
       "'020'"
      ]
     },
     "execution_count": 16,
     "metadata": {},
     "output_type": "execute_result"
    }
   ],
   "source": [
    "# Conver this number to character string 020\n",
    "\"0\" + str(int(number))"
   ]
  },
  {
   "cell_type": "markdown",
   "metadata": {},
   "source": [
    "Let's apply this process on all rows at once, and take into account different number of digits:"
   ]
  },
  {
   "cell_type": "code",
   "execution_count": 17,
   "metadata": {},
   "outputs": [],
   "source": [
    "# Truncate and convert to character string\n",
    "data[\"code\"] = data[\"code\"].astype(int).astype('str')\n",
    "\n",
    "# Add missing zeros to municipality codes\n",
    "data[\"code\"] = data[\"code\"].apply(lambda x: \"00\" + x if len(x)==1 else x)\n",
    "data[\"code\"] = data[\"code\"].apply(lambda x: \"0\" + x if len(x)==2 else x)"
   ]
  },
  {
   "cell_type": "code",
   "execution_count": 18,
   "metadata": {},
   "outputs": [
    {
     "data": {
      "text/html": [
       "<div>\n",
       "<style scoped>\n",
       "    .dataframe tbody tr th:only-of-type {\n",
       "        vertical-align: middle;\n",
       "    }\n",
       "\n",
       "    .dataframe tbody tr th {\n",
       "        vertical-align: top;\n",
       "    }\n",
       "\n",
       "    .dataframe thead th {\n",
       "        text-align: right;\n",
       "    }\n",
       "</style>\n",
       "<table border=\"1\" class=\"dataframe\">\n",
       "  <thead>\n",
       "    <tr style=\"text-align: right;\">\n",
       "      <th></th>\n",
       "      <th>code</th>\n",
       "      <th>healthCareDistrict</th>\n",
       "    </tr>\n",
       "  </thead>\n",
       "  <tbody>\n",
       "    <tr>\n",
       "      <th>1</th>\n",
       "      <td>020</td>\n",
       "      <td>Pirkanmaa</td>\n",
       "    </tr>\n",
       "    <tr>\n",
       "      <th>2</th>\n",
       "      <td>005</td>\n",
       "      <td>Etelä-Pohjanmaa</td>\n",
       "    </tr>\n",
       "    <tr>\n",
       "      <th>3</th>\n",
       "      <td>009</td>\n",
       "      <td>Pohjois-Pohjanmaa</td>\n",
       "    </tr>\n",
       "    <tr>\n",
       "      <th>4</th>\n",
       "      <td>010</td>\n",
       "      <td>Etelä-Pohjanmaa</td>\n",
       "    </tr>\n",
       "    <tr>\n",
       "      <th>5</th>\n",
       "      <td>016</td>\n",
       "      <td>Päijät-Häme</td>\n",
       "    </tr>\n",
       "  </tbody>\n",
       "</table>\n",
       "</div>"
      ],
      "text/plain": [
       "  code healthCareDistrict\n",
       "1  020          Pirkanmaa\n",
       "2  005    Etelä-Pohjanmaa\n",
       "3  009  Pohjois-Pohjanmaa\n",
       "4  010    Etelä-Pohjanmaa\n",
       "5  016        Päijät-Häme"
      ]
     },
     "execution_count": 18,
     "metadata": {},
     "output_type": "execute_result"
    }
   ],
   "source": [
    "data.head()"
   ]
  },
  {
   "cell_type": "markdown",
   "metadata": {},
   "source": [
    "## Join Health district info to the municipality polygons"
   ]
  },
  {
   "cell_type": "code",
   "execution_count": 19,
   "metadata": {},
   "outputs": [],
   "source": [
    "# Merge health district info to geodata using \"code\" as the common key\n",
    "geodata = geodata.merge(data, on=\"code\", how=\"left\")"
   ]
  },
  {
   "cell_type": "code",
   "execution_count": 20,
   "metadata": {},
   "outputs": [
    {
     "data": {
      "text/html": [
       "<div>\n",
       "<style scoped>\n",
       "    .dataframe tbody tr th:only-of-type {\n",
       "        vertical-align: middle;\n",
       "    }\n",
       "\n",
       "    .dataframe tbody tr th {\n",
       "        vertical-align: top;\n",
       "    }\n",
       "\n",
       "    .dataframe thead th {\n",
       "        text-align: right;\n",
       "    }\n",
       "</style>\n",
       "<table border=\"1\" class=\"dataframe\">\n",
       "  <thead>\n",
       "    <tr style=\"text-align: right;\">\n",
       "      <th></th>\n",
       "      <th>code</th>\n",
       "      <th>name</th>\n",
       "      <th>geometry</th>\n",
       "      <th>healthCareDistrict</th>\n",
       "    </tr>\n",
       "  </thead>\n",
       "  <tbody>\n",
       "    <tr>\n",
       "      <th>0</th>\n",
       "      <td>005</td>\n",
       "      <td>Alajärvi</td>\n",
       "      <td>POLYGON ((366787.924 7001300.583, 364487.590 6...</td>\n",
       "      <td>Etelä-Pohjanmaa</td>\n",
       "    </tr>\n",
       "    <tr>\n",
       "      <th>1</th>\n",
       "      <td>009</td>\n",
       "      <td>Alavieska</td>\n",
       "      <td>POLYGON ((382543.364 7120022.976, 382899.505 7...</td>\n",
       "      <td>Pohjois-Pohjanmaa</td>\n",
       "    </tr>\n",
       "    <tr>\n",
       "      <th>2</th>\n",
       "      <td>010</td>\n",
       "      <td>Alavus</td>\n",
       "      <td>POLYGON ((343298.204 6961570.195, 343831.847 6...</td>\n",
       "      <td>Etelä-Pohjanmaa</td>\n",
       "    </tr>\n",
       "    <tr>\n",
       "      <th>3</th>\n",
       "      <td>016</td>\n",
       "      <td>Asikkala</td>\n",
       "      <td>POLYGON ((436139.680 6798279.085, 435714.468 6...</td>\n",
       "      <td>Päijät-Häme</td>\n",
       "    </tr>\n",
       "    <tr>\n",
       "      <th>4</th>\n",
       "      <td>018</td>\n",
       "      <td>Askola</td>\n",
       "      <td>POLYGON ((426631.036 6720528.076, 428821.749 6...</td>\n",
       "      <td>HUS</td>\n",
       "    </tr>\n",
       "    <tr>\n",
       "      <th>...</th>\n",
       "      <td>...</td>\n",
       "      <td>...</td>\n",
       "      <td>...</td>\n",
       "      <td>...</td>\n",
       "    </tr>\n",
       "    <tr>\n",
       "      <th>305</th>\n",
       "      <td>977</td>\n",
       "      <td>Ylivieska</td>\n",
       "      <td>POLYGON ((398010.991 7110887.267, 399696.069 7...</td>\n",
       "      <td>Pohjois-Pohjanmaa</td>\n",
       "    </tr>\n",
       "    <tr>\n",
       "      <th>306</th>\n",
       "      <td>980</td>\n",
       "      <td>Ylöjärvi</td>\n",
       "      <td>POLYGON ((313738.511 6896936.100, 319421.316 6...</td>\n",
       "      <td>Pirkanmaa</td>\n",
       "    </tr>\n",
       "    <tr>\n",
       "      <th>307</th>\n",
       "      <td>981</td>\n",
       "      <td>Ypäjä</td>\n",
       "      <td>POLYGON ((297451.456 6756204.328, 297931.884 6...</td>\n",
       "      <td>Kanta-Häme</td>\n",
       "    </tr>\n",
       "    <tr>\n",
       "      <th>308</th>\n",
       "      <td>989</td>\n",
       "      <td>Ähtäri</td>\n",
       "      <td>POLYGON ((348733.187 6959704.551, 349457.337 6...</td>\n",
       "      <td>Etelä-Pohjanmaa</td>\n",
       "    </tr>\n",
       "    <tr>\n",
       "      <th>309</th>\n",
       "      <td>992</td>\n",
       "      <td>Äänekoski</td>\n",
       "      <td>POLYGON ((452626.858 6973610.366, 457542.012 6...</td>\n",
       "      <td>Keski-Suomi</td>\n",
       "    </tr>\n",
       "  </tbody>\n",
       "</table>\n",
       "<p>310 rows × 4 columns</p>\n",
       "</div>"
      ],
      "text/plain": [
       "    code       name                                           geometry  \\\n",
       "0    005   Alajärvi  POLYGON ((366787.924 7001300.583, 364487.590 6...   \n",
       "1    009  Alavieska  POLYGON ((382543.364 7120022.976, 382899.505 7...   \n",
       "2    010     Alavus  POLYGON ((343298.204 6961570.195, 343831.847 6...   \n",
       "3    016   Asikkala  POLYGON ((436139.680 6798279.085, 435714.468 6...   \n",
       "4    018     Askola  POLYGON ((426631.036 6720528.076, 428821.749 6...   \n",
       "..   ...        ...                                                ...   \n",
       "305  977  Ylivieska  POLYGON ((398010.991 7110887.267, 399696.069 7...   \n",
       "306  980   Ylöjärvi  POLYGON ((313738.511 6896936.100, 319421.316 6...   \n",
       "307  981      Ypäjä  POLYGON ((297451.456 6756204.328, 297931.884 6...   \n",
       "308  989     Ähtäri  POLYGON ((348733.187 6959704.551, 349457.337 6...   \n",
       "309  992  Äänekoski  POLYGON ((452626.858 6973610.366, 457542.012 6...   \n",
       "\n",
       "    healthCareDistrict  \n",
       "0      Etelä-Pohjanmaa  \n",
       "1    Pohjois-Pohjanmaa  \n",
       "2      Etelä-Pohjanmaa  \n",
       "3          Päijät-Häme  \n",
       "4                  HUS  \n",
       "..                 ...  \n",
       "305  Pohjois-Pohjanmaa  \n",
       "306          Pirkanmaa  \n",
       "307         Kanta-Häme  \n",
       "308    Etelä-Pohjanmaa  \n",
       "309        Keski-Suomi  \n",
       "\n",
       "[310 rows x 4 columns]"
      ]
     },
     "execution_count": 20,
     "metadata": {},
     "output_type": "execute_result"
    }
   ],
   "source": [
    "geodata"
   ]
  },
  {
   "cell_type": "markdown",
   "metadata": {},
   "source": [
    "Looks good! However, Municipalities in the Åland island did not have a matching health care district in the data. Let's have a closer look: "
   ]
  },
  {
   "cell_type": "code",
   "execution_count": 21,
   "metadata": {},
   "outputs": [
    {
     "data": {
      "text/plain": [
       "7          Brändö\n",
       "8          Eckerö\n",
       "15       Finström\n",
       "17          Föglö\n",
       "18           Geta\n",
       "24     Hammarland\n",
       "58         Jomala\n",
       "112      Kumlinge\n",
       "122         Kökar\n",
       "135       Lemland\n",
       "148    Lumparland\n",
       "154     Mariehamn\n",
       "237       Saltvik\n",
       "255      Sottunga\n",
       "257          Sund\n",
       "302         Vårdö\n",
       "Name: name, dtype: object"
      ]
     },
     "execution_count": 21,
     "metadata": {},
     "output_type": "execute_result"
    }
   ],
   "source": [
    "# List all municipalities that lack health district info:\n",
    "geodata[geodata[\"healthCareDistrict\"].isnull()].name"
   ]
  },
  {
   "cell_type": "code",
   "execution_count": 22,
   "metadata": {},
   "outputs": [],
   "source": [
    "# Update \"Ahvenanmaa\" as the health care district for Åland municipalities (16 municipalities in total)\n",
    "geodata.loc[geodata[\"healthCareDistrict\"].isnull(), \"healthCareDistrict\"] = \"Ahvenanmaa\""
   ]
  },
  {
   "cell_type": "markdown",
   "metadata": {},
   "source": [
    "Check the count of municipalities per health care disctrict"
   ]
  },
  {
   "cell_type": "code",
   "execution_count": 23,
   "metadata": {},
   "outputs": [
    {
     "data": {
      "text/plain": [
       "Pohjois-Pohjanmaa    29\n",
       "Varsinais-Suomi      28\n",
       "HUS                  24\n",
       "Pirkanmaa            23\n",
       "Keski-Suomi          21\n",
       "Etelä-Pohjanmaa      18\n",
       "Pohjois-Savo         18\n",
       "Satakunta            17\n",
       "Ahvenanmaa           16\n",
       "Lappi                15\n",
       "Vaasa                13\n",
       "Pohjois-Karjala      13\n",
       "Päijät-Häme          12\n",
       "Kanta-Häme           11\n",
       "Keski-Pohjanmaa      10\n",
       "Etelä-Karjala         9\n",
       "Etelä-Savo            9\n",
       "Kainuu                8\n",
       "Länsi-Pohja           6\n",
       "Kymenlaakso           6\n",
       "Itä-Savo              4\n",
       "Name: healthCareDistrict, dtype: int64"
      ]
     },
     "execution_count": 23,
     "metadata": {},
     "output_type": "execute_result"
    }
   ],
   "source": [
    "geodata[\"healthCareDistrict\"].value_counts()"
   ]
  },
  {
   "cell_type": "markdown",
   "metadata": {},
   "source": [
    "## Create polygons for health care districts "
   ]
  },
  {
   "cell_type": "code",
   "execution_count": 24,
   "metadata": {},
   "outputs": [],
   "source": [
    "# Dissolve (=combine) municipality polygon geometries for each health care district\n",
    "districts = geodata.dissolve(by='healthCareDistrict')"
   ]
  },
  {
   "cell_type": "code",
   "execution_count": 25,
   "metadata": {},
   "outputs": [],
   "source": [
    "districts.reset_index(inplace=True)"
   ]
  },
  {
   "cell_type": "code",
   "execution_count": 26,
   "metadata": {},
   "outputs": [],
   "source": [
    "# Select useful columns\n",
    "districts = districts[[\"healthCareDistrict\", \"geometry\"]]"
   ]
  },
  {
   "cell_type": "code",
   "execution_count": 27,
   "metadata": {},
   "outputs": [
    {
     "data": {
      "text/html": [
       "<div>\n",
       "<style scoped>\n",
       "    .dataframe tbody tr th:only-of-type {\n",
       "        vertical-align: middle;\n",
       "    }\n",
       "\n",
       "    .dataframe tbody tr th {\n",
       "        vertical-align: top;\n",
       "    }\n",
       "\n",
       "    .dataframe thead th {\n",
       "        text-align: right;\n",
       "    }\n",
       "</style>\n",
       "<table border=\"1\" class=\"dataframe\">\n",
       "  <thead>\n",
       "    <tr style=\"text-align: right;\">\n",
       "      <th></th>\n",
       "      <th>healthCareDistrict</th>\n",
       "      <th>geometry</th>\n",
       "    </tr>\n",
       "  </thead>\n",
       "  <tbody>\n",
       "    <tr>\n",
       "      <th>0</th>\n",
       "      <td>Ahvenanmaa</td>\n",
       "      <td>MULTIPOLYGON (((173277.623 6640282.925, 173136...</td>\n",
       "    </tr>\n",
       "    <tr>\n",
       "      <th>1</th>\n",
       "      <td>Etelä-Karjala</td>\n",
       "      <td>POLYGON ((595843.841 6772915.996, 592557.900 6...</td>\n",
       "    </tr>\n",
       "    <tr>\n",
       "      <th>2</th>\n",
       "      <td>Etelä-Pohjanmaa</td>\n",
       "      <td>POLYGON ((249539.259 6894974.367, 244232.829 6...</td>\n",
       "    </tr>\n",
       "    <tr>\n",
       "      <th>3</th>\n",
       "      <td>Etelä-Savo</td>\n",
       "      <td>POLYGON ((596327.952 6823806.064, 596718.363 6...</td>\n",
       "    </tr>\n",
       "    <tr>\n",
       "      <th>4</th>\n",
       "      <td>HUS</td>\n",
       "      <td>MULTIPOLYGON (((272609.681 6632304.439, 272418...</td>\n",
       "    </tr>\n",
       "    <tr>\n",
       "      <th>5</th>\n",
       "      <td>Itä-Savo</td>\n",
       "      <td>POLYGON ((572240.425 6898837.522, 576521.513 6...</td>\n",
       "    </tr>\n",
       "    <tr>\n",
       "      <th>6</th>\n",
       "      <td>Kainuu</td>\n",
       "      <td>POLYGON ((606127.874 7081796.115, 603849.594 7...</td>\n",
       "    </tr>\n",
       "    <tr>\n",
       "      <th>7</th>\n",
       "      <td>Kanta-Häme</td>\n",
       "      <td>POLYGON ((393094.362 6756355.691, 394102.316 6...</td>\n",
       "    </tr>\n",
       "    <tr>\n",
       "      <th>8</th>\n",
       "      <td>Keski-Pohjanmaa</td>\n",
       "      <td>MULTIPOLYGON (((302835.219 7083897.220, 302801...</td>\n",
       "    </tr>\n",
       "    <tr>\n",
       "      <th>9</th>\n",
       "      <td>Keski-Suomi</td>\n",
       "      <td>POLYGON ((439110.805 6852598.036, 439300.113 6...</td>\n",
       "    </tr>\n",
       "    <tr>\n",
       "      <th>10</th>\n",
       "      <td>Kymenlaakso</td>\n",
       "      <td>MULTIPOLYGON (((501532.450 6680088.052, 501352...</td>\n",
       "    </tr>\n",
       "    <tr>\n",
       "      <th>11</th>\n",
       "      <td>Lappi</td>\n",
       "      <td>POLYGON ((518535.957 7313104.574, 515335.969 7...</td>\n",
       "    </tr>\n",
       "    <tr>\n",
       "      <th>12</th>\n",
       "      <td>Länsi-Pohja</td>\n",
       "      <td>MULTIPOLYGON (((399348.710 7271646.236, 399096...</td>\n",
       "    </tr>\n",
       "    <tr>\n",
       "      <th>13</th>\n",
       "      <td>Pirkanmaa</td>\n",
       "      <td>POLYGON ((324952.559 6773513.092, 327451.427 6...</td>\n",
       "    </tr>\n",
       "    <tr>\n",
       "      <th>14</th>\n",
       "      <td>Pohjois-Karjala</td>\n",
       "      <td>POLYGON ((681990.187 6886181.668, 680094.200 6...</td>\n",
       "    </tr>\n",
       "    <tr>\n",
       "      <th>15</th>\n",
       "      <td>Pohjois-Pohjanmaa</td>\n",
       "      <td>MULTIPOLYGON (((462785.501 7079521.042, 461527...</td>\n",
       "    </tr>\n",
       "    <tr>\n",
       "      <th>16</th>\n",
       "      <td>Pohjois-Savo</td>\n",
       "      <td>POLYGON ((568071.215 6914370.703, 570686.991 6...</td>\n",
       "    </tr>\n",
       "    <tr>\n",
       "      <th>17</th>\n",
       "      <td>Päijät-Häme</td>\n",
       "      <td>POLYGON ((441787.770 6730507.194, 442140.745 6...</td>\n",
       "    </tr>\n",
       "    <tr>\n",
       "      <th>18</th>\n",
       "      <td>Satakunta</td>\n",
       "      <td>MULTIPOLYGON (((198569.146 6782909.960, 198622...</td>\n",
       "    </tr>\n",
       "    <tr>\n",
       "      <th>19</th>\n",
       "      <td>Vaasa</td>\n",
       "      <td>MULTIPOLYGON (((200371.753 6892181.697, 200360...</td>\n",
       "    </tr>\n",
       "    <tr>\n",
       "      <th>20</th>\n",
       "      <td>Varsinais-Suomi</td>\n",
       "      <td>MULTIPOLYGON (((258767.605 6632338.388, 258668...</td>\n",
       "    </tr>\n",
       "  </tbody>\n",
       "</table>\n",
       "</div>"
      ],
      "text/plain": [
       "   healthCareDistrict                                           geometry\n",
       "0          Ahvenanmaa  MULTIPOLYGON (((173277.623 6640282.925, 173136...\n",
       "1       Etelä-Karjala  POLYGON ((595843.841 6772915.996, 592557.900 6...\n",
       "2     Etelä-Pohjanmaa  POLYGON ((249539.259 6894974.367, 244232.829 6...\n",
       "3          Etelä-Savo  POLYGON ((596327.952 6823806.064, 596718.363 6...\n",
       "4                 HUS  MULTIPOLYGON (((272609.681 6632304.439, 272418...\n",
       "5            Itä-Savo  POLYGON ((572240.425 6898837.522, 576521.513 6...\n",
       "6              Kainuu  POLYGON ((606127.874 7081796.115, 603849.594 7...\n",
       "7          Kanta-Häme  POLYGON ((393094.362 6756355.691, 394102.316 6...\n",
       "8     Keski-Pohjanmaa  MULTIPOLYGON (((302835.219 7083897.220, 302801...\n",
       "9         Keski-Suomi  POLYGON ((439110.805 6852598.036, 439300.113 6...\n",
       "10        Kymenlaakso  MULTIPOLYGON (((501532.450 6680088.052, 501352...\n",
       "11              Lappi  POLYGON ((518535.957 7313104.574, 515335.969 7...\n",
       "12        Länsi-Pohja  MULTIPOLYGON (((399348.710 7271646.236, 399096...\n",
       "13          Pirkanmaa  POLYGON ((324952.559 6773513.092, 327451.427 6...\n",
       "14    Pohjois-Karjala  POLYGON ((681990.187 6886181.668, 680094.200 6...\n",
       "15  Pohjois-Pohjanmaa  MULTIPOLYGON (((462785.501 7079521.042, 461527...\n",
       "16       Pohjois-Savo  POLYGON ((568071.215 6914370.703, 570686.991 6...\n",
       "17        Päijät-Häme  POLYGON ((441787.770 6730507.194, 442140.745 6...\n",
       "18          Satakunta  MULTIPOLYGON (((198569.146 6782909.960, 198622...\n",
       "19              Vaasa  MULTIPOLYGON (((200371.753 6892181.697, 200360...\n",
       "20    Varsinais-Suomi  MULTIPOLYGON (((258767.605 6632338.388, 258668..."
      ]
     },
     "execution_count": 27,
     "metadata": {},
     "output_type": "execute_result"
    }
   ],
   "source": [
    "districts"
   ]
  },
  {
   "cell_type": "code",
   "execution_count": 28,
   "metadata": {},
   "outputs": [
    {
     "data": {
      "text/plain": [
       "(40857.339215, 765862.479085, 6575077.820610001, 7833703.7515899995)"
      ]
     },
     "execution_count": 28,
     "metadata": {},
     "output_type": "execute_result"
    },
    {
     "data": {
      "image/png": "[encoded data removed]",
      "text/plain": [
       "<Figure size 432x288 with 1 Axes>"
      ]
     },
     "metadata": {
      "needs_background": "light"
     },
     "output_type": "display_data"
    }
   ],
   "source": [
    "districts.plot(column='healthCareDistrict', scheme=\"equal_interval\",cmap='tab20', k=20)\n",
    "plt.axis('off')"
   ]
  },
  {
   "cell_type": "code",
   "execution_count": 29,
   "metadata": {},
   "outputs": [],
   "source": [
    "# Write GeoJSON in original projection\n",
    "districts.to_file(\"healthDistrictsEPSG3067.geojson\", driver='GeoJSON', encoding='utf-8')"
   ]
  },
  {
   "cell_type": "code",
   "execution_count": 30,
   "metadata": {},
   "outputs": [],
   "source": [
    "# Re-project to WGS84 and save again\n",
    "wgs84 = CRS.from_epsg(4326)\n",
    "districts.to_crs(wgs84).to_file(\"healthDistrictsEPSG4326.geojson\", driver='GeoJSON', encoding='utf-8')"
   ]
  },
  {
   "cell_type": "markdown",
   "metadata": {},
   "source": [
    "That's it! You can elaborate this workflow by joining additional data. For example, if you join population info per municipality you can sum it up for each health care district using the `aggfunc=sum` argument to get population count per health care district."
   ]
  }
 ],
 "metadata": {
  "kernelspec": {
   "display_name": "Python 3",
   "language": "python",
   "name": "python3"
  },
  "language_info": {
   "codemirror_mode": {
    "name": "ipython",
    "version": 3
   },
   "file_extension": ".py",
   "mimetype": "text/x-python",
   "name": "python",
   "nbconvert_exporter": "python",
   "pygments_lexer": "ipython3",
   "version": "3.8.6"
  }
 },
 "nbformat": 4,
 "nbformat_minor": 4
}
